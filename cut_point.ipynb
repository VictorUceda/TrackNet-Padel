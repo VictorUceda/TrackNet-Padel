{
  "nbformat": 4,
  "nbformat_minor": 0,
  "metadata": {
    "colab": {
      "name": "cut_point.ipynb",
      "provenance": [],
      "authorship_tag": "ABX9TyOpTXOp8hcyA3w443dXN0+t",
      "include_colab_link": true
    },
    "kernelspec": {
      "name": "python3",
      "display_name": "Python 3"
    },
    "language_info": {
      "name": "python"
    }
  },
  "cells": [
    {
      "cell_type": "markdown",
      "metadata": {
        "id": "view-in-github",
        "colab_type": "text"
      },
      "source": [
        "<a href=\"https://colab.research.google.com/github/VictorUceda/TrackNet-Padel/blob/main/cut_point.ipynb\" target=\"_parent\"><img src=\"https://colab.research.google.com/assets/colab-badge.svg\" alt=\"Open In Colab\"/></a>"
      ]
    },
    {
      "cell_type": "code",
      "execution_count": 1,
      "metadata": {
        "colab": {
          "base_uri": "https://localhost:8080/"
        },
        "id": "iSqWpEsmSJ0I",
        "outputId": "a8579763-54bf-468b-8820-83287ee7ead7"
      },
      "outputs": [
        {
          "output_type": "stream",
          "name": "stdout",
          "text": [
            "remote: Total 485 (delta 12), reused 42 (delta 11), pack-reused 442\u001b[K\n",
            "Receiving objects: 100% (485/485), 459.21 MiB | 25.35 MiB/s, done.\n",
            "Resolving deltas: 100% (230/230), done.\n",
            "Checking out files: 100% (97/97), done.\n"
          ]
        }
      ],
      "source": [
        "!git clone https://github.com/VictorUceda/TrackNet-Padel"
      ]
    },
    {
      "cell_type": "code",
      "source": [
        "from google.colab import drive\n",
        "drive.mount('/content/gdrive')\n",
        "\n",
        "video_path = '/content/gdrive/MyDrive/PadelMatchs/WPTDanish_Octavos_PD_0_21.mp4'\n",
        "points_path = video_path[:-4]+'.points.csv'\n",
        "ball_path = video_path[:-4]+'.ballpos'\n",
        "res = (1920,1080)"
      ],
      "metadata": {
        "colab": {
          "base_uri": "https://localhost:8080/"
        },
        "id": "H4rFqsCfSYlo",
        "outputId": "f850453c-afc1-448f-ceaa-9c05d7a8717f"
      },
      "execution_count": 2,
      "outputs": [
        {
          "output_type": "stream",
          "name": "stdout",
          "text": [
            "Mounted at /content/gdrive\n"
          ]
        }
      ]
    },
    {
      "cell_type": "code",
      "source": [
        "%cd TrackNet-Padel"
      ],
      "metadata": {
        "colab": {
          "base_uri": "https://localhost:8080/"
        },
        "id": "o-LHVEEOSh7U",
        "outputId": "24f78892-4270-4b75-84d8-aeb339a32d4e"
      },
      "execution_count": 3,
      "outputs": [
        {
          "output_type": "stream",
          "name": "stdout",
          "text": [
            "/content/TrackNet-Padel\n"
          ]
        }
      ]
    },
    {
      "cell_type": "code",
      "source": [
        "import pandas as pd\n",
        "\n",
        "df_segments = pd.read_csv(points_path, sep=';')\n",
        "i = 0\n",
        "for index, row in df_segments.iterrows():\n",
        "  name = video_path[:-4]+'_'+str(i)+'.mp4'\n",
        "  ini = (int(row['ini']/25/60), (row['ini']%(25*60))/25)\n",
        "  dur = (int((row['fin']-row['ini'])/25/60), ((row['fin']-row['ini'])%(25*60))/25)\n",
        "  print('00:'+str(ini[0])+':'+str(ini[1]), '00:'+str(dur[0])+':'+str(dur[1]), name)\n",
        "  !ffmpeg -y -ss {'00:'+str(ini[0])+':'+str(ini[1])} -i {video_path} -c copy -t {'00:'+str(dur[0])+':'+str(dur[1])} {name}\n",
        "  i += 1"
      ],
      "metadata": {
        "id": "iJ6sQVS7jBZH"
      },
      "execution_count": null,
      "outputs": []
    },
    {
      "cell_type": "code",
      "source": [
        "!python cut_fragments.py --label_video_path={video_path} --output_segments_path={'/content/gdrive/MyDrive/PadelMatchs/'}"
      ],
      "metadata": {
        "id": "uya9CyDAgPQr"
      },
      "execution_count": null,
      "outputs": []
    },
    {
      "cell_type": "code",
      "source": [
        ""
      ],
      "metadata": {
        "id": "vpvUl8BYgPPo"
      },
      "execution_count": null,
      "outputs": []
    },
    {
      "cell_type": "code",
      "source": [
        "import pandas as pd\n",
        "import pickle\n",
        "\n",
        "\n",
        "with open(ball_path, \"rb\") as fp:  \n",
        "  ball_pos = pickle.load(fp)\n",
        "\n",
        "df_segments = pd.read_csv(points_path, sep=';')\n",
        "j = 0\n",
        "for index, row in df_segments.iterrows():\n",
        "  name = video_path[:-4]+'_'+str(j)+'.csv'\n",
        "  csv_str = 'Fram,Ball,x,y\\n'\n",
        "  for i in range(row['ini'], row['fin']):\n",
        "    if i in ball_pos:\n",
        "      csv_str +=  str(i-row['ini'])+\",1,\"+str(ball_pos[i][0][0]/res[0])+\",\"+str(ball_pos[i][0][1]/res[1])+'\\n'\n",
        "      #print( str(i-row['ini'])+str(ball_pos[i][0]))\n",
        "    else:\n",
        "      csv_str +=  str(i-row['ini'])+\",0,-1.000,-1.000\\n\"\n",
        "  with open(name, \"w\") as fp:\n",
        "    fp.write(csv_str)\n",
        "  j += 1\n"
      ],
      "metadata": {
        "id": "Qlbj1sDDFQoP"
      },
      "execution_count": 4,
      "outputs": []
    }
  ]
}