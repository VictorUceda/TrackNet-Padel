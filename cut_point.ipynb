{
  "nbformat": 4,
  "nbformat_minor": 0,
  "metadata": {
    "colab": {
      "name": "cut_point.ipynb",
      "provenance": [],
      "authorship_tag": "ABX9TyMzFsCqR8Akuy9vN5tQvGT4",
      "include_colab_link": true
    },
    "kernelspec": {
      "name": "python3",
      "display_name": "Python 3"
    },
    "language_info": {
      "name": "python"
    }
  },
  "cells": [
    {
      "cell_type": "markdown",
      "metadata": {
        "id": "view-in-github",
        "colab_type": "text"
      },
      "source": [
        "<a href=\"https://colab.research.google.com/github/VictorUceda/TrackNet-Padel/blob/main/cut_point.ipynb\" target=\"_parent\"><img src=\"https://colab.research.google.com/assets/colab-badge.svg\" alt=\"Open In Colab\"/></a>"
      ]
    },
    {
      "cell_type": "code",
      "execution_count": 1,
      "metadata": {
        "colab": {
          "base_uri": "https://localhost:8080/"
        },
        "id": "iSqWpEsmSJ0I",
        "outputId": "0c9f05ea-5a7b-476e-efbc-3073de1a1fab"
      },
      "outputs": [
        {
          "output_type": "stream",
          "name": "stdout",
          "text": [
            "Cloning into 'TrackNet-Padel'...\n",
            "remote: Enumerating objects: 353, done.\u001b[K\n",
            "remote: Counting objects: 100% (102/102), done.\u001b[K\n",
            "remote: Compressing objects: 100% (102/102), done.\u001b[K\n",
            "remote: Total 353 (delta 62), reused 0 (delta 0), pack-reused 251\u001b[K\n",
            "Receiving objects: 100% (353/353), 139.56 MiB | 27.87 MiB/s, done.\n",
            "Resolving deltas: 100% (177/177), done.\n"
          ]
        }
      ],
      "source": [
        "!git clone https://github.com/VictorUceda/TrackNet-Padel"
      ]
    },
    {
      "cell_type": "code",
      "source": [
        "from google.colab import drive\n",
        "drive.mount('/content/gdrive')\n",
        "\n",
        "video_path = '/content/gdrive/MyDrive/PadelMatchs/WPTDanish_Octavos_PD_0_01.mp4'\n",
        "points_path = '/content/gdrive/MyDrive/PadelData/WPTDanish_Octavos_PD_0_01.points.csv'"
      ],
      "metadata": {
        "colab": {
          "base_uri": "https://localhost:8080/"
        },
        "id": "H4rFqsCfSYlo",
        "outputId": "a5f8a4b7-03eb-45f5-a9ba-8ab369c498c5"
      },
      "execution_count": 2,
      "outputs": [
        {
          "output_type": "stream",
          "name": "stdout",
          "text": [
            "Mounted at /content/gdrive\n"
          ]
        }
      ]
    },
    {
      "cell_type": "code",
      "source": [
        "%cd TrackNet-Padel"
      ],
      "metadata": {
        "colab": {
          "base_uri": "https://localhost:8080/"
        },
        "id": "o-LHVEEOSh7U",
        "outputId": "dddc7597-bcf9-4e99-fd2a-6b766fd63edf"
      },
      "execution_count": 3,
      "outputs": [
        {
          "output_type": "stream",
          "name": "stdout",
          "text": [
            "/content/TrackNet-Padel\n"
          ]
        }
      ]
    },
    {
      "cell_type": "code",
      "source": [
        "!python cut_fragments.py --label_video_path={video_path}"
      ],
      "metadata": {
        "id": "HkqdynZ4StI0"
      },
      "execution_count": null,
      "outputs": []
    }
  ]
}