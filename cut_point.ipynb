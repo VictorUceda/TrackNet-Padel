{
  "nbformat": 4,
  "nbformat_minor": 0,
  "metadata": {
    "colab": {
      "name": "cut_point.ipynb",
      "provenance": [],
      "authorship_tag": "ABX9TyM6H1nZBJ/E3zJpb1ALyoJF",
      "include_colab_link": true
    },
    "kernelspec": {
      "name": "python3",
      "display_name": "Python 3"
    },
    "language_info": {
      "name": "python"
    }
  },
  "cells": [
    {
      "cell_type": "markdown",
      "metadata": {
        "id": "view-in-github",
        "colab_type": "text"
      },
      "source": [
        "<a href=\"https://colab.research.google.com/github/VictorUceda/TrackNet-Padel/blob/main/cut_point.ipynb\" target=\"_parent\"><img src=\"https://colab.research.google.com/assets/colab-badge.svg\" alt=\"Open In Colab\"/></a>"
      ]
    },
    {
      "cell_type": "code",
      "execution_count": 10,
      "metadata": {
        "colab": {
          "base_uri": "https://localhost:8080/"
        },
        "id": "iSqWpEsmSJ0I",
        "outputId": "a9e4fc73-92b6-4010-9ae9-a03f1c92987a"
      },
      "outputs": [
        {
          "output_type": "stream",
          "name": "stdout",
          "text": [
            "remote: Enumerating objects: 5, done.\u001b[K\n",
            "remote: Counting objects:  20% (1/5)\u001b[K\rremote: Counting objects:  40% (2/5)\u001b[K\rremote: Counting objects:  60% (3/5)\u001b[K\rremote: Counting objects:  80% (4/5)\u001b[K\rremote: Counting objects: 100% (5/5)\u001b[K\rremote: Counting objects: 100% (5/5), done.\u001b[K\n",
            "remote: Compressing objects: 100% (1/1)\u001b[K\rremote: Compressing objects: 100% (1/1), done.\u001b[K\n",
            "remote: Total 3 (delta 2), reused 3 (delta 2), pack-reused 0\u001b[K\n",
            "Unpacking objects:  33% (1/3)   \rUnpacking objects:  66% (2/3)   \rUnpacking objects: 100% (3/3)   \rUnpacking objects: 100% (3/3), done.\n",
            "From https://github.com/VictorUceda/TrackNet-Padel\n",
            "   8321e08..0ebc4c4  main       -> origin/main\n",
            "Updating 8321e08..0ebc4c4\n",
            "Fast-forward\n",
            " cut_fragments.py | 2 \u001b[32m+\u001b[m\u001b[31m-\u001b[m\n",
            " 1 file changed, 1 insertion(+), 1 deletion(-)\n"
          ]
        }
      ],
      "source": [
        "!git clone https://github.com/VictorUceda/TrackNet-Padel"
      ]
    },
    {
      "cell_type": "code",
      "source": [
        "from google.colab import drive\n",
        "drive.mount('/content/gdrive')\n",
        "\n",
        "video_path = '/content/gdrive/MyDrive/PadelMatchs/WPTDanish_Octavos_PD_0_01.mp4'\n",
        "points_path = video_path[:-4]+'.points.csv'"
      ],
      "metadata": {
        "colab": {
          "base_uri": "https://localhost:8080/"
        },
        "id": "H4rFqsCfSYlo",
        "outputId": "462fb17e-ab55-4f4e-ca13-7cae6fe088a5"
      },
      "execution_count": 1,
      "outputs": [
        {
          "output_type": "stream",
          "name": "stdout",
          "text": [
            "Drive already mounted at /content/gdrive; to attempt to forcibly remount, call drive.mount(\"/content/gdrive\", force_remount=True).\n"
          ]
        }
      ]
    },
    {
      "cell_type": "code",
      "source": [
        "%cd TrackNet-Padel"
      ],
      "metadata": {
        "colab": {
          "base_uri": "https://localhost:8080/"
        },
        "id": "o-LHVEEOSh7U",
        "outputId": "dddc7597-bcf9-4e99-fd2a-6b766fd63edf"
      },
      "execution_count": 3,
      "outputs": [
        {
          "output_type": "stream",
          "name": "stdout",
          "text": [
            "/content/TrackNet-Padel\n"
          ]
        }
      ]
    },
    {
      "cell_type": "code",
      "source": [
        "import pandas as pd\n",
        "\n",
        "df_segments = pd.read_csv(points_path, sep=';')\n",
        "i = 0\n",
        "for index, row in df_segments.iterrows():\n",
        "  name = video_path[:-4]+'_'+str(i)+'.mp4'\n",
        "  print(row['ini'], row['fin'], name)\n",
        "  !ffmpeg -ss {row['ini']/25} -i {video_path} -c copy -t {(row['ini']-row['fin'])/25} {name}\n",
        "  i += 1"
      ],
      "metadata": {
        "id": "iJ6sQVS7jBZH"
      },
      "execution_count": null,
      "outputs": []
    }
  ]
}