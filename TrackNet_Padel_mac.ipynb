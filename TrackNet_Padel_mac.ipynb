{
  "nbformat": 4,
  "nbformat_minor": 0,
  "metadata": {
    "colab": {
      "name": "TrackNet_Padel.ipynb",
      "provenance": [],
      "collapsed_sections": [],
      "include_colab_link": true
    },
    "kernelspec": {
      "name": "python3",
      "display_name": "Python 3"
    },
    "language_info": {
      "name": "python"
    },
    "accelerator": "GPU"
  },
  "cells": [
    {
      "cell_type": "markdown",
      "metadata": {
        "id": "view-in-github",
        "colab_type": "text"
      },
      "source": [
        "<a href=\"https://colab.research.google.com/github/VictorUceda/TrackNet-Padel/blob/main/TrackNet_Padel_mac.ipynb\" target=\"_parent\"><img src=\"https://colab.research.google.com/assets/colab-badge.svg\" alt=\"Open In Colab\"/></a>"
      ]
    },
    {
      "cell_type": "code",
      "source": [
        "!nvidia-smi"
      ],
      "metadata": {
        "colab": {
          "base_uri": "https://localhost:8080/"
        },
        "id": "50iBZugzyWYZ",
        "outputId": "4470748b-8fb8-4ddb-9fce-ae7804c3d617"
      },
      "execution_count": 5,
      "outputs": [
        {
          "output_type": "stream",
          "name": "stdout",
          "text": [
            "Sun May 29 17:33:08 2022       \n",
            "+-----------------------------------------------------------------------------+\n",
            "| NVIDIA-SMI 460.32.03    Driver Version: 460.32.03    CUDA Version: 11.2     |\n",
            "|-------------------------------+----------------------+----------------------+\n",
            "| GPU  Name        Persistence-M| Bus-Id        Disp.A | Volatile Uncorr. ECC |\n",
            "| Fan  Temp  Perf  Pwr:Usage/Cap|         Memory-Usage | GPU-Util  Compute M. |\n",
            "|                               |                      |               MIG M. |\n",
            "|===============================+======================+======================|\n",
            "|   0  Tesla P100-PCIE...  Off  | 00000000:00:04.0 Off |                    0 |\n",
            "| N/A   34C    P0    26W / 250W |      0MiB / 16280MiB |      0%      Default |\n",
            "|                               |                      |                  N/A |\n",
            "+-------------------------------+----------------------+----------------------+\n",
            "                                                                               \n",
            "+-----------------------------------------------------------------------------+\n",
            "| Processes:                                                                  |\n",
            "|  GPU   GI   CI        PID   Type   Process name                  GPU Memory |\n",
            "|        ID   ID                                                   Usage      |\n",
            "|=============================================================================|\n",
            "|  No running processes found                                                 |\n",
            "+-----------------------------------------------------------------------------+\n"
          ]
        }
      ]
    },
    {
      "cell_type": "code",
      "execution_count": 6,
      "metadata": {
        "colab": {
          "base_uri": "https://localhost:8080/"
        },
        "id": "Q8g7zdD0a-o4",
        "outputId": "2ec89544-5bb4-4001-e80e-398820b260c9"
      },
      "outputs": [
        {
          "output_type": "stream",
          "name": "stdout",
          "text": [
            "Drive already mounted at /content/gdrive; to attempt to forcibly remount, call drive.mount(\"/content/gdrive\", force_remount=True).\n",
            "/content/gdrive/.shortcut-targets-by-id/1DwMzdK-QJYT-1ggHREdiOeijNOZgqIws/Colab Notebooks/TrackNet/Code_Python3/TrackNet_Three_Frames_Input\n"
          ]
        }
      ],
      "source": [
        "from google.colab import drive\n",
        "drive.mount('/content/gdrive')\n",
        "\n",
        "\n",
        "import os \n",
        "# path = '/content/gdrive/MyDrive/Colab Notebooks/TrackNetv2/3_in_3_out'\n",
        "path = '/content/gdrive/MyDrive/Colab Notebooks/TrackNet/Code_Python3/TrackNet_Three_Frames_Input/'\n",
        "os.chdir(path)\n",
        "!pwd"
      ]
    },
    {
      "cell_type": "code",
      "source": [
        "#! git clone https://nol.cs.nctu.edu.tw:234/open-source/TrackNet.git"
      ],
      "metadata": {
        "colab": {
          "base_uri": "https://localhost:8080/"
        },
        "id": "lYG3TpaZfjSN",
        "outputId": "3bb942fb-e823-4f21-dc0d-15f52d4a484c"
      },
      "execution_count": null,
      "outputs": [
        {
          "output_type": "stream",
          "name": "stdout",
          "text": [
            "Cloning into 'TrackNet'...\n",
            "remote: Counting objects: 163, done.\u001b[K\n",
            "remote: Compressing objects: 100% (102/102), done.\u001b[K\n",
            "remote: Total 163 (delta 63), reused 154 (delta 54)\u001b[K\n",
            "Receiving objects: 100% (163/163), 170.57 MiB | 10.71 MiB/s, done.\n",
            "Resolving deltas: 100% (63/63), done.\n",
            "Checking out files: 100% (100/100), done.\n"
          ]
        }
      ]
    },
    {
      "cell_type": "markdown",
      "source": [
        ""
      ],
      "metadata": {
        "id": "bY2m7mhhk9hn"
      }
    },
    {
      "cell_type": "code",
      "source": [
        "!pip3 install filterpy sktime piexif imutils Pillow"
      ],
      "metadata": {
        "id": "cmHZLk7zgQVr"
      },
      "execution_count": null,
      "outputs": []
    },
    {
      "cell_type": "code",
      "source": [
        "path = '/content/gdrive/MyDrive/PadelMatchs/'\n",
        "input_name = 'PremierRoma_Semis_LGBC_0_54'\n",
        "input_video = path + input_name + '.mp4'\n",
        "output_results = path + input_name + '.ballpos'\n",
        "points = path + input_name + '.points.csv'\n",
        "#! python3 predict3.py --video_name='/content/gdrive/MyDrive/Colab Notebooks/tennis-tracking/VideoInput/golpes_TCTS.mp4' --load_weights='model906_30'\n",
        "! python3 predict_video.py  --save_weights_path=weights/model.3 \\\n",
        "  --input_video_path={input_video} \\\n",
        "  --output_result_path={output_results}  \\\n",
        "  --n_classes=256 \\\n",
        "  --segments {points}"
      ],
      "metadata": {
        "colab": {
          "base_uri": "https://localhost:8080/"
        },
        "id": "tIg11HqihC5F",
        "outputId": "2a93ea44-11d5-441f-9ced-c4a8fb7bb256"
      },
      "execution_count": 7,
      "outputs": [
        {
          "output_type": "stream",
          "name": "stdout",
          "text": [
            "segmentos: /content/gdrive/MyDrive/PadelMatchs/PremierRoma_Semis_LGBC_0_54.points.csv\n",
            "45 540\n",
            "960 1065\n",
            "1215 1830\n",
            "4185 4650\n",
            "5340 5670\n",
            "6180 6375\n",
            "6735 7275\n",
            "7710 7920\n",
            "8220 8355\n",
            "8700 9360\n",
            "9405 9795\n",
            "10455 10605\n",
            "10725 10935\n",
            "11325 11490\n",
            "12270 12555\n",
            "13740 13965\n",
            "14295 14505\n",
            "14610 14925\n",
            "15375 15675\n",
            "16155 16455\n",
            "17025 17205\n",
            "17550 17700\n",
            "2022-05-29 17:33:44.138553: W tensorflow/core/common_runtime/gpu/gpu_bfc_allocator.cc:39] Overriding allow_growth setting because the TF_FORCE_GPU_ALLOW_GROWTH environment variable is set. Original config value was 0.\n",
            "layer24 output shape: 256 360 640\n",
            "Model: \"model_1\"\n",
            "_________________________________________________________________\n",
            " Layer (type)                Output Shape              Param #   \n",
            "=================================================================\n",
            " input_1 (InputLayer)        [(None, 9, 360, 640)]     0         \n",
            "                                                                 \n",
            " conv2d (Conv2D)             (None, 64, 360, 640)      5248      \n",
            "                                                                 \n",
            " activation (Activation)     (None, 64, 360, 640)      0         \n",
            "                                                                 \n",
            " batch_normalization (BatchN  (None, 64, 360, 640)     2560      \n",
            " ormalization)                                                   \n",
            "                                                                 \n",
            " conv2d_1 (Conv2D)           (None, 64, 360, 640)      36928     \n",
            "                                                                 \n",
            " activation_1 (Activation)   (None, 64, 360, 640)      0         \n",
            "                                                                 \n",
            " batch_normalization_1 (Batc  (None, 64, 360, 640)     2560      \n",
            " hNormalization)                                                 \n",
            "                                                                 \n",
            " max_pooling2d (MaxPooling2D  (None, 64, 180, 320)     0         \n",
            " )                                                               \n",
            "                                                                 \n",
            " conv2d_2 (Conv2D)           (None, 128, 180, 320)     73856     \n",
            "                                                                 \n",
            " activation_2 (Activation)   (None, 128, 180, 320)     0         \n",
            "                                                                 \n",
            " batch_normalization_2 (Batc  (None, 128, 180, 320)    1280      \n",
            " hNormalization)                                                 \n",
            "                                                                 \n",
            " conv2d_3 (Conv2D)           (None, 128, 180, 320)     147584    \n",
            "                                                                 \n",
            " activation_3 (Activation)   (None, 128, 180, 320)     0         \n",
            "                                                                 \n",
            " batch_normalization_3 (Batc  (None, 128, 180, 320)    1280      \n",
            " hNormalization)                                                 \n",
            "                                                                 \n",
            " max_pooling2d_1 (MaxPooling  (None, 128, 90, 160)     0         \n",
            " 2D)                                                             \n",
            "                                                                 \n",
            " conv2d_4 (Conv2D)           (None, 256, 90, 160)      295168    \n",
            "                                                                 \n",
            " activation_4 (Activation)   (None, 256, 90, 160)      0         \n",
            "                                                                 \n",
            " batch_normalization_4 (Batc  (None, 256, 90, 160)     640       \n",
            " hNormalization)                                                 \n",
            "                                                                 \n",
            " conv2d_5 (Conv2D)           (None, 256, 90, 160)      590080    \n",
            "                                                                 \n",
            " activation_5 (Activation)   (None, 256, 90, 160)      0         \n",
            "                                                                 \n",
            " batch_normalization_5 (Batc  (None, 256, 90, 160)     640       \n",
            " hNormalization)                                                 \n",
            "                                                                 \n",
            " conv2d_6 (Conv2D)           (None, 256, 90, 160)      590080    \n",
            "                                                                 \n",
            " activation_6 (Activation)   (None, 256, 90, 160)      0         \n",
            "                                                                 \n",
            " batch_normalization_6 (Batc  (None, 256, 90, 160)     640       \n",
            " hNormalization)                                                 \n",
            "                                                                 \n",
            " max_pooling2d_2 (MaxPooling  (None, 256, 45, 80)      0         \n",
            " 2D)                                                             \n",
            "                                                                 \n",
            " conv2d_7 (Conv2D)           (None, 512, 45, 80)       1180160   \n",
            "                                                                 \n",
            " activation_7 (Activation)   (None, 512, 45, 80)       0         \n",
            "                                                                 \n",
            " batch_normalization_7 (Batc  (None, 512, 45, 80)      320       \n",
            " hNormalization)                                                 \n",
            "                                                                 \n",
            " conv2d_8 (Conv2D)           (None, 512, 45, 80)       2359808   \n",
            "                                                                 \n",
            " activation_8 (Activation)   (None, 512, 45, 80)       0         \n",
            "                                                                 \n",
            " batch_normalization_8 (Batc  (None, 512, 45, 80)      320       \n",
            " hNormalization)                                                 \n",
            "                                                                 \n",
            " conv2d_9 (Conv2D)           (None, 512, 45, 80)       2359808   \n",
            "                                                                 \n",
            " activation_9 (Activation)   (None, 512, 45, 80)       0         \n",
            "                                                                 \n",
            " batch_normalization_9 (Batc  (None, 512, 45, 80)      320       \n",
            " hNormalization)                                                 \n",
            "                                                                 \n",
            " up_sampling2d (UpSampling2D  (None, 512, 90, 160)     0         \n",
            " )                                                               \n",
            "                                                                 \n",
            " conv2d_10 (Conv2D)          (None, 256, 90, 160)      1179904   \n",
            "                                                                 \n",
            " activation_10 (Activation)  (None, 256, 90, 160)      0         \n",
            "                                                                 \n",
            " batch_normalization_10 (Bat  (None, 256, 90, 160)     640       \n",
            " chNormalization)                                                \n",
            "                                                                 \n",
            " conv2d_11 (Conv2D)          (None, 256, 90, 160)      590080    \n",
            "                                                                 \n",
            " activation_11 (Activation)  (None, 256, 90, 160)      0         \n",
            "                                                                 \n",
            " batch_normalization_11 (Bat  (None, 256, 90, 160)     640       \n",
            " chNormalization)                                                \n",
            "                                                                 \n",
            " conv2d_12 (Conv2D)          (None, 256, 90, 160)      590080    \n",
            "                                                                 \n",
            " activation_12 (Activation)  (None, 256, 90, 160)      0         \n",
            "                                                                 \n",
            " batch_normalization_12 (Bat  (None, 256, 90, 160)     640       \n",
            " chNormalization)                                                \n",
            "                                                                 \n",
            " up_sampling2d_1 (UpSampling  (None, 256, 180, 320)    0         \n",
            " 2D)                                                             \n",
            "                                                                 \n",
            " conv2d_13 (Conv2D)          (None, 128, 180, 320)     295040    \n",
            "                                                                 \n",
            " activation_13 (Activation)  (None, 128, 180, 320)     0         \n",
            "                                                                 \n",
            " batch_normalization_13 (Bat  (None, 128, 180, 320)    1280      \n",
            " chNormalization)                                                \n",
            "                                                                 \n",
            " conv2d_14 (Conv2D)          (None, 128, 180, 320)     147584    \n",
            "                                                                 \n",
            " activation_14 (Activation)  (None, 128, 180, 320)     0         \n",
            "                                                                 \n",
            " batch_normalization_14 (Bat  (None, 128, 180, 320)    1280      \n",
            " chNormalization)                                                \n",
            "                                                                 \n",
            " up_sampling2d_2 (UpSampling  (None, 128, 360, 640)    0         \n",
            " 2D)                                                             \n",
            "                                                                 \n",
            " conv2d_15 (Conv2D)          (None, 64, 360, 640)      73792     \n",
            "                                                                 \n",
            " activation_15 (Activation)  (None, 64, 360, 640)      0         \n",
            "                                                                 \n",
            " batch_normalization_15 (Bat  (None, 64, 360, 640)     2560      \n",
            " chNormalization)                                                \n",
            "                                                                 \n",
            " conv2d_16 (Conv2D)          (None, 64, 360, 640)      36928     \n",
            "                                                                 \n",
            " activation_16 (Activation)  (None, 64, 360, 640)      0         \n",
            "                                                                 \n",
            " batch_normalization_16 (Bat  (None, 64, 360, 640)     2560      \n",
            " chNormalization)                                                \n",
            "                                                                 \n",
            " conv2d_17 (Conv2D)          (None, 256, 360, 640)     147712    \n",
            "                                                                 \n",
            " activation_17 (Activation)  (None, 256, 360, 640)     0         \n",
            "                                                                 \n",
            " batch_normalization_17 (Bat  (None, 256, 360, 640)    2560      \n",
            " chNormalization)                                                \n",
            "                                                                 \n",
            " reshape (Reshape)           (None, 256, 230400)       0         \n",
            "                                                                 \n",
            " permute (Permute)           (None, 230400, 256)       0         \n",
            "                                                                 \n",
            " activation_18 (Activation)  (None, 230400, 256)       0         \n",
            "                                                                 \n",
            "=================================================================\n",
            "Total params: 10,722,560\n",
            "Trainable params: 10,711,200\n",
            "Non-trainable params: 11,360\n",
            "_________________________________________________________________\n",
            "2022-05-29 17:33:44.526412: W tensorflow/core/util/tensor_slice_reader.cc:96] Could not open weights/model.3: DATA_LOSS: not an sstable (bad magic number): perhaps your file is in a different file format and you need to use a different restore operator?\n",
            "ball position list exported to /content/gdrive/MyDrive/PadelMatchs/PremierRoma_Semis_LGBC_0_54.ballpos\n",
            "200\n",
            "ball position list exported to /content/gdrive/MyDrive/PadelMatchs/PremierRoma_Semis_LGBC_0_54.ballpos\n",
            "400\n",
            "jump to next fragment in frame: 960\n",
            "ball position list exported to /content/gdrive/MyDrive/PadelMatchs/PremierRoma_Semis_LGBC_0_54.ballpos\n",
            "1000\n",
            "jump to next fragment in frame: 1215\n",
            "ball position list exported to /content/gdrive/MyDrive/PadelMatchs/PremierRoma_Semis_LGBC_0_54.ballpos\n",
            "1400\n",
            "ball position list exported to /content/gdrive/MyDrive/PadelMatchs/PremierRoma_Semis_LGBC_0_54.ballpos\n",
            "1600\n",
            "ball position list exported to /content/gdrive/MyDrive/PadelMatchs/PremierRoma_Semis_LGBC_0_54.ballpos\n",
            "1800\n",
            "jump to next fragment in frame: 4185\n",
            "ball position list exported to /content/gdrive/MyDrive/PadelMatchs/PremierRoma_Semis_LGBC_0_54.ballpos\n",
            "4200\n",
            "ball position list exported to /content/gdrive/MyDrive/PadelMatchs/PremierRoma_Semis_LGBC_0_54.ballpos\n",
            "4400\n",
            "ball position list exported to /content/gdrive/MyDrive/PadelMatchs/PremierRoma_Semis_LGBC_0_54.ballpos\n",
            "4600\n",
            "jump to next fragment in frame: 5340\n",
            "ball position list exported to /content/gdrive/MyDrive/PadelMatchs/PremierRoma_Semis_LGBC_0_54.ballpos\n",
            "5400\n",
            "ball position list exported to /content/gdrive/MyDrive/PadelMatchs/PremierRoma_Semis_LGBC_0_54.ballpos\n",
            "5600\n",
            "jump to next fragment in frame: 6180\n",
            "ball position list exported to /content/gdrive/MyDrive/PadelMatchs/PremierRoma_Semis_LGBC_0_54.ballpos\n",
            "6200\n",
            "jump to next fragment in frame: 6735\n",
            "ball position list exported to /content/gdrive/MyDrive/PadelMatchs/PremierRoma_Semis_LGBC_0_54.ballpos\n",
            "6800\n",
            "ball position list exported to /content/gdrive/MyDrive/PadelMatchs/PremierRoma_Semis_LGBC_0_54.ballpos\n",
            "7000\n",
            "ball position list exported to /content/gdrive/MyDrive/PadelMatchs/PremierRoma_Semis_LGBC_0_54.ballpos\n",
            "7200\n",
            "jump to next fragment in frame: 7710\n",
            "ball position list exported to /content/gdrive/MyDrive/PadelMatchs/PremierRoma_Semis_LGBC_0_54.ballpos\n",
            "7800\n",
            "jump to next fragment in frame: 8220\n",
            "Traceback (most recent call last):\n",
            "  File \"predict_video.py\", line 146, in <module>\n",
            "    pr = m.predict( np.array([X]) )[0]\n",
            "  File \"/usr/local/lib/python3.7/dist-packages/keras/utils/traceback_utils.py\", line 64, in error_handler\n",
            "    return fn(*args, **kwargs)\n",
            "  File \"/usr/local/lib/python3.7/dist-packages/keras/engine/training.py\", line 2012, in predict\n",
            "    return tf_utils.sync_to_numpy_or_python_type(all_outputs)\n",
            "  File \"/usr/local/lib/python3.7/dist-packages/keras/utils/tf_utils.py\", line 563, in sync_to_numpy_or_python_type\n",
            "    return tf.nest.map_structure(_to_single_numpy_or_python_type, tensors)\n",
            "  File \"/usr/local/lib/python3.7/dist-packages/tensorflow/python/util/nest.py\", line 914, in map_structure\n",
            "    structure[0], [func(*x) for x in entries],\n",
            "  File \"/usr/local/lib/python3.7/dist-packages/tensorflow/python/util/nest.py\", line 914, in <listcomp>\n",
            "    structure[0], [func(*x) for x in entries],\n",
            "  File \"/usr/local/lib/python3.7/dist-packages/keras/utils/tf_utils.py\", line 557, in _to_single_numpy_or_python_type\n",
            "    t = t.numpy()\n",
            "  File \"/usr/local/lib/python3.7/dist-packages/tensorflow/python/framework/ops.py\", line 1224, in numpy\n",
            "    return maybe_arr.copy() if isinstance(maybe_arr, np.ndarray) else maybe_arr\n",
            "KeyboardInterrupt\n"
          ]
        }
      ]
    }
  ]
}