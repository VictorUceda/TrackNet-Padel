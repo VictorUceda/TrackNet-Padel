{
  "nbformat": 4,
  "nbformat_minor": 0,
  "metadata": {
    "colab": {
      "name": "TrackNet_Padel.ipynb",
      "provenance": [],
      "collapsed_sections": [],
      "authorship_tag": "ABX9TyMhpJ+t2HPAgWYkBKO+TOux",
      "include_colab_link": true
    },
    "kernelspec": {
      "name": "python3",
      "display_name": "Python 3"
    },
    "language_info": {
      "name": "python"
    },
    "accelerator": "GPU"
  },
  "cells": [
    {
      "cell_type": "markdown",
      "metadata": {
        "id": "view-in-github",
        "colab_type": "text"
      },
      "source": [
        "<a href=\"https://colab.research.google.com/github/VictorUceda/TrackNet-Padel/blob/main/TrackNet_Padel_mac.ipynb\" target=\"_parent\"><img src=\"https://colab.research.google.com/assets/colab-badge.svg\" alt=\"Open In Colab\"/></a>"
      ]
    },
    {
      "cell_type": "code",
      "source": [
        "!nvidia-smi"
      ],
      "metadata": {
        "colab": {
          "base_uri": "https://localhost:8080/"
        },
        "id": "50iBZugzyWYZ",
        "outputId": "f438c62b-b38e-4aa8-d681-6430e851066d"
      },
      "execution_count": null,
      "outputs": [
        {
          "output_type": "stream",
          "name": "stdout",
          "text": [
            "Sun May  8 09:22:03 2022       \n",
            "+-----------------------------------------------------------------------------+\n",
            "| NVIDIA-SMI 460.32.03    Driver Version: 460.32.03    CUDA Version: 11.2     |\n",
            "|-------------------------------+----------------------+----------------------+\n",
            "| GPU  Name        Persistence-M| Bus-Id        Disp.A | Volatile Uncorr. ECC |\n",
            "| Fan  Temp  Perf  Pwr:Usage/Cap|         Memory-Usage | GPU-Util  Compute M. |\n",
            "|                               |                      |               MIG M. |\n",
            "|===============================+======================+======================|\n",
            "|   0  Tesla K80           Off  | 00000000:00:04.0 Off |                    0 |\n",
            "| N/A   35C    P8    28W / 149W |      0MiB / 11441MiB |      0%      Default |\n",
            "|                               |                      |                  N/A |\n",
            "+-------------------------------+----------------------+----------------------+\n",
            "                                                                               \n",
            "+-----------------------------------------------------------------------------+\n",
            "| Processes:                                                                  |\n",
            "|  GPU   GI   CI        PID   Type   Process name                  GPU Memory |\n",
            "|        ID   ID                                                   Usage      |\n",
            "|=============================================================================|\n",
            "|  No running processes found                                                 |\n",
            "+-----------------------------------------------------------------------------+\n"
          ]
        }
      ]
    },
    {
      "cell_type": "code",
      "execution_count": null,
      "metadata": {
        "colab": {
          "base_uri": "https://localhost:8080/"
        },
        "id": "Q8g7zdD0a-o4",
        "outputId": "f62c676a-811c-4bbc-c1b5-179fac86886a"
      },
      "outputs": [
        {
          "output_type": "stream",
          "name": "stdout",
          "text": [
            "Mounted at /content/gdrive\n",
            "/content/gdrive/MyDrive/Colab Notebooks/TrackNet/Code_Python3/TrackNet_Three_Frames_Input\n"
          ]
        }
      ],
      "source": [
        "from google.colab import drive\n",
        "drive.mount('/content/gdrive')\n",
        "\n",
        "\n",
        "import os \n",
        "# path = '/content/gdrive/MyDrive/Colab Notebooks/TrackNetv2/3_in_3_out'\n",
        "path = '/content/gdrive/MyDrive/Colab Notebooks/TrackNet/Code_Python3/TrackNet_Three_Frames_Input/'\n",
        "os.chdir(path)\n",
        "!pwd"
      ]
    },
    {
      "cell_type": "code",
      "source": [
        "#! git clone https://nol.cs.nctu.edu.tw:234/open-source/TrackNet.git"
      ],
      "metadata": {
        "colab": {
          "base_uri": "https://localhost:8080/"
        },
        "id": "lYG3TpaZfjSN",
        "outputId": "3bb942fb-e823-4f21-dc0d-15f52d4a484c"
      },
      "execution_count": null,
      "outputs": [
        {
          "output_type": "stream",
          "name": "stdout",
          "text": [
            "Cloning into 'TrackNet'...\n",
            "remote: Counting objects: 163, done.\u001b[K\n",
            "remote: Compressing objects: 100% (102/102), done.\u001b[K\n",
            "remote: Total 163 (delta 63), reused 154 (delta 54)\u001b[K\n",
            "Receiving objects: 100% (163/163), 170.57 MiB | 10.71 MiB/s, done.\n",
            "Resolving deltas: 100% (63/63), done.\n",
            "Checking out files: 100% (100/100), done.\n"
          ]
        }
      ]
    },
    {
      "cell_type": "markdown",
      "source": [
        ""
      ],
      "metadata": {
        "id": "bY2m7mhhk9hn"
      }
    },
    {
      "cell_type": "code",
      "source": [
        "!pip3 install filterpy sktime piexif imutils Pillow"
      ],
      "metadata": {
        "id": "cmHZLk7zgQVr"
      },
      "execution_count": null,
      "outputs": []
    },
    {
      "cell_type": "code",
      "source": [
        "path = '/content/gdrive/MyDrive/PadelData/'\n",
        "input_name = 'Final_PremierQatar_Tie'\n",
        "input_video = path + input_name + '.mp4'\n",
        "output_results = path + input_name + '.ballpos'\n",
        "points = path + input_name + '.points.csv'\n",
        "#! python3 predict3.py --video_name='/content/gdrive/MyDrive/Colab Notebooks/tennis-tracking/VideoInput/golpes_TCTS.mp4' --load_weights='model906_30'\n",
        "! python3 predict_video.py  --save_weights_path=weights/model.3 \\\n",
        "  --input_video_path={input_video} \\\n",
        "  --output_result_path={output_results}  \\\n",
        "  --n_classes=256 \\\n",
        "  --segments {points}"
      ],
      "metadata": {
        "colab": {
          "base_uri": "https://localhost:8080/"
        },
        "id": "tIg11HqihC5F",
        "outputId": "4c934203-151a-4ac8-b6ca-8ebad2bb808e"
      },
      "execution_count": null,
      "outputs": [
        {
          "output_type": "stream",
          "name": "stdout",
          "text": [
            "1 390\n",
            "660 1215\n",
            "1530 2190\n",
            "3360 3600\n",
            "4050 4320\n",
            "5280 5745\n",
            "7050 7335\n",
            "7530 7905\n",
            "8430 8700\n",
            "9150 9615\n",
            "10680 11550\n",
            "12090 12660\n",
            "2022-05-08 09:23:16.087746: W tensorflow/core/common_runtime/gpu/gpu_bfc_allocator.cc:39] Overriding allow_growth setting because the TF_FORCE_GPU_ALLOW_GROWTH environment variable is set. Original config value was 0.\n",
            "layer24 output shape: 256 360 640\n",
            "Model: \"model_1\"\n",
            "_________________________________________________________________\n",
            " Layer (type)                Output Shape              Param #   \n",
            "=================================================================\n",
            " input_1 (InputLayer)        [(None, 9, 360, 640)]     0         \n",
            "                                                                 \n",
            " conv2d (Conv2D)             (None, 64, 360, 640)      5248      \n",
            "                                                                 \n",
            " activation (Activation)     (None, 64, 360, 640)      0         \n",
            "                                                                 \n",
            " batch_normalization (BatchN  (None, 64, 360, 640)     2560      \n",
            " ormalization)                                                   \n",
            "                                                                 \n",
            " conv2d_1 (Conv2D)           (None, 64, 360, 640)      36928     \n",
            "                                                                 \n",
            " activation_1 (Activation)   (None, 64, 360, 640)      0         \n",
            "                                                                 \n",
            " batch_normalization_1 (Batc  (None, 64, 360, 640)     2560      \n",
            " hNormalization)                                                 \n",
            "                                                                 \n",
            " max_pooling2d (MaxPooling2D  (None, 64, 180, 320)     0         \n",
            " )                                                               \n",
            "                                                                 \n",
            " conv2d_2 (Conv2D)           (None, 128, 180, 320)     73856     \n",
            "                                                                 \n",
            " activation_2 (Activation)   (None, 128, 180, 320)     0         \n",
            "                                                                 \n",
            " batch_normalization_2 (Batc  (None, 128, 180, 320)    1280      \n",
            " hNormalization)                                                 \n",
            "                                                                 \n",
            " conv2d_3 (Conv2D)           (None, 128, 180, 320)     147584    \n",
            "                                                                 \n",
            " activation_3 (Activation)   (None, 128, 180, 320)     0         \n",
            "                                                                 \n",
            " batch_normalization_3 (Batc  (None, 128, 180, 320)    1280      \n",
            " hNormalization)                                                 \n",
            "                                                                 \n",
            " max_pooling2d_1 (MaxPooling  (None, 128, 90, 160)     0         \n",
            " 2D)                                                             \n",
            "                                                                 \n",
            " conv2d_4 (Conv2D)           (None, 256, 90, 160)      295168    \n",
            "                                                                 \n",
            " activation_4 (Activation)   (None, 256, 90, 160)      0         \n",
            "                                                                 \n",
            " batch_normalization_4 (Batc  (None, 256, 90, 160)     640       \n",
            " hNormalization)                                                 \n",
            "                                                                 \n",
            " conv2d_5 (Conv2D)           (None, 256, 90, 160)      590080    \n",
            "                                                                 \n",
            " activation_5 (Activation)   (None, 256, 90, 160)      0         \n",
            "                                                                 \n",
            " batch_normalization_5 (Batc  (None, 256, 90, 160)     640       \n",
            " hNormalization)                                                 \n",
            "                                                                 \n",
            " conv2d_6 (Conv2D)           (None, 256, 90, 160)      590080    \n",
            "                                                                 \n",
            " activation_6 (Activation)   (None, 256, 90, 160)      0         \n",
            "                                                                 \n",
            " batch_normalization_6 (Batc  (None, 256, 90, 160)     640       \n",
            " hNormalization)                                                 \n",
            "                                                                 \n",
            " max_pooling2d_2 (MaxPooling  (None, 256, 45, 80)      0         \n",
            " 2D)                                                             \n",
            "                                                                 \n",
            " conv2d_7 (Conv2D)           (None, 512, 45, 80)       1180160   \n",
            "                                                                 \n",
            " activation_7 (Activation)   (None, 512, 45, 80)       0         \n",
            "                                                                 \n",
            " batch_normalization_7 (Batc  (None, 512, 45, 80)      320       \n",
            " hNormalization)                                                 \n",
            "                                                                 \n",
            " conv2d_8 (Conv2D)           (None, 512, 45, 80)       2359808   \n",
            "                                                                 \n",
            " activation_8 (Activation)   (None, 512, 45, 80)       0         \n",
            "                                                                 \n",
            " batch_normalization_8 (Batc  (None, 512, 45, 80)      320       \n",
            " hNormalization)                                                 \n",
            "                                                                 \n",
            " conv2d_9 (Conv2D)           (None, 512, 45, 80)       2359808   \n",
            "                                                                 \n",
            " activation_9 (Activation)   (None, 512, 45, 80)       0         \n",
            "                                                                 \n",
            " batch_normalization_9 (Batc  (None, 512, 45, 80)      320       \n",
            " hNormalization)                                                 \n",
            "                                                                 \n",
            " up_sampling2d (UpSampling2D  (None, 512, 90, 160)     0         \n",
            " )                                                               \n",
            "                                                                 \n",
            " conv2d_10 (Conv2D)          (None, 256, 90, 160)      1179904   \n",
            "                                                                 \n",
            " activation_10 (Activation)  (None, 256, 90, 160)      0         \n",
            "                                                                 \n",
            " batch_normalization_10 (Bat  (None, 256, 90, 160)     640       \n",
            " chNormalization)                                                \n",
            "                                                                 \n",
            " conv2d_11 (Conv2D)          (None, 256, 90, 160)      590080    \n",
            "                                                                 \n",
            " activation_11 (Activation)  (None, 256, 90, 160)      0         \n",
            "                                                                 \n",
            " batch_normalization_11 (Bat  (None, 256, 90, 160)     640       \n",
            " chNormalization)                                                \n",
            "                                                                 \n",
            " conv2d_12 (Conv2D)          (None, 256, 90, 160)      590080    \n",
            "                                                                 \n",
            " activation_12 (Activation)  (None, 256, 90, 160)      0         \n",
            "                                                                 \n",
            " batch_normalization_12 (Bat  (None, 256, 90, 160)     640       \n",
            " chNormalization)                                                \n",
            "                                                                 \n",
            " up_sampling2d_1 (UpSampling  (None, 256, 180, 320)    0         \n",
            " 2D)                                                             \n",
            "                                                                 \n",
            " conv2d_13 (Conv2D)          (None, 128, 180, 320)     295040    \n",
            "                                                                 \n",
            " activation_13 (Activation)  (None, 128, 180, 320)     0         \n",
            "                                                                 \n",
            " batch_normalization_13 (Bat  (None, 128, 180, 320)    1280      \n",
            " chNormalization)                                                \n",
            "                                                                 \n",
            " conv2d_14 (Conv2D)          (None, 128, 180, 320)     147584    \n",
            "                                                                 \n",
            " activation_14 (Activation)  (None, 128, 180, 320)     0         \n",
            "                                                                 \n",
            " batch_normalization_14 (Bat  (None, 128, 180, 320)    1280      \n",
            " chNormalization)                                                \n",
            "                                                                 \n",
            " up_sampling2d_2 (UpSampling  (None, 128, 360, 640)    0         \n",
            " 2D)                                                             \n",
            "                                                                 \n",
            " conv2d_15 (Conv2D)          (None, 64, 360, 640)      73792     \n",
            "                                                                 \n",
            " activation_15 (Activation)  (None, 64, 360, 640)      0         \n",
            "                                                                 \n",
            " batch_normalization_15 (Bat  (None, 64, 360, 640)     2560      \n",
            " chNormalization)                                                \n",
            "                                                                 \n",
            " conv2d_16 (Conv2D)          (None, 64, 360, 640)      36928     \n",
            "                                                                 \n",
            " activation_16 (Activation)  (None, 64, 360, 640)      0         \n",
            "                                                                 \n",
            " batch_normalization_16 (Bat  (None, 64, 360, 640)     2560      \n",
            " chNormalization)                                                \n",
            "                                                                 \n",
            " conv2d_17 (Conv2D)          (None, 256, 360, 640)     147712    \n",
            "                                                                 \n",
            " activation_17 (Activation)  (None, 256, 360, 640)     0         \n",
            "                                                                 \n",
            " batch_normalization_17 (Bat  (None, 256, 360, 640)    2560      \n",
            " chNormalization)                                                \n",
            "                                                                 \n",
            " reshape (Reshape)           (None, 256, 230400)       0         \n",
            "                                                                 \n",
            " permute (Permute)           (None, 230400, 256)       0         \n",
            "                                                                 \n",
            " activation_18 (Activation)  (None, 230400, 256)       0         \n",
            "                                                                 \n",
            "=================================================================\n",
            "Total params: 10,722,560\n",
            "Trainable params: 10,711,200\n",
            "Non-trainable params: 11,360\n",
            "_________________________________________________________________\n",
            "2022-05-08 09:23:17.343506: W tensorflow/core/util/tensor_slice_reader.cc:96] Could not open weights/model.3: DATA_LOSS: not an sstable (bad magic number): perhaps your file is in a different file format and you need to use a different restore operator?\n",
            "ball position list exported to /content/gdrive/MyDrive/PadelData/Final_PremierQatar_Tie.ballpos\n",
            "200\n",
            "jump to next fragment in frame: 660\n",
            "ball position list exported to /content/gdrive/MyDrive/PadelData/Final_PremierQatar_Tie.ballpos\n",
            "800\n",
            "ball position list exported to /content/gdrive/MyDrive/PadelData/Final_PremierQatar_Tie.ballpos\n",
            "1000\n",
            "ball position list exported to /content/gdrive/MyDrive/PadelData/Final_PremierQatar_Tie.ballpos\n",
            "1200\n",
            "jump to next fragment in frame: 1530\n",
            "ball position list exported to /content/gdrive/MyDrive/PadelData/Final_PremierQatar_Tie.ballpos\n",
            "1600\n",
            "ball position list exported to /content/gdrive/MyDrive/PadelData/Final_PremierQatar_Tie.ballpos\n",
            "1800\n",
            "ball position list exported to /content/gdrive/MyDrive/PadelData/Final_PremierQatar_Tie.ballpos\n",
            "2000\n",
            "jump to next fragment in frame: 3360\n",
            "ball position list exported to /content/gdrive/MyDrive/PadelData/Final_PremierQatar_Tie.ballpos\n",
            "3400\n",
            "ball position list exported to /content/gdrive/MyDrive/PadelData/Final_PremierQatar_Tie.ballpos\n",
            "3600\n",
            "jump to next fragment in frame: 4050\n",
            "ball position list exported to /content/gdrive/MyDrive/PadelData/Final_PremierQatar_Tie.ballpos\n",
            "4200\n",
            "jump to next fragment in frame: 5280\n",
            "ball position list exported to /content/gdrive/MyDrive/PadelData/Final_PremierQatar_Tie.ballpos\n",
            "5400\n",
            "ball position list exported to /content/gdrive/MyDrive/PadelData/Final_PremierQatar_Tie.ballpos\n",
            "5600\n",
            "jump to next fragment in frame: 7050\n",
            "ball position list exported to /content/gdrive/MyDrive/PadelData/Final_PremierQatar_Tie.ballpos\n",
            "7200\n",
            "jump to next fragment in frame: 7530\n",
            "ball position list exported to /content/gdrive/MyDrive/PadelData/Final_PremierQatar_Tie.ballpos\n",
            "7600\n",
            "ball position list exported to /content/gdrive/MyDrive/PadelData/Final_PremierQatar_Tie.ballpos\n",
            "7800\n",
            "jump to next fragment in frame: 8430\n",
            "ball position list exported to /content/gdrive/MyDrive/PadelData/Final_PremierQatar_Tie.ballpos\n",
            "8600\n",
            "jump to next fragment in frame: 9150\n",
            "ball position list exported to /content/gdrive/MyDrive/PadelData/Final_PremierQatar_Tie.ballpos\n",
            "9200\n",
            "ball position list exported to /content/gdrive/MyDrive/PadelData/Final_PremierQatar_Tie.ballpos\n",
            "9400\n",
            "ball position list exported to /content/gdrive/MyDrive/PadelData/Final_PremierQatar_Tie.ballpos\n",
            "9600\n",
            "jump to next fragment in frame: 10680\n",
            "ball position list exported to /content/gdrive/MyDrive/PadelData/Final_PremierQatar_Tie.ballpos\n",
            "10800\n",
            "ball position list exported to /content/gdrive/MyDrive/PadelData/Final_PremierQatar_Tie.ballpos\n",
            "11000\n",
            "ball position list exported to /content/gdrive/MyDrive/PadelData/Final_PremierQatar_Tie.ballpos\n",
            "11200\n",
            "ball position list exported to /content/gdrive/MyDrive/PadelData/Final_PremierQatar_Tie.ballpos\n",
            "11400\n",
            "jump to next fragment in frame: 12090\n",
            "ball position list exported to /content/gdrive/MyDrive/PadelData/Final_PremierQatar_Tie.ballpos\n",
            "12200\n",
            "ball position list exported to /content/gdrive/MyDrive/PadelData/Final_PremierQatar_Tie.ballpos\n",
            "12400\n",
            "ball position list exported to /content/gdrive/MyDrive/PadelData/Final_PremierQatar_Tie.ballpos\n",
            "12600\n",
            "finish\n"
          ]
        }
      ]
    },
    {
      "cell_type": "code",
      "source": [
        ""
      ],
      "metadata": {
        "id": "m0_zQgsgpR-r"
      },
      "execution_count": null,
      "outputs": []
    }
  ]
}