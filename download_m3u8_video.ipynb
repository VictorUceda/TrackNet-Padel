{
  "nbformat": 4,
  "nbformat_minor": 0,
  "metadata": {
    "colab": {
      "name": "download_m3u8_video.ipynb",
      "provenance": [],
      "include_colab_link": true
    },
    "kernelspec": {
      "name": "python3",
      "display_name": "Python 3"
    },
    "language_info": {
      "name": "python"
    }
  },
  "cells": [
    {
      "cell_type": "markdown",
      "metadata": {
        "id": "view-in-github",
        "colab_type": "text"
      },
      "source": [
        "<a href=\"https://colab.research.google.com/github/VictorUceda/TrackNet-Padel/blob/main/download_m3u8_video.ipynb\" target=\"_parent\"><img src=\"https://colab.research.google.com/assets/colab-badge.svg\" alt=\"Open In Colab\"/></a>"
      ]
    },
    {
      "cell_type": "code",
      "source": [
        "from google.colab import drive\n",
        "drive.mount('/content/gdrive')\n",
        "\n",
        "url = 'https://laligatech-vod-usp-wpt.akamaized.net/vod/wpt/wpt01/2022/05/19/DIN-OCT-06-ESP-20220519/DIN-OCT-06-ESP-20220519.ism/playlist.m3u8?hdnts=exp%3D1653404684%7Eacl%3D*%7Ehmac%3Df64ac6391fcf65faacd2414cf4fc06a95c11b08bcdf598a9149127798c7776b5'\n",
        "video_path = '/content/gdrive/MyDrive/PadelMatchs/WPTDanish_Octavos_PD_0_01.mp4'\n"
      ],
      "metadata": {
        "colab": {
          "base_uri": "https://localhost:8080/"
        },
        "id": "iL_IdjPGhn0G",
        "outputId": "810d3969-5ebf-41a9-9ed8-63fce74e0c5b"
      },
      "execution_count": 9,
      "outputs": [
        {
          "output_type": "stream",
          "name": "stdout",
          "text": [
            "Drive already mounted at /content/gdrive; to attempt to forcibly remount, call drive.mount(\"/content/gdrive\", force_remount=True).\n"
          ]
        }
      ]
    },
    {
      "cell_type": "code",
      "execution_count": null,
      "metadata": {
        "id": "z14_Tz9idtd2"
      },
      "outputs": [],
      "source": [
        "!pip install m3u8downloader"
      ]
    },
    {
      "cell_type": "code",
      "source": [
        "!downloadm3u8 -o foo.mp4 {url}"
      ],
      "metadata": {
        "id": "Ss6Cz2T0ebLM"
      },
      "execution_count": null,
      "outputs": []
    },
    {
      "cell_type": "code",
      "source": [
        "!ffmpeg -ss 00:12:22.0 -i foo.mp4 -c copy -t 00:04:38.0 {video_path}"
      ],
      "metadata": {
        "id": "uQCCHoDKeyD6"
      },
      "execution_count": null,
      "outputs": []
    }
  ]
}