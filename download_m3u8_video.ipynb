{
  "nbformat": 4,
  "nbformat_minor": 0,
  "metadata": {
    "colab": {
      "name": "download_m3u8_video.ipynb",
      "provenance": [],
      "include_colab_link": true
    },
    "kernelspec": {
      "name": "python3",
      "display_name": "Python 3"
    },
    "language_info": {
      "name": "python"
    }
  },
  "cells": [
    {
      "cell_type": "markdown",
      "metadata": {
        "id": "view-in-github",
        "colab_type": "text"
      },
      "source": [
        "<a href=\"https://colab.research.google.com/github/VictorUceda/TrackNet-Padel/blob/main/download_m3u8_video.ipynb\" target=\"_parent\"><img src=\"https://colab.research.google.com/assets/colab-badge.svg\" alt=\"Open In Colab\"/></a>"
      ]
    },
    {
      "cell_type": "code",
      "source": [
        "from google.colab import drive\n",
        "drive.mount('/content/gdrive')"
      ],
      "metadata": {
        "colab": {
          "base_uri": "https://localhost:8080/"
        },
        "id": "JC7pgvD8rxc2",
        "outputId": "5044473b-f5d8-4aec-93d3-e0d597ee37cd"
      },
      "execution_count": 1,
      "outputs": [
        {
          "output_type": "stream",
          "name": "stdout",
          "text": [
            "Mounted at /content/gdrive\n"
          ]
        }
      ]
    },
    {
      "cell_type": "markdown",
      "source": [
        "#WPT TV"
      ],
      "metadata": {
        "id": "5lEkm43VmNWm"
      }
    },
    {
      "cell_type": "code",
      "source": [
        "url = 'https://laligatech-vod-usp-wpt.akamaized.net/vod/wpt/wpt01/2022/05/20/DIN-QF-MAS-03-ESP-20220520/DIN-QF-MAS-03-ESP-20220520.ism/playlist.m3u8?hdnts=exp%3D1653591513%7Eacl%3D*%7Ehmac%3D6349e48e6769f32c6c0d1694e627fa522d0b084b77f13676a395e653ab0ac6c6'"
      ],
      "metadata": {
        "colab": {
          "base_uri": "https://localhost:8080/"
        },
        "id": "iL_IdjPGhn0G",
        "outputId": "501cfb2b-51e6-4c8a-af5d-e4bd3f0c818f"
      },
      "execution_count": 15,
      "outputs": [
        {
          "output_type": "stream",
          "name": "stdout",
          "text": [
            "Mounted at /content/gdrive\n"
          ]
        }
      ]
    },
    {
      "cell_type": "code",
      "execution_count": null,
      "metadata": {
        "id": "z14_Tz9idtd2"
      },
      "outputs": [],
      "source": [
        "!pip install m3u8downloader"
      ]
    },
    {
      "cell_type": "code",
      "source": [
        "!downloadm3u8 -o foo.mp4 {url}"
      ],
      "metadata": {
        "id": "Ss6Cz2T0ebLM"
      },
      "execution_count": null,
      "outputs": []
    },
    {
      "cell_type": "markdown",
      "source": [
        "# Youtube"
      ],
      "metadata": {
        "id": "F0RzUfBBmXeF"
      }
    },
    {
      "cell_type": "code",
      "source": [
        "!pip install pytube"
      ],
      "metadata": {
        "colab": {
          "base_uri": "https://localhost:8080/"
        },
        "id": "iE2LISYRmZKT",
        "outputId": "e1df16b0-6371-4f99-945a-f57d45043915"
      },
      "execution_count": 2,
      "outputs": [
        {
          "output_type": "stream",
          "name": "stdout",
          "text": [
            "Looking in indexes: https://pypi.org/simple, https://us-python.pkg.dev/colab-wheels/public/simple/\n",
            "Collecting pytube\n",
            "  Downloading pytube-12.1.0-py3-none-any.whl (56 kB)\n",
            "\u001b[K     |████████████████████████████████| 56 kB 2.4 MB/s \n",
            "\u001b[?25hInstalling collected packages: pytube\n",
            "Successfully installed pytube-12.1.0\n"
          ]
        }
      ]
    },
    {
      "cell_type": "code",
      "source": [
        "from pytube import YouTube \n",
        "  \n",
        "# link of the video to be downloaded \n",
        "link=\"https://www.youtube.com/watch?v=_2xYcjJ1NXw\"\n",
        "  \n",
        "try: \n",
        "    # object creation using YouTube\n",
        "    # which was imported in the beginning \n",
        "    yt = YouTube(link) \n",
        "except: \n",
        "    print(\"Connection Error\") #to handle exception \n",
        "  \n",
        "# filters out all the files with \"mp4\" extension \n",
        "functions = [lambda s: s.fps== 30]\n",
        "mp4files = yt.streams.filter(file_extension='mp4', type='video', custom_filter_functions=functions).order_by('resolution').desc().all()\n",
        "print(mp4files)\n",
        "\n",
        "\n",
        "#to set the name of the file\n",
        "#yt.set_filename('foo.mp4')  \n",
        "  \n",
        "# get the video with the extension and\n",
        "# resolution passed in the get() function \n",
        "d_video = mp4files[0]\n",
        "#d_video = yt.get(mp4files[-1].extension,mp4files[-1].resolution) \n",
        "try: \n",
        "    # downloading the video \n",
        "    d_video.download(filename='foo.mp4') \n",
        "except: \n",
        "    print(\"Some Error!\") \n",
        "print('Task Completed!') "
      ],
      "metadata": {
        "colab": {
          "base_uri": "https://localhost:8080/"
        },
        "id": "W2tFt0x-mnn_",
        "outputId": "fa342fd8-3824-4f0b-ed37-baf6f2075e6d"
      },
      "execution_count": 17,
      "outputs": [
        {
          "output_type": "stream",
          "name": "stderr",
          "text": [
            "/usr/local/lib/python3.7/dist-packages/ipykernel_launcher.py:15: DeprecationWarning: Call to deprecated function all (This object can be treated as a list, all() is useless).\n",
            "  from ipykernel import kernelapp as app\n"
          ]
        },
        {
          "output_type": "stream",
          "name": "stdout",
          "text": [
            "[<Stream: itag=\"22\" mime_type=\"video/mp4\" res=\"720p\" fps=\"30fps\" vcodec=\"avc1.64001F\" acodec=\"mp4a.40.2\" progressive=\"True\" type=\"video\">, <Stream: itag=\"135\" mime_type=\"video/mp4\" res=\"480p\" fps=\"30fps\" vcodec=\"avc1.4d401f\" progressive=\"False\" type=\"video\">, <Stream: itag=\"134\" mime_type=\"video/mp4\" res=\"360p\" fps=\"30fps\" vcodec=\"avc1.4d401e\" progressive=\"False\" type=\"video\">, <Stream: itag=\"18\" mime_type=\"video/mp4\" res=\"360p\" fps=\"30fps\" vcodec=\"avc1.42001E\" acodec=\"mp4a.40.2\" progressive=\"True\" type=\"video\">, <Stream: itag=\"133\" mime_type=\"video/mp4\" res=\"240p\" fps=\"30fps\" vcodec=\"avc1.4d4015\" progressive=\"False\" type=\"video\">, <Stream: itag=\"160\" mime_type=\"video/mp4\" res=\"144p\" fps=\"30fps\" vcodec=\"avc1.4d400c\" progressive=\"False\" type=\"video\">]\n",
            "Task Completed!\n"
          ]
        }
      ]
    },
    {
      "cell_type": "markdown",
      "source": [
        "# CUT"
      ],
      "metadata": {
        "id": "6Y_nxcTBmVOj"
      }
    },
    {
      "cell_type": "code",
      "source": [
        "video_path = '/content/gdrive/MyDrive/PadelMatchs/PremierRoma_Semis_LGBC_0_54.mp4'\n",
        "!ffmpeg -ss 03:16:32.0 -i foo.mp4 -c copy -t 00:11:51.0 {video_path}"
      ],
      "metadata": {
        "colab": {
          "base_uri": "https://localhost:8080/"
        },
        "id": "uQCCHoDKeyD6",
        "outputId": "bbb93ca8-76b4-4d9e-e136-d6ab32e5a38d"
      },
      "execution_count": 19,
      "outputs": [
        {
          "output_type": "stream",
          "name": "stdout",
          "text": [
            "ffmpeg version 3.4.8-0ubuntu0.2 Copyright (c) 2000-2020 the FFmpeg developers\n",
            "  built with gcc 7 (Ubuntu 7.5.0-3ubuntu1~18.04)\n",
            "  configuration: --prefix=/usr --extra-version=0ubuntu0.2 --toolchain=hardened --libdir=/usr/lib/x86_64-linux-gnu --incdir=/usr/include/x86_64-linux-gnu --enable-gpl --disable-stripping --enable-avresample --enable-avisynth --enable-gnutls --enable-ladspa --enable-libass --enable-libbluray --enable-libbs2b --enable-libcaca --enable-libcdio --enable-libflite --enable-libfontconfig --enable-libfreetype --enable-libfribidi --enable-libgme --enable-libgsm --enable-libmp3lame --enable-libmysofa --enable-libopenjpeg --enable-libopenmpt --enable-libopus --enable-libpulse --enable-librubberband --enable-librsvg --enable-libshine --enable-libsnappy --enable-libsoxr --enable-libspeex --enable-libssh --enable-libtheora --enable-libtwolame --enable-libvorbis --enable-libvpx --enable-libwavpack --enable-libwebp --enable-libx265 --enable-libxml2 --enable-libxvid --enable-libzmq --enable-libzvbi --enable-omx --enable-openal --enable-opengl --enable-sdl2 --enable-libdc1394 --enable-libdrm --enable-libiec61883 --enable-chromaprint --enable-frei0r --enable-libopencv --enable-libx264 --enable-shared\n",
            "  libavutil      55. 78.100 / 55. 78.100\n",
            "  libavcodec     57.107.100 / 57.107.100\n",
            "  libavformat    57. 83.100 / 57. 83.100\n",
            "  libavdevice    57. 10.100 / 57. 10.100\n",
            "  libavfilter     6.107.100 /  6.107.100\n",
            "  libavresample   3.  7.  0 /  3.  7.  0\n",
            "  libswscale      4.  8.100 /  4.  8.100\n",
            "  libswresample   2.  9.100 /  2.  9.100\n",
            "  libpostproc    54.  7.100 / 54.  7.100\n",
            "Input #0, mov,mp4,m4a,3gp,3g2,mj2, from 'foo.mp4':\n",
            "  Metadata:\n",
            "    major_brand     : mp42\n",
            "    minor_version   : 0\n",
            "    compatible_brands: isommp42\n",
            "    creation_time   : 2022-05-28T21:15:08.000000Z\n",
            "  Duration: 05:02:00.02, start: 0.000000, bitrate: 1563 kb/s\n",
            "    Stream #0:0(und): Video: h264 (High) (avc1 / 0x31637661), yuv420p(tv, bt709), 1280x720 [SAR 1:1 DAR 16:9], 1432 kb/s, 30 fps, 30 tbr, 15360 tbn, 60 tbc (default)\n",
            "    Metadata:\n",
            "      creation_time   : 2022-05-28T21:15:08.000000Z\n",
            "      handler_name    : ISO Media file produced by Google Inc. Created on: 05/28/2022.\n",
            "    Stream #0:1(eng): Audio: aac (LC) (mp4a / 0x6134706D), 44100 Hz, stereo, fltp, 127 kb/s (default)\n",
            "    Metadata:\n",
            "      creation_time   : 2022-05-28T21:15:08.000000Z\n",
            "      handler_name    : ISO Media file produced by Google Inc. Created on: 05/28/2022.\n",
            "File '/content/gdrive/MyDrive/PadelMatchs/PremierRoma_Semis_LGBC_0_54.mp4' already exists. Overwrite ? [y/N] y\n",
            "Output #0, mp4, to '/content/gdrive/MyDrive/PadelMatchs/PremierRoma_Semis_LGBC_0_54.mp4':\n",
            "  Metadata:\n",
            "    major_brand     : mp42\n",
            "    minor_version   : 0\n",
            "    compatible_brands: isommp42\n",
            "    encoder         : Lavf57.83.100\n",
            "    Stream #0:0(und): Video: h264 (High) (avc1 / 0x31637661), yuv420p(tv, bt709), 1280x720 [SAR 1:1 DAR 16:9], q=2-31, 1432 kb/s, 30 fps, 30 tbr, 15360 tbn, 15360 tbc (default)\n",
            "    Metadata:\n",
            "      creation_time   : 2022-05-28T21:15:08.000000Z\n",
            "      handler_name    : ISO Media file produced by Google Inc. Created on: 05/28/2022.\n",
            "    Stream #0:1(eng): Audio: aac (LC) (mp4a / 0x6134706D), 44100 Hz, stereo, fltp, 127 kb/s (default)\n",
            "    Metadata:\n",
            "      creation_time   : 2022-05-28T21:15:08.000000Z\n",
            "      handler_name    : ISO Media file produced by Google Inc. Created on: 05/28/2022.\n",
            "Stream mapping:\n",
            "  Stream #0:0 -> #0:0 (copy)\n",
            "  Stream #0:1 -> #0:1 (copy)\n",
            "Press [q] to stop, [?] for help\n",
            "frame=21391 fps=0.0 q=-1.0 Lsize=  129424kB time=00:11:50.99 bitrate=1491.2kbits/s speed= 818x    \n",
            "video:117632kB audio:11142kB subtitle:0kB other streams:0kB global headers:0kB muxing overhead: 0.504932%\n"
          ]
        }
      ]
    }
  ]
}