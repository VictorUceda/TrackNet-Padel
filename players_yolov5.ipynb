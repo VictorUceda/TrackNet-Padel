{
  "cells": [
    {
      "cell_type": "code",
      "source": [
        "from google.colab import drive\n",
        "drive.mount('/content/gdrive')"
      ],
      "metadata": {
        "colab": {
          "base_uri": "https://localhost:8080/"
        },
        "id": "Ay-jpn2wIKY_",
        "outputId": "1dc63f6a-f388-40f6-fcae-0cc83c48556d"
      },
      "id": "Ay-jpn2wIKY_",
      "execution_count": 9,
      "outputs": [
        {
          "output_type": "stream",
          "name": "stdout",
          "text": [
            "Mounted at /content/gdrive\n"
          ]
        }
      ]
    },
    {
      "cell_type": "code",
      "source": [
        "input_name =  'Final_PremierQatar_2_21'#'punto_qatar'# \n",
        "path = '/content/gdrive/MyDrive/PadelData/'\n",
        "path_res = '/content/gdrive/MyDrive/PadelRes/'\n",
        "point_n = 0"
      ],
      "metadata": {
        "id": "kZZQDnRDIosA"
      },
      "id": "kZZQDnRDIosA",
      "execution_count": 41,
      "outputs": []
    },
    {
      "cell_type": "markdown",
      "id": "chicken-bahrain",
      "metadata": {
        "id": "chicken-bahrain"
      },
      "source": [
        "\n",
        "\n",
        "# YOLOv5\n",
        "\n",
        "*Author: Ultralytics*\n",
        "\n",
        "**YOLOv5 in PyTorch > ONNX > CoreML > TFLite**\n",
        "\n",
        "_ | _\n",
        "- | -\n",
        "![alt](https://pytorch.org/assets/images/ultralytics_yolov5_img1.jpg) | ![alt](https://pytorch.org/assets/images/ultralytics_yolov5_img2.png)\n",
        "\n",
        "\n",
        "## Before You Start\n",
        "\n",
        "Start from a **Python>=3.8** environment with **PyTorch>=1.7** installed. To install PyTorch see [https://pytorch.org/get-started/locally/](https://pytorch.org/get-started/locally/). To install YOLOv5 dependencies:"
      ]
    },
    {
      "cell_type": "code",
      "execution_count": 1,
      "id": "double-parent",
      "metadata": {
        "id": "double-parent"
      },
      "outputs": [],
      "source": [
        "%%bash\n",
        "pip install -qr https://raw.githubusercontent.com/ultralytics/yolov5/master/requirements.txt  # install dependencies"
      ]
    },
    {
      "cell_type": "markdown",
      "id": "accessible-responsibility",
      "metadata": {
        "id": "accessible-responsibility"
      },
      "source": [
        "## Model Description\n",
        "\n",
        "<img width=\"800\" alt=\"YOLOv5 Model Comparison\" src=\"https://github.com/ultralytics/yolov5/releases/download/v1.0/model_comparison.png\">\n",
        "&nbsp;\n",
        "\n",
        "[YOLOv5](https://ultralytics.com/yolov5) 🚀 is a family of compound-scaled object detection models trained on the COCO dataset, and includes simple functionality for Test Time Augmentation (TTA), model ensembling, hyperparameter evolution, and export to ONNX, CoreML and TFLite.\n",
        "\n",
        "|Model |size<br><sup>(pixels) |mAP<sup>val<br>0.5:0.95 |mAP<sup>test<br>0.5:0.95 |mAP<sup>val<br>0.5 |Speed<br><sup>V100 (ms) | |params<br><sup>(M) |FLOPS<br><sup>640 (B)\n",
        "|---   |---  |---        |---         |---             |---                |---|---              |---\n",
        "|[YOLOv5s6](https://github.com/ultralytics/yolov5/releases)   |1280 |43.3     |43.3     |61.9     |**4.3** | |12.7  |17.4\n",
        "|[YOLOv5m6](https://github.com/ultralytics/yolov5/releases)   |1280 |50.5     |50.5     |68.7     |8.4     | |35.9  |52.4\n",
        "|[YOLOv5l6](https://github.com/ultralytics/yolov5/releases)   |1280 |53.4     |53.4     |71.1     |12.3    | |77.2  |117.7\n",
        "|[YOLOv5x6](https://github.com/ultralytics/yolov5/releases)   |1280 |**54.4** |**54.4** |**72.0** |22.4    | |141.8 |222.9\n",
        "|[YOLOv5x6](https://github.com/ultralytics/yolov5/releases) TTA |1280 |**55.0** |**55.0** |**72.0** |70.8 | |-  |-\n",
        "\n",
        "<details>\n",
        "  <summary>Table Notes (click to expand)</summary>\n",
        "\n",
        "  * AP<sup>test</sup> denotes COCO [test-dev2017](http://cocodataset.org/#upload) server results, all other AP results denote val2017 accuracy.\n",
        "  * AP values are for single-model single-scale unless otherwise noted. **Reproduce mAP** by `python test.py --data coco.yaml --img 640 --conf 0.001 --iou 0.65`\n",
        "  * Speed<sub>GPU</sub> averaged over 5000 COCO val2017 images using a GCP [n1-standard-16](https://cloud.google.com/compute/docs/machine-types#n1_standard_machine_types) V100 instance, and includes FP16 inference, postprocessing and NMS. **Reproduce speed** by `python test.py --data coco.yaml --img 640 --conf 0.25 --iou 0.45`\n",
        "  * All checkpoints are trained to 300 epochs with default settings and hyperparameters (no autoaugmentation).\n",
        "  * Test Time Augmentation ([TTA](https://github.com/ultralytics/yolov5/issues/303)) includes reflection and scale augmentation. **Reproduce TTA** by `python test.py --data coco.yaml --img 1536 --iou 0.7 --augment`\n",
        "\n",
        "</details>\n",
        "\n",
        "<p align=\"left\"><img width=\"800\" src=\"https://github.com/ultralytics/yolov5/releases/download/v1.0/model_plot.png\"></p>\n",
        "\n",
        "<details>\n",
        "  <summary>Figure Notes (click to expand)</summary>\n",
        "\n",
        "  * GPU Speed measures end-to-end time per image averaged over 5000 COCO val2017 images using a V100 GPU with batch size 32, and includes image preprocessing, PyTorch FP16 inference, postprocessing and NMS.\n",
        "  * EfficientDet data from [google/automl](https://github.com/google/automl) at batch size 8.\n",
        "  * **Reproduce** by `python test.py --task study --data coco.yaml --iou 0.7 --weights yolov5s6.pt yolov5m6.pt yolov5l6.pt yolov5x6.pt`\n",
        "\n",
        "</details>\n",
        "\n",
        "## Load From PyTorch Hub\n",
        "\n",
        "\n",
        "This example loads a pretrained **YOLOv5s** model and passes an image for inference. YOLOv5 accepts **URL**, **Filename**, **PIL**, **OpenCV**, **Numpy** and **PyTorch** inputs, and returns detections in **torch**, **pandas**, and **JSON** output formats. See our [YOLOv5 PyTorch Hub Tutorial](https://github.com/ultralytics/yolov5/issues/36) for details."
      ]
    },
    {
      "cell_type": "markdown",
      "id": "potential-instrument",
      "metadata": {
        "id": "potential-instrument"
      },
      "source": [
        "## Citation\n",
        "\n",
        "[![DOI](https://zenodo.org/badge/264818686.svg)](https://zenodo.org/badge/latestdoi/264818686)\n"
      ]
    },
    {
      "cell_type": "markdown",
      "source": [
        "## Inference for video\n",
        "See  https://github.com/ultralytics/yolov5/issues/36 for more parameters option of YoloV5"
      ],
      "metadata": {
        "id": "xzwSGMoFWg7o"
      },
      "id": "xzwSGMoFWg7o"
    },
    {
      "cell_type": "code",
      "source": [
        "from imutils.video import FileVideoStream\n",
        "from imutils.video import FPS\n",
        "import numpy as np\n",
        "import pandas as pd\n",
        "import argparse\n",
        "import imutils\n",
        "import time\n",
        "import cv2\n",
        "import matplotlib.pyplot as plt\n",
        "import torch\n",
        "from google.colab.patches import cv2_imshow\n",
        "import pickle\n",
        "\n",
        "res_name = path+input_name+'.playersbox.yolo'\n",
        "\n",
        "df_segments = pd.read_csv(path+input_name+'.points.csv', sep=';')\n",
        "\n",
        "segments = []\n",
        "for index, row in df_segments.iterrows():\n",
        "  print(str(row['ini'])+\" - \"+str(row['fin']+1))\n",
        "  segments.append(range(row['ini'], row['fin']+1))\n",
        "\n",
        "# YOLO Model\n",
        "model = torch.hub.load('ultralytics/yolov5', 'yolov5x', pretrained=True, _verbose=False)\n",
        "model.cuda()\n",
        "model.conf = 0.25  # NMS confidence threshold\n",
        "model.classes = [0]  # (optional list) filter by class, i.e. = [0, 38] for COCO persons, tennis raquet\n",
        "model.max_det = 50  # maximum number of detections per image\n",
        "     \n",
        "video_path = path+input_name+'.mp4'\n",
        "out_video_root = path+'vis_'+input_name+'.mp4'\n",
        "cap = cv2.VideoCapture(video_path)\n",
        "fps = cap.get(cv2.CAP_PROP_FPS)\n",
        "size = (int(cap.get(cv2.CAP_PROP_FRAME_WIDTH)), int(cap.get(cv2.CAP_PROP_FRAME_HEIGHT)))\n",
        "fourcc = cv2.VideoWriter_fourcc(*'mp4v')\n",
        "#videoWriter = cv2.VideoWriter(out_video_root, fourcc, fps, size)\n",
        "cap.release()\n",
        "\n",
        "print(\"Analisis of \"+video_path+ \" \"+str(size)+\"x\"+str(fps))\n",
        "\n",
        "print(\"[INFO] starting video file thread...\")\n",
        "fvs = FileVideoStream(video_path).start()\n",
        "time.sleep(1.0)\n",
        "# start the FPS timer\n",
        "fps = FPS().start()\n",
        "i = 0\n",
        "result_box = {}\n",
        "with open(res_name, \"rb\") as fp:  \n",
        "  result_box = pickle.load(fp)\n",
        "\n",
        "frame_list = []\n",
        "# loop over frames from the video file stream\n",
        "while fvs.more():\n",
        "  frame = fvs.read()\n",
        "  if any([i in frag for frag in segments]) and i not in result_box:\n",
        "    results = model(frame)\n",
        "    #results.save()\n",
        "    res_list = results.pandas().xyxy[0].values.tolist()\n",
        "    result_box[i]  = [np.array(r[:-2]) for r in res_list]\n",
        "      \n",
        "    if not len(result_box)%500:\n",
        "      with open(res_name, 'wb') as fp:\n",
        "        pickle.dump(result_box, fp)\n",
        "        print(str(i)+\": players position exported to \"+str(res_name))\n",
        "  i += 1\n",
        "  #videoWriter.write(frame)\n",
        "  if fvs.Q.qsize() < 2:  # If we are low on frames, give time to producer\n",
        "    time.sleep(0.001)  # Ensures producer runs now, so 2 is sufficient\n",
        "  fps.update()\n",
        "\n",
        "# stop the timer and display FPS information\n",
        "fps.stop()\n",
        "print(\"[INFO] elasped time: {:.2f}\".format(fps.elapsed()))\n",
        "print(\"[INFO] approx. FPS: {:.2f}\".format(fps.fps()))\n",
        "fvs.stop()\n",
        "#videoWriter.release()\n",
        "\n",
        "with open(res_name, 'wb') as fp:\n",
        "    pickle.dump(result_box, fp)\n",
        "    print(\"End: players position exported to \"+str(res_name))\n"
      ],
      "metadata": {
        "colab": {
          "base_uri": "https://localhost:8080/"
        },
        "id": "5E0YwpLwIYpW",
        "outputId": "d58becd2-3b37-4db9-ff7a-3fea578dbd00"
      },
      "id": "5E0YwpLwIYpW",
      "execution_count": 46,
      "outputs": [
        {
          "output_type": "stream",
          "name": "stdout",
          "text": [
            "1 - 226\n",
            "600 - 961\n",
            "1275 - 2341\n",
            "2580 - 2596\n",
            "2895 - 3496\n",
            "4215 - 4231\n",
            "4380 - 4501\n",
            "4710 - 5386\n",
            "6030 - 6196\n",
            "6780 - 7051\n",
            "7455 - 7876\n",
            "8520 - 8656\n",
            "8745 - 9241\n",
            "9660 - 9991\n",
            "10140 - 10411\n",
            "10995 - 11071\n",
            "11265 - 11476\n",
            "11970 - 12241\n",
            "12870 - 12886\n",
            "13215 - 13561\n",
            "14040 - 14326\n",
            "14970 - 15181\n",
            "15345 - 15631\n",
            "15990 - 16156\n",
            "16215 - 16921\n",
            "17880 - 18001\n"
          ]
        },
        {
          "output_type": "stream",
          "name": "stderr",
          "text": [
            "Using cache found in /root/.cache/torch/hub/ultralytics_yolov5_master\n"
          ]
        },
        {
          "output_type": "stream",
          "name": "stdout",
          "text": [
            "Analisis of /content/gdrive/MyDrive/PadelData/Final_PremierQatar_2_21.mp4 (1920, 1080)x30.0\n",
            "[INFO] starting video file thread...\n",
            "12008: players position exported to /content/gdrive/MyDrive/PadelData/Final_PremierQatar_2_21.playersbox.yolo\n",
            "13466: players position exported to /content/gdrive/MyDrive/PadelData/Final_PremierQatar_2_21.playersbox.yolo\n",
            "15089: players position exported to /content/gdrive/MyDrive/PadelData/Final_PremierQatar_2_21.playersbox.yolo\n",
            "16112: players position exported to /content/gdrive/MyDrive/PadelData/Final_PremierQatar_2_21.playersbox.yolo\n",
            "16671: players position exported to /content/gdrive/MyDrive/PadelData/Final_PremierQatar_2_21.playersbox.yolo\n",
            "[INFO] elasped time: 579.61\n",
            "[INFO] approx. FPS: 32.59\n",
            "End: players position exported to /content/gdrive/MyDrive/PadelData/Final_PremierQatar_2_21.playersbox.yolo\n"
          ]
        }
      ]
    },
    {
      "cell_type": "code",
      "source": [
        "!rm -rf runs/detect/*"
      ],
      "metadata": {
        "id": "AQgr0_-2MQVp"
      },
      "id": "AQgr0_-2MQVp",
      "execution_count": 30,
      "outputs": []
    }
  ],
  "metadata": {
    "colab": {
      "name": "ultralytics_yolov5.ipynb",
      "provenance": []
    },
    "language_info": {
      "name": "python"
    },
    "kernelspec": {
      "name": "python3",
      "display_name": "Python 3"
    },
    "accelerator": "GPU"
  },
  "nbformat": 4,
  "nbformat_minor": 5
}