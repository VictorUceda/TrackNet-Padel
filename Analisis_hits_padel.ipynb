{
  "nbformat": 4,
  "nbformat_minor": 0,
  "metadata": {
    "colab": {
      "name": "Analisis_hits_padel.ipynb",
      "provenance": [],
      "collapsed_sections": [
        "8CF28jZI3rMK"
      ],
      "authorship_tag": "ABX9TyNyzSTigeLsCPKtRICpxAGX",
      "include_colab_link": true
    },
    "kernelspec": {
      "name": "python3",
      "display_name": "Python 3"
    },
    "language_info": {
      "name": "python"
    }
  },
  "cells": [
    {
      "cell_type": "markdown",
      "metadata": {
        "id": "view-in-github",
        "colab_type": "text"
      },
      "source": [
        "<a href=\"https://colab.research.google.com/github/VictorUceda/TrackNet-Padel/blob/main/Analisis_hits_padel.ipynb\" target=\"_parent\"><img src=\"https://colab.research.google.com/assets/colab-badge.svg\" alt=\"Open In Colab\"/></a>"
      ]
    },
    {
      "cell_type": "markdown",
      "source": [
        "#Inicialización de datos"
      ],
      "metadata": {
        "id": "7CpM7Vz-iBfZ"
      }
    },
    {
      "cell_type": "code",
      "source": [
        "from google.colab import drive\n",
        "drive.mount('/content/gdrive')\n",
        "\n",
        "\n",
        "import os \n",
        "# path = '/content/gdrive/MyDrive/Colab Notebooks/TrackNetv2/3_in_3_out'\n",
        "path = '/content/gdrive/MyDrive/PadelData/'\n",
        "os.chdir(path)\n",
        "!pwd"
      ],
      "metadata": {
        "colab": {
          "base_uri": "https://localhost:8080/"
        },
        "id": "4guPp6JbiNRF",
        "outputId": "457bb131-7c2e-479d-88ac-a1e77d6d8191"
      },
      "execution_count": 38,
      "outputs": [
        {
          "output_type": "stream",
          "name": "stdout",
          "text": [
            "Drive already mounted at /content/gdrive; to attempt to forcibly remount, call drive.mount(\"/content/gdrive\", force_remount=True).\n",
            "/content/gdrive/MyDrive/PadelData\n"
          ]
        }
      ]
    },
    {
      "cell_type": "code",
      "execution_count": 39,
      "metadata": {
        "id": "G9tL_5AKhYa2"
      },
      "outputs": [],
      "source": [
        "input_name = 'FinalQatar_PremierPadel_Trim'# 'punto_qatar'#"
      ]
    },
    {
      "cell_type": "code",
      "source": [
        "import numpy as np\n",
        "pista_campo_fondo = np.array([np.array([390,213]), np.array([890,213]),np.array([965,350]), np.array([315,350])])\n",
        "pista_campo_cerca = np.array([[315,350], [965,350],[1114,622],[162,618]])\n",
        "pista_aristas = np.array([[390,213], [890,213],[1114,622],[162,618]])\n",
        "linea_saque_fondo = 250\n",
        "linea_saque_cerca = 518\n",
        "red_bajo = 350\n",
        "red_alto = 300\n",
        "pista_campo_fondo"
      ],
      "metadata": {
        "colab": {
          "base_uri": "https://localhost:8080/"
        },
        "id": "UA5CBU3JsaV-",
        "outputId": "ab3d2ffc-72fe-4712-9e94-149abee31307"
      },
      "execution_count": 40,
      "outputs": [
        {
          "output_type": "execute_result",
          "data": {
            "text/plain": [
              "array([[390, 213],\n",
              "       [890, 213],\n",
              "       [965, 350],\n",
              "       [315, 350]])"
            ]
          },
          "metadata": {},
          "execution_count": 40
        }
      ]
    },
    {
      "cell_type": "code",
      "source": [
        "import pickle\n",
        "with open(input_name+'.playersbox', \"rb\") as fp:  \n",
        "  person_results = pickle.load(fp)\n",
        "\n",
        "import pickle\n",
        "with open(input_name+'.ballpos', \"rb\") as fp:  \n",
        "  ball_pos = pickle.load(fp)\n",
        "print(ball_pos)\n",
        "last_f, last_pos = 0,[]\n",
        "for f, pos in ball_pos.items():\n",
        "  if f-last_f < 10 and last_pos != []:\n",
        "    vel = [pos[0][0] - last_pos[0][0], pos[0][1] - last_pos[0][1]]\n",
        "    vel = [v/ (f-last_f) for v in vel]\n",
        "    pos[0].append(vel)\n",
        "  last_f, last_pos = f, pos"
      ],
      "metadata": {
        "id": "bd7agEgNiH3N",
        "colab": {
          "base_uri": "https://localhost:8080/"
        },
        "outputId": "8304bf76-e88b-47a0-9b46-b7fa15327036"
      },
      "execution_count": 41,
      "outputs": [
        {
          "output_type": "stream",
          "name": "stdout",
          "text": [
            "{3: [[786, 234]], 4: [[786, 235]], 5: [[780, 232]], 6: [[780, 232]], 7: [[776, 232]], 8: [[771, 236]], 9: [[768, 236]], 10: [[770, 238]], 11: [[766, 242]], 12: [[760, 244]], 13: [[758, 248]], 14: [[756, 255]], 15: [[750, 264]], 16: [[750, 264]], 17: [[747, 275]], 18: [[744, 286]], 19: [[738, 296]], 20: [[736, 312]], 21: [[730, 322]], 22: [[732, 324]], 23: [[728, 342]], 24: [[722, 360]], 25: [[716, 376]], 26: [[714, 398]], 27: [[430, 69]], 28: [[710, 418]], 29: [[704, 440]], 33: [[932, 512]], 38: [[771, 458]], 39: [[774, 472]], 50: [[1160, 381]], 51: [[1150, 387]], 53: [[1041, 306]], 58: [[869, 94]], 62: [[1104, 594]], 65: [[1088, 552]], 72: [[1009, 473]], 73: [[821, 539]], 74: [[820, 516]], 75: [[972, 412]], 78: [[720, 67]], 79: [[815, 409]], 80: [[812, 384]], 81: [[812, 367]], 87: [[728, 234]], 88: [[727, 234]], 99: [[600, 7]], 103: [[874, 129]], 104: [[390, 584]], 105: [[391, 578]], 107: [[392, 570]], 108: [[390, 562]], 109: [[391, 555]], 110: [[390, 548]], 111: [[390, 544]], 114: [[391, 553]], 115: [[394, 564]], 116: [[395, 577]], 117: [[398, 592]], 124: [[889, 571]], 127: [[1273, 709]], 130: [[494, 30]], 132: [[957, 541]], 137: [[612, 468]], 138: [[616, 480]], 139: [[620, 492]], 140: [[624, 506]], 141: [[628, 522]], 143: [[628, 524]], 144: [[628, 508]], 145: [[632, 498]], 146: [[631, 489]], 147: [[630, 478]], 148: [[629, 484]], 149: [[633, 473]], 150: [[633, 473]], 151: [[634, 460]], 152: [[634, 456]], 153: [[395, 91]], 155: [[394, 90]], 158: [[633, 406]], 159: [[634, 382]], 161: [[636, 368]], 163: [[634, 336]], 164: [[633, 328]], 165: [[636, 316]], 168: [[636, 298]], 169: [[636, 292]], 176: [[642, 272]], 179: [[644, 272]], 180: [[646, 260]], 181: [[644, 248]], 182: [[648, 242]], 183: [[648, 234]], 184: [[649, 234]], 185: [[649, 227]], 186: [[650, 222]], 187: [[652, 218]], 188: [[654, 214]], 200: [[676, 226]], 201: [[680, 234]], 203: [[682, 242]], 204: [[686, 252]], 205: [[686, 262]], 206: [[691, 275]], 207: [[698, 286]], 208: [[696, 288]], 212: [[724, 298]], 213: [[733, 292]], 214: [[732, 292]], 215: [[744, 286]], 216: [[752, 279]], 217: [[762, 276]], 218: [[769, 274]], 219: [[780, 272]], 220: [[779, 272]], 221: [[788, 270]], 222: [[796, 270]], 223: [[799, 270]], 224: [[809, 269]], 225: [[813, 259]], 226: [[814, 260]], 227: [[821, 249]], 228: [[824, 236]], 229: [[828, 226]], 230: [[834, 220]], 233: [[845, 209]], 234: [[848, 202]], 241: [[808, 206]], 242: [[802, 211]], 243: [[792, 218]], 245: [[912, 220]], 246: [[778, 316]], 247: [[764, 238]], 248: [[757, 247]], 249: [[746, 254]], 251: [[736, 266]], 252: [[724, 280]], 253: [[716, 294]], 257: [[662, 294]], 259: [[616, 274]], 260: [[596, 268]], 261: [[576, 262]], 262: [[579, 265]], 263: [[558, 258]], 269: [[481, 249]], 270: [[466, 250]], 271: [[454, 250]], 272: [[441, 249]], 273: [[431, 237]], 274: [[432, 238]], 275: [[421, 227]], 276: [[411, 217]], 277: [[401, 209]], 278: [[390, 202]], 279: [[387, 197]], 281: [[400, 192]], 282: [[365, 189]], 283: [[418, 184]], 284: [[428, 186]], 285: [[436, 188]], 286: [[435, 187]], 287: [[444, 192]], 288: [[450, 192]], 289: [[460, 200]], 290: [[467, 204]], 291: [[476, 212]], 297: [[492, 128]], 301: [[504, 78]], 302: [[509, 67]], 303: [[514, 48]], 305: [[516, 32]], 306: [[522, 20]], 307: [[526, 7]], 308: [[776, 234]], 337: [[681, 13]], 338: [[689, 31]], 339: [[698, 49]], 341: [[704, 66]], 342: [[712, 88]], 343: [[722, 110]], 344: [[730, 134]], 345: [[738, 160]], 347: [[746, 184]], 350: [[770, 272]], 354: [[783, 346]], 355: [[764, 332]], 360: [[698, 296]], 361: [[684, 292]], 362: [[670, 288]], 363: [[656, 286]], 364: [[656, 286]], 365: [[641, 284]], 366: [[629, 281]], 367: [[617, 282]], 368: [[604, 282]], 369: [[594, 286]], 370: [[594, 286]], 371: [[584, 288]], 372: [[571, 291]], 373: [[560, 292]], 374: [[552, 286]], 375: [[544, 272]], 378: [[550, 256]], 379: [[558, 254]], 381: [[576, 248]], 383: [[585, 249]], 384: [[596, 250]], 385: [[602, 248]], 387: [[625, 253]], 388: [[624, 252]], 389: [[636, 258]], 390: [[647, 263]], 391: [[657, 269]], 392: [[669, 275]], 393: [[680, 284]], 394: [[678, 280]], 395: [[694, 290]], 397: [[716, 316]], 398: [[728, 328]], 399: [[742, 344]], 400: [[740, 342]], 403: [[722, 336]], 404: [[701, 320]], 405: [[683, 306]], 407: [[664, 296]], 408: [[646, 284]], 409: [[625, 275]], 410: [[610, 268]], 411: [[596, 262]], 412: [[597, 263]], 413: [[580, 254]], 425: [[487, 263]], 426: [[482, 270]], 427: [[473, 278]], 428: [[470, 286]], 429: [[462, 296]], 430: [[463, 295]], 431: [[456, 308]], 432: [[450, 318]], 437: [[479, 296]], 439: [[504, 272]], 440: [[518, 266]], 444: [[552, 240]], 445: [[562, 234]], 446: [[572, 230]], 447: [[582, 226]], 448: [[582, 226]], 449: [[592, 226]], 450: [[601, 223]], 451: [[608, 228]], 453: [[604, 252]], 454: [[606, 254]], 455: [[604, 270]], 456: [[604, 286]], 458: [[602, 322]], 459: [[602, 340]], 460: [[601, 341]], 461: [[598, 364]], 462: [[600, 388]], 463: [[588, 378]], 464: [[572, 356]], 465: [[562, 342]], 466: [[560, 340]], 467: [[549, 327]], 468: [[537, 312]], 473: [[492, 271]], 474: [[482, 260]], 475: [[470, 254]], 476: [[460, 252]], 477: [[452, 250]], 478: [[450, 246]], 479: [[442, 246]], 480: [[434, 244]], 481: [[426, 244]], 482: [[418, 244]], 483: [[410, 246]], 484: [[409, 246]], 485: [[400, 246]], 486: [[394, 250]], 487: [[386, 250]], 488: [[378, 256]], 489: [[374, 264]], 491: [[368, 267]], 492: [[362, 276]], 493: [[356, 276]], 494: [[358, 268]], 495: [[362, 262]], 504: [[384, 232]], 505: [[388, 234]], 506: [[390, 234]], 507: [[392, 234]], 508: [[392, 234]], 509: [[398, 238]], 510: [[400, 240]], 511: [[402, 244]], 512: [[407, 250]], 513: [[408, 254]], 514: [[525, 120]], 516: [[410, 247]], 517: [[408, 244]], 518: [[547, 80]], 519: [[405, 235]], 520: [[406, 236]], 521: [[402, 232]], 522: [[400, 230]], 523: [[397, 228]], 524: [[398, 228]], 525: [[396, 232]], 526: [[398, 230]], 527: [[396, 232]], 528: [[395, 235]], 529: [[392, 236]], 530: [[391, 242]], 531: [[390, 234]], 532: [[392, 236]], 533: [[392, 232]], 534: [[390, 226]], 535: [[391, 226]], 536: [[390, 224]], 540: [[774, 120]], 547: [[510, 58]], 553: [[561, 313]], 554: [[150, 632]], 555: [[560, 352]], 556: [[560, 352]], 557: [[560, 356]], 558: [[140, 650]], 559: [[560, 366]], 560: [[562, 366]], 561: [[132, 664]], 562: [[132, 664]], 563: [[658, 650]], 564: [[660, 654]], 565: [[664, 656]], 566: [[562, 380]], 567: [[304, 334]], 568: [[562, 383]], 569: [[123, 681]], 570: [[122, 682]], 571: [[565, 385]], 572: [[557, 357]], 573: [[684, 674]], 574: [[120, 694]], 575: [[555, 363]], 576: [[922, 582]], 577: [[117, 705]], 578: [[563, 404]], 579: [[561, 409]], 581: [[380, 372]], 582: [[698, 710]], 583: [[303, 555]], 584: [[936, 616]], 585: [[936, 622]], 586: [[286, 572]], 587: [[936, 628]], 588: [[936, 632]], 589: [[936, 638]], 590: [[934, 646]], 591: [[928, 657]], 592: [[220, 605]], 593: [[926, 660]], 594: [[919, 669]], 598: [[146, 644]], 599: [[170, 452]], 600: [[161, 464]], 601: [[138, 682]], 602: [[141, 694]], 603: [[147, 707]], 604: [[147, 705]], 608: [[246, 522]], 611: [[1269, 541]], 614: [[460, 138]], 619: [[776, 506]], 626: [[230, 508]], 629: [[236, 508]], 634: [[808, 580]], 648: [[667, 712]], 649: [[1275, 705]], 650: [[857, 391]], 652: [[238, 610]], 654: [[246, 594]], 662: [[655, 458]], 665: [[408, 467]], 674: [[1049, 625]], 677: [[259, 711]], 681: [[400, 526]], 692: [[193, 707]], 693: [[194, 704]], 694: [[195, 706]], 705: [[744, 45]], 706: [[816, 416]], 707: [[170, 700]], 708: [[172, 701]], 709: [[173, 705]], 710: [[176, 708]], 711: [[884, 458]], 712: [[171, 705]], 713: [[855, 439]], 714: [[953, 541]], 715: [[170, 700]], 716: [[173, 706]], 718: [[172, 706]], 719: [[173, 709]], 721: [[174, 702]], 722: [[174, 702]], 736: [[615, 429]], 737: [[618, 436]], 741: [[795, 707]], 743: [[429, 613]], 745: [[740, 687]], 746: [[722, 672]], 747: [[706, 663]], 748: [[709, 662]], 750: [[675, 654]], 751: [[250, 628]], 752: [[640, 650]], 753: [[624, 650]], 754: [[624, 650]], 755: [[606, 648]], 756: [[588, 646]], 757: [[566, 640]], 758: [[543, 632]], 759: [[526, 629]], 760: [[527, 627]], 761: [[335, 656]], 766: [[282, 416]], 773: [[401, 607]], 815: [[591, 416]], 816: [[583, 415]], 833: [[1182, 418]], 834: [[1181, 420]], 839: [[1168, 425]], 844: [[432, 614]], 848: [[790, 418]], 849: [[790, 421]], 850: [[792, 418]], 851: [[782, 696]], 852: [[726, 622]], 853: [[726, 628]], 854: [[737, 644]], 856: [[395, 597]], 869: [[324, 712]], 872: [[714, 646]], 879: [[253, 119]], 881: [[350, 450]], 883: [[802, 236]], 885: [[813, 245]], 906: [[112, 650]], 948: [[811, 466]], 954: [[670, 404]], 956: [[646, 404]], 957: [[637, 407]], 962: [[881, 240]], 970: [[602, 412]], 973: [[401, 457]], 986: [[390, 508]], 1048: [[847, 451]], 1055: [[395, 361]], 1077: [[942, 712]], 1078: [[942, 713]], 1079: [[934, 711]], 1085: [[800, 599]], 1086: [[655, 511]], 1090: [[839, 471]], 1091: [[838, 482]], 1092: [[836, 496]], 1093: [[836, 510]], 1095: [[834, 498]], 1097: [[830, 486]], 1098: [[832, 478]], 1099: [[831, 469]], 1100: [[827, 464]], 1101: [[836, 386]], 1103: [[826, 451]], 1104: [[825, 447]], 1111: [[714, 372]], 1112: [[730, 409]], 1113: [[657, 338]], 1114: [[658, 338]], 1115: [[629, 321]], 1116: [[610, 310]], 1117: [[584, 294]], 1118: [[565, 287]], 1119: [[544, 278]], 1120: [[546, 278]], 1121: [[527, 272]], 1122: [[512, 266]], 1123: [[496, 262]], 1124: [[481, 257]], 1125: [[465, 253]], 1129: [[428, 250]], 1130: [[416, 248]], 1131: [[406, 250]], 1134: [[388, 248]], 1135: [[380, 236]], 1136: [[377, 225]], 1137: [[365, 220]], 1139: [[391, 214]], 1140: [[398, 208]], 1141: [[408, 206]], 1142: [[417, 205]], 1148: [[424, 204]], 1149: [[424, 206]], 1150: [[424, 206]], 1151: [[424, 208]], 1152: [[424, 212]], 1153: [[424, 216]], 1154: [[422, 222]], 1155: [[423, 231]], 1156: [[424, 230]], 1157: [[425, 238]], 1158: [[424, 248]], 1159: [[426, 260]], 1160: [[425, 271]], 1161: [[427, 285]], 1163: [[427, 297]], 1164: [[428, 314]], 1165: [[428, 331]], 1166: [[430, 348]], 1171: [[466, 326]], 1172: [[479, 317]], 1175: [[502, 292]], 1176: [[514, 282]], 1177: [[521, 276]], 1178: [[532, 266]], 1179: [[542, 262]], 1180: [[540, 260]], 1181: [[550, 256]], 1183: [[569, 249]], 1184: [[578, 246]], 1185: [[586, 244]], 1186: [[585, 246]], 1187: [[592, 242]], 1188: [[600, 244]], 1189: [[608, 246]], 1190: [[614, 246]], 1191: [[618, 248]], 1192: [[618, 246]], 1193: [[628, 252]], 1194: [[632, 254]], 1195: [[636, 248]], 1196: [[640, 240]], 1197: [[644, 233]], 1198: [[644, 233]], 1199: [[648, 226]], 1200: [[648, 220]]}\n"
          ]
        }
      ]
    },
    {
      "cell_type": "markdown",
      "source": [
        "#Analisis"
      ],
      "metadata": {
        "id": "-z7uj-1RjlzM"
      }
    },
    {
      "cell_type": "code",
      "source": [
        "print(len(person_results))\n",
        "print(len(ball_pos))"
      ],
      "metadata": {
        "colab": {
          "base_uri": "https://localhost:8080/"
        },
        "id": "R_UOApbDjn6f",
        "outputId": "ee10450b-ded5-4cfa-dabf-b08c6afac6e0"
      },
      "execution_count": 42,
      "outputs": [
        {
          "output_type": "stream",
          "name": "stdout",
          "text": [
            "1391\n",
            "547\n"
          ]
        }
      ]
    },
    {
      "cell_type": "code",
      "source": [
        "import numpy as np\n",
        "import cv2\n",
        "\n",
        "def plot_court(img):\n",
        "  vis_img = cv2.polylines(img, np.int32([pista_campo_fondo]), True, (255,150,255),3)\n",
        "  vis_img = cv2.polylines(img, np.int32([pista_campo_cerca]), True, (255,70,255),3)\n",
        "  return vis_img\n",
        "\n",
        "image = cv2.imread('/content/gdrive/MyDrive/Colab Notebooks/mmpose/last_img.png')\n",
        "cv2.imwrite('/content/gdrive/MyDrive/Colab Notebooks/mmpose/last_img_court.png', plot_court(image))"
      ],
      "metadata": {
        "colab": {
          "base_uri": "https://localhost:8080/"
        },
        "id": "BT9Ehwouy39y",
        "outputId": "b4cb387d-eef2-488b-c4c6-f65c7e50cd50"
      },
      "execution_count": 43,
      "outputs": [
        {
          "output_type": "execute_result",
          "data": {
            "text/plain": [
              "True"
            ]
          },
          "metadata": {},
          "execution_count": 43
        }
      ]
    },
    {
      "cell_type": "code",
      "source": [
        "import numpy as np\n",
        "import matplotlib.path as mpltPath\n",
        "import math\n",
        "import random\n",
        "def rectangle_dist(bbox1, bbox2):\n",
        "  if len(bbox1)>=4 and len(bbox2)>=4:\n",
        "    c1 = [(bbox1[0]+bbox1[2])/2, (bbox1[1]+bbox1[3])/2]\n",
        "    c2 = [(bbox2[0]+bbox2[2])/2, (bbox2[1]+bbox2[3])/2]\n",
        "    d =  math.sqrt( (bbox2[0] - bbox1[0])**2 + (bbox2[1] - bbox1[1])**2 )\n",
        "    d += math.sqrt( (bbox2[0] - bbox1[0])**2 + (bbox2[3] - bbox1[3])**2 )\n",
        "    d += math.sqrt( (bbox2[2] - bbox1[2])**2 + (bbox2[1] - bbox1[1])**2 )\n",
        "    d += math.sqrt( (bbox2[2] - bbox1[2])**2 + (bbox2[3] - bbox1[3])**2 )\n",
        "    if d == 0:\n",
        "      return d+random.random()/100\n",
        "    return d/4\n",
        "  elif len(bbox1)>=2 and len(bbox2)>=2:\n",
        "    c1, c2 = bbox1, bbox2\n",
        "    return math.sqrt( (c2[0] - c1[0])**2 + (c2[1] - c1[1])**2 )\n",
        "  else:\n",
        "    return None\n",
        "\n",
        "pista = mpltPath.Path(pista_aristas)\n",
        "#pista_c0 = mpltPath.Path(pista_campo_cerca)\n",
        "\n",
        "def persons_in_court(persons, pista):\n",
        "  players=[]\n",
        "  for i in range(len(persons)):\n",
        "    p = persons[i]\n",
        "    if pista.contains_points([[p['bbox'][2],p['bbox'][3]]]) or \\\n",
        "        pista.contains_points([[p['bbox'][0],p['bbox'][3]]]):\n",
        "      players.append(i)\n",
        "      if len(players) == 4:\n",
        "        break\n",
        "  return [persons[i]['bbox'] for i in range(len(persons)) if i in players], \\\n",
        "          [persons[i]['bbox'] for i in range(len(persons)) if i not in players]\n",
        "\n",
        "#players_box = []\n",
        "#for f in person_results:\n",
        "#  players_box.append(persons_in_court(f, pista))\n",
        "#print(players_box)\n",
        "  #print(p['bbox'])\n",
        "\n",
        "#cv2.putText(img, str(i), (p['bbox'][0],p['bbox'][3]), cv2.FONT_HERSHEY_SIMPLEX, 0.5, (10, 255, 0), 1, cv2.LINE_AA)\n",
        "#players_box\n",
        "#cv2.imwrite('/content/gdrive/MyDrive/Colab Notebooks/mmpose/last_img_court.png', img)\n",
        "#path.contains_points([(100,100)])"
      ],
      "metadata": {
        "id": "1DDM_6zPuz8A"
      },
      "execution_count": 44,
      "outputs": []
    },
    {
      "cell_type": "markdown",
      "source": [
        "## Track jugador cercano"
      ],
      "metadata": {
        "id": "iwGPfSdy3wuB"
      }
    },
    {
      "cell_type": "code",
      "source": [
        "\n",
        "import copy\n",
        "def identify_players(persons, last_players, pista, debug = False):\n",
        "  distances = []\n",
        "  if len(persons) == 0:\n",
        "    return []\n",
        "  \n",
        "  p_in_court, p_not_in_court = persons_in_court(persons, pista)\n",
        "  if debug: print(\"--->debug call identify_players\")\n",
        "  if debug: print(len(last_players))\n",
        "  if len(last_players) == 0:\n",
        "    return [np.append(p_in_court[i], int(i)) for i in range(len(p_in_court))]\n",
        "  \n",
        "  players = []\n",
        "  \n",
        "  if len(p_in_court) > 0: #Asignar los jugadores dentro de la pista con su posición previa más cercana\n",
        "    candidates = p_in_court\n",
        "    distances_m = np.array([[rectangle_dist(p, person) for person in candidates] for p in last_players])\n",
        "    while distances_m.size >0 and len(players) < 4 and distances_m.min() < 30:\n",
        "      if debug: print(distances_m)\n",
        "      distances_min = distances_m.min()\n",
        "      if debug: print(distances_min)\n",
        "      ij_min = np.where(distances_m == distances_min)\n",
        "      \n",
        "      (i_min,j_min) = tuple([i.item() for i in ij_min])\n",
        "\n",
        "      pl = candidates[j_min] \n",
        "      pl = np.append(pl, last_players[i_min][5])\n",
        "      pl = np.append(pl, distances_min)\n",
        "      players.append(pl)\n",
        "      if debug: print(\"player \"+str(pl[5])+\" localizado dentro de pista\")\n",
        "      if debug:print(last_players[i_min])\n",
        "      if debug:print(candidates[j_min])\n",
        "      #if debug:print((i_min,j_min))\n",
        "      #distances_m = np.delete(distances_m, i_min, 0)\n",
        "      #distances_m = np.delete(distances_m, j_min, 1)\n",
        "      del last_players[i_min]\n",
        "      del candidates[j_min]\n",
        "      distances_m = np.array([[rectangle_dist(p, person) for person in candidates] for p in last_players])\n",
        "    if len(last_players) == 0:\n",
        "      while len(p_in_court) > 0 and len(players) < 4: #nuevos jugadores\n",
        "        new_id = [i for i in range(4) if i not in [p[5] for p in players]][0]\n",
        "        pl = np.append(p_in_court[0], new_id)\n",
        "        pl = np.append(pl, -1)\n",
        "        players.append(pl)\n",
        "        if debug: print(\"nuevo player \"+str(pl[5])+\" detectado\")\n",
        "        del p_in_court[0]\n",
        "  \n",
        "  candidates = p_not_in_court\n",
        "  if len(candidates) > 0 and len(last_players) > 0 and len(players) < 4: #buscar jugadores fuera de pista\n",
        "    distances_m = np.array([[rectangle_dist(p, person) for person in candidates] for p in last_players])\n",
        "    while distances_m.size >0 and len(players) < 4 and distances_m.min() < 30:\n",
        "      distances_min = distances_m.min()\n",
        "      ij_min = np.where(distances_m == distances_min)\n",
        "      \n",
        "      #print(distances_min)\n",
        "      i_min, j_min = tuple([i.item() for i in ij_min])\n",
        "\n",
        "      pl = candidates[j_min] \n",
        "      pl = np.append(pl, last_players[i_min][5])\n",
        "      pl = np.append(pl, distances_min)\n",
        "      players.append(pl)\n",
        "      if debug: print(\"player \"+str(pl[5])+\" localizado dentro de pista\")\n",
        "      if debug:print(last_players[i_min])\n",
        "      if debug:print(candidates[j_min])\n",
        "      #if debug:print((i_min,j_min))\n",
        "      #distances_m = np.delete(distances_m, i_min, 0)\n",
        "      #distances_m = np.delete(distances_m, j_min, 1)\n",
        "      del last_players[i_min]\n",
        "      del candidates[j_min]\n",
        "      distances_m = np.array([[rectangle_dist(p, person) for person in candidates] for p in last_players])\n",
        "    \n",
        "  return players\n",
        "\n",
        "\n",
        "players_box = [[]]\n",
        "for i in range(len(person_results)):\n",
        "  players_box.append(identify_players(copy.deepcopy(person_results[i]), copy.deepcopy(players_box[-1]) if len(players_box)>0 else [], pista, False))\n",
        "#  print(\"players frame \"+str(i)+\":\")\n",
        "#  print(players_box[i])\n",
        "#print(players_box[1351])\n",
        "#print(players_box[1352])\n",
        "#print(max([max([p[-1] for p in per]) for per in players_box if per != []]))"
      ],
      "metadata": {
        "id": "xKdCmRRMRtzs"
      },
      "execution_count": 45,
      "outputs": []
    },
    {
      "cell_type": "markdown",
      "source": [
        "### Procesado de pista y detector de plano central"
      ],
      "metadata": {
        "id": "4UielLq_r69R"
      }
    },
    {
      "cell_type": "code",
      "source": [
        "import math\n",
        "import numpy as np\n",
        "import pandas as pd\n",
        "import cv2\n",
        "from skimage import io\n",
        "from google.colab.patches import cv2_imshow # for image display\n",
        "from PIL import Image \n",
        "import matplotlib.pylab as plt\n",
        "from keras.preprocessing import image\n",
        "\n",
        "t_points = [[637, 251], [637, 518], 25]\n",
        "\n",
        "def avg(lst):\n",
        "    return sum(lst)/len(lst)\n",
        "\n",
        "def group_similar_lines(lines, v_h = 0):\n",
        "  res_lines = []\n",
        "  for l in lines:\n",
        "    dist = [[abs((l[0+v_h]+l[2+v_h])/2 - avg([(s[0+v_h]+s[2+v_h])/2 for s in res_lines[i]])) , i] for i in range(len(res_lines))]\n",
        "    if dist != []:\n",
        "      dist.sort(key=lambda a: a[0])\n",
        "      if dist[0][0] < 5:\n",
        "        res_lines[dist[0][1]].append(l)\n",
        "      else:\n",
        "        res_lines.append([l])\n",
        "    else:\n",
        "      res_lines.append([l])\n",
        "  res = []\n",
        "  for g in res_lines:\n",
        "    x = int(round(avg([(l[0+v_h]+l[2+v_h])/2 for l in g]), 0))\n",
        "    width = max([max(l[0+v_h],l[2+v_h]) for l in g]) - min([min(l[0+v_h],l[2+v_h]) for l in g])   \n",
        "    y_min = int(round(min([min([l[1-v_h],l[3-v_h]]) for l in g]), 0))\n",
        "    y_max = int(round(max([max([l[1-v_h],l[3-v_h]]) for l in g]), 0))\n",
        "    if v_h==0: #vertical line\n",
        "      res.append([x, y_min, x, y_max, width])\n",
        "    else: #horizontal line\n",
        "      res.append([y_min, x, y_max, x, width])\n",
        "  return res\n",
        "\n",
        "def line_intersection_vh(line_v, line_h):\n",
        "    if line_v[0] <= max(line_h[0], line_h[2]) and \\\n",
        "        line_v[0] >= min(line_h[0], line_h[2]) and \\\n",
        "        line_h[1] <= max(line_v[1], line_v[3]) and \\\n",
        "        line_h[1] >= min(line_v[1], line_v[3]):\n",
        "      return [line_v[0], line_h[1]]\n",
        "    return None\n",
        "\n",
        "def is_central_camera(img, search_intersection=False, plot=False):\n",
        "  dst = cv2.Canny(img, 50, 200, None, 3)\n",
        "   \n",
        "  # Copy edges to the images that will display the results in BGR\n",
        "  #cdst = cv.cvtColor(img, cv.COLOR_GRAY2BGR)\n",
        "  #cdstP = np.copy(cdst)\n",
        "  #cv2_imshow( cdstP)\n",
        "    \n",
        "  #lines = cv2.HoughLines(dst, 1, np.pi / 180, 150, None, 0, 0)\n",
        "    \n",
        "  #if lines is not None:\n",
        "  #  for i in range(0, len(lines)):\n",
        "  #    rho = lines[i][0][0]\n",
        "  #    theta = lines[i][0][1]\n",
        "  #    a = math.cos(theta)\n",
        "  #    b = math.sin(theta)\n",
        "  #    x0 = a * rho\n",
        "  #    y0 = b * rho\n",
        "  #    pt1 = (int(x0 + 1000*(-b)), int(y0 + 1000*(a)))\n",
        "  #    pt2 = (int(x0 - 1000*(-b)), int(y0 - 1000*(a)))\n",
        "  #    cv.line(cdst, pt1, pt2, (0,255,0), 3, cv.LINE_AA)\n",
        "\n",
        "  linesP = cv2.HoughLinesP(dst, 1, np.pi / 180, 50, None, 50, 10)\n",
        "  instersection = []\n",
        "  if linesP is not None:\n",
        "    h_lines = [l[0] for l in linesP if abs(l[0][1]-l[0][3])<3]\n",
        "    v_lines = [l[0] for l in linesP if abs(l[0][0]-l[0][2])<3]\n",
        "    \n",
        "    v_lines = group_similar_lines(v_lines)\n",
        "    h_lines = group_similar_lines(h_lines, 1)\n",
        "    \n",
        "    if plot:\n",
        "      for i in range(0, len(v_lines)):\n",
        "        #print(linesP[i])\n",
        "        l = v_lines[i]\n",
        "        img = cv2.line(img, (l[0], l[1]), (l[2], l[3]), (0,255,100), 3, cv2.LINE_AA)\n",
        "        #cv2.putText(img, str(i), (l[2], l[3]), cv2.FONT_HERSHEY_SIMPLEX, 1, (0,255,100), 2, cv2.LINE_AA)\n",
        "      for i in range(0, len(h_lines)):\n",
        "        #print(linesP[i])\n",
        "        l = h_lines[i]\n",
        "        img = cv2.line(img, (l[0], l[1]), (l[2], l[3]), (0,255,0), 3, cv2.LINE_AA)\n",
        "        #cv2.putText(img, str(i), (l[2], l[3]), cv2.FONT_HERSHEY_SIMPLEX, 1, (0,255,0), 2, cv2.LINE_AA)\n",
        "        #print(v_lines)\n",
        "    if search_intersection:\n",
        "      for v in v_lines:\n",
        "        for h in h_lines:\n",
        "          instersection.append(line_intersection_vh(v, h))\n",
        "      instersection = [i for i in instersection if i]\n",
        "      if instersection != []:\n",
        "        t_point_detected = 0\n",
        "        for p in instersection:\n",
        "          cv2.circle(img, (int(p[0]), int(p[1])), 8, (0,0,255), -1)\n",
        "          if rectangle_dist(p, t_points[0]) < t_points[2] or \\\n",
        "              rectangle_dist(p, t_points[1]) < t_points[2]:\n",
        "              t_point_detected +=1\n",
        "        #print(t_point_detected)\n",
        "        cv2_imshow(img)\n",
        "        if t_point_detected >= 2:\n",
        "          return img, True\n",
        "    else: # search lines\n",
        "      found_v, found_h = False, False\n",
        "      for v in v_lines:\n",
        "        if v[0] < t_points[0][0]+ t_points[2] and \\\n",
        "           v[0] > t_points[0][0] - t_points[2] and \\\n",
        "           abs(v[3]-v[1]) > 100:\n",
        "           found_v = True\n",
        "           break\n",
        "      for h in h_lines:\n",
        "        if ((h[1] < t_points[0][1]+ t_points[2] and \\\n",
        "           h[1] > t_points[0][1] - t_points[2]) or \\\n",
        "           (h[1] < t_points[1][1]+ t_points[2] and \\\n",
        "           h[1] > t_points[1][1] - t_points[2])) and \\\n",
        "           abs(h[2]-h[0]) > 100:\n",
        "           found_h = True\n",
        "           break\n",
        "      if found_v and found_h:\n",
        "        print(str(len(v_lines)+len(h_lines))+ \" True\")\n",
        "        return img, True\n",
        "  print(str(len(v_lines)+len(h_lines))+ \" False\")\n",
        "  return img, False\n",
        "    \n"
      ],
      "metadata": {
        "id": "VOVGDoRyr4_T"
      },
      "execution_count": 46,
      "outputs": []
    },
    {
      "cell_type": "markdown",
      "source": [
        "# Imprimir resultado a video"
      ],
      "metadata": {
        "id": "sLGLzKvVr0oz"
      }
    },
    {
      "cell_type": "code",
      "source": [
        "import cv2\n",
        "def plot_players(img, players):\n",
        "  i = 1\n",
        "  for p in players:\n",
        "    img = cv2.rectangle(img, (int(p[0]), int(p[1])), (int(p[2]), int(p[3])), (255,0,0), 2)\n",
        "    cv2.putText(img, str(p[5]), (int(p[2]),int(p[3])), cv2.FONT_HERSHEY_SIMPLEX, 0.7, (10, 255, 0), 1, cv2.LINE_AA)\n",
        "    cv2.putText(img, str(round(p[-1],2)), (int((p[2]+p[0]-6)/2),int(p[1]-4)), cv2.FONT_HERSHEY_SIMPLEX, 0.5, (10, 255, 0), 1, cv2.LINE_AA)\n",
        "    i += 1\n",
        "  return img\n",
        "\n",
        "def plot_ball(img, ball):\n",
        "  center = (int(ball[0]), int(ball[1]))\n",
        "  img = cv2.circle(img, center, 5, (0,0,255), 2)\n",
        "  if len(ball)>2:\n",
        "    speed = (int(ball[0]+1.5*ball[2][0]), int(ball[1]+1.5*ball[2][1]))\n",
        "    img = cv2.arrowedLine(img, center, speed, (0,0,200), 2)\n",
        "  return img\n",
        "\n",
        "#players_box = [[p['bbox'] for p in per] for per in person_results]\n",
        "\n",
        "video_path = path+input_name+'.mp4'\n",
        "out_video_root = path+'vis_'+input_name+'.mp4'\n",
        "print(out_video_root)\n",
        "cap = cv2.VideoCapture(video_path)\n",
        "fps = cap.get(cv2.CAP_PROP_FPS)\n",
        "size = (int(cap.get(cv2.CAP_PROP_FRAME_WIDTH)), int(cap.get(cv2.CAP_PROP_FRAME_HEIGHT)))\n",
        "fourcc = cv2.VideoWriter_fourcc(*'mp4v')\n",
        "videoWriter = cv2.VideoWriter(out_video_root, fourcc, fps, size)\n",
        "i = 0\n",
        "while (cap.isOpened()):\n",
        "        flag, img = cap.read()\n",
        "        if not flag:\n",
        "            break\n",
        "        #modify img\n",
        "        vis_img = img\n",
        "        if not i%20:\n",
        "          vis_img, camera_flag = is_central_camera(vis_img)\n",
        "        if camera_flag:\n",
        "          cv2.putText(vis_img, str(i), (100,200), cv2.FONT_HERSHEY_SIMPLEX, 1, (10, 255, 0), 1, cv2.LINE_AA)\n",
        "        else:\n",
        "          cv2.putText(vis_img, str(i), (100,200), cv2.FONT_HERSHEY_SIMPLEX, 1, (153, 0, 0), 1, cv2.LINE_AA)\n",
        "        vis_img = plot_court(vis_img)\n",
        "        \n",
        "        if i < len(players_box):\n",
        "          vis_img = plot_players(vis_img, players_box[i])\n",
        "        if i in ball_pos:\n",
        "          vis_img = plot_ball(vis_img, ball_pos[i][0])\n",
        "\n",
        "        #save img\n",
        "        videoWriter.write(vis_img)\n",
        "        i += 1\n",
        "cap.release()\n",
        "videoWriter.release()"
      ],
      "metadata": {
        "id": "OkMl7DtcvKZi",
        "colab": {
          "base_uri": "https://localhost:8080/"
        },
        "outputId": "1a822e2c-9c1e-4137-c00e-f278f5b33c8d"
      },
      "execution_count": 47,
      "outputs": [
        {
          "output_type": "stream",
          "name": "stdout",
          "text": [
            "/content/gdrive/MyDrive/PadelData/vis_FinalQatar_PremierPadel_Trim.mp4\n",
            "56 True\n",
            "58 True\n",
            "14 False\n",
            "10 False\n",
            "14 False\n",
            "12 False\n",
            "17 True\n",
            "59 True\n",
            "60 True\n",
            "58 True\n",
            "57 True\n",
            "58 True\n",
            "57 True\n",
            "63 True\n",
            "55 True\n",
            "56 True\n",
            "58 True\n",
            "51 True\n",
            "60 True\n",
            "56 True\n",
            "57 True\n",
            "56 True\n",
            "58 True\n",
            "58 True\n",
            "53 True\n",
            "55 True\n",
            "56 True\n",
            "57 True\n",
            "15 False\n",
            "15 False\n",
            "14 False\n",
            "17 False\n",
            "10 False\n",
            "9 False\n",
            "9 False\n",
            "12 False\n",
            "10 False\n",
            "10 False\n",
            "10 False\n",
            "13 False\n",
            "13 False\n",
            "11 False\n",
            "14 False\n",
            "18 False\n",
            "8 False\n",
            "8 False\n",
            "11 False\n",
            "11 False\n",
            "10 False\n",
            "16 False\n",
            "10 False\n",
            "15 False\n",
            "12 False\n",
            "16 False\n",
            "14 False\n",
            "58 True\n",
            "58 True\n",
            "53 True\n",
            "58 True\n",
            "60 True\n",
            "59 True\n",
            "59 True\n",
            "56 True\n",
            "60 True\n",
            "64 True\n",
            "56 True\n",
            "57 True\n",
            "61 True\n",
            "61 True\n",
            "60 True\n"
          ]
        }
      ]
    }
  ]
}