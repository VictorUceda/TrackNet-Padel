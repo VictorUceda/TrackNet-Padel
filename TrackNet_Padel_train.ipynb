{
  "nbformat": 4,
  "nbformat_minor": 0,
  "metadata": {
    "colab": {
      "name": "TrackNet_Padel.ipynb",
      "provenance": [],
      "collapsed_sections": [],
      "include_colab_link": true
    },
    "kernelspec": {
      "name": "python3",
      "display_name": "Python 3"
    },
    "language_info": {
      "name": "python"
    },
    "accelerator": "GPU"
  },
  "cells": [
    {
      "cell_type": "markdown",
      "metadata": {
        "id": "view-in-github",
        "colab_type": "text"
      },
      "source": [
        "<a href=\"https://colab.research.google.com/github/VictorUceda/TrackNet-Padel/blob/main/TrackNet_Padel_train.ipynb\" target=\"_parent\"><img src=\"https://colab.research.google.com/assets/colab-badge.svg\" alt=\"Open In Colab\"/></a>"
      ]
    },
    {
      "cell_type": "code",
      "source": [
        "!nvidia-smi"
      ],
      "metadata": {
        "id": "50iBZugzyWYZ",
        "outputId": "b41f1f76-6826-4c8f-f25a-d616ea0b5e49",
        "colab": {
          "base_uri": "https://localhost:8080/"
        }
      },
      "execution_count": 1,
      "outputs": [
        {
          "output_type": "stream",
          "name": "stdout",
          "text": [
            "Wed Jun  8 12:26:58 2022       \n",
            "+-----------------------------------------------------------------------------+\n",
            "| NVIDIA-SMI 460.32.03    Driver Version: 460.32.03    CUDA Version: 11.2     |\n",
            "|-------------------------------+----------------------+----------------------+\n",
            "| GPU  Name        Persistence-M| Bus-Id        Disp.A | Volatile Uncorr. ECC |\n",
            "| Fan  Temp  Perf  Pwr:Usage/Cap|         Memory-Usage | GPU-Util  Compute M. |\n",
            "|                               |                      |               MIG M. |\n",
            "|===============================+======================+======================|\n",
            "|   0  Tesla P100-PCIE...  Off  | 00000000:00:04.0 Off |                    0 |\n",
            "| N/A   44C    P0    29W / 250W |      0MiB / 16280MiB |      0%      Default |\n",
            "|                               |                      |                  N/A |\n",
            "+-------------------------------+----------------------+----------------------+\n",
            "                                                                               \n",
            "+-----------------------------------------------------------------------------+\n",
            "| Processes:                                                                  |\n",
            "|  GPU   GI   CI        PID   Type   Process name                  GPU Memory |\n",
            "|        ID   ID                                                   Usage      |\n",
            "|=============================================================================|\n",
            "|  No running processes found                                                 |\n",
            "+-----------------------------------------------------------------------------+\n"
          ]
        }
      ]
    },
    {
      "cell_type": "markdown",
      "source": [
        "### Inicializacion"
      ],
      "metadata": {
        "id": "j1A8stAxXK23"
      }
    },
    {
      "cell_type": "code",
      "execution_count": 2,
      "metadata": {
        "colab": {
          "base_uri": "https://localhost:8080/"
        },
        "id": "Q8g7zdD0a-o4",
        "outputId": "ac6fca92-e279-4cf7-90bf-baadb6edc793"
      },
      "outputs": [
        {
          "output_type": "stream",
          "name": "stdout",
          "text": [
            "Mounted at /content/gdrive\n"
          ]
        }
      ],
      "source": [
        "from google.colab import drive\n",
        "drive.mount('/content/gdrive')"
      ]
    },
    {
      "cell_type": "code",
      "source": [
        "import os \n",
        "os.chdir('/content/')\n",
        "\n",
        "!git clone https://github.com/VictorUceda/TrackNet-Padel.git\n",
        "#!git clone https://github.com/Chang-Chia-Chi/TrackNet-Badminton-Tracking-tensorflow2\n",
        "os.chdir('/content/TrackNet-Padel/')\n",
        "!git pull"
      ],
      "metadata": {
        "id": "lYG3TpaZfjSN",
        "outputId": "34dc306f-4c64-4dc1-f6ad-a02185018587",
        "colab": {
          "base_uri": "https://localhost:8080/"
        }
      },
      "execution_count": 83,
      "outputs": [
        {
          "output_type": "stream",
          "name": "stdout",
          "text": [
            "fatal: destination path 'TrackNet-Padel' already exists and is not an empty directory.\n",
            "remote: Enumerating objects: 12, done.\u001b[K\n",
            "remote: Counting objects: 100% (12/12), done.\u001b[K\n",
            "remote: Compressing objects: 100% (9/9), done.\u001b[K\n",
            "remote: Total 9 (delta 6), reused 0 (delta 0), pack-reused 0\u001b[K\n",
            "Unpacking objects: 100% (9/9), done.\n",
            "From https://github.com/VictorUceda/TrackNet-Padel\n",
            "   8990040..4b71369  main       -> origin/main\n",
            "Updating 8990040..4b71369\n",
            "Fast-forward\n",
            " train2.py | 5 \u001b[32m++\u001b[m\u001b[31m---\u001b[m\n",
            " utils.py  | 3 \u001b[31m---\u001b[m\n",
            " 2 files changed, 2 insertions(+), 6 deletions(-)\n"
          ]
        }
      ]
    },
    {
      "cell_type": "markdown",
      "source": [
        ""
      ],
      "metadata": {
        "id": "bY2m7mhhk9hn"
      }
    },
    {
      "cell_type": "code",
      "source": [
        "!pip3 install filterpy sktime piexif imutils Pillow focal_loss"
      ],
      "metadata": {
        "id": "cmHZLk7zgQVr",
        "colab": {
          "base_uri": "https://localhost:8080/"
        },
        "outputId": "b93ebb8b-40db-492a-c546-4b609b473d40"
      },
      "execution_count": 4,
      "outputs": [
        {
          "output_type": "stream",
          "name": "stdout",
          "text": [
            "Looking in indexes: https://pypi.org/simple, https://us-python.pkg.dev/colab-wheels/public/simple/\n",
            "Collecting filterpy\n",
            "  Downloading filterpy-1.4.5.zip (177 kB)\n",
            "\u001b[K     |████████████████████████████████| 177 kB 8.2 MB/s \n",
            "\u001b[?25hCollecting sktime\n",
            "  Downloading sktime-0.11.4-py3-none-any.whl (6.7 MB)\n",
            "\u001b[K     |████████████████████████████████| 6.7 MB 49.3 MB/s \n",
            "\u001b[?25hCollecting piexif\n",
            "  Downloading piexif-1.1.3-py2.py3-none-any.whl (20 kB)\n",
            "Requirement already satisfied: imutils in /usr/local/lib/python3.7/dist-packages (0.5.4)\n",
            "Requirement already satisfied: Pillow in /usr/local/lib/python3.7/dist-packages (7.1.2)\n",
            "Collecting focal_loss\n",
            "  Downloading focal_loss-0.0.7-py3-none-any.whl (19 kB)\n",
            "Requirement already satisfied: numpy in /usr/local/lib/python3.7/dist-packages (from filterpy) (1.21.6)\n",
            "Requirement already satisfied: scipy in /usr/local/lib/python3.7/dist-packages (from filterpy) (1.4.1)\n",
            "Requirement already satisfied: matplotlib in /usr/local/lib/python3.7/dist-packages (from filterpy) (3.2.2)\n",
            "Requirement already satisfied: scikit-learn<1.2.0,>=0.24.0 in /usr/local/lib/python3.7/dist-packages (from sktime) (1.0.2)\n",
            "Requirement already satisfied: pandas<1.5.0,>=1.1.0 in /usr/local/lib/python3.7/dist-packages (from sktime) (1.3.5)\n",
            "Collecting deprecated>=1.2.13\n",
            "  Downloading Deprecated-1.2.13-py2.py3-none-any.whl (9.6 kB)\n",
            "Collecting statsmodels>=0.12.1\n",
            "  Downloading statsmodels-0.13.2-cp37-cp37m-manylinux_2_17_x86_64.manylinux2014_x86_64.whl (9.8 MB)\n",
            "\u001b[K     |████████████████████████████████| 9.8 MB 32.9 MB/s \n",
            "\u001b[?25hCollecting numba>=0.53\n",
            "  Downloading numba-0.55.2-cp37-cp37m-manylinux2014_x86_64.manylinux_2_17_x86_64.whl (3.3 MB)\n",
            "\u001b[K     |████████████████████████████████| 3.3 MB 31.9 MB/s \n",
            "\u001b[?25hRequirement already satisfied: wrapt<2,>=1.10 in /usr/local/lib/python3.7/dist-packages (from deprecated>=1.2.13->sktime) (1.14.1)\n",
            "Collecting llvmlite<0.39,>=0.38.0rc1\n",
            "  Downloading llvmlite-0.38.1-cp37-cp37m-manylinux_2_17_x86_64.manylinux2014_x86_64.whl (34.5 MB)\n",
            "\u001b[K     |████████████████████████████████| 34.5 MB 16 kB/s \n",
            "\u001b[?25hRequirement already satisfied: setuptools in /usr/local/lib/python3.7/dist-packages (from numba>=0.53->sktime) (57.4.0)\n",
            "Requirement already satisfied: pytz>=2017.3 in /usr/local/lib/python3.7/dist-packages (from pandas<1.5.0,>=1.1.0->sktime) (2022.1)\n",
            "Requirement already satisfied: python-dateutil>=2.7.3 in /usr/local/lib/python3.7/dist-packages (from pandas<1.5.0,>=1.1.0->sktime) (2.8.2)\n",
            "Requirement already satisfied: six>=1.5 in /usr/local/lib/python3.7/dist-packages (from python-dateutil>=2.7.3->pandas<1.5.0,>=1.1.0->sktime) (1.15.0)\n",
            "Requirement already satisfied: threadpoolctl>=2.0.0 in /usr/local/lib/python3.7/dist-packages (from scikit-learn<1.2.0,>=0.24.0->sktime) (3.1.0)\n",
            "Requirement already satisfied: joblib>=0.11 in /usr/local/lib/python3.7/dist-packages (from scikit-learn<1.2.0,>=0.24.0->sktime) (1.1.0)\n",
            "Requirement already satisfied: patsy>=0.5.2 in /usr/local/lib/python3.7/dist-packages (from statsmodels>=0.12.1->sktime) (0.5.2)\n",
            "Requirement already satisfied: packaging>=21.3 in /usr/local/lib/python3.7/dist-packages (from statsmodels>=0.12.1->sktime) (21.3)\n",
            "Requirement already satisfied: pyparsing!=3.0.5,>=2.0.2 in /usr/local/lib/python3.7/dist-packages (from packaging>=21.3->statsmodels>=0.12.1->sktime) (3.0.9)\n",
            "Requirement already satisfied: tensorflow>=2.2 in /usr/local/lib/python3.7/dist-packages (from focal_loss) (2.8.2+zzzcolab20220527125636)\n",
            "Requirement already satisfied: opt-einsum>=2.3.2 in /usr/local/lib/python3.7/dist-packages (from tensorflow>=2.2->focal_loss) (3.3.0)\n",
            "Requirement already satisfied: absl-py>=0.4.0 in /usr/local/lib/python3.7/dist-packages (from tensorflow>=2.2->focal_loss) (1.0.0)\n",
            "Requirement already satisfied: libclang>=9.0.1 in /usr/local/lib/python3.7/dist-packages (from tensorflow>=2.2->focal_loss) (14.0.1)\n",
            "Requirement already satisfied: termcolor>=1.1.0 in /usr/local/lib/python3.7/dist-packages (from tensorflow>=2.2->focal_loss) (1.1.0)\n",
            "Requirement already satisfied: tensorflow-estimator<2.9,>=2.8 in /usr/local/lib/python3.7/dist-packages (from tensorflow>=2.2->focal_loss) (2.8.0)\n",
            "Requirement already satisfied: gast>=0.2.1 in /usr/local/lib/python3.7/dist-packages (from tensorflow>=2.2->focal_loss) (0.5.3)\n",
            "Requirement already satisfied: typing-extensions>=3.6.6 in /usr/local/lib/python3.7/dist-packages (from tensorflow>=2.2->focal_loss) (4.2.0)\n",
            "Requirement already satisfied: grpcio<2.0,>=1.24.3 in /usr/local/lib/python3.7/dist-packages (from tensorflow>=2.2->focal_loss) (1.46.3)\n",
            "Requirement already satisfied: flatbuffers>=1.12 in /usr/local/lib/python3.7/dist-packages (from tensorflow>=2.2->focal_loss) (2.0)\n",
            "Requirement already satisfied: google-pasta>=0.1.1 in /usr/local/lib/python3.7/dist-packages (from tensorflow>=2.2->focal_loss) (0.2.0)\n",
            "Requirement already satisfied: tensorflow-io-gcs-filesystem>=0.23.1 in /usr/local/lib/python3.7/dist-packages (from tensorflow>=2.2->focal_loss) (0.26.0)\n",
            "Requirement already satisfied: h5py>=2.9.0 in /usr/local/lib/python3.7/dist-packages (from tensorflow>=2.2->focal_loss) (3.1.0)\n",
            "Requirement already satisfied: keras<2.9,>=2.8.0rc0 in /usr/local/lib/python3.7/dist-packages (from tensorflow>=2.2->focal_loss) (2.8.0)\n",
            "Requirement already satisfied: tensorboard<2.9,>=2.8 in /usr/local/lib/python3.7/dist-packages (from tensorflow>=2.2->focal_loss) (2.8.0)\n",
            "Requirement already satisfied: protobuf<3.20,>=3.9.2 in /usr/local/lib/python3.7/dist-packages (from tensorflow>=2.2->focal_loss) (3.17.3)\n",
            "Requirement already satisfied: keras-preprocessing>=1.1.1 in /usr/local/lib/python3.7/dist-packages (from tensorflow>=2.2->focal_loss) (1.1.2)\n",
            "Requirement already satisfied: astunparse>=1.6.0 in /usr/local/lib/python3.7/dist-packages (from tensorflow>=2.2->focal_loss) (1.6.3)\n",
            "Requirement already satisfied: wheel<1.0,>=0.23.0 in /usr/local/lib/python3.7/dist-packages (from astunparse>=1.6.0->tensorflow>=2.2->focal_loss) (0.37.1)\n",
            "Requirement already satisfied: cached-property in /usr/local/lib/python3.7/dist-packages (from h5py>=2.9.0->tensorflow>=2.2->focal_loss) (1.5.2)\n",
            "Requirement already satisfied: google-auth-oauthlib<0.5,>=0.4.1 in /usr/local/lib/python3.7/dist-packages (from tensorboard<2.9,>=2.8->tensorflow>=2.2->focal_loss) (0.4.6)\n",
            "Requirement already satisfied: markdown>=2.6.8 in /usr/local/lib/python3.7/dist-packages (from tensorboard<2.9,>=2.8->tensorflow>=2.2->focal_loss) (3.3.7)\n",
            "Requirement already satisfied: requests<3,>=2.21.0 in /usr/local/lib/python3.7/dist-packages (from tensorboard<2.9,>=2.8->tensorflow>=2.2->focal_loss) (2.23.0)\n",
            "Requirement already satisfied: werkzeug>=0.11.15 in /usr/local/lib/python3.7/dist-packages (from tensorboard<2.9,>=2.8->tensorflow>=2.2->focal_loss) (1.0.1)\n",
            "Requirement already satisfied: tensorboard-data-server<0.7.0,>=0.6.0 in /usr/local/lib/python3.7/dist-packages (from tensorboard<2.9,>=2.8->tensorflow>=2.2->focal_loss) (0.6.1)\n",
            "Requirement already satisfied: google-auth<3,>=1.6.3 in /usr/local/lib/python3.7/dist-packages (from tensorboard<2.9,>=2.8->tensorflow>=2.2->focal_loss) (1.35.0)\n",
            "Requirement already satisfied: tensorboard-plugin-wit>=1.6.0 in /usr/local/lib/python3.7/dist-packages (from tensorboard<2.9,>=2.8->tensorflow>=2.2->focal_loss) (1.8.1)\n",
            "Requirement already satisfied: rsa<5,>=3.1.4 in /usr/local/lib/python3.7/dist-packages (from google-auth<3,>=1.6.3->tensorboard<2.9,>=2.8->tensorflow>=2.2->focal_loss) (4.8)\n",
            "Requirement already satisfied: pyasn1-modules>=0.2.1 in /usr/local/lib/python3.7/dist-packages (from google-auth<3,>=1.6.3->tensorboard<2.9,>=2.8->tensorflow>=2.2->focal_loss) (0.2.8)\n",
            "Requirement already satisfied: cachetools<5.0,>=2.0.0 in /usr/local/lib/python3.7/dist-packages (from google-auth<3,>=1.6.3->tensorboard<2.9,>=2.8->tensorflow>=2.2->focal_loss) (4.2.4)\n",
            "Requirement already satisfied: requests-oauthlib>=0.7.0 in /usr/local/lib/python3.7/dist-packages (from google-auth-oauthlib<0.5,>=0.4.1->tensorboard<2.9,>=2.8->tensorflow>=2.2->focal_loss) (1.3.1)\n",
            "Requirement already satisfied: importlib-metadata>=4.4 in /usr/local/lib/python3.7/dist-packages (from markdown>=2.6.8->tensorboard<2.9,>=2.8->tensorflow>=2.2->focal_loss) (4.11.4)\n",
            "Requirement already satisfied: zipp>=0.5 in /usr/local/lib/python3.7/dist-packages (from importlib-metadata>=4.4->markdown>=2.6.8->tensorboard<2.9,>=2.8->tensorflow>=2.2->focal_loss) (3.8.0)\n",
            "Requirement already satisfied: pyasn1<0.5.0,>=0.4.6 in /usr/local/lib/python3.7/dist-packages (from pyasn1-modules>=0.2.1->google-auth<3,>=1.6.3->tensorboard<2.9,>=2.8->tensorflow>=2.2->focal_loss) (0.4.8)\n",
            "Requirement already satisfied: certifi>=2017.4.17 in /usr/local/lib/python3.7/dist-packages (from requests<3,>=2.21.0->tensorboard<2.9,>=2.8->tensorflow>=2.2->focal_loss) (2022.5.18.1)\n",
            "Requirement already satisfied: chardet<4,>=3.0.2 in /usr/local/lib/python3.7/dist-packages (from requests<3,>=2.21.0->tensorboard<2.9,>=2.8->tensorflow>=2.2->focal_loss) (3.0.4)\n",
            "Requirement already satisfied: urllib3!=1.25.0,!=1.25.1,<1.26,>=1.21.1 in /usr/local/lib/python3.7/dist-packages (from requests<3,>=2.21.0->tensorboard<2.9,>=2.8->tensorflow>=2.2->focal_loss) (1.24.3)\n",
            "Requirement already satisfied: idna<3,>=2.5 in /usr/local/lib/python3.7/dist-packages (from requests<3,>=2.21.0->tensorboard<2.9,>=2.8->tensorflow>=2.2->focal_loss) (2.10)\n",
            "Requirement already satisfied: oauthlib>=3.0.0 in /usr/local/lib/python3.7/dist-packages (from requests-oauthlib>=0.7.0->google-auth-oauthlib<0.5,>=0.4.1->tensorboard<2.9,>=2.8->tensorflow>=2.2->focal_loss) (3.2.0)\n",
            "Requirement already satisfied: kiwisolver>=1.0.1 in /usr/local/lib/python3.7/dist-packages (from matplotlib->filterpy) (1.4.2)\n",
            "Requirement already satisfied: cycler>=0.10 in /usr/local/lib/python3.7/dist-packages (from matplotlib->filterpy) (0.11.0)\n",
            "Building wheels for collected packages: filterpy\n",
            "  Building wheel for filterpy (setup.py) ... \u001b[?25l\u001b[?25hdone\n",
            "  Created wheel for filterpy: filename=filterpy-1.4.5-py3-none-any.whl size=110474 sha256=c7d3f376b7107a4964254afce90f0b98634dc2883d3c631d893c0119b97543a1\n",
            "  Stored in directory: /root/.cache/pip/wheels/ce/e0/ee/a2b3c5caab3418c1ccd8c4de573d4cbe13315d7e8b0a55fbc2\n",
            "Successfully built filterpy\n",
            "Installing collected packages: llvmlite, statsmodels, numba, deprecated, sktime, piexif, focal-loss, filterpy\n",
            "  Attempting uninstall: llvmlite\n",
            "    Found existing installation: llvmlite 0.34.0\n",
            "    Uninstalling llvmlite-0.34.0:\n",
            "      Successfully uninstalled llvmlite-0.34.0\n",
            "  Attempting uninstall: statsmodels\n",
            "    Found existing installation: statsmodels 0.10.2\n",
            "    Uninstalling statsmodels-0.10.2:\n",
            "      Successfully uninstalled statsmodels-0.10.2\n",
            "  Attempting uninstall: numba\n",
            "    Found existing installation: numba 0.51.2\n",
            "    Uninstalling numba-0.51.2:\n",
            "      Successfully uninstalled numba-0.51.2\n",
            "Successfully installed deprecated-1.2.13 filterpy-1.4.5 focal-loss-0.0.7 llvmlite-0.38.1 numba-0.55.2 piexif-1.1.3 sktime-0.11.4 statsmodels-0.13.2\n"
          ]
        }
      ]
    },
    {
      "cell_type": "markdown",
      "source": [
        "### Predict"
      ],
      "metadata": {
        "id": "0cKwf9FC_vEf"
      }
    },
    {
      "cell_type": "code",
      "source": [
        "weights_path = '/content/gdrive/MyDrive/PadelModels/TrackNetWeights/TrackNet-PadelClean4'\n",
        "for i in range(1,2):\n",
        "  video = 'raw_data/points/clean/PremierRoma_Semis_LGBC_2_25_'+str(i)+'.mp4'\n",
        "  !python predict.py --video_path={video} --load_weights={weights_path}"
      ],
      "metadata": {
        "id": "CMqw6NaF_zwJ",
        "outputId": "131ecea7-1632-4ccf-df36-febeeca12646",
        "colab": {
          "base_uri": "https://localhost:8080/"
        }
      },
      "execution_count": null,
      "outputs": [
        {
          "output_type": "stream",
          "name": "stdout",
          "text": [
            "2022-06-02 13:55:03.763298: W tensorflow/core/common_runtime/gpu/gpu_bfc_allocator.cc:39] Overriding allow_growth setting because the TF_FORCE_GPU_ALLOW_GROWTH environment variable is set. Original config value was 0.\n",
            "Load weights successfully\n",
            "Number of frames in video and dictionary are not the same!\n",
            "Fail to load, predict only.\n",
            "Beginning predicting......\n",
            "Done......\n"
          ]
        }
      ]
    },
    {
      "cell_type": "markdown",
      "source": [
        "### Test accuracy"
      ],
      "metadata": {
        "id": "kYRim2mxaOXK"
      }
    },
    {
      "cell_type": "code",
      "source": [
        "file_name = 'Final_PremierQatar_Tie'\n",
        "weights_path = '/content/gdrive/MyDrive/PadelModels/TrackNetWeights2/TrackNet-SoloPadelCleanAll'\n",
        "point_n = 0\n",
        "for point_n in range(9,13):\n",
        "  video = 'raw_data/points/'+file_name+\"_\"+str(point_n)+\".mp4\"\n",
        "  print(video)\n",
        "  csv = 'raw_data/points/'+file_name+\"_\"+str(point_n)+\".csv\"\n",
        "  res = 'raw_data/points/'+file_name+\"_\"+str(point_n)+\".resPadel.txt\"\n",
        "  !python ../TrackNet-Padel/predict.py --video_path={video} --label_path={csv} --load_weights={weights_path} # 2>&1 | tee {res}"
      ],
      "metadata": {
        "id": "vk6QsNkIEJlY",
        "outputId": "ca71f6df-8dfa-4d2a-9980-34a62c5622da",
        "colab": {
          "base_uri": "https://localhost:8080/"
        }
      },
      "execution_count": 86,
      "outputs": [
        {
          "output_type": "stream",
          "name": "stdout",
          "text": [
            "raw_data/points/Final_PremierQatar_Tie_9.mp4\n",
            "2022-06-08 17:26:38.340234: W tensorflow/core/common_runtime/gpu/gpu_bfc_allocator.cc:39] Overriding allow_growth setting because the TF_FORCE_GPU_ALLOW_GROWTH environment variable is set. Original config value was 0.\n",
            "Load weights successfully\n",
            "Load csv file successfully\n",
            "Beginning predicting......\n",
            "==========================================================\n",
            "Number of true positive: 143\n",
            "Number of true negative: 149\n",
            "Number of false positive FP1: 18\n",
            "Number of false positive FP2: 68\n",
            "Number of false negative: 10\n",
            "Accuracy: 0.7525773195876289\n",
            "Precision: 0.6244541484716157\n",
            "Recall: 0.934640522875817\n",
            "Total Time: 37.79371976852417\n",
            "(ACC + Pre + Rec)/3: 0.7705573303116872\n",
            "Done......\n",
            "raw_data/points/Final_PremierQatar_Tie_10.mp4\n",
            "2022-06-08 17:27:29.903232: W tensorflow/core/common_runtime/gpu/gpu_bfc_allocator.cc:39] Overriding allow_growth setting because the TF_FORCE_GPU_ALLOW_GROWTH environment variable is set. Original config value was 0.\n",
            "Load weights successfully\n",
            "Load csv file successfully\n",
            "Beginning predicting......\n",
            "==========================================================\n",
            "Number of true positive: 455\n",
            "Number of true negative: 124\n",
            "Number of false positive FP1: 41\n",
            "Number of false positive FP2: 82\n",
            "Number of false negative: 31\n",
            "Accuracy: 0.7899045020463847\n",
            "Precision: 0.78719723183391\n",
            "Recall: 0.9362139917695473\n",
            "Total Time: 64.15720057487488\n",
            "(ACC + Pre + Rec)/3: 0.8377719085499473\n",
            "Done......\n",
            "raw_data/points/Final_PremierQatar_Tie_11.mp4\n",
            "2022-06-08 17:28:55.621358: W tensorflow/core/common_runtime/gpu/gpu_bfc_allocator.cc:39] Overriding allow_growth setting because the TF_FORCE_GPU_ALLOW_GROWTH environment variable is set. Original config value was 0.\n",
            "Load weights successfully\n",
            "Load csv file successfully\n",
            "Beginning predicting......\n",
            "==========================================================\n",
            "Number of true positive: 126\n",
            "Number of true negative: 99\n",
            "Number of false positive FP1: 11\n",
            "Number of false positive FP2: 52\n",
            "Number of false negative: 10\n",
            "Accuracy: 0.7550335570469798\n",
            "Precision: 0.6666666666666666\n",
            "Recall: 0.9264705882352942\n",
            "Total Time: 31.354926824569702\n",
            "(ACC + Pre + Rec)/3: 0.7827236039829802\n",
            "Done......\n",
            "raw_data/points/Final_PremierQatar_Tie_12.mp4\n",
            "2022-06-08 17:29:38.982703: W tensorflow/core/common_runtime/gpu/gpu_bfc_allocator.cc:39] Overriding allow_growth setting because the TF_FORCE_GPU_ALLOW_GROWTH environment variable is set. Original config value was 0.\n",
            "Load weights successfully\n",
            "Load csv file successfully\n",
            "Beginning predicting......\n",
            "==========================================================\n",
            "Number of true positive: 85\n",
            "Number of true negative: 34\n",
            "Number of false positive FP1: 13\n",
            "Number of false positive FP2: 19\n",
            "Number of false negative: 12\n",
            "Accuracy: 0.7300613496932515\n",
            "Precision: 0.7264957264957265\n",
            "Recall: 0.8762886597938144\n",
            "Total Time: 20.155083417892456\n",
            "(ACC + Pre + Rec)/3: 0.7776152453275974\n",
            "Done......\n"
          ]
        }
      ]
    },
    {
      "cell_type": "markdown",
      "source": [
        "### Train Padel"
      ],
      "metadata": {
        "id": "zC_-P-lCd91A"
      }
    },
    {
      "cell_type": "code",
      "source": [
        "!mv raw_data/*.* raw_data/points/\n",
        "for point_n in range(9):\n",
        "  files = 'raw_data/points/clean/*_'+str(point_n)+'\\.*'\n",
        "  print(files)\n",
        "  !mv {files} raw_data/"
      ],
      "metadata": {
        "id": "md3C9pyjd_0w",
        "outputId": "95580340-670c-42f1-a9a3-0e3024162d68",
        "colab": {
          "base_uri": "https://localhost:8080/"
        }
      },
      "execution_count": 5,
      "outputs": [
        {
          "output_type": "stream",
          "name": "stdout",
          "text": [
            "raw_data/points/clean/*_0\\.*\n",
            "raw_data/points/clean/*_1\\.*\n",
            "raw_data/points/clean/*_2\\.*\n",
            "raw_data/points/clean/*_3\\.*\n",
            "raw_data/points/clean/*_4\\.*\n",
            "raw_data/points/clean/*_5\\.*\n",
            "raw_data/points/clean/*_6\\.*\n",
            "raw_data/points/clean/*_7\\.*\n",
            "raw_data/points/clean/*_8\\.*\n"
          ]
        }
      ]
    },
    {
      "cell_type": "code",
      "source": [
        "!rm -rf train_data/*\n",
        "!python video2img.py "
      ],
      "metadata": {
        "id": "3GWuVXlNeXjG"
      },
      "execution_count": null,
      "outputs": []
    },
    {
      "cell_type": "markdown",
      "source": [
        "#### Train sequencial (error en el orden de las imagenes)\n",
        "*   TrackNet-PadelClean2: Entrenado solo con padel, pocos frames (5000) limpios (solo fragmentos con la bola en juego). --lr=10\n",
        "*   TrackNet-PadelClean3: Continuación, 50 epochs --batch_size=5, con 7k frames (alcanza 0.956 en la validación. - loss:1.20e-4)\n",
        "*   TrackNet-PadelClean4: Continuación, +50epochs --bacth_size=5, con 12k frames, --lr=1 (alcanza 0.94 en la validación. - loss:1.1*   TrackNet-PadelClean5: Continuación, +50epochs (800 steps), con 20k frames, --lr=1 (alcanza 0.93 en la validación. - loss:1.09e-4)8e-4)\n",
        "-----\n",
        "*   TrackNet-PadelCleanAll: Solo padel CleanCompleto, 25epochs (1k steps), con 20k frames, --lr=10 (alcanza 0.82 en la validación. - loss:1.80e-4)\n",
        "*   TrackNet-PadelCleanAll1: Continuación, 50epochs (1k steps) --lr=10/1 (alcanza 0.86 en la validación. - loss:1.23e-4)\n",
        "*   TrackNet-PadelCleanAll2: Continuación, 25epochs (1k steps) --lr=1 (alcanza 0.86 en la validación. - loss:1.08e-4)\n",
        "*   TrackNet-PadelCleanAll3: Continuación, 50epochs (1k steps) --lr=1 (alcanza 0.88 en la validación. - loss:1.06e-4)\n",
        "\n",
        "#### Train desordenado\n",
        "*    TrackNet-SoloPadelCleanAll: solo padel CleanCompleto, 50epochs (800) (valTrain=0.9, loss=2.3e-4, valTest=0.8)"
      ],
      "metadata": {
        "id": "XEJOfi0xGbJ6"
      }
    },
    {
      "cell_type": "code",
      "source": [
        "weights_path = '/content/gdrive/MyDrive/PadelModels/TrackNetWeights2/TrackNet-SoloPadelCleanAll'\n",
        "!python train2.py --save_weights={weights_path}  --batch_size=2 --frame_stack=3 --back_frame_stack=0 --lr=10  #--pre_trained=True  --load_weights={weights_path[:-1]+'2'}"
      ],
      "metadata": {
        "id": "L72l_-tseyd9",
        "outputId": "dd532714-3c72-4001-eba5-8d2d3fb70049",
        "colab": {
          "base_uri": "https://localhost:8080/"
        }
      },
      "execution_count": 84,
      "outputs": [
        {
          "output_type": "stream",
          "name": "stdout",
          "text": [
            "lerning rate: 10.0\n",
            "2022-06-08 13:55:26.932770: W tensorflow/core/common_runtime/gpu/gpu_bfc_allocator.cc:39] Overriding allow_growth setting because the TF_FORCE_GPU_ALLOW_GROWTH environment variable is set. Original config value was 0.\n",
            "Beginning training......\n",
            "==========Epoch 0, Train steps: 800, Learning rate: 10.0000==========\n",
            "800/800 [==============================] - 157s 180ms/step - loss: 0.0011 - binary_accuracy: 0.9996\n",
            "==========Epoch 0 start validation========== 400\n",
            "Epoch 0 accuracy: 0.412\n",
            "Epoch 0 precision: 0.409\n",
            "Epoch 0 recall: 1.000\n",
            "Epoch 0 average = (accuracy + precision + recall)/3: 0.607\n",
            "==========Epoch 1, Train steps: 800, Learning rate: 10.0000==========\n",
            "800/800 [==============================] - 144s 180ms/step - loss: 5.1872e-04 - binary_accuracy: 0.9996\n",
            "==========Epoch 1 start validation========== 400\n",
            "Epoch 1 accuracy: 0.680\n",
            "Epoch 1 precision: 0.724\n",
            "Epoch 1 recall: 0.872\n",
            "Epoch 1 average = (accuracy + precision + recall)/3: 0.759\n",
            "==========Epoch 2, Train steps: 800, Learning rate: 10.0000==========\n",
            "800/800 [==============================] - 144s 180ms/step - loss: 4.2472e-04 - binary_accuracy: 0.9996\n",
            "==========Epoch 2 start validation========== 400\n",
            "Epoch 2 accuracy: 0.703\n",
            "Epoch 2 precision: 0.859\n",
            "Epoch 2 recall: 0.752\n",
            "Epoch 2 average = (accuracy + precision + recall)/3: 0.771\n",
            "==========Epoch 3, Train steps: 800, Learning rate: 10.0000==========\n",
            "800/800 [==============================] - 144s 180ms/step - loss: 3.6009e-04 - binary_accuracy: 0.9996\n",
            "==========Epoch 3 start validation========== 400\n",
            "Epoch 3 accuracy: 0.740\n",
            "Epoch 3 precision: 0.776\n",
            "Epoch 3 recall: 0.914\n",
            "Epoch 3 average = (accuracy + precision + recall)/3: 0.810\n",
            "==========Epoch 4, Train steps: 800, Learning rate: 10.0000==========\n",
            "800/800 [==============================] - 144s 179ms/step - loss: 3.4778e-04 - binary_accuracy: 0.9996\n",
            "==========Epoch 4 start validation========== 400\n",
            "Epoch 4 accuracy: 0.755\n",
            "Epoch 4 precision: 0.917\n",
            "Epoch 4 recall: 0.781\n",
            "Epoch 4 average = (accuracy + precision + recall)/3: 0.817\n",
            "==========Epoch 5, Train steps: 800, Learning rate: 10.0000==========\n",
            "800/800 [==============================] - 144s 180ms/step - loss: 3.4098e-04 - binary_accuracy: 0.9996\n",
            "==========Epoch 5 start validation========== 400\n",
            "Epoch 5 accuracy: 0.716\n",
            "Epoch 5 precision: 0.835\n",
            "Epoch 5 recall: 0.794\n",
            "Epoch 5 average = (accuracy + precision + recall)/3: 0.782\n",
            "==========Epoch 6, Train steps: 800, Learning rate: 10.0000==========\n",
            "800/800 [==============================] - 144s 180ms/step - loss: 3.3432e-04 - binary_accuracy: 0.9996\n",
            "==========Epoch 6 start validation========== 400\n",
            "Epoch 6 accuracy: 0.729\n",
            "Epoch 6 precision: 0.771\n",
            "Epoch 6 recall: 0.896\n",
            "Epoch 6 average = (accuracy + precision + recall)/3: 0.798\n",
            "==========Epoch 7, Train steps: 800, Learning rate: 10.0000==========\n",
            "800/800 [==============================] - 144s 179ms/step - loss: 3.2873e-04 - binary_accuracy: 0.9996\n",
            "==========Epoch 7 start validation========== 400\n",
            "Epoch 7 accuracy: 0.708\n",
            "Epoch 7 precision: 0.891\n",
            "Epoch 7 recall: 0.733\n",
            "Epoch 7 average = (accuracy + precision + recall)/3: 0.777\n",
            "==========Epoch 8, Train steps: 800, Learning rate: 10.0000==========\n",
            "800/800 [==============================] - 144s 180ms/step - loss: 3.0076e-04 - binary_accuracy: 0.9996\n",
            "==========Epoch 8 start validation========== 400\n",
            "Epoch 8 accuracy: 0.810\n",
            "Epoch 8 precision: 0.922\n",
            "Epoch 8 recall: 0.837\n",
            "Epoch 8 average = (accuracy + precision + recall)/3: 0.857\n",
            "==========Epoch 9, Train steps: 800, Learning rate: 10.0000==========\n",
            "800/800 [==============================] - 144s 180ms/step - loss: 2.9589e-04 - binary_accuracy: 0.9996\n",
            "==========Epoch 9 start validation========== 400\n",
            "Epoch 9 accuracy: 0.802\n",
            "Epoch 9 precision: 0.864\n",
            "Epoch 9 recall: 0.892\n",
            "Epoch 9 average = (accuracy + precision + recall)/3: 0.853\n",
            "==========Epoch 10, Train steps: 800, Learning rate: 10.0000==========\n",
            "800/800 [==============================] - 143s 179ms/step - loss: 3.0111e-04 - binary_accuracy: 0.9996\n",
            "==========Epoch 10 start validation========== 400\n",
            "Epoch 10 accuracy: 0.776\n",
            "Epoch 10 precision: 0.847\n",
            "Epoch 10 recall: 0.872\n",
            "Epoch 10 average = (accuracy + precision + recall)/3: 0.832\n",
            "==========Epoch 11, Train steps: 800, Learning rate: 10.0000==========\n",
            "800/800 [==============================] - 144s 180ms/step - loss: 2.8715e-04 - binary_accuracy: 0.9996\n",
            "==========Epoch 11 start validation========== 400\n",
            "Epoch 11 accuracy: 0.716\n",
            "Epoch 11 precision: 0.924\n",
            "Epoch 11 recall: 0.721\n",
            "Epoch 11 average = (accuracy + precision + recall)/3: 0.787\n",
            "==========Epoch 12, Train steps: 800, Learning rate: 10.0000==========\n",
            "800/800 [==============================] - 143s 179ms/step - loss: 2.7145e-04 - binary_accuracy: 0.9996\n",
            "==========Epoch 12 start validation========== 400\n",
            "Epoch 12 accuracy: 0.792\n",
            "Epoch 12 precision: 0.829\n",
            "Epoch 12 recall: 0.923\n",
            "Epoch 12 average = (accuracy + precision + recall)/3: 0.848\n",
            "==========Epoch 13, Train steps: 800, Learning rate: 10.0000==========\n",
            "800/800 [==============================] - 144s 179ms/step - loss: 2.7953e-04 - binary_accuracy: 0.9996\n",
            "==========Epoch 13 start validation========== 400\n",
            "Epoch 13 accuracy: 0.834\n",
            "Epoch 13 precision: 0.912\n",
            "Epoch 13 recall: 0.883\n",
            "Epoch 13 average = (accuracy + precision + recall)/3: 0.876\n",
            "==========Epoch 14, Train steps: 800, Learning rate: 10.0000==========\n",
            "800/800 [==============================] - 144s 180ms/step - loss: 2.9450e-04 - binary_accuracy: 0.9996\n",
            "==========Epoch 14 start validation========== 400\n",
            "Epoch 14 accuracy: 0.820\n",
            "Epoch 14 precision: 0.922\n",
            "Epoch 14 recall: 0.851\n",
            "Epoch 14 average = (accuracy + precision + recall)/3: 0.864\n",
            "==========Epoch 15, Train steps: 800, Learning rate: 10.0000==========\n",
            "800/800 [==============================] - 144s 180ms/step - loss: 2.8424e-04 - binary_accuracy: 0.9996\n",
            "==========Epoch 15 start validation========== 400\n",
            "Epoch 15 accuracy: 0.802\n",
            "Epoch 15 precision: 0.965\n",
            "Epoch 15 recall: 0.802\n",
            "Epoch 15 average = (accuracy + precision + recall)/3: 0.857\n",
            "Reduce model learning rate to 1.0\n",
            "==========Epoch 16, Train steps: 800, Learning rate: 1.0000==========\n",
            "800/800 [==============================] - 144s 180ms/step - loss: 2.5483e-04 - binary_accuracy: 0.9996\n",
            "==========Epoch 16 start validation========== 400\n",
            "Epoch 16 accuracy: 0.848\n",
            "Epoch 16 precision: 0.921\n",
            "Epoch 16 recall: 0.897\n",
            "Epoch 16 average = (accuracy + precision + recall)/3: 0.888\n",
            "==========Epoch 17, Train steps: 800, Learning rate: 1.0000==========\n",
            "800/800 [==============================] - 143s 179ms/step - loss: 2.5542e-04 - binary_accuracy: 0.9996\n",
            "==========Epoch 17 start validation========== 400\n",
            "Epoch 17 accuracy: 0.856\n",
            "Epoch 17 precision: 0.933\n",
            "Epoch 17 recall: 0.893\n",
            "Epoch 17 average = (accuracy + precision + recall)/3: 0.894\n",
            "==========Epoch 18, Train steps: 800, Learning rate: 1.0000==========\n",
            "800/800 [==============================] - 144s 180ms/step - loss: 2.3422e-04 - binary_accuracy: 0.9996\n",
            "==========Epoch 18 start validation========== 400\n",
            "Epoch 18 accuracy: 0.843\n",
            "Epoch 18 precision: 0.930\n",
            "Epoch 18 recall: 0.877\n",
            "Epoch 18 average = (accuracy + precision + recall)/3: 0.883\n",
            "==========Epoch 19, Train steps: 800, Learning rate: 1.0000==========\n",
            "800/800 [==============================] - 143s 179ms/step - loss: 2.5020e-04 - binary_accuracy: 0.9996\n",
            "==========Epoch 19 start validation========== 400\n",
            "Epoch 19 accuracy: 0.855\n",
            "Epoch 19 precision: 0.930\n",
            "Epoch 19 recall: 0.897\n",
            "Epoch 19 average = (accuracy + precision + recall)/3: 0.894\n",
            "==========Epoch 20, Train steps: 800, Learning rate: 1.0000==========\n",
            "800/800 [==============================] - 143s 178ms/step - loss: 2.5239e-04 - binary_accuracy: 0.9996\n",
            "==========Epoch 20 start validation========== 400\n",
            "Epoch 20 accuracy: 0.836\n",
            "Epoch 20 precision: 0.921\n",
            "Epoch 20 recall: 0.878\n",
            "Epoch 20 average = (accuracy + precision + recall)/3: 0.879\n",
            "==========Epoch 21, Train steps: 800, Learning rate: 1.0000==========\n",
            "800/800 [==============================] - 144s 179ms/step - loss: 2.4530e-04 - binary_accuracy: 0.9996\n",
            "==========Epoch 21 start validation========== 400\n",
            "Epoch 21 accuracy: 0.863\n",
            "Epoch 21 precision: 0.925\n",
            "Epoch 21 recall: 0.912\n",
            "Epoch 21 average = (accuracy + precision + recall)/3: 0.900\n",
            "Reduce model learning rate to 0.1\n",
            "==========Epoch 22, Train steps: 800, Learning rate: 0.1000==========\n",
            "800/800 [==============================] - 144s 181ms/step - loss: 2.4691e-04 - binary_accuracy: 0.9996\n",
            "==========Epoch 22 start validation========== 400\n",
            "Epoch 22 accuracy: 0.849\n",
            "Epoch 22 precision: 0.945\n",
            "Epoch 22 recall: 0.871\n",
            "Epoch 22 average = (accuracy + precision + recall)/3: 0.888\n",
            "==========Epoch 23, Train steps: 800, Learning rate: 0.1000==========\n",
            "800/800 [==============================] - 144s 180ms/step - loss: 2.4100e-04 - binary_accuracy: 0.9996\n",
            "==========Epoch 23 start validation========== 400\n",
            "Epoch 23 accuracy: 0.863\n",
            "Epoch 23 precision: 0.939\n",
            "Epoch 23 recall: 0.895\n",
            "Epoch 23 average = (accuracy + precision + recall)/3: 0.899\n",
            "==========Epoch 24, Train steps: 800, Learning rate: 0.1000==========\n",
            "800/800 [==============================] - 144s 179ms/step - loss: 2.3228e-04 - binary_accuracy: 0.9996\n",
            "==========Epoch 24 start validation========== 400\n",
            "Epoch 24 accuracy: 0.823\n",
            "Epoch 24 precision: 0.924\n",
            "Epoch 24 recall: 0.858\n",
            "Epoch 24 average = (accuracy + precision + recall)/3: 0.868\n",
            "==========Epoch 25, Train steps: 800, Learning rate: 0.1000==========\n",
            "800/800 [==============================] - 144s 180ms/step - loss: 2.4387e-04 - binary_accuracy: 0.9996\n",
            "==========Epoch 25 start validation========== 400\n",
            "Epoch 25 accuracy: 0.850\n",
            "Epoch 25 precision: 0.937\n",
            "Epoch 25 recall: 0.881\n",
            "Epoch 25 average = (accuracy + precision + recall)/3: 0.889\n",
            "==========Epoch 26, Train steps: 800, Learning rate: 0.1000==========\n",
            "800/800 [==============================] - 143s 179ms/step - loss: 2.4603e-04 - binary_accuracy: 0.9996\n",
            "==========Epoch 26 start validation========== 400\n",
            "Epoch 26 accuracy: 0.865\n",
            "Epoch 26 precision: 0.936\n",
            "Epoch 26 recall: 0.899\n",
            "Epoch 26 average = (accuracy + precision + recall)/3: 0.900\n",
            "==========Epoch 27, Train steps: 800, Learning rate: 0.1000==========\n",
            "800/800 [==============================] - 144s 180ms/step - loss: 2.3980e-04 - binary_accuracy: 0.9996\n",
            "==========Epoch 27 start validation========== 400\n",
            "Epoch 27 accuracy: 0.859\n",
            "Epoch 27 precision: 0.940\n",
            "Epoch 27 recall: 0.891\n",
            "Epoch 27 average = (accuracy + precision + recall)/3: 0.897\n",
            "Reduce model learning rate to 0.010000000149011612\n",
            "==========Epoch 28, Train steps: 800, Learning rate: 0.0100==========\n",
            "800/800 [==============================] - 143s 179ms/step - loss: 2.4396e-04 - binary_accuracy: 0.9996\n",
            "==========Epoch 28 start validation========== 400\n",
            "Epoch 28 accuracy: 0.840\n",
            "Epoch 28 precision: 0.923\n",
            "Epoch 28 recall: 0.885\n",
            "Epoch 28 average = (accuracy + precision + recall)/3: 0.883\n",
            "==========Epoch 29, Train steps: 800, Learning rate: 0.0100==========\n",
            "800/800 [==============================] - 143s 179ms/step - loss: 2.3888e-04 - binary_accuracy: 0.9996\n",
            "==========Epoch 29 start validation========== 400\n",
            "Epoch 29 accuracy: 0.828\n",
            "Epoch 29 precision: 0.926\n",
            "Epoch 29 recall: 0.862\n",
            "Epoch 29 average = (accuracy + precision + recall)/3: 0.872\n",
            "==========Epoch 30, Train steps: 800, Learning rate: 0.0100==========\n",
            "800/800 [==============================] - 143s 179ms/step - loss: 2.4489e-04 - binary_accuracy: 0.9996\n",
            "==========Epoch 30 start validation========== 400\n",
            "Epoch 30 accuracy: 0.865\n",
            "Epoch 30 precision: 0.952\n",
            "Epoch 30 recall: 0.885\n",
            "Epoch 30 average = (accuracy + precision + recall)/3: 0.901\n",
            "==========Epoch 31, Train steps: 800, Learning rate: 0.0100==========\n",
            "800/800 [==============================] - 143s 179ms/step - loss: 2.3588e-04 - binary_accuracy: 0.9996\n",
            "==========Epoch 31 start validation========== 400\n",
            "Epoch 31 accuracy: 0.829\n",
            "Epoch 31 precision: 0.930\n",
            "Epoch 31 recall: 0.863\n",
            "Epoch 31 average = (accuracy + precision + recall)/3: 0.874\n",
            "==========Epoch 32, Train steps: 800, Learning rate: 0.0100==========\n",
            "800/800 [==============================] - 143s 178ms/step - loss: 2.4330e-04 - binary_accuracy: 0.9996\n",
            "==========Epoch 32 start validation========== 400\n",
            "Epoch 32 accuracy: 0.855\n",
            "Epoch 32 precision: 0.922\n",
            "Epoch 32 recall: 0.900\n",
            "Epoch 32 average = (accuracy + precision + recall)/3: 0.892\n",
            "==========Epoch 33, Train steps: 800, Learning rate: 0.0100==========\n",
            "800/800 [==============================] - 143s 179ms/step - loss: 2.4511e-04 - binary_accuracy: 0.9996\n",
            "==========Epoch 33 start validation========== 400\n",
            "Epoch 33 accuracy: 0.876\n",
            "Epoch 33 precision: 0.947\n",
            "Epoch 33 recall: 0.904\n",
            "Epoch 33 average = (accuracy + precision + recall)/3: 0.909\n",
            "==========Epoch 34, Train steps: 800, Learning rate: 0.0100==========\n",
            "800/800 [==============================] - 143s 179ms/step - loss: 2.4389e-04 - binary_accuracy: 0.9996\n",
            "==========Epoch 34 start validation========== 400\n",
            "Epoch 34 accuracy: 0.869\n",
            "Epoch 34 precision: 0.943\n",
            "Epoch 34 recall: 0.900\n",
            "Epoch 34 average = (accuracy + precision + recall)/3: 0.904\n",
            "==========Epoch 35, Train steps: 800, Learning rate: 0.0100==========\n",
            "800/800 [==============================] - 144s 180ms/step - loss: 2.3611e-04 - binary_accuracy: 0.9996\n",
            "==========Epoch 35 start validation========== 400\n",
            "Epoch 35 accuracy: 0.843\n",
            "Epoch 35 precision: 0.940\n",
            "Epoch 35 recall: 0.875\n",
            "Epoch 35 average = (accuracy + precision + recall)/3: 0.886\n",
            "==========Epoch 36, Train steps: 800, Learning rate: 0.0100==========\n",
            "800/800 [==============================] - 143s 179ms/step - loss: 2.4826e-04 - binary_accuracy: 0.9996\n",
            "==========Epoch 36 start validation========== 400\n",
            "Epoch 36 accuracy: 0.864\n",
            "Epoch 36 precision: 0.946\n",
            "Epoch 36 recall: 0.893\n",
            "Epoch 36 average = (accuracy + precision + recall)/3: 0.901\n",
            "==========Epoch 37, Train steps: 800, Learning rate: 0.0100==========\n",
            "800/800 [==============================] - 143s 179ms/step - loss: 2.4876e-04 - binary_accuracy: 0.9996\n",
            "==========Epoch 37 start validation========== 400\n",
            "Epoch 37 accuracy: 0.856\n",
            "Epoch 37 precision: 0.939\n",
            "Epoch 37 recall: 0.891\n",
            "Epoch 37 average = (accuracy + precision + recall)/3: 0.896\n",
            "==========Epoch 38, Train steps: 800, Learning rate: 0.0100==========\n",
            "800/800 [==============================] - 144s 180ms/step - loss: 2.5920e-04 - binary_accuracy: 0.9996\n",
            "==========Epoch 38 start validation========== 400\n",
            "Epoch 38 accuracy: 0.858\n",
            "Epoch 38 precision: 0.930\n",
            "Epoch 38 recall: 0.896\n",
            "Epoch 38 average = (accuracy + precision + recall)/3: 0.895\n",
            "==========Epoch 39, Train steps: 800, Learning rate: 0.0100==========\n",
            "800/800 [==============================] - 143s 179ms/step - loss: 2.4564e-04 - binary_accuracy: 0.9996\n",
            "==========Epoch 39 start validation========== 400\n",
            "Epoch 39 accuracy: 0.846\n",
            "Epoch 39 precision: 0.925\n",
            "Epoch 39 recall: 0.887\n",
            "Epoch 39 average = (accuracy + precision + recall)/3: 0.886\n",
            "==========Epoch 40, Train steps: 800, Learning rate: 0.0100==========\n",
            "800/800 [==============================] - 143s 179ms/step - loss: 2.5636e-04 - binary_accuracy: 0.9996\n",
            "==========Epoch 40 start validation========== 400\n",
            "Epoch 40 accuracy: 0.838\n",
            "Epoch 40 precision: 0.938\n",
            "Epoch 40 recall: 0.863\n",
            "Epoch 40 average = (accuracy + precision + recall)/3: 0.880\n",
            "==========Epoch 41, Train steps: 800, Learning rate: 0.0100==========\n",
            "800/800 [==============================] - 144s 180ms/step - loss: 2.5339e-04 - binary_accuracy: 0.9996\n",
            "==========Epoch 41 start validation========== 400\n",
            "Epoch 41 accuracy: 0.849\n",
            "Epoch 41 precision: 0.947\n",
            "Epoch 41 recall: 0.871\n",
            "Epoch 41 average = (accuracy + precision + recall)/3: 0.889\n",
            "==========Epoch 42, Train steps: 800, Learning rate: 0.0100==========\n",
            "800/800 [==============================] - 143s 179ms/step - loss: 2.4249e-04 - binary_accuracy: 0.9996\n",
            "==========Epoch 42 start validation========== 400\n",
            "Epoch 42 accuracy: 0.874\n",
            "Epoch 42 precision: 0.949\n",
            "Epoch 42 recall: 0.900\n",
            "Epoch 42 average = (accuracy + precision + recall)/3: 0.908\n",
            "==========Epoch 43, Train steps: 800, Learning rate: 0.0100==========\n",
            "800/800 [==============================] - 144s 179ms/step - loss: 2.5322e-04 - binary_accuracy: 0.9996\n",
            "==========Epoch 43 start validation========== 400\n",
            "Epoch 43 accuracy: 0.829\n",
            "Epoch 43 precision: 0.921\n",
            "Epoch 43 recall: 0.873\n",
            "Epoch 43 average = (accuracy + precision + recall)/3: 0.874\n",
            "==========Epoch 44, Train steps: 800, Learning rate: 0.0100==========\n",
            "800/800 [==============================] - 144s 180ms/step - loss: 2.4062e-04 - binary_accuracy: 0.9996\n",
            "==========Epoch 44 start validation========== 400\n",
            "Epoch 44 accuracy: 0.866\n",
            "Epoch 44 precision: 0.958\n",
            "Epoch 44 recall: 0.885\n",
            "Epoch 44 average = (accuracy + precision + recall)/3: 0.903\n",
            "==========Epoch 45, Train steps: 800, Learning rate: 0.0100==========\n",
            "800/800 [==============================] - 143s 179ms/step - loss: 2.4447e-04 - binary_accuracy: 0.9996\n",
            "==========Epoch 45 start validation========== 400\n",
            "Epoch 45 accuracy: 0.855\n",
            "Epoch 45 precision: 0.946\n",
            "Epoch 45 recall: 0.879\n",
            "Epoch 45 average = (accuracy + precision + recall)/3: 0.894\n",
            "==========Epoch 46, Train steps: 800, Learning rate: 0.0100==========\n",
            "800/800 [==============================] - 144s 180ms/step - loss: 2.4333e-04 - binary_accuracy: 0.9996\n",
            "==========Epoch 46 start validation========== 400\n",
            "Epoch 46 accuracy: 0.864\n",
            "Epoch 46 precision: 0.930\n",
            "Epoch 46 recall: 0.907\n",
            "Epoch 46 average = (accuracy + precision + recall)/3: 0.900\n",
            "==========Epoch 47, Train steps: 800, Learning rate: 0.0100==========\n",
            "800/800 [==============================] - 144s 180ms/step - loss: 2.5263e-04 - binary_accuracy: 0.9996\n",
            "==========Epoch 47 start validation========== 400\n",
            "Epoch 47 accuracy: 0.823\n",
            "Epoch 47 precision: 0.903\n",
            "Epoch 47 recall: 0.875\n",
            "Epoch 47 average = (accuracy + precision + recall)/3: 0.867\n",
            "==========Epoch 48, Train steps: 800, Learning rate: 0.0100==========\n",
            "800/800 [==============================] - 143s 179ms/step - loss: 2.3802e-04 - binary_accuracy: 0.9996\n",
            "==========Epoch 48 start validation========== 400\n",
            "Epoch 48 accuracy: 0.873\n",
            "Epoch 48 precision: 0.943\n",
            "Epoch 48 recall: 0.907\n",
            "Epoch 48 average = (accuracy + precision + recall)/3: 0.907\n",
            "==========Epoch 49, Train steps: 800, Learning rate: 0.0100==========\n",
            "800/800 [==============================] - 143s 179ms/step - loss: 2.4321e-04 - binary_accuracy: 0.9996\n",
            "==========Epoch 49 start validation========== 400\n",
            "Epoch 49 accuracy: 0.831\n",
            "Epoch 49 precision: 0.916\n",
            "Epoch 49 recall: 0.879\n",
            "Epoch 49 average = (accuracy + precision + recall)/3: 0.875\n",
            "Saving weights......\n",
            "Done......\n"
          ]
        }
      ]
    },
    {
      "cell_type": "markdown",
      "source": [
        "### Debug"
      ],
      "metadata": {
        "id": "G9slBIsCSNzQ"
      }
    },
    {
      "cell_type": "code",
      "source": [
        "%load_ext autoreload\n",
        "%autoreload 2"
      ],
      "metadata": {
        "id": "NNzoN5yQSaRq"
      },
      "execution_count": 7,
      "outputs": []
    },
    {
      "cell_type": "code",
      "source": [
        "from utils import *\n",
        "HEIGHT = 288\n",
        "WIDTH = 512\n",
        "BATCH_SIZE = 2\n",
        "FRAME_STACK = 3\n",
        "BACK_FRAME_STACK = 1\n",
        "\n",
        "match_path = 'train_data'\n",
        "match_list = [os.sep.join([os.getcwd(), match_path, match]) for match in os.listdir(match_path)]\n",
        "\n",
        "x_train, x_test, y_train, y_test = split_train_test2(match_list, FRAME_STACK, BACK_FRAME_STACK, ratio=0.9, shuffle=True)\n",
        "gen = data_generator2(BATCH_SIZE, x_train+x_test, y_train+y_test, FRAME_STACK, BACK_FRAME_STACK)"
      ],
      "metadata": {
        "id": "TJHz75vdSJSO",
        "outputId": "7fd01025-c598-4238-ebe5-689d5dd4657c",
        "colab": {
          "base_uri": "https://localhost:8080/"
        }
      },
      "execution_count": 81,
      "outputs": [
        {
          "output_type": "stream",
          "name": "stdout",
          "text": [
            "18572\n",
            "2064\n",
            "18572\n"
          ]
        }
      ]
    },
    {
      "cell_type": "code",
      "source": [
        "x, y = next(gen)\n",
        "print(x.shape)"
      ],
      "metadata": {
        "id": "3wK4YN0STAJl",
        "outputId": "170c8b9e-8697-4280-9569-35ff68df1648",
        "colab": {
          "base_uri": "https://localhost:8080/"
        }
      },
      "execution_count": 64,
      "outputs": [
        {
          "output_type": "stream",
          "name": "stdout",
          "text": [
            "(2, 3, 288, 512)\n"
          ]
        }
      ]
    },
    {
      "cell_type": "code",
      "source": [
        "list(zip(x_train, y_train))[:3]"
      ],
      "metadata": {
        "id": "b7NFLcRzWp5I",
        "outputId": "33751b44-ce63-4498-833d-337e48ba93b9",
        "colab": {
          "base_uri": "https://localhost:8080/"
        }
      },
      "execution_count": 65,
      "outputs": [
        {
          "output_type": "execute_result",
          "data": {
            "text/plain": [
              "[('/content/TrackNet-Padel/train_data/match22/x_data/match22_PremierRoma_Semis_LGBC_1_00_6_105.jpg',\n",
              "  '/content/TrackNet-Padel/train_data/match22/y_data/match22_PremierRoma_Semis_LGBC_1_00_6_105.jpg'),\n",
              " ('/content/TrackNet-Padel/train_data/match20/x_data/match20_PremierRoma_Semis_LGBC_1_00_2_606.jpg',\n",
              "  '/content/TrackNet-Padel/train_data/match20/y_data/match20_PremierRoma_Semis_LGBC_1_00_2_606.jpg'),\n",
              " ('/content/TrackNet-Padel/train_data/match53/x_data/match53_PremierRoma_Semis_LGBC_2_35_2_117.jpg',\n",
              "  '/content/TrackNet-Padel/train_data/match53/y_data/match53_PremierRoma_Semis_LGBC_2_35_2_117.jpg')]"
            ]
          },
          "metadata": {},
          "execution_count": 65
        }
      ]
    },
    {
      "cell_type": "code",
      "source": [
        "cv2"
      ],
      "metadata": {
        "id": "sydTYtSybAk5",
        "outputId": "a3162adc-1abd-461b-84c7-8ff5c07cc708",
        "colab": {
          "base_uri": "https://localhost:8080/"
        }
      },
      "execution_count": 75,
      "outputs": [
        {
          "output_type": "execute_result",
          "data": {
            "text/plain": [
              "20573"
            ]
          },
          "metadata": {},
          "execution_count": 75
        }
      ]
    }
  ]
}