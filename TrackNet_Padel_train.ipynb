{
  "nbformat": 4,
  "nbformat_minor": 0,
  "metadata": {
    "colab": {
      "name": "TrackNet_Padel.ipynb",
      "provenance": [],
      "collapsed_sections": [],
      "include_colab_link": true
    },
    "kernelspec": {
      "name": "python3",
      "display_name": "Python 3"
    },
    "language_info": {
      "name": "python"
    },
    "accelerator": "GPU"
  },
  "cells": [
    {
      "cell_type": "markdown",
      "metadata": {
        "id": "view-in-github",
        "colab_type": "text"
      },
      "source": [
        "<a href=\"https://colab.research.google.com/github/VictorUceda/TrackNet-Padel/blob/main/TrackNet_Padel_train.ipynb\" target=\"_parent\"><img src=\"https://colab.research.google.com/assets/colab-badge.svg\" alt=\"Open In Colab\"/></a>"
      ]
    },
    {
      "cell_type": "code",
      "source": [
        "!nvidia-smi"
      ],
      "metadata": {
        "id": "50iBZugzyWYZ",
        "outputId": "53f059a3-0b7c-4086-bd63-f4a2252a6c0f",
        "colab": {
          "base_uri": "https://localhost:8080/"
        }
      },
      "execution_count": 1,
      "outputs": [
        {
          "output_type": "stream",
          "name": "stdout",
          "text": [
            "Wed Jun  1 18:36:55 2022       \n",
            "+-----------------------------------------------------------------------------+\n",
            "| NVIDIA-SMI 460.32.03    Driver Version: 460.32.03    CUDA Version: 11.2     |\n",
            "|-------------------------------+----------------------+----------------------+\n",
            "| GPU  Name        Persistence-M| Bus-Id        Disp.A | Volatile Uncorr. ECC |\n",
            "| Fan  Temp  Perf  Pwr:Usage/Cap|         Memory-Usage | GPU-Util  Compute M. |\n",
            "|                               |                      |               MIG M. |\n",
            "|===============================+======================+======================|\n",
            "|   0  Tesla P100-PCIE...  Off  | 00000000:00:04.0 Off |                    0 |\n",
            "| N/A   35C    P0    27W / 250W |      0MiB / 16280MiB |      0%      Default |\n",
            "|                               |                      |                  N/A |\n",
            "+-------------------------------+----------------------+----------------------+\n",
            "                                                                               \n",
            "+-----------------------------------------------------------------------------+\n",
            "| Processes:                                                                  |\n",
            "|  GPU   GI   CI        PID   Type   Process name                  GPU Memory |\n",
            "|        ID   ID                                                   Usage      |\n",
            "|=============================================================================|\n",
            "|  No running processes found                                                 |\n",
            "+-----------------------------------------------------------------------------+\n"
          ]
        }
      ]
    },
    {
      "cell_type": "code",
      "execution_count": 2,
      "metadata": {
        "colab": {
          "base_uri": "https://localhost:8080/"
        },
        "id": "Q8g7zdD0a-o4",
        "outputId": "8bdfd20a-93cf-4942-8f8a-13e7575022a1"
      },
      "outputs": [
        {
          "output_type": "stream",
          "name": "stdout",
          "text": [
            "Mounted at /content/gdrive\n"
          ]
        }
      ],
      "source": [
        "from google.colab import drive\n",
        "drive.mount('/content/gdrive')\n",
        "\n",
        "import os \n",
        "path_drive = '/content/gdrive/MyDrive/Colab Notebooks/TrackNet-Padel/'"
      ]
    },
    {
      "cell_type": "code",
      "source": [
        "os.chdir('/content/')\n",
        "!pwd\n",
        "\n",
        "!git clone https://github.com/VictorUceda/TrackNet-Padel.git\n",
        "#!git clone https://github.com/Chang-Chia-Chi/TrackNet-Badminton-Tracking-tensorflow2\n",
        "os.chdir('/content/TrackNet-Padel/')\n",
        "!git pull"
      ],
      "metadata": {
        "id": "lYG3TpaZfjSN",
        "outputId": "4e74d002-9a7a-479c-dc45-23354297eb43",
        "colab": {
          "base_uri": "https://localhost:8080/"
        }
      },
      "execution_count": 3,
      "outputs": [
        {
          "output_type": "stream",
          "name": "stdout",
          "text": [
            "/content\n",
            "Cloning into 'TrackNet-Padel'...\n",
            "remote: Enumerating objects: 780, done.\u001b[K\n",
            "remote: Counting objects: 100% (100/100), done.\u001b[K\n",
            "remote: Compressing objects: 100% (80/80), done.\u001b[K\n",
            "remote: Total 780 (delta 26), reused 94 (delta 20), pack-reused 680\u001b[K\n",
            "Receiving objects: 100% (780/780), 862.27 MiB | 26.44 MiB/s, done.\n",
            "Resolving deltas: 100% (325/325), done.\n",
            "Checking out files: 100% (234/234), done.\n",
            "Already up to date.\n"
          ]
        }
      ]
    },
    {
      "cell_type": "markdown",
      "source": [
        ""
      ],
      "metadata": {
        "id": "bY2m7mhhk9hn"
      }
    },
    {
      "cell_type": "code",
      "source": [
        "!pip3 install filterpy sktime piexif imutils Pillow focal_loss"
      ],
      "metadata": {
        "id": "cmHZLk7zgQVr",
        "colab": {
          "base_uri": "https://localhost:8080/"
        },
        "outputId": "6706fbd8-5ea4-41a6-c14f-e167f8440728"
      },
      "execution_count": 4,
      "outputs": [
        {
          "output_type": "stream",
          "name": "stdout",
          "text": [
            "Looking in indexes: https://pypi.org/simple, https://us-python.pkg.dev/colab-wheels/public/simple/\n",
            "Collecting filterpy\n",
            "  Downloading filterpy-1.4.5.zip (177 kB)\n",
            "\u001b[K     |████████████████████████████████| 177 kB 7.2 MB/s \n",
            "\u001b[?25hCollecting sktime\n",
            "  Downloading sktime-0.11.4-py3-none-any.whl (6.7 MB)\n",
            "\u001b[K     |████████████████████████████████| 6.7 MB 64.8 MB/s \n",
            "\u001b[?25hCollecting piexif\n",
            "  Downloading piexif-1.1.3-py2.py3-none-any.whl (20 kB)\n",
            "Requirement already satisfied: imutils in /usr/local/lib/python3.7/dist-packages (0.5.4)\n",
            "Requirement already satisfied: Pillow in /usr/local/lib/python3.7/dist-packages (7.1.2)\n",
            "Collecting focal_loss\n",
            "  Downloading focal_loss-0.0.7-py3-none-any.whl (19 kB)\n",
            "Requirement already satisfied: numpy in /usr/local/lib/python3.7/dist-packages (from filterpy) (1.21.6)\n",
            "Requirement already satisfied: scipy in /usr/local/lib/python3.7/dist-packages (from filterpy) (1.4.1)\n",
            "Requirement already satisfied: matplotlib in /usr/local/lib/python3.7/dist-packages (from filterpy) (3.2.2)\n",
            "Collecting numba>=0.53\n",
            "  Downloading numba-0.55.2-cp37-cp37m-manylinux2014_x86_64.manylinux_2_17_x86_64.whl (3.3 MB)\n",
            "\u001b[K     |████████████████████████████████| 3.3 MB 57.8 MB/s \n",
            "\u001b[?25hCollecting deprecated>=1.2.13\n",
            "  Downloading Deprecated-1.2.13-py2.py3-none-any.whl (9.6 kB)\n",
            "Requirement already satisfied: pandas<1.5.0,>=1.1.0 in /usr/local/lib/python3.7/dist-packages (from sktime) (1.3.5)\n",
            "Collecting statsmodels>=0.12.1\n",
            "  Downloading statsmodels-0.13.2-cp37-cp37m-manylinux_2_17_x86_64.manylinux2014_x86_64.whl (9.8 MB)\n",
            "\u001b[K     |████████████████████████████████| 9.8 MB 57.3 MB/s \n",
            "\u001b[?25hRequirement already satisfied: scikit-learn<1.2.0,>=0.24.0 in /usr/local/lib/python3.7/dist-packages (from sktime) (1.0.2)\n",
            "Requirement already satisfied: wrapt<2,>=1.10 in /usr/local/lib/python3.7/dist-packages (from deprecated>=1.2.13->sktime) (1.14.1)\n",
            "Collecting llvmlite<0.39,>=0.38.0rc1\n",
            "  Downloading llvmlite-0.38.1-cp37-cp37m-manylinux_2_17_x86_64.manylinux2014_x86_64.whl (34.5 MB)\n",
            "\u001b[K     |████████████████████████████████| 34.5 MB 1.3 MB/s \n",
            "\u001b[?25hRequirement already satisfied: setuptools in /usr/local/lib/python3.7/dist-packages (from numba>=0.53->sktime) (57.4.0)\n",
            "Requirement already satisfied: pytz>=2017.3 in /usr/local/lib/python3.7/dist-packages (from pandas<1.5.0,>=1.1.0->sktime) (2022.1)\n",
            "Requirement already satisfied: python-dateutil>=2.7.3 in /usr/local/lib/python3.7/dist-packages (from pandas<1.5.0,>=1.1.0->sktime) (2.8.2)\n",
            "Requirement already satisfied: six>=1.5 in /usr/local/lib/python3.7/dist-packages (from python-dateutil>=2.7.3->pandas<1.5.0,>=1.1.0->sktime) (1.15.0)\n",
            "Requirement already satisfied: joblib>=0.11 in /usr/local/lib/python3.7/dist-packages (from scikit-learn<1.2.0,>=0.24.0->sktime) (1.1.0)\n",
            "Requirement already satisfied: threadpoolctl>=2.0.0 in /usr/local/lib/python3.7/dist-packages (from scikit-learn<1.2.0,>=0.24.0->sktime) (3.1.0)\n",
            "Requirement already satisfied: patsy>=0.5.2 in /usr/local/lib/python3.7/dist-packages (from statsmodels>=0.12.1->sktime) (0.5.2)\n",
            "Requirement already satisfied: packaging>=21.3 in /usr/local/lib/python3.7/dist-packages (from statsmodels>=0.12.1->sktime) (21.3)\n",
            "Requirement already satisfied: pyparsing!=3.0.5,>=2.0.2 in /usr/local/lib/python3.7/dist-packages (from packaging>=21.3->statsmodels>=0.12.1->sktime) (3.0.9)\n",
            "Requirement already satisfied: tensorflow>=2.2 in /usr/local/lib/python3.7/dist-packages (from focal_loss) (2.8.2+zzzcolab20220527125636)\n",
            "Requirement already satisfied: protobuf<3.20,>=3.9.2 in /usr/local/lib/python3.7/dist-packages (from tensorflow>=2.2->focal_loss) (3.17.3)\n",
            "Requirement already satisfied: tensorflow-io-gcs-filesystem>=0.23.1 in /usr/local/lib/python3.7/dist-packages (from tensorflow>=2.2->focal_loss) (0.26.0)\n",
            "Requirement already satisfied: libclang>=9.0.1 in /usr/local/lib/python3.7/dist-packages (from tensorflow>=2.2->focal_loss) (14.0.1)\n",
            "Requirement already satisfied: opt-einsum>=2.3.2 in /usr/local/lib/python3.7/dist-packages (from tensorflow>=2.2->focal_loss) (3.3.0)\n",
            "Requirement already satisfied: keras-preprocessing>=1.1.1 in /usr/local/lib/python3.7/dist-packages (from tensorflow>=2.2->focal_loss) (1.1.2)\n",
            "Requirement already satisfied: gast>=0.2.1 in /usr/local/lib/python3.7/dist-packages (from tensorflow>=2.2->focal_loss) (0.5.3)\n",
            "Requirement already satisfied: absl-py>=0.4.0 in /usr/local/lib/python3.7/dist-packages (from tensorflow>=2.2->focal_loss) (1.0.0)\n",
            "Requirement already satisfied: grpcio<2.0,>=1.24.3 in /usr/local/lib/python3.7/dist-packages (from tensorflow>=2.2->focal_loss) (1.46.3)\n",
            "Requirement already satisfied: tensorboard<2.9,>=2.8 in /usr/local/lib/python3.7/dist-packages (from tensorflow>=2.2->focal_loss) (2.8.0)\n",
            "Requirement already satisfied: termcolor>=1.1.0 in /usr/local/lib/python3.7/dist-packages (from tensorflow>=2.2->focal_loss) (1.1.0)\n",
            "Requirement already satisfied: h5py>=2.9.0 in /usr/local/lib/python3.7/dist-packages (from tensorflow>=2.2->focal_loss) (3.1.0)\n",
            "Requirement already satisfied: keras<2.9,>=2.8.0rc0 in /usr/local/lib/python3.7/dist-packages (from tensorflow>=2.2->focal_loss) (2.8.0)\n",
            "Requirement already satisfied: flatbuffers>=1.12 in /usr/local/lib/python3.7/dist-packages (from tensorflow>=2.2->focal_loss) (2.0)\n",
            "Requirement already satisfied: tensorflow-estimator<2.9,>=2.8 in /usr/local/lib/python3.7/dist-packages (from tensorflow>=2.2->focal_loss) (2.8.0)\n",
            "Requirement already satisfied: astunparse>=1.6.0 in /usr/local/lib/python3.7/dist-packages (from tensorflow>=2.2->focal_loss) (1.6.3)\n",
            "Requirement already satisfied: typing-extensions>=3.6.6 in /usr/local/lib/python3.7/dist-packages (from tensorflow>=2.2->focal_loss) (4.2.0)\n",
            "Requirement already satisfied: google-pasta>=0.1.1 in /usr/local/lib/python3.7/dist-packages (from tensorflow>=2.2->focal_loss) (0.2.0)\n",
            "Requirement already satisfied: wheel<1.0,>=0.23.0 in /usr/local/lib/python3.7/dist-packages (from astunparse>=1.6.0->tensorflow>=2.2->focal_loss) (0.37.1)\n",
            "Requirement already satisfied: cached-property in /usr/local/lib/python3.7/dist-packages (from h5py>=2.9.0->tensorflow>=2.2->focal_loss) (1.5.2)\n",
            "Requirement already satisfied: google-auth<3,>=1.6.3 in /usr/local/lib/python3.7/dist-packages (from tensorboard<2.9,>=2.8->tensorflow>=2.2->focal_loss) (1.35.0)\n",
            "Requirement already satisfied: werkzeug>=0.11.15 in /usr/local/lib/python3.7/dist-packages (from tensorboard<2.9,>=2.8->tensorflow>=2.2->focal_loss) (1.0.1)\n",
            "Requirement already satisfied: requests<3,>=2.21.0 in /usr/local/lib/python3.7/dist-packages (from tensorboard<2.9,>=2.8->tensorflow>=2.2->focal_loss) (2.23.0)\n",
            "Requirement already satisfied: tensorboard-plugin-wit>=1.6.0 in /usr/local/lib/python3.7/dist-packages (from tensorboard<2.9,>=2.8->tensorflow>=2.2->focal_loss) (1.8.1)\n",
            "Requirement already satisfied: google-auth-oauthlib<0.5,>=0.4.1 in /usr/local/lib/python3.7/dist-packages (from tensorboard<2.9,>=2.8->tensorflow>=2.2->focal_loss) (0.4.6)\n",
            "Requirement already satisfied: tensorboard-data-server<0.7.0,>=0.6.0 in /usr/local/lib/python3.7/dist-packages (from tensorboard<2.9,>=2.8->tensorflow>=2.2->focal_loss) (0.6.1)\n",
            "Requirement already satisfied: markdown>=2.6.8 in /usr/local/lib/python3.7/dist-packages (from tensorboard<2.9,>=2.8->tensorflow>=2.2->focal_loss) (3.3.7)\n",
            "Requirement already satisfied: rsa<5,>=3.1.4 in /usr/local/lib/python3.7/dist-packages (from google-auth<3,>=1.6.3->tensorboard<2.9,>=2.8->tensorflow>=2.2->focal_loss) (4.8)\n",
            "Requirement already satisfied: cachetools<5.0,>=2.0.0 in /usr/local/lib/python3.7/dist-packages (from google-auth<3,>=1.6.3->tensorboard<2.9,>=2.8->tensorflow>=2.2->focal_loss) (4.2.4)\n",
            "Requirement already satisfied: pyasn1-modules>=0.2.1 in /usr/local/lib/python3.7/dist-packages (from google-auth<3,>=1.6.3->tensorboard<2.9,>=2.8->tensorflow>=2.2->focal_loss) (0.2.8)\n",
            "Requirement already satisfied: requests-oauthlib>=0.7.0 in /usr/local/lib/python3.7/dist-packages (from google-auth-oauthlib<0.5,>=0.4.1->tensorboard<2.9,>=2.8->tensorflow>=2.2->focal_loss) (1.3.1)\n",
            "Requirement already satisfied: importlib-metadata>=4.4 in /usr/local/lib/python3.7/dist-packages (from markdown>=2.6.8->tensorboard<2.9,>=2.8->tensorflow>=2.2->focal_loss) (4.11.4)\n",
            "Requirement already satisfied: zipp>=0.5 in /usr/local/lib/python3.7/dist-packages (from importlib-metadata>=4.4->markdown>=2.6.8->tensorboard<2.9,>=2.8->tensorflow>=2.2->focal_loss) (3.8.0)\n",
            "Requirement already satisfied: pyasn1<0.5.0,>=0.4.6 in /usr/local/lib/python3.7/dist-packages (from pyasn1-modules>=0.2.1->google-auth<3,>=1.6.3->tensorboard<2.9,>=2.8->tensorflow>=2.2->focal_loss) (0.4.8)\n",
            "Requirement already satisfied: idna<3,>=2.5 in /usr/local/lib/python3.7/dist-packages (from requests<3,>=2.21.0->tensorboard<2.9,>=2.8->tensorflow>=2.2->focal_loss) (2.10)\n",
            "Requirement already satisfied: certifi>=2017.4.17 in /usr/local/lib/python3.7/dist-packages (from requests<3,>=2.21.0->tensorboard<2.9,>=2.8->tensorflow>=2.2->focal_loss) (2022.5.18.1)\n",
            "Requirement already satisfied: chardet<4,>=3.0.2 in /usr/local/lib/python3.7/dist-packages (from requests<3,>=2.21.0->tensorboard<2.9,>=2.8->tensorflow>=2.2->focal_loss) (3.0.4)\n",
            "Requirement already satisfied: urllib3!=1.25.0,!=1.25.1,<1.26,>=1.21.1 in /usr/local/lib/python3.7/dist-packages (from requests<3,>=2.21.0->tensorboard<2.9,>=2.8->tensorflow>=2.2->focal_loss) (1.24.3)\n",
            "Requirement already satisfied: oauthlib>=3.0.0 in /usr/local/lib/python3.7/dist-packages (from requests-oauthlib>=0.7.0->google-auth-oauthlib<0.5,>=0.4.1->tensorboard<2.9,>=2.8->tensorflow>=2.2->focal_loss) (3.2.0)\n",
            "Requirement already satisfied: kiwisolver>=1.0.1 in /usr/local/lib/python3.7/dist-packages (from matplotlib->filterpy) (1.4.2)\n",
            "Requirement already satisfied: cycler>=0.10 in /usr/local/lib/python3.7/dist-packages (from matplotlib->filterpy) (0.11.0)\n",
            "Building wheels for collected packages: filterpy\n",
            "  Building wheel for filterpy (setup.py) ... \u001b[?25l\u001b[?25hdone\n",
            "  Created wheel for filterpy: filename=filterpy-1.4.5-py3-none-any.whl size=110474 sha256=ce8f407e6a8e4d8b5491d6683f4299cc47f38f44d63c60f02ce82ba76f0b5245\n",
            "  Stored in directory: /root/.cache/pip/wheels/ce/e0/ee/a2b3c5caab3418c1ccd8c4de573d4cbe13315d7e8b0a55fbc2\n",
            "Successfully built filterpy\n",
            "Installing collected packages: llvmlite, statsmodels, numba, deprecated, sktime, piexif, focal-loss, filterpy\n",
            "  Attempting uninstall: llvmlite\n",
            "    Found existing installation: llvmlite 0.34.0\n",
            "    Uninstalling llvmlite-0.34.0:\n",
            "      Successfully uninstalled llvmlite-0.34.0\n",
            "  Attempting uninstall: statsmodels\n",
            "    Found existing installation: statsmodels 0.10.2\n",
            "    Uninstalling statsmodels-0.10.2:\n",
            "      Successfully uninstalled statsmodels-0.10.2\n",
            "  Attempting uninstall: numba\n",
            "    Found existing installation: numba 0.51.2\n",
            "    Uninstalling numba-0.51.2:\n",
            "      Successfully uninstalled numba-0.51.2\n",
            "Successfully installed deprecated-1.2.13 filterpy-1.4.5 focal-loss-0.0.7 llvmlite-0.38.1 numba-0.55.2 piexif-1.1.3 sktime-0.11.4 statsmodels-0.13.2\n"
          ]
        }
      ]
    },
    {
      "cell_type": "markdown",
      "source": [
        "### Predict"
      ],
      "metadata": {
        "id": "0cKwf9FC_vEf"
      }
    },
    {
      "cell_type": "code",
      "source": [
        "for i in range(10):\n",
        "  video = '/content/gdrive/MyDrive/PadelMatchs/PremierRoma_Semis_LGBC_0_54_'+str(i)+'.mp4'\n",
        "  !python predict.py --video_path={video} "
      ],
      "metadata": {
        "id": "CMqw6NaF_zwJ",
        "outputId": "0dd007b4-2ce1-415e-ed05-6247dbc8a903",
        "colab": {
          "base_uri": "https://localhost:8080/"
        }
      },
      "execution_count": null,
      "outputs": [
        {
          "output_type": "stream",
          "name": "stdout",
          "text": [
            "2022-05-29 18:45:26.314328: W tensorflow/core/common_runtime/gpu/gpu_bfc_allocator.cc:39] Overriding allow_growth setting because the TF_FORCE_GPU_ALLOW_GROWTH environment variable is set. Original config value was 0.\n",
            "Load weights successfully\n",
            "Number of frames in video and dictionary are not the same!\n",
            "Fail to load, predict only.\n",
            "Beginning predicting......\n",
            "Traceback (most recent call last):\n",
            "  File \"predict.py\", line 116, in <module>\n",
            "    y_pred = model.predict(img_input, batch_size=BATCH_SIZE)\n",
            "  File \"/usr/local/lib/python3.7/dist-packages/keras/utils/traceback_utils.py\", line 67, in error_handler\n",
            "    raise e.with_traceback(filtered_tb) from None\n",
            "  File \"/usr/local/lib/python3.7/dist-packages/tensorflow/python/framework/ops.py\", line 4125, in _get_operation_by_name_unsafe\n",
            "    return self._nodes_by_name[name]\n",
            "KeyError: 'res_net__track/sequential_10/res_net__bottle_neck_15/batch_normalization_56/FusedBatchNormV3'\n",
            "2022-05-29 18:45:32.777034: W tensorflow/core/common_runtime/gpu/gpu_bfc_allocator.cc:39] Overriding allow_growth setting because the TF_FORCE_GPU_ALLOW_GROWTH environment variable is set. Original config value was 0.\n",
            "Load weights successfully\n",
            "Number of frames in video and dictionary are not the same!\n",
            "Fail to load, predict only.\n",
            "Beginning predicting......\n",
            "Done......\n",
            "2022-05-29 18:45:52.466100: W tensorflow/core/common_runtime/gpu/gpu_bfc_allocator.cc:39] Overriding allow_growth setting because the TF_FORCE_GPU_ALLOW_GROWTH environment variable is set. Original config value was 0.\n",
            "Load weights successfully\n",
            "Number of frames in video and dictionary are not the same!\n",
            "Fail to load, predict only.\n",
            "Beginning predicting......\n",
            "Done......\n",
            "2022-05-29 18:47:23.745535: W tensorflow/core/common_runtime/gpu/gpu_bfc_allocator.cc:39] Overriding allow_growth setting because the TF_FORCE_GPU_ALLOW_GROWTH environment variable is set. Original config value was 0.\n",
            "Load weights successfully\n",
            "Number of frames in video and dictionary are not the same!\n",
            "Fail to load, predict only.\n",
            "Beginning predicting......\n",
            "Done......\n",
            "2022-05-29 18:48:14.500345: W tensorflow/core/common_runtime/gpu/gpu_bfc_allocator.cc:39] Overriding allow_growth setting because the TF_FORCE_GPU_ALLOW_GROWTH environment variable is set. Original config value was 0.\n",
            "Load weights successfully\n",
            "Number of frames in video and dictionary are not the same!\n",
            "Fail to load, predict only.\n",
            "Beginning predicting......\n",
            "Done......\n",
            "2022-05-29 18:48:52.912222: W tensorflow/core/common_runtime/gpu/gpu_bfc_allocator.cc:39] Overriding allow_growth setting because the TF_FORCE_GPU_ALLOW_GROWTH environment variable is set. Original config value was 0.\n",
            "Load weights successfully\n",
            "Number of frames in video and dictionary are not the same!\n",
            "Fail to load, predict only.\n",
            "Beginning predicting......\n",
            "Done......\n",
            "2022-05-29 18:49:20.209323: W tensorflow/core/common_runtime/gpu/gpu_bfc_allocator.cc:39] Overriding allow_growth setting because the TF_FORCE_GPU_ALLOW_GROWTH environment variable is set. Original config value was 0.\n",
            "Load weights successfully\n",
            "Number of frames in video and dictionary are not the same!\n",
            "Fail to load, predict only.\n",
            "Beginning predicting......\n",
            "Done......\n",
            "2022-05-29 18:50:16.194081: W tensorflow/core/common_runtime/gpu/gpu_bfc_allocator.cc:39] Overriding allow_growth setting because the TF_FORCE_GPU_ALLOW_GROWTH environment variable is set. Original config value was 0.\n",
            "Load weights successfully\n",
            "Number of frames in video and dictionary are not the same!\n",
            "Fail to load, predict only.\n",
            "Beginning predicting......\n",
            "Done......\n",
            "2022-05-29 18:50:45.174923: W tensorflow/core/common_runtime/gpu/gpu_bfc_allocator.cc:39] Overriding allow_growth setting because the TF_FORCE_GPU_ALLOW_GROWTH environment variable is set. Original config value was 0.\n",
            "Load weights successfully\n",
            "Number of frames in video and dictionary are not the same!\n",
            "Fail to load, predict only.\n",
            "Beginning predicting......\n",
            "Done......\n",
            "2022-05-29 18:51:07.936507: W tensorflow/core/common_runtime/gpu/gpu_bfc_allocator.cc:39] Overriding allow_growth setting because the TF_FORCE_GPU_ALLOW_GROWTH environment variable is set. Original config value was 0.\n",
            "Load weights successfully\n",
            "Number of frames in video and dictionary are not the same!\n",
            "Fail to load, predict only.\n",
            "Beginning predicting......\n",
            "Done......\n"
          ]
        }
      ]
    },
    {
      "cell_type": "markdown",
      "source": [
        "### Test accuracy"
      ],
      "metadata": {
        "id": "kYRim2mxaOXK"
      }
    },
    {
      "cell_type": "code",
      "source": [
        "file_name = 'Final_PremierQatar_Tie'\n",
        "weights_path = '/content/gdrive/MyDrive/PadelModels/TrackNetWeights/TrackNet-PadelClean3'\n",
        "point_n = 0\n",
        "for point_n in range(9,13):\n",
        "  video = 'raw_data/points/'+file_name+\"_\"+str(point_n)+\".mp4\"\n",
        "  print(video)\n",
        "  csv = 'raw_data/points/'+file_name+\"_\"+str(point_n)+\".csv\"\n",
        "  res = 'raw_data/points/'+file_name+\"_\"+str(point_n)+\".resPadel.txt\"\n",
        "  !python ../TrackNet-Padel/predict.py --video_path={video} --label_path={csv} --load_weights={weights_path} # 2>&1 | tee {res}"
      ],
      "metadata": {
        "id": "vk6QsNkIEJlY",
        "outputId": "443f4d1c-3bae-4635-ec44-74e4c60322f8",
        "colab": {
          "base_uri": "https://localhost:8080/"
        }
      },
      "execution_count": 22,
      "outputs": [
        {
          "output_type": "stream",
          "name": "stdout",
          "text": [
            "raw_data/points/Final_PremierQatar_Tie_9.mp4\n",
            "2022-06-01 06:48:49.152945: W tensorflow/core/common_runtime/gpu/gpu_bfc_allocator.cc:39] Overriding allow_growth setting because the TF_FORCE_GPU_ALLOW_GROWTH environment variable is set. Original config value was 0.\n",
            "Load weights successfully\n",
            "Load csv file successfully\n",
            "Beginning predicting......\n",
            "==========================================================\n",
            "Number of true positive: 144\n",
            "Number of true negative: 64\n",
            "Number of false positive FP1: 11\n",
            "Number of false positive FP2: 3\n",
            "Number of false negative: 166\n",
            "Accuracy: 0.5360824742268041\n",
            "Precision: 0.9113924050632911\n",
            "Recall: 0.4645161290322581\n",
            "Total Time: 32.25340986251831\n",
            "(ACC + Pre + Rec)/3: 0.637330336107451\n",
            "Done......\n",
            "raw_data/points/Final_PremierQatar_Tie_10.mp4\n",
            "2022-06-01 06:49:32.997802: W tensorflow/core/common_runtime/gpu/gpu_bfc_allocator.cc:39] Overriding allow_growth setting because the TF_FORCE_GPU_ALLOW_GROWTH environment variable is set. Original config value was 0.\n",
            "Load weights successfully\n",
            "Load csv file successfully\n",
            "Beginning predicting......\n",
            "Traceback (most recent call last):\n",
            "  File \"../TrackNet-Padel/predict.py\", line 116, in <module>\n",
            "    y_pred = model.predict(img_input, batch_size=BATCH_SIZE)\n",
            "  File \"/usr/local/lib/python3.7/dist-packages/keras/utils/traceback_utils.py\", line 64, in error_handler\n",
            "    return fn(*args, **kwargs)\n",
            "  File \"/usr/local/lib/python3.7/dist-packages/keras/engine/training.py\", line 1978, in predict\n",
            "  File \"/usr/local/lib/python3.7/dist-packages/keras/engine/data_adapter.py\", line 1191, in enumerate_epochs\n",
            "    data_iterator = iter(self._dataset)\n",
            "  File \"/usr/local/lib/python3.7/dist-packages/tensorflow/python/data/ops/dataset_ops.py\", line 486, in __iter__\n",
            "    return iterator_ops.OwnedIterator(self)\n",
            "  File \"/usr/local/lib/python3.7/dist-packages/tensorflow/python/data/ops/iterator_ops.py\", line 755, in __init__\n",
            "    self._create_iterator(dataset)\n",
            "  File \"/usr/local/lib/python3.7/dist-packages/tensorflow/python/data/ops/iterator_ops.py\", line 787, in _create_iterator\n",
            "    gen_dataset_ops.make_iterator(ds_variant, self._iterator_resource)\n",
            "  File \"/usr/local/lib/python3.7/dist-packages/tensorflow/python/ops/gen_dataset_ops.py\", line 3316, in make_iterator\n",
            "    _ctx, \"MakeIterator\", name, dataset, iterator)\n",
            "KeyboardInterrupt\n",
            "raw_data/points/Final_PremierQatar_Tie_11.mp4\n",
            "2022-06-01 06:49:46.633895: W tensorflow/core/common_runtime/gpu/gpu_bfc_allocator.cc:39] Overriding allow_growth setting because the TF_FORCE_GPU_ALLOW_GROWTH environment variable is set. Original config value was 0.\n",
            "Load weights successfully\n",
            "Load csv file successfully\n",
            "Beginning predicting......\n",
            "==========================================================\n",
            "Number of true positive: 121\n",
            "Number of true negative: 77\n",
            "Number of false positive FP1: 9\n",
            "Number of false positive FP2: 3\n",
            "Number of false negative: 88\n",
            "Accuracy: 0.6644295302013423\n",
            "Precision: 0.9097744360902256\n",
            "Recall: 0.5789473684210527\n",
            "Total Time: 25.795069932937622\n",
            "(ACC + Pre + Rec)/3: 0.7177171115708735\n",
            "Done......\n",
            "raw_data/points/Final_PremierQatar_Tie_12.mp4\n",
            "2022-06-01 06:50:22.350618: W tensorflow/core/common_runtime/gpu/gpu_bfc_allocator.cc:39] Overriding allow_growth setting because the TF_FORCE_GPU_ALLOW_GROWTH environment variable is set. Original config value was 0.\n",
            "Load weights successfully\n",
            "Load csv file successfully\n",
            "Beginning predicting......\n",
            "==========================================================\n",
            "Number of true positive: 74\n",
            "Number of true negative: 32\n",
            "Number of false positive FP1: 5\n",
            "Number of false positive FP2: 11\n",
            "Number of false negative: 41\n",
            "Accuracy: 0.6503067484662577\n",
            "Precision: 0.8222222222222222\n",
            "Recall: 0.6434782608695652\n",
            "Total Time: 16.850162029266357\n",
            "(ACC + Pre + Rec)/3: 0.7053357438526816\n",
            "Done......\n"
          ]
        }
      ]
    },
    {
      "cell_type": "markdown",
      "source": [
        "### Train Padel"
      ],
      "metadata": {
        "id": "zC_-P-lCd91A"
      }
    },
    {
      "cell_type": "code",
      "source": [
        "!mv raw_data/*.* raw_data/points/\n",
        "for point_n in range(9):\n",
        "  files = 'raw_data/points/clean/*_'+str(point_n)+'\\.*'\n",
        "  print(files)\n",
        "  !mv {files} raw_data/"
      ],
      "metadata": {
        "id": "md3C9pyjd_0w",
        "outputId": "882c037b-8011-4d8b-da8c-cae38a06ba69",
        "colab": {
          "base_uri": "https://localhost:8080/"
        }
      },
      "execution_count": 5,
      "outputs": [
        {
          "output_type": "stream",
          "name": "stdout",
          "text": [
            "raw_data/points/clean/*_0\\.*\n",
            "raw_data/points/clean/*_1\\.*\n",
            "raw_data/points/clean/*_2\\.*\n",
            "raw_data/points/clean/*_3\\.*\n",
            "raw_data/points/clean/*_4\\.*\n",
            "raw_data/points/clean/*_5\\.*\n",
            "raw_data/points/clean/*_6\\.*\n",
            "raw_data/points/clean/*_7\\.*\n",
            "raw_data/points/clean/*_8\\.*\n"
          ]
        }
      ]
    },
    {
      "cell_type": "code",
      "source": [
        "!rm -rf train_data/*\n",
        "!python video2img.py "
      ],
      "metadata": {
        "id": "3GWuVXlNeXjG",
        "outputId": "a54b81bb-3317-4073-9175-613a11ecac3e",
        "colab": {
          "base_uri": "https://localhost:8080/"
        }
      },
      "execution_count": 6,
      "outputs": [
        {
          "output_type": "stream",
          "name": "stdout",
          "text": [
            "==========Convert End==========\n",
            "Convert Video: raw_data/PremierRoma_Semis_LGBC_1_00_1.mp4\n",
            "==========Convert End==========\n",
            "Convert Video: raw_data/PremierRoma_Semis_LGBC_1_00_2.mp4\n",
            "==========Convert End==========\n",
            "Convert Video: raw_data/PremierRoma_Semis_LGBC_1_00_4.mp4\n",
            "==========Convert End==========\n",
            "Convert Video: raw_data/PremierRoma_Semis_LGBC_1_00_6.mp4\n",
            "==========Convert End==========\n",
            "Convert Video: raw_data/PremierRoma_Semis_LGBC_1_00_7.mp4\n",
            "==========Convert End==========\n",
            "Convert Video: raw_data/PremierRoma_Semis_LGBC_1_00_8.mp4\n",
            "==========Convert End==========\n",
            "Convert Video: raw_data/PremierRoma_Semis_LGBC_1_01_0.mp4\n",
            "==========Convert End==========\n",
            "Convert Video: raw_data/PremierRoma_Semis_LGBC_1_01_1.mp4\n",
            "==========Convert End==========\n",
            "Convert Video: raw_data/PremierRoma_Semis_LGBC_1_01_2.mp4\n",
            "==========Convert End==========\n",
            "Convert Video: raw_data/PremierRoma_Semis_LGBC_1_01_3.mp4\n",
            "==========Convert End==========\n",
            "Convert Video: raw_data/PremierRoma_Semis_LGBC_1_02_0.mp4\n",
            "==========Convert End==========\n",
            "Convert Video: raw_data/PremierRoma_Semis_LGBC_1_02_1.mp4\n",
            "==========Convert End==========\n",
            "Convert Video: raw_data/PremierRoma_Semis_LGBC_1_13_3.mp4\n",
            "==========Convert End==========\n",
            "Convert Video: raw_data/PremierRoma_Semis_LGBC_1_14_0.mp4\n",
            "==========Convert End==========\n",
            "Convert Video: raw_data/PremierRoma_Semis_LGBC_1_14_1.mp4\n",
            "==========Convert End==========\n",
            "Convert Video: raw_data/PremierRoma_Semis_LGBC_1_14_2.mp4\n",
            "==========Convert End==========\n",
            "Convert Video: raw_data/PremierRoma_Semis_LGBC_1_14_4.mp4\n",
            "==========Convert End==========\n",
            "Convert Video: raw_data/PremierRoma_Semis_LGBC_1_14_5.mp4\n",
            "==========Convert End==========\n",
            "Convert Video: raw_data/PremierRoma_Semis_LGBC_1_24_0.mp4\n",
            "==========Convert End==========\n",
            "Convert Video: raw_data/PremierRoma_Semis_LGBC_1_24_1.mp4\n",
            "==========Convert End==========\n",
            "Convert Video: raw_data/PremierRoma_Semis_LGBC_1_24_2.mp4\n",
            "==========Convert End==========\n",
            "Convert Video: raw_data/PremierRoma_Semis_LGBC_1_24_3.mp4\n",
            "==========Convert End==========\n",
            "Convert Video: raw_data/PremierRoma_Semis_LGBC_1_24_4.mp4\n",
            "==========Convert End==========\n",
            "Convert Video: raw_data/PremierRoma_Semis_LGBC_1_24_5.mp4\n",
            "==========Convert End==========\n"
          ]
        }
      ]
    },
    {
      "cell_type": "markdown",
      "source": [
        "*   TrackNet-PadelClean2: Entrenado solo con padel, pocos frames (5000) limpios (solo fragmentos con la bola en juego). --lr=10\n",
        "*   TrackNet-PadelClean3: Continuación, 50 epochs --batch_size=5, con 7000 frames (alcanza 0.956 en la validación. - loss:1.20e-4)\n",
        "*   TrackNet-PadelClean4: Continuación, +50epochs --bacth_size=5, con 12000 frames, --lr=1 (alcanza 0.94 en la validación. - loss:1.18e-4)"
      ],
      "metadata": {
        "id": "XEJOfi0xGbJ6"
      }
    },
    {
      "cell_type": "code",
      "source": [
        "weights_path = '/content/gdrive/MyDrive/PadelModels/TrackNetWeights/TrackNet-PadelClean4'\n",
        "!python train.py --save_weights={weights_path}  --batch_size=5 --lr=10  --pre_trained=True  --load_weights={weights_path}"
      ],
      "metadata": {
        "id": "L72l_-tseyd9",
        "outputId": "43237cbe-0d7e-4906-f710-8283badbc527",
        "colab": {
          "base_uri": "https://localhost:8080/"
        }
      },
      "execution_count": 7,
      "outputs": [
        {
          "output_type": "stream",
          "name": "stdout",
          "text": [
            "lerning rate: 10.0\n",
            "2022-06-01 18:40:42.729072: W tensorflow/core/common_runtime/gpu/gpu_bfc_allocator.cc:39] Overriding allow_growth setting because the TF_FORCE_GPU_ALLOW_GROWTH environment variable is set. Original config value was 0.\n",
            "Beginning training......\n",
            "==========Epoch 0, Train steps: 2256, Learning rate: 1.0000==========\n",
            "2256/2256 [==============================] - 896s 391ms/step - loss: 1.4994e-04 - binary_accuracy: 0.9996\n",
            "==========Epoch 0 start validation==========\n",
            "Epoch 0 accuracy: 0.852\n",
            "Epoch 0 precision: 0.981\n",
            "Epoch 0 recall: 0.847\n",
            "Epoch 0 average = (accuracy + precision + recall)/3: 0.893\n",
            "==========Epoch 1, Train steps: 2256, Learning rate: 1.0000==========\n",
            "2256/2256 [==============================] - 878s 389ms/step - loss: 1.4660e-04 - binary_accuracy: 0.9996\n",
            "==========Epoch 1 start validation==========\n",
            "Epoch 1 accuracy: 0.848\n",
            "Epoch 1 precision: 0.977\n",
            "Epoch 1 recall: 0.856\n",
            "Epoch 1 average = (accuracy + precision + recall)/3: 0.894\n",
            "==========Epoch 2, Train steps: 2256, Learning rate: 1.0000==========\n",
            "2256/2256 [==============================] - 877s 389ms/step - loss: 1.4409e-04 - binary_accuracy: 0.9996\n",
            "==========Epoch 2 start validation==========\n",
            "Epoch 2 accuracy: 0.887\n",
            "Epoch 2 precision: 0.984\n",
            "Epoch 2 recall: 0.884\n",
            "Epoch 2 average = (accuracy + precision + recall)/3: 0.918\n",
            "==========Epoch 3, Train steps: 2256, Learning rate: 1.0000==========\n",
            "2256/2256 [==============================] - 878s 389ms/step - loss: 1.4202e-04 - binary_accuracy: 0.9996\n",
            "==========Epoch 3 start validation==========\n",
            "Epoch 3 accuracy: 0.825\n",
            "Epoch 3 precision: 0.972\n",
            "Epoch 3 recall: 0.817\n",
            "Epoch 3 average = (accuracy + precision + recall)/3: 0.871\n",
            "==========Epoch 4, Train steps: 2256, Learning rate: 1.0000==========\n",
            "2256/2256 [==============================] - 877s 389ms/step - loss: 1.4025e-04 - binary_accuracy: 0.9996\n",
            "==========Epoch 4 start validation==========\n",
            "Epoch 4 accuracy: 0.900\n",
            "Epoch 4 precision: 0.981\n",
            "Epoch 4 recall: 0.903\n",
            "Epoch 4 average = (accuracy + precision + recall)/3: 0.928\n",
            "==========Epoch 5, Train steps: 2256, Learning rate: 1.0000==========\n",
            "2256/2256 [==============================] - 877s 389ms/step - loss: 1.3875e-04 - binary_accuracy: 0.9996\n",
            "==========Epoch 5 start validation==========\n",
            "Epoch 5 accuracy: 0.837\n",
            "Epoch 5 precision: 0.972\n",
            "Epoch 5 recall: 0.829\n",
            "Epoch 5 average = (accuracy + precision + recall)/3: 0.879\n",
            "==========Epoch 6, Train steps: 2256, Learning rate: 1.0000==========\n",
            "2256/2256 [==============================] - 877s 389ms/step - loss: 1.3741e-04 - binary_accuracy: 0.9996\n",
            "==========Epoch 6 start validation==========\n",
            "Epoch 6 accuracy: 0.837\n",
            "Epoch 6 precision: 0.968\n",
            "Epoch 6 recall: 0.845\n",
            "Epoch 6 average = (accuracy + precision + recall)/3: 0.883\n",
            "==========Epoch 7, Train steps: 2256, Learning rate: 1.0000==========\n",
            "2256/2256 [==============================] - 877s 389ms/step - loss: 1.3629e-04 - binary_accuracy: 0.9996\n",
            "==========Epoch 7 start validation==========\n",
            "Epoch 7 accuracy: 0.896\n",
            "Epoch 7 precision: 0.986\n",
            "Epoch 7 recall: 0.895\n",
            "Epoch 7 average = (accuracy + precision + recall)/3: 0.926\n",
            "==========Epoch 8, Train steps: 2256, Learning rate: 1.0000==========\n",
            "2256/2256 [==============================] - 877s 389ms/step - loss: 1.3529e-04 - binary_accuracy: 0.9996\n",
            "==========Epoch 8 start validation==========\n",
            "Epoch 8 accuracy: 0.797\n",
            "Epoch 8 precision: 0.966\n",
            "Epoch 8 recall: 0.804\n",
            "Epoch 8 average = (accuracy + precision + recall)/3: 0.856\n",
            "==========Epoch 9, Train steps: 2256, Learning rate: 1.0000==========\n",
            "2256/2256 [==============================] - 877s 389ms/step - loss: 1.3440e-04 - binary_accuracy: 0.9996\n",
            "==========Epoch 9 start validation==========\n",
            "Epoch 9 accuracy: 0.868\n",
            "Epoch 9 precision: 0.981\n",
            "Epoch 9 recall: 0.869\n",
            "Epoch 9 average = (accuracy + precision + recall)/3: 0.906\n",
            "==========Epoch 10, Train steps: 2256, Learning rate: 1.0000==========\n",
            "2256/2256 [==============================] - 878s 389ms/step - loss: 1.3355e-04 - binary_accuracy: 0.9996\n",
            "==========Epoch 10 start validation==========\n",
            "Epoch 10 accuracy: 0.892\n",
            "Epoch 10 precision: 0.981\n",
            "Epoch 10 recall: 0.898\n",
            "Epoch 10 average = (accuracy + precision + recall)/3: 0.924\n",
            "==========Epoch 11, Train steps: 2256, Learning rate: 1.0000==========\n",
            "2256/2256 [==============================] - 882s 391ms/step - loss: 1.3277e-04 - binary_accuracy: 0.9996\n",
            "==========Epoch 11 start validation==========\n",
            "Epoch 11 accuracy: 0.848\n",
            "Epoch 11 precision: 0.982\n",
            "Epoch 11 recall: 0.835\n",
            "Epoch 11 average = (accuracy + precision + recall)/3: 0.888\n",
            "==========Epoch 12, Train steps: 2256, Learning rate: 1.0000==========\n",
            "2256/2256 [==============================] - 881s 391ms/step - loss: 1.3205e-04 - binary_accuracy: 0.9996\n",
            "==========Epoch 12 start validation==========\n",
            "Epoch 12 accuracy: 0.854\n",
            "Epoch 12 precision: 0.980\n",
            "Epoch 12 recall: 0.854\n",
            "Epoch 12 average = (accuracy + precision + recall)/3: 0.896\n",
            "==========Epoch 13, Train steps: 2256, Learning rate: 1.0000==========\n",
            "2256/2256 [==============================] - 881s 390ms/step - loss: 1.3140e-04 - binary_accuracy: 0.9996\n",
            "==========Epoch 13 start validation==========\n",
            "Epoch 13 accuracy: 0.806\n",
            "Epoch 13 precision: 0.965\n",
            "Epoch 13 recall: 0.815\n",
            "Epoch 13 average = (accuracy + precision + recall)/3: 0.862\n",
            "==========Epoch 14, Train steps: 2256, Learning rate: 1.0000==========\n",
            "2256/2256 [==============================] - 882s 391ms/step - loss: 1.3076e-04 - binary_accuracy: 0.9996\n",
            "==========Epoch 14 start validation==========\n",
            "Epoch 14 accuracy: 0.909\n",
            "Epoch 14 precision: 0.987\n",
            "Epoch 14 recall: 0.909\n",
            "Epoch 14 average = (accuracy + precision + recall)/3: 0.935\n",
            "==========Epoch 15, Train steps: 2256, Learning rate: 1.0000==========\n",
            "2256/2256 [==============================] - 881s 391ms/step - loss: 1.3018e-04 - binary_accuracy: 0.9996\n",
            "==========Epoch 15 start validation==========\n",
            "Epoch 15 accuracy: 0.920\n",
            "Epoch 15 precision: 0.985\n",
            "Epoch 15 recall: 0.920\n",
            "Epoch 15 average = (accuracy + precision + recall)/3: 0.942\n",
            "==========Epoch 16, Train steps: 2256, Learning rate: 1.0000==========\n",
            "2256/2256 [==============================] - 881s 391ms/step - loss: 1.2961e-04 - binary_accuracy: 0.9996\n",
            "==========Epoch 16 start validation==========\n",
            "Epoch 16 accuracy: 0.918\n",
            "Epoch 16 precision: 0.989\n",
            "Epoch 16 recall: 0.917\n",
            "Epoch 16 average = (accuracy + precision + recall)/3: 0.942\n",
            "==========Epoch 17, Train steps: 2256, Learning rate: 1.0000==========\n",
            "2256/2256 [==============================] - 882s 391ms/step - loss: 1.2906e-04 - binary_accuracy: 0.9996\n",
            "==========Epoch 17 start validation==========\n",
            "Epoch 17 accuracy: 0.914\n",
            "Epoch 17 precision: 0.992\n",
            "Epoch 17 recall: 0.908\n",
            "Epoch 17 average = (accuracy + precision + recall)/3: 0.938\n",
            "==========Epoch 18, Train steps: 2256, Learning rate: 1.0000==========\n",
            "2256/2256 [==============================] - 882s 391ms/step - loss: 1.2855e-04 - binary_accuracy: 0.9996\n",
            "==========Epoch 18 start validation==========\n",
            "Epoch 18 accuracy: 0.901\n",
            "Epoch 18 precision: 0.987\n",
            "Epoch 18 recall: 0.904\n",
            "Epoch 18 average = (accuracy + precision + recall)/3: 0.931\n",
            "==========Epoch 19, Train steps: 2256, Learning rate: 1.0000==========\n",
            "2256/2256 [==============================] - 881s 391ms/step - loss: 1.2803e-04 - binary_accuracy: 0.9996\n",
            "==========Epoch 19 start validation==========\n",
            "Epoch 19 accuracy: 0.846\n",
            "Epoch 19 precision: 0.983\n",
            "Epoch 19 recall: 0.851\n",
            "Epoch 19 average = (accuracy + precision + recall)/3: 0.893\n",
            "==========Epoch 20, Train steps: 2256, Learning rate: 1.0000==========\n",
            "2256/2256 [==============================] - 882s 391ms/step - loss: 1.2752e-04 - binary_accuracy: 0.9996\n",
            "==========Epoch 20 start validation==========\n",
            "Epoch 20 accuracy: 0.933\n",
            "Epoch 20 precision: 0.986\n",
            "Epoch 20 recall: 0.937\n",
            "Epoch 20 average = (accuracy + precision + recall)/3: 0.952\n",
            "==========Epoch 21, Train steps: 2256, Learning rate: 1.0000==========\n",
            "2256/2256 [==============================] - 881s 391ms/step - loss: 1.2705e-04 - binary_accuracy: 0.9996\n",
            "==========Epoch 21 start validation==========\n",
            "Epoch 21 accuracy: 0.914\n",
            "Epoch 21 precision: 0.982\n",
            "Epoch 21 recall: 0.928\n",
            "Epoch 21 average = (accuracy + precision + recall)/3: 0.941\n",
            "==========Epoch 22, Train steps: 2256, Learning rate: 1.0000==========\n",
            "2256/2256 [==============================] - 881s 391ms/step - loss: 1.2662e-04 - binary_accuracy: 0.9996\n",
            "==========Epoch 22 start validation==========\n",
            "Epoch 22 accuracy: 0.894\n",
            "Epoch 22 precision: 0.983\n",
            "Epoch 22 recall: 0.893\n",
            "Epoch 22 average = (accuracy + precision + recall)/3: 0.923\n",
            "==========Epoch 23, Train steps: 2256, Learning rate: 1.0000==========\n",
            "2256/2256 [==============================] - 882s 391ms/step - loss: 1.2616e-04 - binary_accuracy: 0.9996\n",
            "==========Epoch 23 start validation==========\n",
            "Epoch 23 accuracy: 0.874\n",
            "Epoch 23 precision: 0.985\n",
            "Epoch 23 recall: 0.873\n",
            "Epoch 23 average = (accuracy + precision + recall)/3: 0.911\n",
            "==========Epoch 24, Train steps: 2256, Learning rate: 1.0000==========\n",
            "2256/2256 [==============================] - 881s 391ms/step - loss: 1.2575e-04 - binary_accuracy: 0.9996\n",
            "==========Epoch 24 start validation==========\n",
            "Epoch 24 accuracy: 0.873\n",
            "Epoch 24 precision: 0.975\n",
            "Epoch 24 recall: 0.883\n",
            "Epoch 24 average = (accuracy + precision + recall)/3: 0.910\n",
            "==========Epoch 25, Train steps: 2256, Learning rate: 1.0000==========\n",
            "2256/2256 [==============================] - 881s 391ms/step - loss: 1.2537e-04 - binary_accuracy: 0.9996\n",
            "==========Epoch 25 start validation==========\n",
            "Epoch 25 accuracy: 0.871\n",
            "Epoch 25 precision: 0.977\n",
            "Epoch 25 recall: 0.879\n",
            "Epoch 25 average = (accuracy + precision + recall)/3: 0.909\n",
            "==========Epoch 26, Train steps: 2256, Learning rate: 1.0000==========\n",
            "2256/2256 [==============================] - 881s 391ms/step - loss: 1.2496e-04 - binary_accuracy: 0.9996\n",
            "==========Epoch 26 start validation==========\n",
            "Epoch 26 accuracy: 0.870\n",
            "Epoch 26 precision: 0.975\n",
            "Epoch 26 recall: 0.883\n",
            "Epoch 26 average = (accuracy + precision + recall)/3: 0.909\n",
            "==========Epoch 27, Train steps: 2256, Learning rate: 1.0000==========\n",
            "2256/2256 [==============================] - 881s 391ms/step - loss: 1.2459e-04 - binary_accuracy: 0.9996\n",
            "==========Epoch 27 start validation==========\n",
            "Epoch 27 accuracy: 0.922\n",
            "Epoch 27 precision: 0.989\n",
            "Epoch 27 recall: 0.924\n",
            "Epoch 27 average = (accuracy + precision + recall)/3: 0.945\n",
            "==========Epoch 28, Train steps: 2256, Learning rate: 1.0000==========\n",
            "2256/2256 [==============================] - 881s 391ms/step - loss: 1.2421e-04 - binary_accuracy: 0.9996\n",
            "==========Epoch 28 start validation==========\n",
            "Epoch 28 accuracy: 0.925\n",
            "Epoch 28 precision: 0.983\n",
            "Epoch 28 recall: 0.928\n",
            "Epoch 28 average = (accuracy + precision + recall)/3: 0.946\n",
            "==========Epoch 29, Train steps: 2256, Learning rate: 1.0000==========\n",
            "2256/2256 [==============================] - 881s 391ms/step - loss: 1.2387e-04 - binary_accuracy: 0.9996\n",
            "==========Epoch 29 start validation==========\n",
            "Epoch 29 accuracy: 0.898\n",
            "Epoch 29 precision: 0.975\n",
            "Epoch 29 recall: 0.906\n",
            "Epoch 29 average = (accuracy + precision + recall)/3: 0.927\n",
            "==========Epoch 30, Train steps: 2256, Learning rate: 1.0000==========\n",
            "2256/2256 [==============================] - 881s 391ms/step - loss: 1.2352e-04 - binary_accuracy: 0.9996\n",
            "==========Epoch 30 start validation==========\n",
            "Epoch 30 accuracy: 0.887\n",
            "Epoch 30 precision: 0.971\n",
            "Epoch 30 recall: 0.896\n",
            "Epoch 30 average = (accuracy + precision + recall)/3: 0.918\n",
            "==========Epoch 31, Train steps: 2256, Learning rate: 1.0000==========\n",
            "2256/2256 [==============================] - 882s 391ms/step - loss: 1.2319e-04 - binary_accuracy: 0.9996\n",
            "==========Epoch 31 start validation==========\n",
            "Epoch 31 accuracy: 0.909\n",
            "Epoch 31 precision: 0.981\n",
            "Epoch 31 recall: 0.916\n",
            "Epoch 31 average = (accuracy + precision + recall)/3: 0.935\n",
            "==========Epoch 32, Train steps: 2256, Learning rate: 1.0000==========\n",
            "2256/2256 [==============================] - 882s 391ms/step - loss: 1.2286e-04 - binary_accuracy: 0.9996\n",
            "==========Epoch 32 start validation==========\n",
            "Epoch 32 accuracy: 0.869\n",
            "Epoch 32 precision: 0.978\n",
            "Epoch 32 recall: 0.873\n",
            "Epoch 32 average = (accuracy + precision + recall)/3: 0.907\n",
            "==========Epoch 33, Train steps: 2256, Learning rate: 1.0000==========\n",
            "2256/2256 [==============================] - 882s 391ms/step - loss: 1.2257e-04 - binary_accuracy: 0.9996\n",
            "==========Epoch 33 start validation==========\n",
            "Epoch 33 accuracy: 0.884\n",
            "Epoch 33 precision: 0.973\n",
            "Epoch 33 recall: 0.888\n",
            "Epoch 33 average = (accuracy + precision + recall)/3: 0.915\n",
            "==========Epoch 34, Train steps: 2256, Learning rate: 1.0000==========\n",
            "2256/2256 [==============================] - 881s 391ms/step - loss: 1.2226e-04 - binary_accuracy: 0.9996\n",
            "==========Epoch 34 start validation==========\n",
            "Epoch 34 accuracy: 0.883\n",
            "Epoch 34 precision: 0.974\n",
            "Epoch 34 recall: 0.891\n",
            "Epoch 34 average = (accuracy + precision + recall)/3: 0.916\n",
            "==========Epoch 35, Train steps: 2256, Learning rate: 1.0000==========\n",
            "2256/2256 [==============================] - 881s 391ms/step - loss: 1.2194e-04 - binary_accuracy: 0.9996\n",
            "==========Epoch 35 start validation==========\n",
            "Epoch 35 accuracy: 0.882\n",
            "Epoch 35 precision: 0.983\n",
            "Epoch 35 recall: 0.886\n",
            "Epoch 35 average = (accuracy + precision + recall)/3: 0.917\n",
            "==========Epoch 36, Train steps: 2256, Learning rate: 1.0000==========\n",
            "2256/2256 [==============================] - 881s 391ms/step - loss: 1.2164e-04 - binary_accuracy: 0.9996\n",
            "==========Epoch 36 start validation==========\n",
            "Epoch 36 accuracy: 0.919\n",
            "Epoch 36 precision: 0.983\n",
            "Epoch 36 recall: 0.925\n",
            "Epoch 36 average = (accuracy + precision + recall)/3: 0.942\n",
            "==========Epoch 37, Train steps: 2256, Learning rate: 1.0000==========\n",
            "2256/2256 [==============================] - 881s 391ms/step - loss: 1.2135e-04 - binary_accuracy: 0.9996\n",
            "==========Epoch 37 start validation==========\n",
            "Epoch 37 accuracy: 0.902\n",
            "Epoch 37 precision: 0.981\n",
            "Epoch 37 recall: 0.913\n",
            "Epoch 37 average = (accuracy + precision + recall)/3: 0.932\n",
            "==========Epoch 38, Train steps: 2256, Learning rate: 1.0000==========\n",
            "2256/2256 [==============================] - 881s 390ms/step - loss: 1.2105e-04 - binary_accuracy: 0.9996\n",
            "==========Epoch 38 start validation==========\n",
            "Epoch 38 accuracy: 0.936\n",
            "Epoch 38 precision: 0.983\n",
            "Epoch 38 recall: 0.944\n",
            "Epoch 38 average = (accuracy + precision + recall)/3: 0.955\n",
            "==========Epoch 39, Train steps: 2256, Learning rate: 1.0000==========\n",
            "2256/2256 [==============================] - 881s 391ms/step - loss: 1.2074e-04 - binary_accuracy: 0.9996\n",
            "==========Epoch 39 start validation==========\n",
            "Epoch 39 accuracy: 0.902\n",
            "Epoch 39 precision: 0.974\n",
            "Epoch 39 recall: 0.912\n",
            "Epoch 39 average = (accuracy + precision + recall)/3: 0.929\n",
            "==========Epoch 40, Train steps: 2256, Learning rate: 1.0000==========\n",
            "2256/2256 [==============================] - 881s 391ms/step - loss: 1.2045e-04 - binary_accuracy: 0.9996\n",
            "==========Epoch 40 start validation==========\n",
            "Epoch 40 accuracy: 0.896\n",
            "Epoch 40 precision: 0.976\n",
            "Epoch 40 recall: 0.902\n",
            "Epoch 40 average = (accuracy + precision + recall)/3: 0.924\n",
            "==========Epoch 41, Train steps: 2256, Learning rate: 1.0000==========\n",
            "2256/2256 [==============================] - 881s 391ms/step - loss: 1.2017e-04 - binary_accuracy: 0.9996\n",
            "==========Epoch 41 start validation==========\n",
            "Epoch 41 accuracy: 0.905\n",
            "Epoch 41 precision: 0.981\n",
            "Epoch 41 recall: 0.911\n",
            "Epoch 41 average = (accuracy + precision + recall)/3: 0.932\n",
            "==========Epoch 42, Train steps: 2256, Learning rate: 1.0000==========\n",
            "2256/2256 [==============================] - 882s 391ms/step - loss: 1.1988e-04 - binary_accuracy: 0.9996\n",
            "==========Epoch 42 start validation==========\n",
            "Epoch 42 accuracy: 0.892\n",
            "Epoch 42 precision: 0.976\n",
            "Epoch 42 recall: 0.897\n",
            "Epoch 42 average = (accuracy + precision + recall)/3: 0.921\n",
            "==========Epoch 43, Train steps: 2256, Learning rate: 1.0000==========\n",
            "2256/2256 [==============================] - 881s 391ms/step - loss: 1.1959e-04 - binary_accuracy: 0.9996\n",
            "==========Epoch 43 start validation==========\n",
            "Epoch 43 accuracy: 0.929\n",
            "Epoch 43 precision: 0.984\n",
            "Epoch 43 recall: 0.936\n",
            "Epoch 43 average = (accuracy + precision + recall)/3: 0.950\n",
            "==========Epoch 44, Train steps: 2256, Learning rate: 1.0000==========\n",
            "2256/2256 [==============================] - 881s 391ms/step - loss: 1.1931e-04 - binary_accuracy: 0.9996\n",
            "==========Epoch 44 start validation==========\n",
            "Epoch 44 accuracy: 0.906\n",
            "Epoch 44 precision: 0.973\n",
            "Epoch 44 recall: 0.919\n",
            "Epoch 44 average = (accuracy + precision + recall)/3: 0.933\n",
            "==========Epoch 45, Train steps: 2256, Learning rate: 1.0000==========\n",
            "2256/2256 [==============================] - 882s 391ms/step - loss: 1.1904e-04 - binary_accuracy: 0.9996\n",
            "==========Epoch 45 start validation==========\n",
            "Epoch 45 accuracy: 0.910\n",
            "Epoch 45 precision: 0.977\n",
            "Epoch 45 recall: 0.920\n",
            "Epoch 45 average = (accuracy + precision + recall)/3: 0.936\n",
            "==========Epoch 46, Train steps: 2256, Learning rate: 1.0000==========\n",
            "2256/2256 [==============================] - 881s 390ms/step - loss: 1.1875e-04 - binary_accuracy: 0.9996\n",
            "==========Epoch 46 start validation==========\n",
            "Epoch 46 accuracy: 0.884\n",
            "Epoch 46 precision: 0.970\n",
            "Epoch 46 recall: 0.895\n",
            "Epoch 46 average = (accuracy + precision + recall)/3: 0.916\n",
            "==========Epoch 47, Train steps: 2256, Learning rate: 1.0000==========\n",
            "2256/2256 [==============================] - 881s 390ms/step - loss: 1.1849e-04 - binary_accuracy: 0.9996\n",
            "==========Epoch 47 start validation==========\n",
            "Epoch 47 accuracy: 0.899\n",
            "Epoch 47 precision: 0.976\n",
            "Epoch 47 recall: 0.908\n",
            "Epoch 47 average = (accuracy + precision + recall)/3: 0.928\n",
            "==========Epoch 48, Train steps: 2256, Learning rate: 1.0000==========\n",
            "2256/2256 [==============================] - 881s 390ms/step - loss: 1.1821e-04 - binary_accuracy: 0.9996\n",
            "==========Epoch 48 start validation==========\n",
            "Epoch 48 accuracy: 0.904\n",
            "Epoch 48 precision: 0.978\n",
            "Epoch 48 recall: 0.916\n",
            "Epoch 48 average = (accuracy + precision + recall)/3: 0.933\n",
            "==========Epoch 49, Train steps: 2256, Learning rate: 1.0000==========\n",
            "2256/2256 [==============================] - 881s 390ms/step - loss: 1.1794e-04 - binary_accuracy: 0.9996\n",
            "==========Epoch 49 start validation==========\n",
            "Epoch 49 accuracy: 0.915\n",
            "Epoch 49 precision: 0.975\n",
            "Epoch 49 recall: 0.931\n",
            "Epoch 49 average = (accuracy + precision + recall)/3: 0.940\n",
            "Saving weights......\n",
            "Done......\n"
          ]
        }
      ]
    },
    {
      "cell_type": "code",
      "source": [
        ""
      ],
      "metadata": {
        "id": "MMVu6ZREYA11"
      },
      "execution_count": null,
      "outputs": []
    },
    {
      "cell_type": "code",
      "source": [
        ""
      ],
      "metadata": {
        "id": "RvwLgIX2XyE6"
      },
      "execution_count": null,
      "outputs": []
    },
    {
      "cell_type": "code",
      "source": [
        ""
      ],
      "metadata": {
        "id": "hGWVc-CMXjUL"
      },
      "execution_count": null,
      "outputs": []
    },
    {
      "cell_type": "code",
      "source": [
        ""
      ],
      "metadata": {
        "id": "Wv4R0fXfXUjP"
      },
      "execution_count": null,
      "outputs": []
    },
    {
      "cell_type": "code",
      "source": [
        ""
      ],
      "metadata": {
        "id": "ytmh4CCwXFyU"
      },
      "execution_count": null,
      "outputs": []
    },
    {
      "cell_type": "code",
      "source": [
        ""
      ],
      "metadata": {
        "id": "_qb9diStW3B3"
      },
      "execution_count": null,
      "outputs": []
    },
    {
      "cell_type": "code",
      "source": [
        ""
      ],
      "metadata": {
        "id": "BFSDOYSdWoQ5"
      },
      "execution_count": null,
      "outputs": []
    },
    {
      "cell_type": "code",
      "source": [
        ""
      ],
      "metadata": {
        "id": "duuLxaZoWZf8"
      },
      "execution_count": null,
      "outputs": []
    }
  ]
}