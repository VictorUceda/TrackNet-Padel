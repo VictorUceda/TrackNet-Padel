{
  "nbformat": 4,
  "nbformat_minor": 0,
  "metadata": {
    "colab": {
      "name": "TrackNet_Padel.ipynb",
      "provenance": [],
      "collapsed_sections": [],
      "include_colab_link": true
    },
    "kernelspec": {
      "name": "python3",
      "display_name": "Python 3"
    },
    "language_info": {
      "name": "python"
    },
    "accelerator": "GPU"
  },
  "cells": [
    {
      "cell_type": "markdown",
      "metadata": {
        "id": "view-in-github",
        "colab_type": "text"
      },
      "source": [
        "<a href=\"https://colab.research.google.com/github/VictorUceda/TrackNet-Padel/blob/main/TrackNet_Padel_train.ipynb\" target=\"_parent\"><img src=\"https://colab.research.google.com/assets/colab-badge.svg\" alt=\"Open In Colab\"/></a>"
      ]
    },
    {
      "cell_type": "code",
      "source": [
        "!nvidia-smi"
      ],
      "metadata": {
        "id": "50iBZugzyWYZ",
        "outputId": "fc074355-b932-4003-8dbf-2fa6b16ad9a1",
        "colab": {
          "base_uri": "https://localhost:8080/"
        }
      },
      "execution_count": 1,
      "outputs": [
        {
          "output_type": "stream",
          "name": "stdout",
          "text": [
            "Sun May 29 21:27:03 2022       \n",
            "+-----------------------------------------------------------------------------+\n",
            "| NVIDIA-SMI 460.32.03    Driver Version: 460.32.03    CUDA Version: 11.2     |\n",
            "|-------------------------------+----------------------+----------------------+\n",
            "| GPU  Name        Persistence-M| Bus-Id        Disp.A | Volatile Uncorr. ECC |\n",
            "| Fan  Temp  Perf  Pwr:Usage/Cap|         Memory-Usage | GPU-Util  Compute M. |\n",
            "|                               |                      |               MIG M. |\n",
            "|===============================+======================+======================|\n",
            "|   0  Tesla P100-PCIE...  Off  | 00000000:00:04.0 Off |                    0 |\n",
            "| N/A   35C    P0    26W / 250W |      0MiB / 16280MiB |      0%      Default |\n",
            "|                               |                      |                  N/A |\n",
            "+-------------------------------+----------------------+----------------------+\n",
            "                                                                               \n",
            "+-----------------------------------------------------------------------------+\n",
            "| Processes:                                                                  |\n",
            "|  GPU   GI   CI        PID   Type   Process name                  GPU Memory |\n",
            "|        ID   ID                                                   Usage      |\n",
            "|=============================================================================|\n",
            "|  No running processes found                                                 |\n",
            "+-----------------------------------------------------------------------------+\n"
          ]
        }
      ]
    },
    {
      "cell_type": "code",
      "execution_count": 8,
      "metadata": {
        "colab": {
          "base_uri": "https://localhost:8080/"
        },
        "id": "Q8g7zdD0a-o4",
        "outputId": "6ca32a14-cf86-4cc2-b31f-448150f7c847"
      },
      "outputs": [
        {
          "output_type": "stream",
          "name": "stdout",
          "text": [
            "Drive already mounted at /content/gdrive; to attempt to forcibly remount, call drive.mount(\"/content/gdrive\", force_remount=True).\n",
            "/content/TrackNet-Padel\n"
          ]
        }
      ],
      "source": [
        "from google.colab import drive\n",
        "drive.mount('/content/gdrive')\n",
        "\n",
        "\n",
        "import os \n",
        "path_drive = '/content/gdrive/MyDrive/Colab Notebooks/TrackNet-Padel/'\n",
        "weights_path = '/content/gdrive/MyDrive/PadelModels/TrackNetWeights/TrackNet-SoloPadel'\n",
        "\n",
        "!pwd"
      ]
    },
    {
      "cell_type": "code",
      "source": [
        "os.chdir('/content/')\n",
        "!pwd"
      ],
      "metadata": {
        "colab": {
          "base_uri": "https://localhost:8080/"
        },
        "id": "95NxepeuGoC4",
        "outputId": "1348099f-a622-44c1-b2e0-4767b26b4d91"
      },
      "execution_count": 3,
      "outputs": [
        {
          "output_type": "stream",
          "name": "stdout",
          "text": [
            "/content\n"
          ]
        }
      ]
    },
    {
      "cell_type": "code",
      "source": [
        "!git clone https://github.com/VictorUceda/TrackNet-Padel.git\n",
        "#!git clone https://github.com/Chang-Chia-Chi/TrackNet-Badminton-Tracking-tensorflow2\n",
        "os.chdir('/content/TrackNet-Padel/')\n",
        "!git pull"
      ],
      "metadata": {
        "id": "lYG3TpaZfjSN",
        "outputId": "f82c6edd-404a-47d6-fe33-4480597e9fbc",
        "colab": {
          "base_uri": "https://localhost:8080/"
        }
      },
      "execution_count": 4,
      "outputs": [
        {
          "output_type": "stream",
          "name": "stdout",
          "text": [
            "Cloning into 'TrackNet-Padel'...\n",
            "remote: Enumerating objects: 597, done.\u001b[K\n",
            "remote: Counting objects: 100% (32/32), done.\u001b[K\n",
            "remote: Compressing objects: 100% (27/27), done.\u001b[K\n",
            "remote: Total 597 (delta 6), reused 30 (delta 5), pack-reused 565\u001b[K\n",
            "Receiving objects: 100% (597/597), 666.67 MiB | 42.53 MiB/s, done.\n",
            "Resolving deltas: 100% (274/274), done.\n",
            "Checking out files: 100% (139/139), done.\n",
            "Already up to date.\n"
          ]
        }
      ]
    },
    {
      "cell_type": "markdown",
      "source": [
        ""
      ],
      "metadata": {
        "id": "bY2m7mhhk9hn"
      }
    },
    {
      "cell_type": "code",
      "source": [
        "!pip3 install filterpy sktime piexif imutils Pillow focal_loss"
      ],
      "metadata": {
        "id": "cmHZLk7zgQVr"
      },
      "execution_count": null,
      "outputs": []
    },
    {
      "cell_type": "markdown",
      "source": [
        "### Test accuracy"
      ],
      "metadata": {
        "id": "kYRim2mxaOXK"
      }
    },
    {
      "cell_type": "code",
      "source": [
        "file_name = 'Final_PremierQatar_Tie'\n",
        "point_n = 0\n",
        "for point_n in range(9,13):\n",
        "  video = 'raw_data/points/'+file_name+\"_\"+str(point_n)+\".mp4\"\n",
        "  print(video)\n",
        "  csv = 'raw_data/points/'+file_name+\"_\"+str(point_n)+\".csv\"\n",
        "  res = 'raw_data/points/'+file_name+\"_\"+str(point_n)+\".resPadel.txt\"\n",
        "  !python ../TrackNet-Padel/predict.py --video_path={video} --label_path={csv} #--load_weights={weights_path+'4'} # 2>&1 | tee {res}"
      ],
      "metadata": {
        "id": "vk6QsNkIEJlY",
        "outputId": "a18271ae-d337-4706-dc2d-48f84a5971bf",
        "colab": {
          "base_uri": "https://localhost:8080/"
        }
      },
      "execution_count": null,
      "outputs": [
        {
          "output_type": "stream",
          "name": "stdout",
          "text": [
            "raw_data/points/Final_PremierQatar_Tie_9.mp4\n",
            "2022-05-25 21:43:20.779225: W tensorflow/core/common_runtime/gpu/gpu_bfc_allocator.cc:39] Overriding allow_growth setting because the TF_FORCE_GPU_ALLOW_GROWTH environment variable is set. Original config value was 0.\n",
            "Load weights successfully\n",
            "Load csv file successfully\n",
            "Beginning predicting......\n"
          ]
        }
      ]
    },
    {
      "cell_type": "markdown",
      "source": [
        "### Train Padel"
      ],
      "metadata": {
        "id": "zC_-P-lCd91A"
      }
    },
    {
      "cell_type": "code",
      "source": [
        "!mv raw_data/*.* raw_data/points/\n",
        "for point_n in range(9):\n",
        "  files = 'raw_data/points/*_'+str(point_n)+'\\.*'\n",
        "  print(files)\n",
        "  !mv {files} raw_data/"
      ],
      "metadata": {
        "id": "md3C9pyjd_0w",
        "outputId": "9ef500e4-4e76-4731-d67e-f3b80529a298",
        "colab": {
          "base_uri": "https://localhost:8080/"
        }
      },
      "execution_count": 6,
      "outputs": [
        {
          "output_type": "stream",
          "name": "stdout",
          "text": [
            "raw_data/points/*_0\\.*\n",
            "raw_data/points/*_1\\.*\n",
            "raw_data/points/*_2\\.*\n",
            "raw_data/points/*_3\\.*\n",
            "raw_data/points/*_4\\.*\n",
            "raw_data/points/*_5\\.*\n",
            "raw_data/points/*_6\\.*\n",
            "raw_data/points/*_7\\.*\n",
            "raw_data/points/*_8\\.*\n"
          ]
        }
      ]
    },
    {
      "cell_type": "code",
      "source": [
        "!rm -rf train_data/*\n",
        "!python video2img.py "
      ],
      "metadata": {
        "id": "3GWuVXlNeXjG"
      },
      "execution_count": null,
      "outputs": []
    },
    {
      "cell_type": "code",
      "source": [
        "!python train.py --save_weights={weights_path} --pre_trained=True --batch_size=5 --load_weights={weights_path}"
      ],
      "metadata": {
        "id": "L72l_-tseyd9",
        "outputId": "a15fecda-7696-4c17-80f8-ae4a6f70c8b1",
        "colab": {
          "base_uri": "https://localhost:8080/"
        }
      },
      "execution_count": 15,
      "outputs": [
        {
          "output_type": "stream",
          "name": "stdout",
          "text": [
            "lerning rate: 2.0\n",
            "2022-05-29 21:36:19.015392: W tensorflow/core/common_runtime/gpu/gpu_bfc_allocator.cc:39] Overriding allow_growth setting because the TF_FORCE_GPU_ALLOW_GROWTH environment variable is set. Original config value was 0.\n",
            "Beginning training......\n",
            "==========Epoch 0, Train steps: 3477, Learning rate: 1.0000==========\n",
            "3477/3477 [==============================] - 1370s 391ms/step - loss: 3.4314e-04 - binary_accuracy: 0.9996\n",
            "==========Epoch 0 start validation==========\n",
            "Epoch 0 accuracy: 0.648\n",
            "Epoch 0 precision: 0.870\n",
            "Epoch 0 recall: 0.635\n",
            "Epoch 0 average = (accuracy + precision + recall)/3: 0.718\n",
            "==========Epoch 1, Train steps: 3477, Learning rate: 1.0000==========\n",
            "3477/3477 [==============================] - 1357s 390ms/step - loss: 2.9414e-04 - binary_accuracy: 0.9996\n",
            "==========Epoch 1 start validation==========\n",
            "Epoch 1 accuracy: 0.648\n",
            "Epoch 1 precision: 0.878\n",
            "Epoch 1 recall: 0.615\n",
            "Epoch 1 average = (accuracy + precision + recall)/3: 0.714\n",
            "==========Epoch 2, Train steps: 3477, Learning rate: 1.0000==========\n",
            "3477/3477 [==============================] - 1358s 391ms/step - loss: 2.7322e-04 - binary_accuracy: 0.9996\n",
            "==========Epoch 2 start validation==========\n",
            "Epoch 2 accuracy: 0.686\n",
            "Epoch 2 precision: 0.896\n",
            "Epoch 2 recall: 0.647\n",
            "Epoch 2 average = (accuracy + precision + recall)/3: 0.743\n",
            "==========Epoch 3, Train steps: 3477, Learning rate: 1.0000==========\n",
            "3477/3477 [==============================] - 1357s 390ms/step - loss: 2.5787e-04 - binary_accuracy: 0.9996\n",
            "==========Epoch 3 start validation==========\n",
            "Epoch 3 accuracy: 0.670\n",
            "Epoch 3 precision: 0.936\n",
            "Epoch 3 recall: 0.633\n",
            "Epoch 3 average = (accuracy + precision + recall)/3: 0.746\n",
            "==========Epoch 4, Train steps: 3477, Learning rate: 1.0000==========\n",
            "3477/3477 [==============================] - 1356s 390ms/step - loss: 2.4460e-04 - binary_accuracy: 0.9996\n",
            "==========Epoch 4 start validation==========\n",
            "Epoch 4 accuracy: 0.686\n",
            "Epoch 4 precision: 0.913\n",
            "Epoch 4 recall: 0.622\n",
            "Epoch 4 average = (accuracy + precision + recall)/3: 0.740\n",
            "==========Epoch 5, Train steps: 3477, Learning rate: 1.0000==========\n",
            "3477/3477 [==============================] - 1356s 390ms/step - loss: 2.3363e-04 - binary_accuracy: 0.9996\n",
            "==========Epoch 5 start validation==========\n",
            "Epoch 5 accuracy: 0.615\n",
            "Epoch 5 precision: 0.905\n",
            "Epoch 5 recall: 0.561\n",
            "Epoch 5 average = (accuracy + precision + recall)/3: 0.694\n",
            "==========Epoch 6, Train steps: 3477, Learning rate: 1.0000==========\n",
            "3477/3477 [==============================] - 1356s 390ms/step - loss: 2.2382e-04 - binary_accuracy: 0.9996\n",
            "==========Epoch 6 start validation==========\n",
            "Epoch 6 accuracy: 0.707\n",
            "Epoch 6 precision: 0.888\n",
            "Epoch 6 recall: 0.680\n",
            "Epoch 6 average = (accuracy + precision + recall)/3: 0.758\n",
            "==========Epoch 7, Train steps: 3477, Learning rate: 1.0000==========\n",
            "3477/3477 [==============================] - 1358s 391ms/step - loss: 2.1526e-04 - binary_accuracy: 0.9996\n",
            "==========Epoch 7 start validation==========\n",
            "Epoch 7 accuracy: 0.662\n",
            "Epoch 7 precision: 0.901\n",
            "Epoch 7 recall: 0.600\n",
            "Epoch 7 average = (accuracy + precision + recall)/3: 0.721\n",
            "==========Epoch 8, Train steps: 3477, Learning rate: 1.0000==========\n",
            "3477/3477 [==============================] - 1358s 391ms/step - loss: 2.0689e-04 - binary_accuracy: 0.9996\n",
            "==========Epoch 8 start validation==========\n",
            "Epoch 8 accuracy: 0.632\n",
            "Epoch 8 precision: 0.905\n",
            "Epoch 8 recall: 0.544\n",
            "Epoch 8 average = (accuracy + precision + recall)/3: 0.694\n",
            "==========Epoch 9, Train steps: 3477, Learning rate: 1.0000==========\n",
            "3477/3477 [==============================] - 1358s 391ms/step - loss: 1.9950e-04 - binary_accuracy: 0.9996\n",
            "==========Epoch 9 start validation==========\n",
            "Epoch 9 accuracy: 0.586\n",
            "Epoch 9 precision: 0.891\n",
            "Epoch 9 recall: 0.466\n",
            "Epoch 9 average = (accuracy + precision + recall)/3: 0.647\n",
            "==========Epoch 10, Train steps: 3477, Learning rate: 1.0000==========\n",
            "3477/3477 [==============================] - 1358s 391ms/step - loss: 1.9262e-04 - binary_accuracy: 0.9996\n",
            "==========Epoch 10 start validation==========\n",
            "Epoch 10 accuracy: 0.656\n",
            "Epoch 10 precision: 0.865\n",
            "Epoch 10 recall: 0.531\n",
            "Epoch 10 average = (accuracy + precision + recall)/3: 0.684\n",
            "==========Epoch 11, Train steps: 3477, Learning rate: 1.0000==========\n",
            "3477/3477 [==============================] - 1356s 390ms/step - loss: 1.8633e-04 - binary_accuracy: 0.9996\n",
            "==========Epoch 11 start validation==========\n",
            "Epoch 11 accuracy: 0.554\n",
            "Epoch 11 precision: 0.950\n",
            "Epoch 11 recall: 0.500\n",
            "Epoch 11 average = (accuracy + precision + recall)/3: 0.668\n",
            "==========Epoch 12, Train steps: 3477, Learning rate: 1.0000==========\n",
            "3477/3477 [==============================] - 1356s 390ms/step - loss: 1.8103e-04 - binary_accuracy: 0.9996\n",
            "==========Epoch 12 start validation==========\n",
            "Epoch 12 accuracy: 0.624\n",
            "Epoch 12 precision: 0.905\n",
            "Epoch 12 recall: 0.537\n",
            "Epoch 12 average = (accuracy + precision + recall)/3: 0.689\n",
            "==========Epoch 13, Train steps: 3477, Learning rate: 1.0000==========\n",
            "3477/3477 [==============================] - 1356s 390ms/step - loss: 1.7557e-04 - binary_accuracy: 0.9996\n",
            "==========Epoch 13 start validation==========\n",
            "Epoch 13 accuracy: 0.624\n",
            "Epoch 13 precision: 0.871\n",
            "Epoch 13 recall: 0.565\n",
            "Epoch 13 average = (accuracy + precision + recall)/3: 0.687\n",
            "==========Epoch 14, Train steps: 3477, Learning rate: 1.0000==========\n",
            "3477/3477 [==============================] - 1355s 390ms/step - loss: 1.7203e-04 - binary_accuracy: 0.9996\n",
            "==========Epoch 14 start validation==========\n",
            "Epoch 14 accuracy: 0.551\n",
            "Epoch 14 precision: 0.928\n",
            "Epoch 14 recall: 0.456\n",
            "Epoch 14 average = (accuracy + precision + recall)/3: 0.645\n",
            "==========Epoch 15, Train steps: 3477, Learning rate: 1.0000==========\n",
            "3477/3477 [==============================] - 1355s 390ms/step - loss: 1.6809e-04 - binary_accuracy: 0.9996\n",
            "==========Epoch 15 start validation==========\n",
            "Epoch 15 accuracy: 0.591\n",
            "Epoch 15 precision: 0.791\n",
            "Epoch 15 recall: 0.566\n",
            "Epoch 15 average = (accuracy + precision + recall)/3: 0.649\n",
            "==========Epoch 16, Train steps: 3477, Learning rate: 1.0000==========\n",
            "3477/3477 [==============================] - 1355s 390ms/step - loss: 1.6393e-04 - binary_accuracy: 0.9996\n",
            "==========Epoch 16 start validation==========\n",
            "Epoch 16 accuracy: 0.504\n",
            "Epoch 16 precision: 0.876\n",
            "Epoch 16 recall: 0.411\n",
            "Epoch 16 average = (accuracy + precision + recall)/3: 0.597\n",
            "==========Epoch 17, Train steps: 3477, Learning rate: 1.0000==========\n",
            "3477/3477 [==============================] - 1356s 390ms/step - loss: 1.6055e-04 - binary_accuracy: 0.9996\n",
            "==========Epoch 17 start validation==========\n",
            "Epoch 17 accuracy: 0.523\n",
            "Epoch 17 precision: 0.898\n",
            "Epoch 17 recall: 0.380\n",
            "Epoch 17 average = (accuracy + precision + recall)/3: 0.601\n",
            "==========Epoch 18, Train steps: 3477, Learning rate: 1.0000==========\n",
            "3477/3477 [==============================] - 1355s 390ms/step - loss: 1.5831e-04 - binary_accuracy: 0.9996\n",
            "==========Epoch 18 start validation==========\n",
            "Epoch 18 accuracy: 0.546\n",
            "Epoch 18 precision: 0.898\n",
            "Epoch 18 recall: 0.505\n",
            "Epoch 18 average = (accuracy + precision + recall)/3: 0.650\n",
            "==========Epoch 19, Train steps: 3477, Learning rate: 1.0000==========\n",
            "3477/3477 [==============================] - 1355s 390ms/step - loss: 1.5657e-04 - binary_accuracy: 0.9996\n",
            "==========Epoch 19 start validation==========\n",
            "Epoch 19 accuracy: 0.555\n",
            "Epoch 19 precision: 0.890\n",
            "Epoch 19 recall: 0.435\n",
            "Epoch 19 average = (accuracy + precision + recall)/3: 0.626\n",
            "==========Epoch 20, Train steps: 3477, Learning rate: 1.0000==========\n",
            "3477/3477 [==============================] - 1358s 390ms/step - loss: 1.5448e-04 - binary_accuracy: 0.9996\n",
            "==========Epoch 20 start validation==========\n",
            "Epoch 20 accuracy: 0.675\n",
            "Epoch 20 precision: 0.870\n",
            "Epoch 20 recall: 0.670\n",
            "Epoch 20 average = (accuracy + precision + recall)/3: 0.738\n",
            "==========Epoch 21, Train steps: 3477, Learning rate: 1.0000==========\n",
            "3477/3477 [==============================] - 1371s 394ms/step - loss: 1.5135e-04 - binary_accuracy: 0.9996\n",
            "==========Epoch 21 start validation==========\n",
            "Epoch 21 accuracy: 0.533\n",
            "Epoch 21 precision: 0.931\n",
            "Epoch 21 recall: 0.488\n",
            "Epoch 21 average = (accuracy + precision + recall)/3: 0.651\n",
            "==========Epoch 22, Train steps: 3477, Learning rate: 1.0000==========\n",
            "3477/3477 [==============================] - 1366s 393ms/step - loss: 1.5185e-04 - binary_accuracy: 0.9996\n",
            "==========Epoch 22 start validation==========\n",
            "Epoch 22 accuracy: 0.557\n",
            "Epoch 22 precision: 0.892\n",
            "Epoch 22 recall: 0.413\n",
            "Epoch 22 average = (accuracy + precision + recall)/3: 0.620\n",
            "==========Epoch 23, Train steps: 3477, Learning rate: 1.0000==========\n",
            "  30/3477 [..............................] - ETA: 22:44 - loss: 1.1694e-04 - binary_accuracy: 0.9997Traceback (most recent call last):\n",
            "  File \"train.py\", line 53, in <module>\n",
            "    verbose=1)\n",
            "  File \"/usr/local/lib/python3.7/dist-packages/keras/utils/traceback_utils.py\", line 64, in error_handler\n",
            "    return fn(*args, **kwargs)\n",
            "  File \"/usr/local/lib/python3.7/dist-packages/keras/engine/training.py\", line 1384, in fit\n",
            "    tmp_logs = self.train_function(iterator)\n",
            "  File \"/usr/local/lib/python3.7/dist-packages/tensorflow/python/util/traceback_utils.py\", line 150, in error_handler\n",
            "    return fn(*args, **kwargs)\n",
            "  File \"/usr/local/lib/python3.7/dist-packages/tensorflow/python/eager/def_function.py\", line 915, in __call__\n",
            "    result = self._call(*args, **kwds)\n",
            "  File \"/usr/local/lib/python3.7/dist-packages/tensorflow/python/eager/def_function.py\", line 947, in _call\n",
            "    return self._stateless_fn(*args, **kwds)  # pylint: disable=not-callable\n",
            "  File \"/usr/local/lib/python3.7/dist-packages/tensorflow/python/eager/function.py\", line 2957, in __call__\n",
            "    filtered_flat_args, captured_inputs=graph_function.captured_inputs)  # pylint: disable=protected-access\n",
            "  File \"/usr/local/lib/python3.7/dist-packages/tensorflow/python/eager/function.py\", line 1854, in _call_flat\n",
            "    ctx, args, cancellation_manager=cancellation_manager))\n",
            "  File \"/usr/local/lib/python3.7/dist-packages/tensorflow/python/eager/function.py\", line 504, in call\n",
            "    ctx=ctx)\n",
            "  File \"/usr/local/lib/python3.7/dist-packages/tensorflow/python/eager/execute.py\", line 55, in quick_execute\n",
            "    inputs, attrs, num_outputs)\n",
            "KeyboardInterrupt\n",
            "2022-05-30 06:54:29.151672: W tensorflow/core/kernels/data/generator_dataset_op.cc:107] Error occurred when finalizing GeneratorDataset iterator: FAILED_PRECONDITION: Python interpreter state is not initialized. The process may be terminated.\n",
            "\t [[{{node PyFunc}}]]\n",
            "^C\n"
          ]
        }
      ]
    }
  ]
}