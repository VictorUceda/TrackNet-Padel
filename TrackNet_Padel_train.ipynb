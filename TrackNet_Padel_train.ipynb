{
  "nbformat": 4,
  "nbformat_minor": 0,
  "metadata": {
    "colab": {
      "name": "TrackNet_Padel.ipynb",
      "provenance": [],
      "collapsed_sections": [],
      "machine_shape": "hm",
      "include_colab_link": true
    },
    "kernelspec": {
      "name": "python3",
      "display_name": "Python 3"
    },
    "language_info": {
      "name": "python"
    },
    "accelerator": "GPU"
  },
  "cells": [
    {
      "cell_type": "markdown",
      "metadata": {
        "id": "view-in-github",
        "colab_type": "text"
      },
      "source": [
        "<a href=\"https://colab.research.google.com/github/VictorUceda/TrackNet-Padel/blob/main/TrackNet_Padel_train.ipynb\" target=\"_parent\"><img src=\"https://colab.research.google.com/assets/colab-badge.svg\" alt=\"Open In Colab\"/></a>"
      ]
    },
    {
      "cell_type": "code",
      "source": [
        "!nvidia-smi"
      ],
      "metadata": {
        "id": "50iBZugzyWYZ",
        "outputId": "3baa9b12-e7a6-44bd-cec1-7dcd8a2fd326",
        "colab": {
          "base_uri": "https://localhost:8080/"
        }
      },
      "execution_count": 1,
      "outputs": [
        {
          "output_type": "stream",
          "name": "stdout",
          "text": [
            "Wed Jun  8 17:58:14 2022       \n",
            "+-----------------------------------------------------------------------------+\n",
            "| NVIDIA-SMI 460.32.03    Driver Version: 460.32.03    CUDA Version: 11.2     |\n",
            "|-------------------------------+----------------------+----------------------+\n",
            "| GPU  Name        Persistence-M| Bus-Id        Disp.A | Volatile Uncorr. ECC |\n",
            "| Fan  Temp  Perf  Pwr:Usage/Cap|         Memory-Usage | GPU-Util  Compute M. |\n",
            "|                               |                      |               MIG M. |\n",
            "|===============================+======================+======================|\n",
            "|   0  Tesla P100-PCIE...  Off  | 00000000:00:04.0 Off |                    0 |\n",
            "| N/A   36C    P0    26W / 250W |      0MiB / 16280MiB |      0%      Default |\n",
            "|                               |                      |                  N/A |\n",
            "+-------------------------------+----------------------+----------------------+\n",
            "                                                                               \n",
            "+-----------------------------------------------------------------------------+\n",
            "| Processes:                                                                  |\n",
            "|  GPU   GI   CI        PID   Type   Process name                  GPU Memory |\n",
            "|        ID   ID                                                   Usage      |\n",
            "|=============================================================================|\n",
            "|  No running processes found                                                 |\n",
            "+-----------------------------------------------------------------------------+\n"
          ]
        }
      ]
    },
    {
      "cell_type": "markdown",
      "source": [
        "### Inicializacion"
      ],
      "metadata": {
        "id": "j1A8stAxXK23"
      }
    },
    {
      "cell_type": "code",
      "execution_count": 2,
      "metadata": {
        "colab": {
          "base_uri": "https://localhost:8080/"
        },
        "id": "Q8g7zdD0a-o4",
        "outputId": "9f822cc1-4464-4c12-8288-0fe6a1e64a10"
      },
      "outputs": [
        {
          "output_type": "stream",
          "name": "stdout",
          "text": [
            "Mounted at /content/gdrive\n"
          ]
        }
      ],
      "source": [
        "from google.colab import drive\n",
        "drive.mount('/content/gdrive')"
      ]
    },
    {
      "cell_type": "code",
      "source": [
        "import os \n",
        "os.chdir('/content/')\n",
        "\n",
        "!git clone https://github.com/VictorUceda/TrackNet-Padel.git\n",
        "#!git clone https://github.com/Chang-Chia-Chi/TrackNet-Badminton-Tracking-tensorflow2\n",
        "os.chdir('/content/TrackNet-Padel/')\n",
        "!git pull"
      ],
      "metadata": {
        "id": "lYG3TpaZfjSN",
        "outputId": "cb3e4a7f-5246-4b37-f34f-7e23f36f951c",
        "colab": {
          "base_uri": "https://localhost:8080/"
        }
      },
      "execution_count": 16,
      "outputs": [
        {
          "output_type": "stream",
          "name": "stdout",
          "text": [
            "fatal: destination path 'TrackNet-Padel' already exists and is not an empty directory.\n",
            "remote: Enumerating objects: 22, done.\u001b[K\n",
            "remote: Counting objects: 100% (22/22), done.\u001b[K\n",
            "remote: Compressing objects: 100% (17/17), done.\u001b[K\n",
            "remote: Total 22 (delta 7), reused 20 (delta 5), pack-reused 0\u001b[K\n",
            "Unpacking objects: 100% (22/22), done.\n",
            "From https://github.com/VictorUceda/TrackNet-Padel\n",
            "   549ec18..a1c9eaf  main       -> origin/main\n",
            "Updating 549ec18..a1c9eaf\n",
            "Fast-forward\n",
            " .../cleanVal/PremierRoma_Semis_LGBC_3_43_0.csv     | 253 \u001b[32m+++++++++\u001b[m\n",
            " .../cleanVal/PremierRoma_Semis_LGBC_3_43_0.mp4     | Bin \u001b[31m0\u001b[m -> \u001b[32m3835451\u001b[m bytes\n",
            " .../cleanVal/PremierRoma_Semis_LGBC_3_43_1.csv     | 315 \u001b[32m+++++++++++\u001b[m\n",
            " .../cleanVal/PremierRoma_Semis_LGBC_3_43_1.mp4     | Bin \u001b[31m0\u001b[m -> \u001b[32m5181081\u001b[m bytes\n",
            " .../cleanVal/PremierRoma_Semis_LGBC_3_43_2.csv     | 301 \u001b[32m+++++++++++\u001b[m\n",
            " .../cleanVal/PremierRoma_Semis_LGBC_3_43_2.mp4     | Bin \u001b[31m0\u001b[m -> \u001b[32m4856854\u001b[m bytes\n",
            " .../cleanVal/PremierRoma_Semis_LGBC_3_43_3.csv     | 578 \u001b[32m+++++++++++++++++++++\u001b[m\n",
            " .../cleanVal/PremierRoma_Semis_LGBC_3_43_3.mp4     | Bin \u001b[31m0\u001b[m -> \u001b[32m9708706\u001b[m bytes\n",
            " train2.py                                          |  16 \u001b[32m+\u001b[m\u001b[31m-\u001b[m\n",
            " 9 files changed, 1455 insertions(+), 8 deletions(-)\n",
            " create mode 100755 raw_data/points/cleanVal/PremierRoma_Semis_LGBC_3_43_0.csv\n",
            " create mode 100755 raw_data/points/cleanVal/PremierRoma_Semis_LGBC_3_43_0.mp4\n",
            " create mode 100755 raw_data/points/cleanVal/PremierRoma_Semis_LGBC_3_43_1.csv\n",
            " create mode 100755 raw_data/points/cleanVal/PremierRoma_Semis_LGBC_3_43_1.mp4\n",
            " create mode 100755 raw_data/points/cleanVal/PremierRoma_Semis_LGBC_3_43_2.csv\n",
            " create mode 100755 raw_data/points/cleanVal/PremierRoma_Semis_LGBC_3_43_2.mp4\n",
            " create mode 100755 raw_data/points/cleanVal/PremierRoma_Semis_LGBC_3_43_3.csv\n",
            " create mode 100755 raw_data/points/cleanVal/PremierRoma_Semis_LGBC_3_43_3.mp4\n"
          ]
        }
      ]
    },
    {
      "cell_type": "markdown",
      "source": [
        ""
      ],
      "metadata": {
        "id": "bY2m7mhhk9hn"
      }
    },
    {
      "cell_type": "code",
      "source": [
        "!pip3 install filterpy sktime piexif imutils Pillow focal_loss"
      ],
      "metadata": {
        "id": "cmHZLk7zgQVr",
        "colab": {
          "base_uri": "https://localhost:8080/"
        },
        "outputId": "35560021-ae8c-450d-a99f-ce2533f0f979"
      },
      "execution_count": 4,
      "outputs": [
        {
          "output_type": "stream",
          "name": "stdout",
          "text": [
            "Looking in indexes: https://pypi.org/simple, https://us-python.pkg.dev/colab-wheels/public/simple/\n",
            "Collecting filterpy\n",
            "  Downloading filterpy-1.4.5.zip (177 kB)\n",
            "\u001b[K     |████████████████████████████████| 177 kB 8.4 MB/s \n",
            "\u001b[?25hCollecting sktime\n",
            "  Downloading sktime-0.11.4-py3-none-any.whl (6.7 MB)\n",
            "\u001b[K     |████████████████████████████████| 6.7 MB 33.4 MB/s \n",
            "\u001b[?25hCollecting piexif\n",
            "  Downloading piexif-1.1.3-py2.py3-none-any.whl (20 kB)\n",
            "Requirement already satisfied: imutils in /usr/local/lib/python3.7/dist-packages (0.5.4)\n",
            "Requirement already satisfied: Pillow in /usr/local/lib/python3.7/dist-packages (7.1.2)\n",
            "Collecting focal_loss\n",
            "  Downloading focal_loss-0.0.7-py3-none-any.whl (19 kB)\n",
            "Requirement already satisfied: numpy in /usr/local/lib/python3.7/dist-packages (from filterpy) (1.21.6)\n",
            "Requirement already satisfied: scipy in /usr/local/lib/python3.7/dist-packages (from filterpy) (1.4.1)\n",
            "Requirement already satisfied: matplotlib in /usr/local/lib/python3.7/dist-packages (from filterpy) (3.2.2)\n",
            "Collecting deprecated>=1.2.13\n",
            "  Downloading Deprecated-1.2.13-py2.py3-none-any.whl (9.6 kB)\n",
            "Requirement already satisfied: pandas<1.5.0,>=1.1.0 in /usr/local/lib/python3.7/dist-packages (from sktime) (1.3.5)\n",
            "Collecting numba>=0.53\n",
            "  Downloading numba-0.55.2-cp37-cp37m-manylinux2014_x86_64.manylinux_2_17_x86_64.whl (3.3 MB)\n",
            "\u001b[K     |████████████████████████████████| 3.3 MB 49.1 MB/s \n",
            "\u001b[?25hCollecting statsmodels>=0.12.1\n",
            "  Downloading statsmodels-0.13.2-cp37-cp37m-manylinux_2_17_x86_64.manylinux2014_x86_64.whl (9.8 MB)\n",
            "\u001b[K     |████████████████████████████████| 9.8 MB 36.2 MB/s \n",
            "\u001b[?25hRequirement already satisfied: scikit-learn<1.2.0,>=0.24.0 in /usr/local/lib/python3.7/dist-packages (from sktime) (1.0.2)\n",
            "Requirement already satisfied: wrapt<2,>=1.10 in /usr/local/lib/python3.7/dist-packages (from deprecated>=1.2.13->sktime) (1.14.1)\n",
            "Requirement already satisfied: setuptools in /usr/local/lib/python3.7/dist-packages (from numba>=0.53->sktime) (57.4.0)\n",
            "Collecting llvmlite<0.39,>=0.38.0rc1\n",
            "  Downloading llvmlite-0.38.1-cp37-cp37m-manylinux_2_17_x86_64.manylinux2014_x86_64.whl (34.5 MB)\n",
            "\u001b[K     |████████████████████████████████| 34.5 MB 1.5 MB/s \n",
            "\u001b[?25hRequirement already satisfied: pytz>=2017.3 in /usr/local/lib/python3.7/dist-packages (from pandas<1.5.0,>=1.1.0->sktime) (2022.1)\n",
            "Requirement already satisfied: python-dateutil>=2.7.3 in /usr/local/lib/python3.7/dist-packages (from pandas<1.5.0,>=1.1.0->sktime) (2.8.2)\n",
            "Requirement already satisfied: six>=1.5 in /usr/local/lib/python3.7/dist-packages (from python-dateutil>=2.7.3->pandas<1.5.0,>=1.1.0->sktime) (1.15.0)\n",
            "Requirement already satisfied: joblib>=0.11 in /usr/local/lib/python3.7/dist-packages (from scikit-learn<1.2.0,>=0.24.0->sktime) (1.1.0)\n",
            "Requirement already satisfied: threadpoolctl>=2.0.0 in /usr/local/lib/python3.7/dist-packages (from scikit-learn<1.2.0,>=0.24.0->sktime) (3.1.0)\n",
            "Requirement already satisfied: packaging>=21.3 in /usr/local/lib/python3.7/dist-packages (from statsmodels>=0.12.1->sktime) (21.3)\n",
            "Requirement already satisfied: patsy>=0.5.2 in /usr/local/lib/python3.7/dist-packages (from statsmodels>=0.12.1->sktime) (0.5.2)\n",
            "Requirement already satisfied: pyparsing!=3.0.5,>=2.0.2 in /usr/local/lib/python3.7/dist-packages (from packaging>=21.3->statsmodels>=0.12.1->sktime) (3.0.9)\n",
            "Requirement already satisfied: tensorflow>=2.2 in /usr/local/lib/python3.7/dist-packages (from focal_loss) (2.8.2+zzzcolab20220527125636)\n",
            "Requirement already satisfied: libclang>=9.0.1 in /usr/local/lib/python3.7/dist-packages (from tensorflow>=2.2->focal_loss) (14.0.1)\n",
            "Requirement already satisfied: h5py>=2.9.0 in /usr/local/lib/python3.7/dist-packages (from tensorflow>=2.2->focal_loss) (3.1.0)\n",
            "Requirement already satisfied: keras<2.9,>=2.8.0rc0 in /usr/local/lib/python3.7/dist-packages (from tensorflow>=2.2->focal_loss) (2.8.0)\n",
            "Requirement already satisfied: tensorflow-io-gcs-filesystem>=0.23.1 in /usr/local/lib/python3.7/dist-packages (from tensorflow>=2.2->focal_loss) (0.26.0)\n",
            "Requirement already satisfied: keras-preprocessing>=1.1.1 in /usr/local/lib/python3.7/dist-packages (from tensorflow>=2.2->focal_loss) (1.1.2)\n",
            "Requirement already satisfied: opt-einsum>=2.3.2 in /usr/local/lib/python3.7/dist-packages (from tensorflow>=2.2->focal_loss) (3.3.0)\n",
            "Requirement already satisfied: astunparse>=1.6.0 in /usr/local/lib/python3.7/dist-packages (from tensorflow>=2.2->focal_loss) (1.6.3)\n",
            "Requirement already satisfied: gast>=0.2.1 in /usr/local/lib/python3.7/dist-packages (from tensorflow>=2.2->focal_loss) (0.5.3)\n",
            "Requirement already satisfied: absl-py>=0.4.0 in /usr/local/lib/python3.7/dist-packages (from tensorflow>=2.2->focal_loss) (1.0.0)\n",
            "Requirement already satisfied: tensorboard<2.9,>=2.8 in /usr/local/lib/python3.7/dist-packages (from tensorflow>=2.2->focal_loss) (2.8.0)\n",
            "Requirement already satisfied: protobuf<3.20,>=3.9.2 in /usr/local/lib/python3.7/dist-packages (from tensorflow>=2.2->focal_loss) (3.17.3)\n",
            "Requirement already satisfied: flatbuffers>=1.12 in /usr/local/lib/python3.7/dist-packages (from tensorflow>=2.2->focal_loss) (2.0)\n",
            "Requirement already satisfied: grpcio<2.0,>=1.24.3 in /usr/local/lib/python3.7/dist-packages (from tensorflow>=2.2->focal_loss) (1.46.3)\n",
            "Requirement already satisfied: google-pasta>=0.1.1 in /usr/local/lib/python3.7/dist-packages (from tensorflow>=2.2->focal_loss) (0.2.0)\n",
            "Requirement already satisfied: typing-extensions>=3.6.6 in /usr/local/lib/python3.7/dist-packages (from tensorflow>=2.2->focal_loss) (4.2.0)\n",
            "Requirement already satisfied: termcolor>=1.1.0 in /usr/local/lib/python3.7/dist-packages (from tensorflow>=2.2->focal_loss) (1.1.0)\n",
            "Requirement already satisfied: tensorflow-estimator<2.9,>=2.8 in /usr/local/lib/python3.7/dist-packages (from tensorflow>=2.2->focal_loss) (2.8.0)\n",
            "Requirement already satisfied: wheel<1.0,>=0.23.0 in /usr/local/lib/python3.7/dist-packages (from astunparse>=1.6.0->tensorflow>=2.2->focal_loss) (0.37.1)\n",
            "Requirement already satisfied: cached-property in /usr/local/lib/python3.7/dist-packages (from h5py>=2.9.0->tensorflow>=2.2->focal_loss) (1.5.2)\n",
            "Requirement already satisfied: tensorboard-plugin-wit>=1.6.0 in /usr/local/lib/python3.7/dist-packages (from tensorboard<2.9,>=2.8->tensorflow>=2.2->focal_loss) (1.8.1)\n",
            "Requirement already satisfied: google-auth-oauthlib<0.5,>=0.4.1 in /usr/local/lib/python3.7/dist-packages (from tensorboard<2.9,>=2.8->tensorflow>=2.2->focal_loss) (0.4.6)\n",
            "Requirement already satisfied: tensorboard-data-server<0.7.0,>=0.6.0 in /usr/local/lib/python3.7/dist-packages (from tensorboard<2.9,>=2.8->tensorflow>=2.2->focal_loss) (0.6.1)\n",
            "Requirement already satisfied: requests<3,>=2.21.0 in /usr/local/lib/python3.7/dist-packages (from tensorboard<2.9,>=2.8->tensorflow>=2.2->focal_loss) (2.23.0)\n",
            "Requirement already satisfied: google-auth<3,>=1.6.3 in /usr/local/lib/python3.7/dist-packages (from tensorboard<2.9,>=2.8->tensorflow>=2.2->focal_loss) (1.35.0)\n",
            "Requirement already satisfied: werkzeug>=0.11.15 in /usr/local/lib/python3.7/dist-packages (from tensorboard<2.9,>=2.8->tensorflow>=2.2->focal_loss) (1.0.1)\n",
            "Requirement already satisfied: markdown>=2.6.8 in /usr/local/lib/python3.7/dist-packages (from tensorboard<2.9,>=2.8->tensorflow>=2.2->focal_loss) (3.3.7)\n",
            "Requirement already satisfied: cachetools<5.0,>=2.0.0 in /usr/local/lib/python3.7/dist-packages (from google-auth<3,>=1.6.3->tensorboard<2.9,>=2.8->tensorflow>=2.2->focal_loss) (4.2.4)\n",
            "Requirement already satisfied: rsa<5,>=3.1.4 in /usr/local/lib/python3.7/dist-packages (from google-auth<3,>=1.6.3->tensorboard<2.9,>=2.8->tensorflow>=2.2->focal_loss) (4.8)\n",
            "Requirement already satisfied: pyasn1-modules>=0.2.1 in /usr/local/lib/python3.7/dist-packages (from google-auth<3,>=1.6.3->tensorboard<2.9,>=2.8->tensorflow>=2.2->focal_loss) (0.2.8)\n",
            "Requirement already satisfied: requests-oauthlib>=0.7.0 in /usr/local/lib/python3.7/dist-packages (from google-auth-oauthlib<0.5,>=0.4.1->tensorboard<2.9,>=2.8->tensorflow>=2.2->focal_loss) (1.3.1)\n",
            "Requirement already satisfied: importlib-metadata>=4.4 in /usr/local/lib/python3.7/dist-packages (from markdown>=2.6.8->tensorboard<2.9,>=2.8->tensorflow>=2.2->focal_loss) (4.11.4)\n",
            "Requirement already satisfied: zipp>=0.5 in /usr/local/lib/python3.7/dist-packages (from importlib-metadata>=4.4->markdown>=2.6.8->tensorboard<2.9,>=2.8->tensorflow>=2.2->focal_loss) (3.8.0)\n",
            "Requirement already satisfied: pyasn1<0.5.0,>=0.4.6 in /usr/local/lib/python3.7/dist-packages (from pyasn1-modules>=0.2.1->google-auth<3,>=1.6.3->tensorboard<2.9,>=2.8->tensorflow>=2.2->focal_loss) (0.4.8)\n",
            "Requirement already satisfied: idna<3,>=2.5 in /usr/local/lib/python3.7/dist-packages (from requests<3,>=2.21.0->tensorboard<2.9,>=2.8->tensorflow>=2.2->focal_loss) (2.10)\n",
            "Requirement already satisfied: urllib3!=1.25.0,!=1.25.1,<1.26,>=1.21.1 in /usr/local/lib/python3.7/dist-packages (from requests<3,>=2.21.0->tensorboard<2.9,>=2.8->tensorflow>=2.2->focal_loss) (1.24.3)\n",
            "Requirement already satisfied: chardet<4,>=3.0.2 in /usr/local/lib/python3.7/dist-packages (from requests<3,>=2.21.0->tensorboard<2.9,>=2.8->tensorflow>=2.2->focal_loss) (3.0.4)\n",
            "Requirement already satisfied: certifi>=2017.4.17 in /usr/local/lib/python3.7/dist-packages (from requests<3,>=2.21.0->tensorboard<2.9,>=2.8->tensorflow>=2.2->focal_loss) (2022.5.18.1)\n",
            "Requirement already satisfied: oauthlib>=3.0.0 in /usr/local/lib/python3.7/dist-packages (from requests-oauthlib>=0.7.0->google-auth-oauthlib<0.5,>=0.4.1->tensorboard<2.9,>=2.8->tensorflow>=2.2->focal_loss) (3.2.0)\n",
            "Requirement already satisfied: cycler>=0.10 in /usr/local/lib/python3.7/dist-packages (from matplotlib->filterpy) (0.11.0)\n",
            "Requirement already satisfied: kiwisolver>=1.0.1 in /usr/local/lib/python3.7/dist-packages (from matplotlib->filterpy) (1.4.2)\n",
            "Building wheels for collected packages: filterpy\n",
            "  Building wheel for filterpy (setup.py) ... \u001b[?25l\u001b[?25hdone\n",
            "  Created wheel for filterpy: filename=filterpy-1.4.5-py3-none-any.whl size=110474 sha256=8ce124a8db62ed4896f62a1057fe75787560d8763bdacc48694c3d4700865b5b\n",
            "  Stored in directory: /root/.cache/pip/wheels/ce/e0/ee/a2b3c5caab3418c1ccd8c4de573d4cbe13315d7e8b0a55fbc2\n",
            "Successfully built filterpy\n",
            "Installing collected packages: llvmlite, statsmodels, numba, deprecated, sktime, piexif, focal-loss, filterpy\n",
            "  Attempting uninstall: llvmlite\n",
            "    Found existing installation: llvmlite 0.34.0\n",
            "    Uninstalling llvmlite-0.34.0:\n",
            "      Successfully uninstalled llvmlite-0.34.0\n",
            "  Attempting uninstall: statsmodels\n",
            "    Found existing installation: statsmodels 0.10.2\n",
            "    Uninstalling statsmodels-0.10.2:\n",
            "      Successfully uninstalled statsmodels-0.10.2\n",
            "  Attempting uninstall: numba\n",
            "    Found existing installation: numba 0.51.2\n",
            "    Uninstalling numba-0.51.2:\n",
            "      Successfully uninstalled numba-0.51.2\n",
            "Successfully installed deprecated-1.2.13 filterpy-1.4.5 focal-loss-0.0.7 llvmlite-0.38.1 numba-0.55.2 piexif-1.1.3 sktime-0.11.4 statsmodels-0.13.2\n"
          ]
        }
      ]
    },
    {
      "cell_type": "markdown",
      "source": [
        "### Predict"
      ],
      "metadata": {
        "id": "0cKwf9FC_vEf"
      }
    },
    {
      "cell_type": "code",
      "source": [
        "weights_path = '/content/gdrive/MyDrive/PadelModels/TrackNetWeights/TrackNet-PadelClean4'\n",
        "for i in range(7):\n",
        "  video = 'raw_data/points/cleanVal/PremierRoma_Semis_LGBC_3_42_'+str(i)+'.mp4'\n",
        "  !python predict.py --video_path={video} --load_weights={weights_path}"
      ],
      "metadata": {
        "id": "CMqw6NaF_zwJ",
        "outputId": "131ecea7-1632-4ccf-df36-febeeca12646",
        "colab": {
          "base_uri": "https://localhost:8080/"
        }
      },
      "execution_count": null,
      "outputs": [
        {
          "output_type": "stream",
          "name": "stdout",
          "text": [
            "2022-06-02 13:55:03.763298: W tensorflow/core/common_runtime/gpu/gpu_bfc_allocator.cc:39] Overriding allow_growth setting because the TF_FORCE_GPU_ALLOW_GROWTH environment variable is set. Original config value was 0.\n",
            "Load weights successfully\n",
            "Number of frames in video and dictionary are not the same!\n",
            "Fail to load, predict only.\n",
            "Beginning predicting......\n",
            "Done......\n"
          ]
        }
      ]
    },
    {
      "cell_type": "markdown",
      "source": [
        "### Test accuracy"
      ],
      "metadata": {
        "id": "kYRim2mxaOXK"
      }
    },
    {
      "cell_type": "code",
      "source": [
        "file_name = 'Final_PremierQatar_Tie'\n",
        "file_name = 'cleanVal/PremierRoma_Semis_LGBC_3_42'\n",
        "weights_path = '/content/gdrive/MyDrive/PadelModels/TrackNetWeights2/TrackNet-SoloPadelCleanAll-480p'\n",
        "point_n = 0\n",
        "for point_n in range(7):\n",
        "  video = 'raw_data/points/'+file_name+\"_\"+str(point_n)+\".mp4\"\n",
        "  print(video)\n",
        "  csv = 'raw_data/points/'+file_name+\"_\"+str(point_n)+\".csv\"\n",
        "  res = 'raw_data/points/'+file_name+\"_\"+str(point_n)+\".resPadel.txt\"\n",
        "  !python ../TrackNet-Padel/predict.py --video_path={video} --label_path={csv} --HEIGHT=480 --WIDTH=720 --load_weights={weights_path} # 2>&1 | tee {res}"
      ],
      "metadata": {
        "id": "vk6QsNkIEJlY",
        "outputId": "2c9c4a58-0d74-4605-bda0-06295a55bb64",
        "colab": {
          "base_uri": "https://localhost:8080/"
        }
      },
      "execution_count": 28,
      "outputs": [
        {
          "output_type": "stream",
          "name": "stdout",
          "text": [
            "raw_data/points/cleanVal/PremierRoma_Semis_LGBC_3_42_0.mp4\n",
            "2022-06-09 12:10:17.573969: W tensorflow/core/common_runtime/gpu/gpu_bfc_allocator.cc:39] Overriding allow_growth setting because the TF_FORCE_GPU_ALLOW_GROWTH environment variable is set. Original config value was 0.\n",
            "Load weights successfully\n",
            "Load csv file successfully\n",
            "Beginning predicting......\n",
            "==========================================================\n",
            "Number of true positive: 196\n",
            "Number of true negative: 20\n",
            "Number of false positive FP1: 15\n",
            "Number of false positive FP2: 1\n",
            "Number of false negative: 16\n",
            "Accuracy: 0.8709677419354839\n",
            "Precision: 0.9245283018867925\n",
            "Recall: 0.9245283018867925\n",
            "Total Time: 32.80319046974182\n",
            "(ACC + Pre + Rec)/3: 0.906674781903023\n",
            "Done......\n",
            "raw_data/points/cleanVal/PremierRoma_Semis_LGBC_3_42_1.mp4\n",
            "2022-06-09 12:11:00.879322: W tensorflow/core/common_runtime/gpu/gpu_bfc_allocator.cc:39] Overriding allow_growth setting because the TF_FORCE_GPU_ALLOW_GROWTH environment variable is set. Original config value was 0.\n",
            "Load weights successfully\n",
            "Load csv file successfully\n",
            "Beginning predicting......\n",
            "==========================================================\n",
            "Number of true positive: 128\n",
            "Number of true negative: 55\n",
            "Number of false positive FP1: 7\n",
            "Number of false positive FP2: 2\n",
            "Number of false negative: 8\n",
            "Accuracy: 0.915\n",
            "Precision: 0.9343065693430657\n",
            "Recall: 0.9411764705882353\n",
            "Total Time: 28.355568885803223\n",
            "(ACC + Pre + Rec)/3: 0.9301610133104337\n",
            "Done......\n",
            "raw_data/points/cleanVal/PremierRoma_Semis_LGBC_3_42_2.mp4\n",
            "2022-06-09 12:11:38.583120: W tensorflow/core/common_runtime/gpu/gpu_bfc_allocator.cc:39] Overriding allow_growth setting because the TF_FORCE_GPU_ALLOW_GROWTH environment variable is set. Original config value was 0.\n",
            "Load weights successfully\n",
            "Load csv file successfully\n",
            "Beginning predicting......\n",
            "==========================================================\n",
            "Number of true positive: 74\n",
            "Number of true negative: 0\n",
            "Number of false positive FP1: 2\n",
            "Number of false positive FP2: 0\n",
            "Number of false negative: 7\n",
            "Accuracy: 0.891566265060241\n",
            "Precision: 0.9736842105263158\n",
            "Recall: 0.9135802469135802\n",
            "Total Time: 16.511274576187134\n",
            "(ACC + Pre + Rec)/3: 0.9262769075000458\n",
            "Done......\n",
            "raw_data/points/cleanVal/PremierRoma_Semis_LGBC_3_42_3.mp4\n",
            "2022-06-09 12:12:02.206445: W tensorflow/core/common_runtime/gpu/gpu_bfc_allocator.cc:39] Overriding allow_growth setting because the TF_FORCE_GPU_ALLOW_GROWTH environment variable is set. Original config value was 0.\n",
            "Load weights successfully\n",
            "Load csv file successfully\n",
            "Beginning predicting......\n",
            "==========================================================\n",
            "Number of true positive: 202\n",
            "Number of true negative: 17\n",
            "Number of false positive FP1: 8\n",
            "Number of false positive FP2: 0\n",
            "Number of false negative: 10\n",
            "Accuracy: 0.9240506329113924\n",
            "Precision: 0.9619047619047619\n",
            "Recall: 0.9528301886792453\n",
            "Total Time: 32.227683544158936\n",
            "(ACC + Pre + Rec)/3: 0.9462618611651332\n",
            "Done......\n",
            "raw_data/points/cleanVal/PremierRoma_Semis_LGBC_3_42_4.mp4\n",
            "2022-06-09 12:12:44.895276: W tensorflow/core/common_runtime/gpu/gpu_bfc_allocator.cc:39] Overriding allow_growth setting because the TF_FORCE_GPU_ALLOW_GROWTH environment variable is set. Original config value was 0.\n",
            "Load weights successfully\n",
            "Load csv file successfully\n",
            "Beginning predicting......\n",
            "==========================================================\n",
            "Number of true positive: 231\n",
            "Number of true negative: 32\n",
            "Number of false positive FP1: 7\n",
            "Number of false positive FP2: 0\n",
            "Number of false negative: 18\n",
            "Accuracy: 0.9131944444444444\n",
            "Precision: 0.9705882352941176\n",
            "Recall: 0.927710843373494\n",
            "Total Time: 37.09128284454346\n",
            "(ACC + Pre + Rec)/3: 0.9371645077040186\n",
            "Done......\n",
            "raw_data/points/cleanVal/PremierRoma_Semis_LGBC_3_42_5.mp4\n",
            "2022-06-09 12:13:33.421638: W tensorflow/core/common_runtime/gpu/gpu_bfc_allocator.cc:39] Overriding allow_growth setting because the TF_FORCE_GPU_ALLOW_GROWTH environment variable is set. Original config value was 0.\n",
            "Load weights successfully\n",
            "Load csv file successfully\n",
            "Beginning predicting......\n",
            "==========================================================\n",
            "Number of true positive: 994\n",
            "Number of true negative: 121\n",
            "Number of false positive FP1: 39\n",
            "Number of false positive FP2: 6\n",
            "Number of false negative: 107\n",
            "Accuracy: 0.8800315706393055\n",
            "Precision: 0.9566891241578441\n",
            "Recall: 0.9028156221616712\n",
            "Total Time: 135.89752459526062\n",
            "(ACC + Pre + Rec)/3: 0.9131787723196071\n",
            "Done......\n",
            "raw_data/points/cleanVal/PremierRoma_Semis_LGBC_3_42_6.mp4\n",
            "2022-06-09 12:16:22.147181: W tensorflow/core/common_runtime/gpu/gpu_bfc_allocator.cc:39] Overriding allow_growth setting because the TF_FORCE_GPU_ALLOW_GROWTH environment variable is set. Original config value was 0.\n",
            "Load weights successfully\n",
            "Load csv file successfully\n",
            "Beginning predicting......\n",
            "==========================================================\n",
            "Number of true positive: 288\n",
            "Number of true negative: 48\n",
            "Number of false positive FP1: 0\n",
            "Number of false positive FP2: 0\n",
            "Number of false negative: 0\n",
            "Accuracy: 1.0\n",
            "Precision: 1.0\n",
            "Recall: 1.0\n",
            "Total Time: 42.17895555496216\n",
            "(ACC + Pre + Rec)/3: 1.0\n",
            "Done......\n"
          ]
        }
      ]
    },
    {
      "cell_type": "markdown",
      "source": [
        "### Train Padel"
      ],
      "metadata": {
        "id": "zC_-P-lCd91A"
      }
    },
    {
      "cell_type": "code",
      "source": [
        "!mv raw_data/*.* raw_data/points/\n",
        "for point_n in range(9):\n",
        "  files = 'raw_data/points/clean/*_'+str(point_n)+'\\.*'\n",
        "  print(files)\n",
        "  !mv {files} raw_data/"
      ],
      "metadata": {
        "id": "md3C9pyjd_0w",
        "outputId": "dadf2b2c-cf37-45e6-e72d-28628868248b",
        "colab": {
          "base_uri": "https://localhost:8080/"
        }
      },
      "execution_count": 5,
      "outputs": [
        {
          "output_type": "stream",
          "name": "stdout",
          "text": [
            "raw_data/points/clean/*_0\\.*\n",
            "raw_data/points/clean/*_1\\.*\n",
            "raw_data/points/clean/*_2\\.*\n",
            "raw_data/points/clean/*_3\\.*\n",
            "raw_data/points/clean/*_4\\.*\n",
            "raw_data/points/clean/*_5\\.*\n",
            "raw_data/points/clean/*_6\\.*\n",
            "raw_data/points/clean/*_7\\.*\n",
            "raw_data/points/clean/*_8\\.*\n"
          ]
        }
      ]
    },
    {
      "cell_type": "code",
      "source": [
        "!rm -rf train_data/*\n",
        "!python video2img.py --HEIGHT=480 --WIDTH=720 --sigma=3 "
      ],
      "metadata": {
        "id": "3GWuVXlNeXjG"
      },
      "execution_count": null,
      "outputs": []
    },
    {
      "cell_type": "markdown",
      "source": [
        "#### Train sequencial (error en el orden de las imagenes)\n",
        "*   TrackNet-PadelClean2: Entrenado solo con padel, pocos frames (5000) limpios (solo fragmentos con la bola en juego). --lr=10\n",
        "*   TrackNet-PadelClean3: Continuación, 50 epochs --batch_size=5, con 7k frames (alcanza 0.956 en la validación. - loss:1.20e-4)\n",
        "*   TrackNet-PadelClean4: Continuación, +50epochs --bacth_size=5, con 12k frames, --lr=1 (alcanza 0.94 en la validación. - loss:1.1*   TrackNet-PadelClean5: Continuación, +50epochs (800 steps), con 20k frames, --lr=1 (alcanza 0.93 en la validación. - loss:1.09e-4)8e-4)\n",
        "-----\n",
        "*   TrackNet-PadelCleanAll: Solo padel CleanDS, 25epochs (1k steps), con 20k frames, --lr=10 (alcanza 0.82 en la validación. - loss:1.80e-4)\n",
        "*   TrackNet-PadelCleanAll1: Continuación, 50epochs (1k steps) --lr=10/1 (alcanza 0.86 en la validación. - loss:1.23e-4)\n",
        "*   TrackNet-PadelCleanAll2: Continuación, 25epochs (1k steps) --lr=1 (alcanza 0.86 en la validación. - loss:1.08e-4)\n",
        "*   TrackNet-PadelCleanAll3: Continuación, 50epochs (1k steps) --lr=1 (alcanza 0.88 en la validación. - loss:1.06e-4)\n",
        "\n",
        "\n"
      ],
      "metadata": {
        "id": "XEJOfi0xGbJ6"
      }
    },
    {
      "cell_type": "markdown",
      "source": [
        "#### Train desordenado\n",
        "*    TrackNet-SoloPadelCleanAll: solo padel CleanDS, 50epochs (800) (valTrain=0.9, loss=2.3e-4, valTest=0.8)\n",
        "-------\n",
        "*    TrackNet-SoloPadelCleanAll-720p: solo padel CleanDS (480p), 35epochs (800) (valTrain=0.9, loss=1.9e-4)\n",
        "*    TrackNet-SoloPadelCleanAll-720p2: Continuación, +50epochs (1500) (valTrain=0.9, loss=1.75e-4)\n",
        "-------\n",
        "*    TrackNet-SoloPadelCleanAll-480p: solo padel CleanDS (480p) sigma=3, 30epoch (1500) (valTrain=0.9, loss=1.29e-4, cleanVal=0.9-0.94)"
      ],
      "metadata": {
        "id": "XxXg4nf6K8z9"
      }
    },
    {
      "cell_type": "code",
      "source": [
        "weights_path = '/content/gdrive/MyDrive/PadelModels/TrackNetWeights2/TrackNet-SoloPadelCleanAll-480p'\n",
        "!python train2.py --save_weights={weights_path}  --batch_size=2 --frame_stack=3 --back_frame_stack=0 --HEIGHT=480 --WIDTH=720 --lr=10 --tol=5  #--pre_trained=True  --load_weights={weights_path[:-1]}"
      ],
      "metadata": {
        "id": "L72l_-tseyd9",
        "outputId": "cf404af0-ce19-4805-b98e-ee12d759fe25",
        "colab": {
          "base_uri": "https://localhost:8080/"
        }
      },
      "execution_count": 19,
      "outputs": [
        {
          "output_type": "stream",
          "name": "stdout",
          "text": [
            "lerning rate: 10.0\n",
            "2022-06-09 06:37:46.349936: W tensorflow/core/common_runtime/gpu/gpu_bfc_allocator.cc:39] Overriding allow_growth setting because the TF_FORCE_GPU_ALLOW_GROWTH environment variable is set. Original config value was 0.\n",
            "Beginning training......\n",
            "==========Epoch 0, Train steps: 1500, Learning rate: 10.0000==========\n",
            "1500/1500 [==============================] - 586s 381ms/step - loss: 3.7923e-04 - binary_accuracy: 0.9998\n",
            "==========Epoch 0 start validation========== 400\n",
            "Epoch 0 accuracy: 0.714\n",
            "Epoch 0 precision: 0.776\n",
            "Epoch 0 recall: 0.870\n",
            "Epoch 0 average = (accuracy + precision + recall)/3: 0.787\n",
            "==========Epoch 1, Train steps: 1500, Learning rate: 10.0000==========\n",
            "1500/1500 [==============================] - 572s 381ms/step - loss: 2.1287e-04 - binary_accuracy: 0.9998\n",
            "==========Epoch 2, Train steps: 1500, Learning rate: 10.0000==========\n",
            "1500/1500 [==============================] - 572s 381ms/step - loss: 1.9689e-04 - binary_accuracy: 0.9998\n",
            "==========Epoch 3, Train steps: 1500, Learning rate: 10.0000==========\n",
            "1500/1500 [==============================] - 572s 381ms/step - loss: 1.8014e-04 - binary_accuracy: 0.9998\n",
            "==========Epoch 4, Train steps: 1500, Learning rate: 10.0000==========\n",
            "1500/1500 [==============================] - 572s 381ms/step - loss: 1.7856e-04 - binary_accuracy: 0.9998\n",
            "==========Epoch 5, Train steps: 1500, Learning rate: 10.0000==========\n",
            "1500/1500 [==============================] - 572s 381ms/step - loss: 1.6940e-04 - binary_accuracy: 0.9998\n",
            "==========Epoch 5 start validation========== 400\n",
            "Epoch 5 accuracy: 0.843\n",
            "Epoch 5 precision: 0.926\n",
            "Epoch 5 recall: 0.882\n",
            "Epoch 5 average = (accuracy + precision + recall)/3: 0.884\n",
            "==========Epoch 6, Train steps: 1500, Learning rate: 10.0000==========\n",
            "1500/1500 [==============================] - 572s 381ms/step - loss: 1.6577e-04 - binary_accuracy: 0.9998\n",
            "==========Epoch 7, Train steps: 1500, Learning rate: 10.0000==========\n",
            "1500/1500 [==============================] - 572s 381ms/step - loss: 1.5923e-04 - binary_accuracy: 0.9998\n",
            "==========Epoch 8, Train steps: 1500, Learning rate: 10.0000==========\n",
            "1500/1500 [==============================] - 572s 381ms/step - loss: 1.5944e-04 - binary_accuracy: 0.9998\n",
            "==========Epoch 9, Train steps: 1500, Learning rate: 10.0000==========\n",
            "1500/1500 [==============================] - 572s 381ms/step - loss: 1.4946e-04 - binary_accuracy: 0.9998\n",
            "==========Epoch 10, Train steps: 1500, Learning rate: 10.0000==========\n",
            "1500/1500 [==============================] - 572s 381ms/step - loss: 1.5475e-04 - binary_accuracy: 0.9998\n",
            "==========Epoch 10 start validation========== 400\n",
            "Epoch 10 accuracy: 0.802\n",
            "Epoch 10 precision: 0.822\n",
            "Epoch 10 recall: 0.955\n",
            "Epoch 10 average = (accuracy + precision + recall)/3: 0.860\n",
            "==========Epoch 11, Train steps: 1500, Learning rate: 10.0000==========\n",
            "1500/1500 [==============================] - 572s 381ms/step - loss: 1.5028e-04 - binary_accuracy: 0.9998\n",
            "==========Epoch 12, Train steps: 1500, Learning rate: 10.0000==========\n",
            "1500/1500 [==============================] - 572s 381ms/step - loss: 1.5202e-04 - binary_accuracy: 0.9998\n",
            "Reduce model learning rate to 1.0\n",
            "==========Epoch 13, Train steps: 1500, Learning rate: 1.0000==========\n",
            "1500/1500 [==============================] - 572s 381ms/step - loss: 1.4282e-04 - binary_accuracy: 0.9998\n",
            "==========Epoch 14, Train steps: 1500, Learning rate: 1.0000==========\n",
            "1500/1500 [==============================] - 572s 381ms/step - loss: 1.4112e-04 - binary_accuracy: 0.9998\n",
            "==========Epoch 15, Train steps: 1500, Learning rate: 1.0000==========\n",
            "1500/1500 [==============================] - 572s 381ms/step - loss: 1.3557e-04 - binary_accuracy: 0.9998\n",
            "==========Epoch 15 start validation========== 400\n",
            "Epoch 15 accuracy: 0.869\n",
            "Epoch 15 precision: 0.941\n",
            "Epoch 15 recall: 0.896\n",
            "Epoch 15 average = (accuracy + precision + recall)/3: 0.902\n",
            "==========Epoch 16, Train steps: 1500, Learning rate: 1.0000==========\n",
            "1500/1500 [==============================] - 572s 381ms/step - loss: 1.3990e-04 - binary_accuracy: 0.9998\n",
            "==========Epoch 17, Train steps: 1500, Learning rate: 1.0000==========\n",
            "1500/1500 [==============================] - 572s 381ms/step - loss: 1.4060e-04 - binary_accuracy: 0.9998\n",
            "==========Epoch 18, Train steps: 1500, Learning rate: 1.0000==========\n",
            "1500/1500 [==============================] - 572s 381ms/step - loss: 1.3331e-04 - binary_accuracy: 0.9998\n",
            "==========Epoch 19, Train steps: 1500, Learning rate: 1.0000==========\n",
            "1500/1500 [==============================] - 572s 381ms/step - loss: 1.3333e-04 - binary_accuracy: 0.9998\n",
            "==========Epoch 20, Train steps: 1500, Learning rate: 1.0000==========\n",
            "1500/1500 [==============================] - 572s 381ms/step - loss: 1.3807e-04 - binary_accuracy: 0.9998\n",
            "==========Epoch 20 start validation========== 400\n",
            "Epoch 20 accuracy: 0.874\n",
            "Epoch 20 precision: 0.927\n",
            "Epoch 20 recall: 0.923\n",
            "Epoch 20 average = (accuracy + precision + recall)/3: 0.908\n",
            "==========Epoch 21, Train steps: 1500, Learning rate: 1.0000==========\n",
            "1500/1500 [==============================] - 572s 381ms/step - loss: 1.3347e-04 - binary_accuracy: 0.9998\n",
            "Reduce model learning rate to 0.1\n",
            "==========Epoch 22, Train steps: 1500, Learning rate: 0.1000==========\n",
            "1500/1500 [==============================] - 572s 381ms/step - loss: 1.3265e-04 - binary_accuracy: 0.9998\n",
            "==========Epoch 23, Train steps: 1500, Learning rate: 0.1000==========\n",
            "1500/1500 [==============================] - 572s 381ms/step - loss: 1.3423e-04 - binary_accuracy: 0.9998\n",
            "==========Epoch 24, Train steps: 1500, Learning rate: 0.1000==========\n",
            "1500/1500 [==============================] - 572s 381ms/step - loss: 1.3127e-04 - binary_accuracy: 0.9998\n",
            "==========Epoch 25, Train steps: 1500, Learning rate: 0.1000==========\n",
            "1500/1500 [==============================] - 572s 381ms/step - loss: 1.3177e-04 - binary_accuracy: 0.9998\n",
            "==========Epoch 25 start validation========== 400\n",
            "Epoch 25 accuracy: 0.874\n",
            "Epoch 25 precision: 0.939\n",
            "Epoch 25 recall: 0.910\n",
            "Epoch 25 average = (accuracy + precision + recall)/3: 0.908\n",
            "==========Epoch 26, Train steps: 1500, Learning rate: 0.1000==========\n",
            "1500/1500 [==============================] - 572s 381ms/step - loss: 1.3222e-04 - binary_accuracy: 0.9998\n",
            "==========Epoch 27, Train steps: 1500, Learning rate: 0.1000==========\n",
            "1500/1500 [==============================] - 572s 381ms/step - loss: 1.3179e-04 - binary_accuracy: 0.9998\n",
            "Reduce model learning rate to 0.010000000149011612\n",
            "==========Epoch 28, Train steps: 1500, Learning rate: 0.0100==========\n",
            "1500/1500 [==============================] - 572s 381ms/step - loss: 1.3489e-04 - binary_accuracy: 0.9998\n",
            "==========Epoch 29, Train steps: 1500, Learning rate: 0.0100==========\n",
            "1500/1500 [==============================] - 572s 381ms/step - loss: 1.2904e-04 - binary_accuracy: 0.9998\n",
            "==========Epoch 30, Train steps: 1500, Learning rate: 0.0100==========\n",
            "1500/1500 [==============================] - 572s 381ms/step - loss: 1.3688e-04 - binary_accuracy: 0.9998\n",
            "==========Epoch 30 start validation========== 400\n",
            "Epoch 30 accuracy: 0.853\n",
            "Epoch 30 precision: 0.928\n",
            "Epoch 30 recall: 0.895\n",
            "Epoch 30 average = (accuracy + precision + recall)/3: 0.892\n",
            "==========Epoch 31, Train steps: 1500, Learning rate: 0.0100==========\n",
            "1500/1500 [==============================] - 572s 381ms/step - loss: 1.3456e-04 - binary_accuracy: 0.9998\n",
            "==========Epoch 32, Train steps: 1500, Learning rate: 0.0100==========\n",
            " 630/1500 [===========>..................] - ETA: 5:31 - loss: 1.3131e-04 - binary_accuracy: 0.9998Traceback (most recent call last):\n",
            "  File \"train2.py\", line 54, in <module>\n",
            "    verbose=1)\n",
            "  File \"/usr/local/lib/python3.7/dist-packages/keras/utils/traceback_utils.py\", line 64, in error_handler\n",
            "    return fn(*args, **kwargs)\n",
            "  File \"/usr/local/lib/python3.7/dist-packages/keras/engine/training.py\", line 1384, in fit\n",
            "    tmp_logs = self.train_function(iterator)\n",
            "  File \"/usr/local/lib/python3.7/dist-packages/tensorflow/python/util/traceback_utils.py\", line 150, in error_handler\n",
            "    return fn(*args, **kwargs)\n",
            "  File \"/usr/local/lib/python3.7/dist-packages/tensorflow/python/eager/def_function.py\", line 915, in __call__\n",
            "    result = self._call(*args, **kwds)\n",
            "  File \"/usr/local/lib/python3.7/dist-packages/tensorflow/python/eager/def_function.py\", line 947, in _call\n",
            "    return self._stateless_fn(*args, **kwds)  # pylint: disable=not-callable\n",
            "  File \"/usr/local/lib/python3.7/dist-packages/tensorflow/python/eager/function.py\", line 2957, in __call__\n",
            "    filtered_flat_args, captured_inputs=graph_function.captured_inputs)  # pylint: disable=protected-access\n",
            "  File \"/usr/local/lib/python3.7/dist-packages/tensorflow/python/eager/function.py\", line 1854, in _call_flat\n",
            "    ctx, args, cancellation_manager=cancellation_manager))\n",
            "  File \"/usr/local/lib/python3.7/dist-packages/tensorflow/python/eager/function.py\", line 504, in call\n",
            "    ctx=ctx)\n",
            "  File \"/usr/local/lib/python3.7/dist-packages/tensorflow/python/eager/execute.py\", line 55, in quick_execute\n",
            "    inputs, attrs, num_outputs)\n",
            "KeyboardInterrupt\n",
            "2022-06-09 11:57:45.808348: W tensorflow/core/kernels/data/generator_dataset_op.cc:107] Error occurred when finalizing GeneratorDataset iterator: FAILED_PRECONDITION: Python interpreter state is not initialized. The process may be terminated.\n",
            "\t [[{{node PyFunc}}]]\n"
          ]
        }
      ]
    },
    {
      "cell_type": "markdown",
      "source": [
        "### Debug"
      ],
      "metadata": {
        "id": "G9slBIsCSNzQ"
      }
    },
    {
      "cell_type": "code",
      "source": [
        "%load_ext autoreload\n",
        "%autoreload 2"
      ],
      "metadata": {
        "colab": {
          "base_uri": "https://localhost:8080/"
        },
        "id": "NNzoN5yQSaRq",
        "outputId": "f6a25504-6bab-4d65-d430-72a8d495c5ba"
      },
      "execution_count": 11,
      "outputs": [
        {
          "output_type": "stream",
          "name": "stdout",
          "text": [
            "The autoreload extension is already loaded. To reload it, use:\n",
            "  %reload_ext autoreload\n"
          ]
        }
      ]
    },
    {
      "cell_type": "code",
      "source": [
        "from utils import *\n",
        "HEIGHT = 288\n",
        "WIDTH = 512\n",
        "BATCH_SIZE = 2\n",
        "FRAME_STACK = 3\n",
        "BACK_FRAME_STACK = 1\n",
        "\n",
        "match_path = 'train_data'\n",
        "match_list = [os.sep.join([os.getcwd(), match_path, match]) for match in os.listdir(match_path)]\n",
        "\n",
        "x_train, x_test, y_train, y_test = split_train_test2(match_list, FRAME_STACK, BACK_FRAME_STACK, ratio=0.9, shuffle=True)\n",
        "gen = data_generator2(BATCH_SIZE, x_train+x_test, y_train+y_test, FRAME_STACK, BACK_FRAME_STACK)"
      ],
      "metadata": {
        "colab": {
          "base_uri": "https://localhost:8080/"
        },
        "id": "TJHz75vdSJSO",
        "outputId": "7fd01025-c598-4238-ebe5-689d5dd4657c"
      },
      "execution_count": 81,
      "outputs": [
        {
          "output_type": "stream",
          "name": "stdout",
          "text": [
            "18572\n",
            "2064\n",
            "18572\n"
          ]
        }
      ]
    },
    {
      "cell_type": "code",
      "source": [
        "x, y = next(gen)\n",
        "print(x.shape)"
      ],
      "metadata": {
        "colab": {
          "base_uri": "https://localhost:8080/"
        },
        "id": "3wK4YN0STAJl",
        "outputId": "170c8b9e-8697-4280-9569-35ff68df1648"
      },
      "execution_count": 64,
      "outputs": [
        {
          "output_type": "stream",
          "name": "stdout",
          "text": [
            "(2, 3, 288, 512)\n"
          ]
        }
      ]
    },
    {
      "cell_type": "code",
      "source": [
        "list(zip(x_train, y_train))[:3]"
      ],
      "metadata": {
        "colab": {
          "base_uri": "https://localhost:8080/"
        },
        "id": "b7NFLcRzWp5I",
        "outputId": "33751b44-ce63-4498-833d-337e48ba93b9"
      },
      "execution_count": 65,
      "outputs": [
        {
          "output_type": "execute_result",
          "data": {
            "text/plain": [
              "[('/content/TrackNet-Padel/train_data/match22/x_data/match22_PremierRoma_Semis_LGBC_1_00_6_105.jpg',\n",
              "  '/content/TrackNet-Padel/train_data/match22/y_data/match22_PremierRoma_Semis_LGBC_1_00_6_105.jpg'),\n",
              " ('/content/TrackNet-Padel/train_data/match20/x_data/match20_PremierRoma_Semis_LGBC_1_00_2_606.jpg',\n",
              "  '/content/TrackNet-Padel/train_data/match20/y_data/match20_PremierRoma_Semis_LGBC_1_00_2_606.jpg'),\n",
              " ('/content/TrackNet-Padel/train_data/match53/x_data/match53_PremierRoma_Semis_LGBC_2_35_2_117.jpg',\n",
              "  '/content/TrackNet-Padel/train_data/match53/y_data/match53_PremierRoma_Semis_LGBC_2_35_2_117.jpg')]"
            ]
          },
          "metadata": {},
          "execution_count": 65
        }
      ]
    },
    {
      "cell_type": "code",
      "source": [
        "im = cv2.imread('train_data/match1/x_data/match1_PremierRoma_Octavos_GRMS_2_53_0_0.jpg')\n",
        "im.shape"
      ],
      "metadata": {
        "colab": {
          "base_uri": "https://localhost:8080/"
        },
        "id": "sydTYtSybAk5",
        "outputId": "fdaab58d-2117-45e1-d6bc-b593da88db08"
      },
      "execution_count": 89,
      "outputs": [
        {
          "output_type": "execute_result",
          "data": {
            "text/plain": [
              "(288, 512, 3)"
            ]
          },
          "metadata": {},
          "execution_count": 89
        }
      ]
    }
  ]
}