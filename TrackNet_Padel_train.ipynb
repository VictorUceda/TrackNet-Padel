{
  "nbformat": 4,
  "nbformat_minor": 0,
  "metadata": {
    "colab": {
      "name": "TrackNet_Padel.ipynb",
      "provenance": [],
      "collapsed_sections": [],
      "include_colab_link": true
    },
    "kernelspec": {
      "name": "python3",
      "display_name": "Python 3"
    },
    "language_info": {
      "name": "python"
    },
    "accelerator": "GPU"
  },
  "cells": [
    {
      "cell_type": "markdown",
      "metadata": {
        "id": "view-in-github",
        "colab_type": "text"
      },
      "source": [
        "<a href=\"https://colab.research.google.com/github/VictorUceda/TrackNet-Padel/blob/main/TrackNet_Padel_train.ipynb\" target=\"_parent\"><img src=\"https://colab.research.google.com/assets/colab-badge.svg\" alt=\"Open In Colab\"/></a>"
      ]
    },
    {
      "cell_type": "code",
      "source": [
        "!nvidia-smi"
      ],
      "metadata": {
        "id": "50iBZugzyWYZ",
        "outputId": "21823fbd-22fe-411c-ec92-7e424a0ec824",
        "colab": {
          "base_uri": "https://localhost:8080/"
        }
      },
      "execution_count": 1,
      "outputs": [
        {
          "output_type": "stream",
          "name": "stdout",
          "text": [
            "Sun May 29 18:05:26 2022       \n",
            "+-----------------------------------------------------------------------------+\n",
            "| NVIDIA-SMI 460.32.03    Driver Version: 460.32.03    CUDA Version: 11.2     |\n",
            "|-------------------------------+----------------------+----------------------+\n",
            "| GPU  Name        Persistence-M| Bus-Id        Disp.A | Volatile Uncorr. ECC |\n",
            "| Fan  Temp  Perf  Pwr:Usage/Cap|         Memory-Usage | GPU-Util  Compute M. |\n",
            "|                               |                      |               MIG M. |\n",
            "|===============================+======================+======================|\n",
            "|   0  Tesla P100-PCIE...  Off  | 00000000:00:04.0 Off |                    0 |\n",
            "| N/A   35C    P0    27W / 250W |      0MiB / 16280MiB |      0%      Default |\n",
            "|                               |                      |                  N/A |\n",
            "+-------------------------------+----------------------+----------------------+\n",
            "                                                                               \n",
            "+-----------------------------------------------------------------------------+\n",
            "| Processes:                                                                  |\n",
            "|  GPU   GI   CI        PID   Type   Process name                  GPU Memory |\n",
            "|        ID   ID                                                   Usage      |\n",
            "|=============================================================================|\n",
            "|  No running processes found                                                 |\n",
            "+-----------------------------------------------------------------------------+\n"
          ]
        }
      ]
    },
    {
      "cell_type": "code",
      "execution_count": 2,
      "metadata": {
        "colab": {
          "base_uri": "https://localhost:8080/"
        },
        "id": "Q8g7zdD0a-o4",
        "outputId": "02afb251-86a7-4797-d5b3-e6fc45481650"
      },
      "outputs": [
        {
          "output_type": "stream",
          "name": "stdout",
          "text": [
            "Mounted at /content/gdrive\n",
            "/content\n"
          ]
        }
      ],
      "source": [
        "from google.colab import drive\n",
        "drive.mount('/content/gdrive')\n",
        "\n",
        "\n",
        "import os \n",
        "path_drive = '/content/gdrive/MyDrive/Colab Notebooks/TrackNet-Padel/'\n",
        "weights_path = '/content/gdrive/MyDrive/PadelModels/TrackNetWeights/TrackNet-Padel'\n",
        "\n",
        "!pwd"
      ]
    },
    {
      "cell_type": "code",
      "source": [
        "os.chdir('/content/')\n",
        "!pwd"
      ],
      "metadata": {
        "colab": {
          "base_uri": "https://localhost:8080/"
        },
        "id": "95NxepeuGoC4",
        "outputId": "eace860e-572a-49cf-c18f-6cf24b3ce804"
      },
      "execution_count": 3,
      "outputs": [
        {
          "output_type": "stream",
          "name": "stdout",
          "text": [
            "/content\n"
          ]
        }
      ]
    },
    {
      "cell_type": "code",
      "source": [
        "#!git clone https://github.com/VictorUceda/TrackNet-Padel.git\n",
        "#!git clone https://github.com/Chang-Chia-Chi/TrackNet-Badminton-Tracking-tensorflow2\n",
        "os.chdir('/content/TrackNet-Padel/')\n",
        "!git pull"
      ],
      "metadata": {
        "id": "lYG3TpaZfjSN",
        "outputId": "ff939219-575d-4c96-f798-25f0d52186cb",
        "colab": {
          "base_uri": "https://localhost:8080/"
        }
      },
      "execution_count": 30,
      "outputs": [
        {
          "output_type": "stream",
          "name": "stdout",
          "text": [
            "remote: Enumerating objects: 5, done.\u001b[K\n",
            "remote: Counting objects:  20% (1/5)\u001b[K\rremote: Counting objects:  40% (2/5)\u001b[K\rremote: Counting objects:  60% (3/5)\u001b[K\rremote: Counting objects:  80% (4/5)\u001b[K\rremote: Counting objects: 100% (5/5)\u001b[K\rremote: Counting objects: 100% (5/5), done.\u001b[K\n",
            "remote: Compressing objects:  33% (1/3)\u001b[K\rremote: Compressing objects:  66% (2/3)\u001b[K\rremote: Compressing objects: 100% (3/3)\u001b[K\rremote: Compressing objects: 100% (3/3), done.\u001b[K\n",
            "remote: Total 3 (delta 2), reused 0 (delta 0), pack-reused 0\u001b[K\n",
            "Unpacking objects:  33% (1/3)   \rUnpacking objects:  66% (2/3)   \rUnpacking objects: 100% (3/3)   \rUnpacking objects: 100% (3/3), done.\n",
            "From https://github.com/VictorUceda/TrackNet-Padel\n",
            "   ac7d033..7a51048  main       -> origin/main\n",
            "Updating ac7d033..7a51048\n",
            "Fast-forward\n",
            " predict.py | 7 \u001b[32m+++\u001b[m\u001b[31m----\u001b[m\n",
            " 1 file changed, 3 insertions(+), 4 deletions(-)\n"
          ]
        }
      ]
    },
    {
      "cell_type": "markdown",
      "source": [
        ""
      ],
      "metadata": {
        "id": "bY2m7mhhk9hn"
      }
    },
    {
      "cell_type": "code",
      "source": [
        "!pip3 install filterpy sktime piexif imutils Pillow focal_loss"
      ],
      "metadata": {
        "id": "cmHZLk7zgQVr"
      },
      "execution_count": null,
      "outputs": []
    },
    {
      "cell_type": "markdown",
      "source": [
        "### Predict"
      ],
      "metadata": {
        "id": "0cKwf9FC_vEf"
      }
    },
    {
      "cell_type": "code",
      "source": [
        "for i in range(10):\n",
        "  video = '/content/gdrive/MyDrive/PadelMatchs/PremierRoma_Semis_LGBC_0_54_'+str(i)+'.mp4'\n",
        "  !python predict.py --video_path={video} "
      ],
      "metadata": {
        "id": "CMqw6NaF_zwJ",
        "outputId": "0dd007b4-2ce1-415e-ed05-6247dbc8a903",
        "colab": {
          "base_uri": "https://localhost:8080/"
        }
      },
      "execution_count": 33,
      "outputs": [
        {
          "output_type": "stream",
          "name": "stdout",
          "text": [
            "2022-05-29 18:45:26.314328: W tensorflow/core/common_runtime/gpu/gpu_bfc_allocator.cc:39] Overriding allow_growth setting because the TF_FORCE_GPU_ALLOW_GROWTH environment variable is set. Original config value was 0.\n",
            "Load weights successfully\n",
            "Number of frames in video and dictionary are not the same!\n",
            "Fail to load, predict only.\n",
            "Beginning predicting......\n",
            "Traceback (most recent call last):\n",
            "  File \"predict.py\", line 116, in <module>\n",
            "    y_pred = model.predict(img_input, batch_size=BATCH_SIZE)\n",
            "  File \"/usr/local/lib/python3.7/dist-packages/keras/utils/traceback_utils.py\", line 67, in error_handler\n",
            "    raise e.with_traceback(filtered_tb) from None\n",
            "  File \"/usr/local/lib/python3.7/dist-packages/tensorflow/python/framework/ops.py\", line 4125, in _get_operation_by_name_unsafe\n",
            "    return self._nodes_by_name[name]\n",
            "KeyError: 'res_net__track/sequential_10/res_net__bottle_neck_15/batch_normalization_56/FusedBatchNormV3'\n",
            "2022-05-29 18:45:32.777034: W tensorflow/core/common_runtime/gpu/gpu_bfc_allocator.cc:39] Overriding allow_growth setting because the TF_FORCE_GPU_ALLOW_GROWTH environment variable is set. Original config value was 0.\n",
            "Load weights successfully\n",
            "Number of frames in video and dictionary are not the same!\n",
            "Fail to load, predict only.\n",
            "Beginning predicting......\n",
            "Done......\n",
            "2022-05-29 18:45:52.466100: W tensorflow/core/common_runtime/gpu/gpu_bfc_allocator.cc:39] Overriding allow_growth setting because the TF_FORCE_GPU_ALLOW_GROWTH environment variable is set. Original config value was 0.\n",
            "Load weights successfully\n",
            "Number of frames in video and dictionary are not the same!\n",
            "Fail to load, predict only.\n",
            "Beginning predicting......\n",
            "Done......\n",
            "2022-05-29 18:47:23.745535: W tensorflow/core/common_runtime/gpu/gpu_bfc_allocator.cc:39] Overriding allow_growth setting because the TF_FORCE_GPU_ALLOW_GROWTH environment variable is set. Original config value was 0.\n",
            "Load weights successfully\n",
            "Number of frames in video and dictionary are not the same!\n",
            "Fail to load, predict only.\n",
            "Beginning predicting......\n",
            "Done......\n",
            "2022-05-29 18:48:14.500345: W tensorflow/core/common_runtime/gpu/gpu_bfc_allocator.cc:39] Overriding allow_growth setting because the TF_FORCE_GPU_ALLOW_GROWTH environment variable is set. Original config value was 0.\n",
            "Load weights successfully\n",
            "Number of frames in video and dictionary are not the same!\n",
            "Fail to load, predict only.\n",
            "Beginning predicting......\n",
            "Done......\n",
            "2022-05-29 18:48:52.912222: W tensorflow/core/common_runtime/gpu/gpu_bfc_allocator.cc:39] Overriding allow_growth setting because the TF_FORCE_GPU_ALLOW_GROWTH environment variable is set. Original config value was 0.\n",
            "Load weights successfully\n",
            "Number of frames in video and dictionary are not the same!\n",
            "Fail to load, predict only.\n",
            "Beginning predicting......\n",
            "Done......\n",
            "2022-05-29 18:49:20.209323: W tensorflow/core/common_runtime/gpu/gpu_bfc_allocator.cc:39] Overriding allow_growth setting because the TF_FORCE_GPU_ALLOW_GROWTH environment variable is set. Original config value was 0.\n",
            "Load weights successfully\n",
            "Number of frames in video and dictionary are not the same!\n",
            "Fail to load, predict only.\n",
            "Beginning predicting......\n",
            "Done......\n",
            "2022-05-29 18:50:16.194081: W tensorflow/core/common_runtime/gpu/gpu_bfc_allocator.cc:39] Overriding allow_growth setting because the TF_FORCE_GPU_ALLOW_GROWTH environment variable is set. Original config value was 0.\n",
            "Load weights successfully\n",
            "Number of frames in video and dictionary are not the same!\n",
            "Fail to load, predict only.\n",
            "Beginning predicting......\n",
            "Done......\n",
            "2022-05-29 18:50:45.174923: W tensorflow/core/common_runtime/gpu/gpu_bfc_allocator.cc:39] Overriding allow_growth setting because the TF_FORCE_GPU_ALLOW_GROWTH environment variable is set. Original config value was 0.\n",
            "Load weights successfully\n",
            "Number of frames in video and dictionary are not the same!\n",
            "Fail to load, predict only.\n",
            "Beginning predicting......\n",
            "Done......\n",
            "2022-05-29 18:51:07.936507: W tensorflow/core/common_runtime/gpu/gpu_bfc_allocator.cc:39] Overriding allow_growth setting because the TF_FORCE_GPU_ALLOW_GROWTH environment variable is set. Original config value was 0.\n",
            "Load weights successfully\n",
            "Number of frames in video and dictionary are not the same!\n",
            "Fail to load, predict only.\n",
            "Beginning predicting......\n",
            "Done......\n"
          ]
        }
      ]
    },
    {
      "cell_type": "markdown",
      "source": [
        "### Test accuracy"
      ],
      "metadata": {
        "id": "kYRim2mxaOXK"
      }
    },
    {
      "cell_type": "code",
      "source": [
        "file_name = 'Final_PremierQatar_Tie'\n",
        "point_n = 0\n",
        "for point_n in range(9,13):\n",
        "  video = 'raw_data/points/'+file_name+\"_\"+str(point_n)+\".mp4\"\n",
        "  print(video)\n",
        "  csv = 'raw_data/points/'+file_name+\"_\"+str(point_n)+\".csv\"\n",
        "  res = 'raw_data/points/'+file_name+\"_\"+str(point_n)+\".resPadel.txt\"\n",
        "  !python ../TrackNet-Padel/predict.py --video_path={video} --label_path={csv} --load_weights={weights_path+'4'} # 2>&1 | tee {res}"
      ],
      "metadata": {
        "id": "vk6QsNkIEJlY",
        "outputId": "455bede4-6d3d-4082-bcf0-591b191d94fb",
        "colab": {
          "base_uri": "https://localhost:8080/"
        }
      },
      "execution_count": 7,
      "outputs": [
        {
          "output_type": "stream",
          "name": "stdout",
          "text": [
            "raw_data/points/Final_PremierQatar_Tie_9.mp4\n",
            "2022-05-26 06:37:39.700143: W tensorflow/core/common_runtime/gpu/gpu_bfc_allocator.cc:39] Overriding allow_growth setting because the TF_FORCE_GPU_ALLOW_GROWTH environment variable is set. Original config value was 0.\n",
            "Load weights successfully\n",
            "Load csv file successfully\n",
            "Beginning predicting......\n",
            "==========================================================\n",
            "Number of true positive: 104\n",
            "Number of true negative: 58\n",
            "Number of false positive FP1: 40\n",
            "Number of false positive FP2: 9\n",
            "Number of false negative: 177\n",
            "Accuracy: 0.4175257731958763\n",
            "Precision: 0.6797385620915033\n",
            "Recall: 0.3701067615658363\n",
            "Total Time: 40.710339069366455\n",
            "(ACC + Pre + Rec)/3: 0.48912369895107194\n",
            "Done......\n",
            "raw_data/points/Final_PremierQatar_Tie_10.mp4\n",
            "2022-05-26 06:38:36.872117: W tensorflow/core/common_runtime/gpu/gpu_bfc_allocator.cc:39] Overriding allow_growth setting because the TF_FORCE_GPU_ALLOW_GROWTH environment variable is set. Original config value was 0.\n",
            "Load weights successfully\n",
            "Load csv file successfully\n",
            "Beginning predicting......\n",
            "==========================================================\n",
            "Number of true positive: 412\n",
            "Number of true negative: 61\n",
            "Number of false positive FP1: 51\n",
            "Number of false positive FP2: 6\n",
            "Number of false negative: 203\n",
            "Accuracy: 0.645293315143247\n",
            "Precision: 0.8784648187633263\n",
            "Recall: 0.6699186991869919\n",
            "Total Time: 55.760088205337524\n",
            "(ACC + Pre + Rec)/3: 0.7312256110311884\n",
            "Done......\n",
            "raw_data/points/Final_PremierQatar_Tie_11.mp4\n",
            "2022-05-26 06:39:50.677608: W tensorflow/core/common_runtime/gpu/gpu_bfc_allocator.cc:39] Overriding allow_growth setting because the TF_FORCE_GPU_ALLOW_GROWTH environment variable is set. Original config value was 0.\n",
            "Load weights successfully\n",
            "Load csv file successfully\n",
            "Beginning predicting......\n",
            "==========================================================\n",
            "Number of true positive: 96\n",
            "Number of true negative: 73\n",
            "Number of false positive FP1: 19\n",
            "Number of false positive FP2: 7\n",
            "Number of false negative: 103\n",
            "Accuracy: 0.5671140939597316\n",
            "Precision: 0.7868852459016393\n",
            "Recall: 0.4824120603015075\n",
            "Total Time: 25.683152675628662\n",
            "(ACC + Pre + Rec)/3: 0.6121371333876261\n",
            "Done......\n",
            "raw_data/points/Final_PremierQatar_Tie_12.mp4\n",
            "2022-05-26 06:40:26.158387: W tensorflow/core/common_runtime/gpu/gpu_bfc_allocator.cc:39] Overriding allow_growth setting because the TF_FORCE_GPU_ALLOW_GROWTH environment variable is set. Original config value was 0.\n",
            "Load weights successfully\n",
            "Load csv file successfully\n",
            "Beginning predicting......\n",
            "==========================================================\n",
            "Number of true positive: 66\n",
            "Number of true negative: 35\n",
            "Number of false positive FP1: 15\n",
            "Number of false positive FP2: 8\n",
            "Number of false negative: 39\n",
            "Accuracy: 0.6196319018404908\n",
            "Precision: 0.7415730337078652\n",
            "Recall: 0.6285714285714286\n",
            "Total Time: 17.202807426452637\n",
            "(ACC + Pre + Rec)/3: 0.6632587880399282\n",
            "Done......\n"
          ]
        }
      ]
    },
    {
      "cell_type": "markdown",
      "source": [
        "### Train Padel"
      ],
      "metadata": {
        "id": "zC_-P-lCd91A"
      }
    },
    {
      "cell_type": "code",
      "source": [
        "!mv raw_data/*.* raw_data/points/\n",
        "for point_n in range(9):\n",
        "  files = 'raw_data/points/*_'+str(point_n)+'\\.*'\n",
        "  print(files)\n",
        "  !mv {files} raw_data/"
      ],
      "metadata": {
        "id": "md3C9pyjd_0w",
        "outputId": "34dde5cc-a7db-4611-8156-a48a21baad8c",
        "colab": {
          "base_uri": "https://localhost:8080/"
        }
      },
      "execution_count": 6,
      "outputs": [
        {
          "output_type": "stream",
          "name": "stdout",
          "text": [
            "raw_data/points/*_0\\.*\n",
            "raw_data/points/*_1\\.*\n",
            "raw_data/points/*_2\\.*\n",
            "raw_data/points/*_3\\.*\n",
            "raw_data/points/*_4\\.*\n",
            "raw_data/points/*_5\\.*\n",
            "raw_data/points/*_6\\.*\n",
            "raw_data/points/*_7\\.*\n",
            "raw_data/points/*_8\\.*\n"
          ]
        }
      ]
    },
    {
      "cell_type": "code",
      "source": [
        "!rm -rf train_data/*\n",
        "!python video2img.py "
      ],
      "metadata": {
        "id": "3GWuVXlNeXjG",
        "outputId": "39dfa6f8-4505-4ffb-e3b1-5e7ac69d1ab7",
        "colab": {
          "base_uri": "https://localhost:8080/"
        }
      },
      "execution_count": 7,
      "outputs": [
        {
          "output_type": "stream",
          "name": "stdout",
          "text": [
            "['raw_data/Final_PremierQatar_Tie_0.mp4', 'raw_data/Final_PremierQatar_Tie_1.mp4', 'raw_data/Final_PremierQatar_Tie_2.mp4', 'raw_data/Final_PremierQatar_Tie_3.mp4', 'raw_data/Final_PremierQatar_Tie_4.mp4', 'raw_data/Final_PremierQatar_Tie_5.mp4', 'raw_data/Final_PremierQatar_Tie_6.mp4', 'raw_data/Final_PremierQatar_Tie_7.mp4', 'raw_data/Final_PremierQatar_Tie_8.mp4', 'raw_data/WPTDanish_Cuartos_BCST_2_12_1.mp4', 'raw_data/WPTDanish_Cuartos_BCST_2_12_2.mp4', 'raw_data/WPTDanish_Cuartos_BCST_2_12_3.mp4', 'raw_data/WPTDanish_Cuartos_BCST_2_12_4.mp4', 'raw_data/WPTDanish_Cuartos_BCST_3_52_2.mp4', 'raw_data/WPTDanish_Cuartos_BCST_3_52_3.mp4', 'raw_data/WPTDanish_Cuartos_BCST_3_52_5.mp4', 'raw_data/WPTDanish_Octavos_PD_0_01_0.mp4', 'raw_data/WPTDanish_Octavos_PD_0_01_1.mp4', 'raw_data/WPTDanish_Octavos_PD_0_01_3.mp4', 'raw_data/WPTDanish_Octavos_PD_0_01_4.mp4', 'raw_data/WPTDanish_Octavos_PD_0_01_7.mp4', 'raw_data/WPTDanish_Octavos_PD_0_01_8.mp4', 'raw_data/WPTDanish_Octavos_PD_0_41_0.mp4', 'raw_data/WPTDanish_Octavos_PD_0_41_2.mp4', 'raw_data/WPTDanish_Octavos_PD_0_41_3.mp4', 'raw_data/WPTDanish_Octavos_PD_0_41_5.mp4', 'raw_data/WPTDanish_Octavos_PD_0_41_7.mp4', 'raw_data/WPTDanish_Octavos_PD_0_51_0.mp4', 'raw_data/WPTDanish_Octavos_PD_0_51_1.mp4', 'raw_data/WPTDanish_Octavos_PD_0_51_2.mp4', 'raw_data/WPTDanish_Octavos_PD_0_51_3.mp4', 'raw_data/WPTDanish_Octavos_PD_0_51_4.mp4', 'raw_data/WPTDanish_Octavos_PD_0_51_5.mp4', 'raw_data/WPTDanish_Octavos_PD_1_20_0.mp4', 'raw_data/WPTDanish_Octavos_PD_1_20_1.mp4', 'raw_data/WPTDanish_Octavos_PD_1_20_2.mp4', 'raw_data/WPTDanish_Octavos_PD_1_52_0.mp4', 'raw_data/WPTDanish_Octavos_PD_1_52_1.mp4', 'raw_data/WPTDanish_Octavos_PD_1_52_2.mp4', 'raw_data/WPTDanish_Octavos_PD_1_52_3.mp4', 'raw_data/WPTDanish_Octavos_PD_1_52_4.mp4']\n",
            "['raw_data/Final_PremierQatar_Tie_0.csv', 'raw_data/Final_PremierQatar_Tie_1.csv', 'raw_data/Final_PremierQatar_Tie_2.csv', 'raw_data/Final_PremierQatar_Tie_3.csv', 'raw_data/Final_PremierQatar_Tie_4.csv', 'raw_data/Final_PremierQatar_Tie_5.csv', 'raw_data/Final_PremierQatar_Tie_6.csv', 'raw_data/Final_PremierQatar_Tie_7.csv', 'raw_data/Final_PremierQatar_Tie_8.csv', 'raw_data/WPTDanish_Cuartos_BCST_2_12_1.csv', 'raw_data/WPTDanish_Cuartos_BCST_2_12_2.csv', 'raw_data/WPTDanish_Cuartos_BCST_2_12_3.csv', 'raw_data/WPTDanish_Cuartos_BCST_2_12_4.csv', 'raw_data/WPTDanish_Cuartos_BCST_3_52_2.csv', 'raw_data/WPTDanish_Cuartos_BCST_3_52_3.csv', 'raw_data/WPTDanish_Cuartos_BCST_3_52_5.csv', 'raw_data/WPTDanish_Octavos_PD_0_01_0.csv', 'raw_data/WPTDanish_Octavos_PD_0_01_1.csv', 'raw_data/WPTDanish_Octavos_PD_0_01_3.csv', 'raw_data/WPTDanish_Octavos_PD_0_01_4.csv', 'raw_data/WPTDanish_Octavos_PD_0_01_7.csv', 'raw_data/WPTDanish_Octavos_PD_0_01_8.csv', 'raw_data/WPTDanish_Octavos_PD_0_41_0.csv', 'raw_data/WPTDanish_Octavos_PD_0_41_2.csv', 'raw_data/WPTDanish_Octavos_PD_0_41_3.csv', 'raw_data/WPTDanish_Octavos_PD_0_41_5.csv', 'raw_data/WPTDanish_Octavos_PD_0_41_7.csv', 'raw_data/WPTDanish_Octavos_PD_0_51_0.csv', 'raw_data/WPTDanish_Octavos_PD_0_51_1.csv', 'raw_data/WPTDanish_Octavos_PD_0_51_2.csv', 'raw_data/WPTDanish_Octavos_PD_0_51_3.csv', 'raw_data/WPTDanish_Octavos_PD_0_51_4.csv', 'raw_data/WPTDanish_Octavos_PD_0_51_5.csv', 'raw_data/WPTDanish_Octavos_PD_1_20_0.csv', 'raw_data/WPTDanish_Octavos_PD_1_20_1.csv', 'raw_data/WPTDanish_Octavos_PD_1_20_2.csv', 'raw_data/WPTDanish_Octavos_PD_1_52_0.csv', 'raw_data/WPTDanish_Octavos_PD_1_52_1.csv', 'raw_data/WPTDanish_Octavos_PD_1_52_2.csv', 'raw_data/WPTDanish_Octavos_PD_1_52_3.csv', 'raw_data/WPTDanish_Octavos_PD_1_52_4.csv']\n",
            "==========Convert Start==========\n",
            "Convert Video: raw_data/Final_PremierQatar_Tie_0.mp4\n",
            "==========Convert End==========\n",
            "Convert Video: raw_data/Final_PremierQatar_Tie_1.mp4\n",
            "==========Convert End==========\n",
            "Convert Video: raw_data/Final_PremierQatar_Tie_2.mp4\n",
            "==========Convert End==========\n",
            "Convert Video: raw_data/Final_PremierQatar_Tie_3.mp4\n",
            "==========Convert End==========\n",
            "Convert Video: raw_data/Final_PremierQatar_Tie_4.mp4\n",
            "==========Convert End==========\n",
            "Convert Video: raw_data/Final_PremierQatar_Tie_5.mp4\n",
            "==========Convert End==========\n",
            "Convert Video: raw_data/Final_PremierQatar_Tie_6.mp4\n",
            "==========Convert End==========\n",
            "Convert Video: raw_data/Final_PremierQatar_Tie_7.mp4\n",
            "==========Convert End==========\n",
            "Convert Video: raw_data/Final_PremierQatar_Tie_8.mp4\n",
            "==========Convert End==========\n",
            "Convert Video: raw_data/WPTDanish_Cuartos_BCST_2_12_1.mp4\n",
            "==========Convert End==========\n",
            "Convert Video: raw_data/WPTDanish_Cuartos_BCST_2_12_2.mp4\n",
            "==========Convert End==========\n",
            "Convert Video: raw_data/WPTDanish_Cuartos_BCST_2_12_3.mp4\n",
            "==========Convert End==========\n",
            "Convert Video: raw_data/WPTDanish_Cuartos_BCST_2_12_4.mp4\n",
            "==========Convert End==========\n",
            "Convert Video: raw_data/WPTDanish_Cuartos_BCST_3_52_2.mp4\n",
            "==========Convert End==========\n",
            "Convert Video: raw_data/WPTDanish_Cuartos_BCST_3_52_3.mp4\n",
            "==========Convert End==========\n",
            "Convert Video: raw_data/WPTDanish_Cuartos_BCST_3_52_5.mp4\n",
            "==========Convert End==========\n",
            "Convert Video: raw_data/WPTDanish_Octavos_PD_0_01_0.mp4\n",
            "==========Convert End==========\n",
            "Convert Video: raw_data/WPTDanish_Octavos_PD_0_01_1.mp4\n",
            "==========Convert End==========\n",
            "Convert Video: raw_data/WPTDanish_Octavos_PD_0_01_3.mp4\n",
            "==========Convert End==========\n",
            "Convert Video: raw_data/WPTDanish_Octavos_PD_0_01_4.mp4\n",
            "==========Convert End==========\n",
            "Convert Video: raw_data/WPTDanish_Octavos_PD_0_01_7.mp4\n",
            "==========Convert End==========\n",
            "Convert Video: raw_data/WPTDanish_Octavos_PD_0_01_8.mp4\n",
            "==========Convert End==========\n",
            "Convert Video: raw_data/WPTDanish_Octavos_PD_0_41_0.mp4\n",
            "==========Convert End==========\n",
            "Convert Video: raw_data/WPTDanish_Octavos_PD_0_41_2.mp4\n",
            "==========Convert End==========\n",
            "Convert Video: raw_data/WPTDanish_Octavos_PD_0_41_3.mp4\n",
            "==========Convert End==========\n",
            "Convert Video: raw_data/WPTDanish_Octavos_PD_0_41_5.mp4\n",
            "==========Convert End==========\n",
            "Convert Video: raw_data/WPTDanish_Octavos_PD_0_41_7.mp4\n",
            "==========Convert End==========\n",
            "Convert Video: raw_data/WPTDanish_Octavos_PD_0_51_0.mp4\n",
            "==========Convert End==========\n",
            "Convert Video: raw_data/WPTDanish_Octavos_PD_0_51_1.mp4\n",
            "==========Convert End==========\n",
            "Convert Video: raw_data/WPTDanish_Octavos_PD_0_51_2.mp4\n",
            "==========Convert End==========\n",
            "Convert Video: raw_data/WPTDanish_Octavos_PD_0_51_3.mp4\n",
            "==========Convert End==========\n",
            "Convert Video: raw_data/WPTDanish_Octavos_PD_0_51_4.mp4\n",
            "==========Convert End==========\n",
            "Convert Video: raw_data/WPTDanish_Octavos_PD_0_51_5.mp4\n",
            "==========Convert End==========\n",
            "Convert Video: raw_data/WPTDanish_Octavos_PD_1_20_0.mp4\n",
            "==========Convert End==========\n",
            "Convert Video: raw_data/WPTDanish_Octavos_PD_1_20_1.mp4\n",
            "==========Convert End==========\n",
            "Convert Video: raw_data/WPTDanish_Octavos_PD_1_20_2.mp4\n",
            "==========Convert End==========\n",
            "Convert Video: raw_data/WPTDanish_Octavos_PD_1_52_0.mp4\n",
            "==========Convert End==========\n",
            "Convert Video: raw_data/WPTDanish_Octavos_PD_1_52_1.mp4\n",
            "==========Convert End==========\n",
            "Convert Video: raw_data/WPTDanish_Octavos_PD_1_52_2.mp4\n",
            "==========Convert End==========\n",
            "Convert Video: raw_data/WPTDanish_Octavos_PD_1_52_3.mp4\n",
            "==========Convert End==========\n",
            "Convert Video: raw_data/WPTDanish_Octavos_PD_1_52_4.mp4\n",
            "==========Convert End==========\n"
          ]
        }
      ]
    },
    {
      "cell_type": "code",
      "source": [
        "!python train.py --save_weights={weights_path} --pre_trained=True --batch_size=5 --load_weights={weights_path}"
      ],
      "metadata": {
        "id": "L72l_-tseyd9",
        "outputId": "5c0cacbd-d174-400f-dd1a-6206fc20b136",
        "colab": {
          "base_uri": "https://localhost:8080/"
        }
      },
      "execution_count": null,
      "outputs": [
        {
          "output_type": "stream",
          "name": "stdout",
          "text": [
            "lerning rate: 2.0\n",
            "2022-05-27 11:52:24.709750: W tensorflow/core/common_runtime/gpu/gpu_bfc_allocator.cc:39] Overriding allow_growth setting because the TF_FORCE_GPU_ALLOW_GROWTH environment variable is set. Original config value was 0.\n",
            "Beginning training......\n",
            "==========Epoch 0, Train steps: 7297, Learning rate: 1.0000==========\n",
            "7297/7297 [==============================] - 1303s 177ms/step - loss: 1.5752e-04 - binary_accuracy: 0.9996\n",
            "==========Epoch 0 start validation==========\n",
            "Epoch 0 accuracy: 0.590\n",
            "Epoch 0 precision: 0.884\n",
            "Epoch 0 recall: 0.457\n",
            "Epoch 0 average = (accuracy + precision + recall)/3: 0.644\n",
            "==========Epoch 1, Train steps: 7297, Learning rate: 1.0000==========\n",
            "7297/7297 [==============================] - 1286s 176ms/step - loss: 1.5310e-04 - binary_accuracy: 0.9996\n",
            "==========Epoch 1 start validation==========\n",
            "Epoch 1 accuracy: 0.501\n",
            "Epoch 1 precision: 0.860\n",
            "Epoch 1 recall: 0.408\n",
            "Epoch 1 average = (accuracy + precision + recall)/3: 0.590\n",
            "==========Epoch 2, Train steps: 7297, Learning rate: 1.0000==========\n",
            "7297/7297 [==============================] - 1285s 176ms/step - loss: 1.4781e-04 - binary_accuracy: 0.9996\n",
            "==========Epoch 2 start validation==========\n",
            "Epoch 2 accuracy: 0.485\n",
            "Epoch 2 precision: 0.897\n",
            "Epoch 2 recall: 0.358\n",
            "Epoch 2 average = (accuracy + precision + recall)/3: 0.580\n",
            "==========Epoch 3, Train steps: 7297, Learning rate: 1.0000==========\n",
            "7297/7297 [==============================] - 1284s 176ms/step - loss: 1.4284e-04 - binary_accuracy: 0.9996\n",
            "==========Epoch 3 start validation==========\n",
            "Epoch 3 accuracy: 0.397\n",
            "Epoch 3 precision: 0.806\n",
            "Epoch 3 recall: 0.285\n",
            "Epoch 3 average = (accuracy + precision + recall)/3: 0.496\n",
            "==========Epoch 4, Train steps: 7297, Learning rate: 1.0000==========\n",
            "7297/7297 [==============================] - 1287s 176ms/step - loss: 1.4070e-04 - binary_accuracy: 0.9996\n",
            "==========Epoch 4 start validation==========\n",
            "Epoch 4 accuracy: 0.486\n",
            "Epoch 4 precision: 0.894\n",
            "Epoch 4 recall: 0.354\n",
            "Epoch 4 average = (accuracy + precision + recall)/3: 0.578\n",
            "==========Epoch 5, Train steps: 7297, Learning rate: 1.0000==========\n",
            "7297/7297 [==============================] - 1287s 176ms/step - loss: 1.3742e-04 - binary_accuracy: 0.9996\n",
            "==========Epoch 5 start validation==========\n",
            "Epoch 5 accuracy: 0.531\n",
            "Epoch 5 precision: 0.924\n",
            "Epoch 5 recall: 0.470\n",
            "Epoch 5 average = (accuracy + precision + recall)/3: 0.642\n",
            "==========Epoch 6, Train steps: 7297, Learning rate: 1.0000==========\n",
            "7297/7297 [==============================] - 1284s 176ms/step - loss: 1.3939e-04 - binary_accuracy: 0.9996\n",
            "==========Epoch 6 start validation==========\n",
            "Epoch 6 accuracy: 0.548\n",
            "Epoch 6 precision: 0.847\n",
            "Epoch 6 recall: 0.425\n",
            "Epoch 6 average = (accuracy + precision + recall)/3: 0.607\n",
            "==========Epoch 7, Train steps: 7297, Learning rate: 1.0000==========\n",
            "7297/7297 [==============================] - 1284s 176ms/step - loss: 1.3581e-04 - binary_accuracy: 0.9996\n",
            "==========Epoch 7 start validation==========\n",
            "Epoch 7 accuracy: 0.586\n",
            "Epoch 7 precision: 0.904\n",
            "Epoch 7 recall: 0.522\n",
            "Epoch 7 average = (accuracy + precision + recall)/3: 0.670\n",
            "==========Epoch 8, Train steps: 7297, Learning rate: 1.0000==========\n",
            "7297/7297 [==============================] - 1284s 176ms/step - loss: 1.3081e-04 - binary_accuracy: 0.9996\n",
            "==========Epoch 8 start validation==========\n",
            "Epoch 8 accuracy: 0.465\n",
            "Epoch 8 precision: 0.812\n",
            "Epoch 8 recall: 0.335\n",
            "Epoch 8 average = (accuracy + precision + recall)/3: 0.537\n",
            "==========Epoch 9, Train steps: 7297, Learning rate: 1.0000==========\n",
            "3882/7297 [==============>...............] - ETA: 10:00 - loss: 1.3616e-04 - binary_accuracy: 0.9996"
          ]
        }
      ]
    }
  ]
}