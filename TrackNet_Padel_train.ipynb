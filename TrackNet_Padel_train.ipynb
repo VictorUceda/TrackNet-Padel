{
  "nbformat": 4,
  "nbformat_minor": 0,
  "metadata": {
    "colab": {
      "name": "TrackNet_Padel.ipynb",
      "provenance": [],
      "collapsed_sections": [],
      "include_colab_link": true
    },
    "kernelspec": {
      "name": "python3",
      "display_name": "Python 3"
    },
    "language_info": {
      "name": "python"
    },
    "accelerator": "GPU"
  },
  "cells": [
    {
      "cell_type": "markdown",
      "metadata": {
        "id": "view-in-github",
        "colab_type": "text"
      },
      "source": [
        "<a href=\"https://colab.research.google.com/github/VictorUceda/TrackNet-Padel/blob/main/TrackNet_Padel_train.ipynb\" target=\"_parent\"><img src=\"https://colab.research.google.com/assets/colab-badge.svg\" alt=\"Open In Colab\"/></a>"
      ]
    },
    {
      "cell_type": "code",
      "source": [
        "!nvidia-smi"
      ],
      "metadata": {
        "id": "50iBZugzyWYZ",
        "outputId": "382a947e-8b0d-441b-eb44-73f959e893ee",
        "colab": {
          "base_uri": "https://localhost:8080/"
        }
      },
      "execution_count": null,
      "outputs": [
        {
          "output_type": "stream",
          "name": "stdout",
          "text": [
            "Mon May 23 07:53:15 2022       \n",
            "+-----------------------------------------------------------------------------+\n",
            "| NVIDIA-SMI 460.32.03    Driver Version: 460.32.03    CUDA Version: 11.2     |\n",
            "|-------------------------------+----------------------+----------------------+\n",
            "| GPU  Name        Persistence-M| Bus-Id        Disp.A | Volatile Uncorr. ECC |\n",
            "| Fan  Temp  Perf  Pwr:Usage/Cap|         Memory-Usage | GPU-Util  Compute M. |\n",
            "|                               |                      |               MIG M. |\n",
            "|===============================+======================+======================|\n",
            "|   0  Tesla T4            Off  | 00000000:00:04.0 Off |                    0 |\n",
            "| N/A   67C    P8    11W /  70W |      0MiB / 15109MiB |      0%      Default |\n",
            "|                               |                      |                  N/A |\n",
            "+-------------------------------+----------------------+----------------------+\n",
            "                                                                               \n",
            "+-----------------------------------------------------------------------------+\n",
            "| Processes:                                                                  |\n",
            "|  GPU   GI   CI        PID   Type   Process name                  GPU Memory |\n",
            "|        ID   ID                                                   Usage      |\n",
            "|=============================================================================|\n",
            "|  No running processes found                                                 |\n",
            "+-----------------------------------------------------------------------------+\n"
          ]
        }
      ]
    },
    {
      "cell_type": "code",
      "execution_count": null,
      "metadata": {
        "colab": {
          "base_uri": "https://localhost:8080/"
        },
        "id": "Q8g7zdD0a-o4",
        "outputId": "ac0600e5-d012-4052-e2d1-3d00eccdc8d4"
      },
      "outputs": [
        {
          "output_type": "stream",
          "name": "stdout",
          "text": [
            "Drive already mounted at /content/gdrive; to attempt to forcibly remount, call drive.mount(\"/content/gdrive\", force_remount=True).\n",
            "/content/TrackNet-Padel\n"
          ]
        }
      ],
      "source": [
        "from google.colab import drive\n",
        "drive.mount('/content/gdrive')\n",
        "\n",
        "\n",
        "import os \n",
        "path_drive = '/content/gdrive/MyDrive/Colab Notebooks/TrackNet-Padel/'\n",
        "weights_path = '/content/gdrive/MyDrive/PadelModels/TrackNetWeights/TrackNet-Padel'\n",
        "\n",
        "!pwd"
      ]
    },
    {
      "cell_type": "code",
      "source": [
        "os.chdir('/content/')\n",
        "!pwd"
      ],
      "metadata": {
        "colab": {
          "base_uri": "https://localhost:8080/"
        },
        "id": "95NxepeuGoC4",
        "outputId": "706274b1-92d3-4c72-e0ee-f90dd53540ac"
      },
      "execution_count": null,
      "outputs": [
        {
          "output_type": "stream",
          "name": "stdout",
          "text": [
            "/content\n"
          ]
        }
      ]
    },
    {
      "cell_type": "code",
      "source": [
        "!git clone https://github.com/VictorUceda/TrackNet-Padel.git\n",
        "#!git clone https://github.com/Chang-Chia-Chi/TrackNet-Badminton-Tracking-tensorflow2\n",
        "os.chdir('/content/TrackNet-Padel/')\n",
        "!git pull"
      ],
      "metadata": {
        "id": "lYG3TpaZfjSN",
        "outputId": "b5ac6dd3-0616-4589-98dc-977de1f7fb52",
        "colab": {
          "base_uri": "https://localhost:8080/"
        }
      },
      "execution_count": null,
      "outputs": [
        {
          "output_type": "stream",
          "name": "stdout",
          "text": [
            "Cloning into 'TrackNet-Padel'...\n",
            "remote: Enumerating objects: 338, done.\u001b[K\n",
            "remote: Counting objects: 100% (87/87), done.\u001b[K\n",
            "remote: Compressing objects: 100% (87/87), done.\u001b[K\n",
            "remote: Total 338 (delta 53), reused 0 (delta 0), pack-reused 251\u001b[K\n",
            "Receiving objects: 100% (338/338), 139.55 MiB | 36.47 MiB/s, done.\n",
            "Resolving deltas: 100% (168/168), done.\n",
            "Already up to date.\n"
          ]
        }
      ]
    },
    {
      "cell_type": "markdown",
      "source": [
        ""
      ],
      "metadata": {
        "id": "bY2m7mhhk9hn"
      }
    },
    {
      "cell_type": "code",
      "source": [
        "!pip3 install filterpy sktime piexif imutils Pillow focal_loss"
      ],
      "metadata": {
        "id": "cmHZLk7zgQVr"
      },
      "execution_count": null,
      "outputs": []
    },
    {
      "cell_type": "markdown",
      "source": [
        "### Test accuracy"
      ],
      "metadata": {
        "id": "kYRim2mxaOXK"
      }
    },
    {
      "cell_type": "code",
      "source": [
        "file_name = 'Final_PremierQatar_Tie'\n",
        "point_n = 0\n",
        "for point_n in range(9,13):\n",
        "  video = 'raw_data/points/'+file_name+\"_\"+str(point_n)+\".mp4\"\n",
        "  print(video)\n",
        "  csv = 'raw_data/points/'+file_name+\"_\"+str(point_n)+\".csv\"\n",
        "  res = 'raw_data/points/'+file_name+\"_\"+str(point_n)+\".resPadel.txt\"\n",
        "  !python ../TrackNet-Padel/predict.py --video_path={video} --label_path={csv} --load_weights={weights_path+'30'}  2>&1 | tee {res}"
      ],
      "metadata": {
        "id": "vk6QsNkIEJlY",
        "outputId": "5cc7df6e-893a-4d22-ff0f-d44f0278dc3f",
        "colab": {
          "base_uri": "https://localhost:8080/"
        }
      },
      "execution_count": 13,
      "outputs": [
        {
          "output_type": "stream",
          "name": "stdout",
          "text": [
            "raw_data/points/Final_PremierQatar_Tie_9.mp4\n",
            "2022-05-23 15:25:24.861009: W tensorflow/core/common_runtime/gpu/gpu_bfc_allocator.cc:39] Overriding allow_growth setting because the TF_FORCE_GPU_ALLOW_GROWTH environment variable is set. Original config value was 0.\n",
            "Load weights successfully\n",
            "Load csv file successfully\n",
            "Beginning predicting......\n",
            "==========================================================\n",
            "Number of true positive: 136\n",
            "Number of true negative: 65\n",
            "Number of false positive FP1: 39\n",
            "Number of false positive FP2: 2\n",
            "Number of false negative: 146\n",
            "Accuracy: 0.5180412371134021\n",
            "Precision: 0.768361581920904\n",
            "Recall: 0.48226950354609927\n",
            "Total Time: 41.39317750930786\n",
            "(ACC + Pre + Rec)/3: 0.5895574408601351\n",
            "Done......\n",
            "raw_data/points/Final_PremierQatar_Tie_10.mp4\n",
            "2022-05-23 15:26:18.471234: W tensorflow/core/common_runtime/gpu/gpu_bfc_allocator.cc:39] Overriding allow_growth setting because the TF_FORCE_GPU_ALLOW_GROWTH environment variable is set. Original config value was 0.\n",
            "Load weights successfully\n",
            "Load csv file successfully\n",
            "Beginning predicting......\n",
            "==========================================================\n",
            "Number of true positive: 446\n",
            "Number of true negative: 66\n",
            "Number of false positive FP1: 45\n",
            "Number of false positive FP2: 1\n",
            "Number of false negative: 175\n",
            "Accuracy: 0.6984993178717599\n",
            "Precision: 0.9065040650406504\n",
            "Recall: 0.7181964573268921\n",
            "Total Time: 68.1191623210907\n",
            "(ACC + Pre + Rec)/3: 0.7743999467464341\n",
            "Done......\n",
            "raw_data/points/Final_PremierQatar_Tie_11.mp4\n",
            "2022-05-23 15:27:45.421680: W tensorflow/core/common_runtime/gpu/gpu_bfc_allocator.cc:39] Overriding allow_growth setting because the TF_FORCE_GPU_ALLOW_GROWTH environment variable is set. Original config value was 0.\n",
            "Load weights successfully\n",
            "Load csv file successfully\n",
            "Beginning predicting......\n",
            "==========================================================\n",
            "Number of true positive: 112\n",
            "Number of true negative: 66\n",
            "Number of false positive FP1: 34\n",
            "Number of false positive FP2: 14\n",
            "Number of false negative: 72\n",
            "Accuracy: 0.5973154362416108\n",
            "Precision: 0.7\n",
            "Recall: 0.6086956521739131\n",
            "Total Time: 32.43872666358948\n",
            "(ACC + Pre + Rec)/3: 0.6353370294718412\n",
            "Done......\n",
            "raw_data/points/Final_PremierQatar_Tie_12.mp4\n",
            "2022-05-23 15:28:28.294117: W tensorflow/core/common_runtime/gpu/gpu_bfc_allocator.cc:39] Overriding allow_growth setting because the TF_FORCE_GPU_ALLOW_GROWTH environment variable is set. Original config value was 0.\n",
            "Load weights successfully\n",
            "Load csv file successfully\n",
            "Beginning predicting......\n",
            "==========================================================\n",
            "Number of true positive: 74\n",
            "Number of true negative: 32\n",
            "Number of false positive FP1: 11\n",
            "Number of false positive FP2: 11\n",
            "Number of false negative: 35\n",
            "Accuracy: 0.6503067484662577\n",
            "Precision: 0.7708333333333334\n",
            "Recall: 0.6788990825688074\n",
            "Total Time: 21.623658418655396\n",
            "(ACC + Pre + Rec)/3: 0.7000130547894661\n",
            "Done......\n"
          ]
        }
      ]
    },
    {
      "cell_type": "markdown",
      "source": [
        "### Train Padel"
      ],
      "metadata": {
        "id": "zC_-P-lCd91A"
      }
    },
    {
      "cell_type": "code",
      "source": [
        "!mv raw_data/*.* raw_data/points/\n",
        "for point_n in range(9):\n",
        "  files = 'raw_data/points/*_'+str(point_n)+'\\.*'\n",
        "  print(files)\n",
        "  !mv {files} raw_data/"
      ],
      "metadata": {
        "id": "md3C9pyjd_0w",
        "outputId": "43ee5596-a1ab-4079-8b46-6e738316792b",
        "colab": {
          "base_uri": "https://localhost:8080/"
        }
      },
      "execution_count": null,
      "outputs": [
        {
          "output_type": "stream",
          "name": "stdout",
          "text": [
            "raw_data/points/*_0\\.*\n",
            "raw_data/points/*_1\\.*\n",
            "raw_data/points/*_2\\.*\n",
            "raw_data/points/*_3\\.*\n",
            "raw_data/points/*_4\\.*\n",
            "raw_data/points/*_5\\.*\n",
            "raw_data/points/*_6\\.*\n",
            "raw_data/points/*_7\\.*\n",
            "raw_data/points/*_8\\.*\n"
          ]
        }
      ]
    },
    {
      "cell_type": "code",
      "source": [
        "!rm -rf train_data/*\n",
        "!python video2img.py "
      ],
      "metadata": {
        "id": "3GWuVXlNeXjG",
        "outputId": "c1a8e560-6f0f-49ad-d8f3-64f2d23888a6",
        "colab": {
          "base_uri": "https://localhost:8080/"
        }
      },
      "execution_count": null,
      "outputs": [
        {
          "output_type": "stream",
          "name": "stdout",
          "text": [
            "==========Convert Start==========\n",
            "Convert Video: raw_data/Final_PremierQatar_Tie_0.mp4\n",
            "==========Convert End==========\n",
            "Convert Video: raw_data/Final_PremierQatar_Tie_1.mp4\n",
            "==========Convert End==========\n",
            "Convert Video: raw_data/Final_PremierQatar_Tie_2.mp4\n",
            "==========Convert End==========\n",
            "Convert Video: raw_data/Final_PremierQatar_Tie_3.mp4\n",
            "==========Convert End==========\n",
            "Convert Video: raw_data/Final_PremierQatar_Tie_4.mp4\n",
            "==========Convert End==========\n",
            "Convert Video: raw_data/Final_PremierQatar_Tie_5.mp4\n",
            "==========Convert End==========\n",
            "Convert Video: raw_data/Final_PremierQatar_Tie_6.mp4\n",
            "==========Convert End==========\n",
            "Convert Video: raw_data/Final_PremierQatar_Tie_7.mp4\n",
            "==========Convert End==========\n",
            "Convert Video: raw_data/Final_PremierQatar_Tie_8.mp4\n",
            "==========Convert End==========\n"
          ]
        }
      ]
    },
    {
      "cell_type": "code",
      "source": [
        "!python train.py --save_weights={weights_path} --pre_trained=True  --load_weights={weights_path}"
      ],
      "metadata": {
        "id": "L72l_-tseyd9",
        "outputId": "db0db283-ff99-430c-a139-556ad4cc3d33",
        "colab": {
          "base_uri": "https://localhost:8080/"
        }
      },
      "execution_count": 12,
      "outputs": [
        {
          "output_type": "stream",
          "name": "stdout",
          "text": [
            "/usr/local/lib/python3.7/dist-packages/keras/optimizer_v2/adadelta.py:74: UserWarning: The `lr` argument is deprecated, use `learning_rate` instead.\n",
            "  super(Adadelta, self).__init__(name, **kwargs)\n",
            "2022-05-23 12:31:44.719977: W tensorflow/core/common_runtime/gpu/gpu_bfc_allocator.cc:39] Overriding allow_growth setting because the TF_FORCE_GPU_ALLOW_GROWTH environment variable is set. Original config value was 0.\n",
            "Beginning training......\n",
            "==========Epoch 0, Train steps: 1451, Learning rate: 0.1000==========\n",
            "1451/1451 [==============================] - 457s 304ms/step - loss: 1.1532e-04 - binary_accuracy: 0.9996\n",
            "==========Epoch 0 start validation==========\n",
            "Epoch 0 accuracy: 0.916\n",
            "Epoch 0 precision: 0.968\n",
            "Epoch 0 recall: 0.941\n",
            "Epoch 0 average = (accuracy + precision + recall)/3: 0.942\n",
            "==========Epoch 1, Train steps: 1451, Learning rate: 0.1000==========\n",
            "1451/1451 [==============================] - 441s 304ms/step - loss: 1.1514e-04 - binary_accuracy: 0.9996\n",
            "==========Epoch 1 start validation==========\n",
            "Epoch 1 accuracy: 0.899\n",
            "Epoch 1 precision: 0.913\n",
            "Epoch 1 recall: 0.886\n",
            "Epoch 1 average = (accuracy + precision + recall)/3: 0.899\n",
            "==========Epoch 2, Train steps: 1451, Learning rate: 0.1000==========\n",
            "1451/1451 [==============================] - 441s 304ms/step - loss: 1.1499e-04 - binary_accuracy: 0.9996\n",
            "==========Epoch 2 start validation==========\n",
            "Epoch 2 accuracy: 0.899\n",
            "Epoch 2 precision: 0.913\n",
            "Epoch 2 recall: 0.886\n",
            "Epoch 2 average = (accuracy + precision + recall)/3: 0.899\n",
            "==========Epoch 3, Train steps: 1451, Learning rate: 0.1000==========\n",
            "1451/1451 [==============================] - 441s 304ms/step - loss: 1.1483e-04 - binary_accuracy: 0.9996\n",
            "==========Epoch 3 start validation==========\n",
            "Epoch 3 accuracy: 0.908\n",
            "Epoch 3 precision: 0.970\n",
            "Epoch 3 recall: 0.895\n",
            "Epoch 3 average = (accuracy + precision + recall)/3: 0.924\n",
            "==========Epoch 4, Train steps: 1451, Learning rate: 0.1000==========\n",
            "1451/1451 [==============================] - 441s 304ms/step - loss: 1.1468e-04 - binary_accuracy: 0.9996\n",
            "==========Epoch 4 start validation==========\n",
            "Epoch 4 accuracy: 0.908\n",
            "Epoch 4 precision: 0.970\n",
            "Epoch 4 recall: 0.895\n",
            "Epoch 4 average = (accuracy + precision + recall)/3: 0.924\n",
            "==========Epoch 5, Train steps: 1451, Learning rate: 0.1000==========\n",
            "1451/1451 [==============================] - 441s 304ms/step - loss: 1.1455e-04 - binary_accuracy: 0.9996\n",
            "==========Epoch 5 start validation==========\n",
            "Epoch 5 accuracy: 0.866\n",
            "Epoch 5 precision: 0.961\n",
            "Epoch 5 recall: 0.892\n",
            "Epoch 5 average = (accuracy + precision + recall)/3: 0.906\n",
            "==========Epoch 6, Train steps: 1451, Learning rate: 0.1000==========\n",
            "1451/1451 [==============================] - 441s 304ms/step - loss: 1.1442e-04 - binary_accuracy: 0.9996\n",
            "==========Epoch 6 start validation==========\n",
            "Epoch 6 accuracy: 0.908\n",
            "Epoch 6 precision: 0.970\n",
            "Epoch 6 recall: 0.895\n",
            "Epoch 6 average = (accuracy + precision + recall)/3: 0.924\n",
            "==========Epoch 7, Train steps: 1451, Learning rate: 0.1000==========\n",
            "1451/1451 [==============================] - 443s 305ms/step - loss: 1.1429e-04 - binary_accuracy: 0.9996\n",
            "==========Epoch 7 start validation==========\n",
            "Epoch 7 accuracy: 0.936\n",
            "Epoch 7 precision: 0.988\n",
            "Epoch 7 recall: 0.932\n",
            "Epoch 7 average = (accuracy + precision + recall)/3: 0.952\n",
            "==========Epoch 8, Train steps: 1451, Learning rate: 0.1000==========\n",
            "1451/1451 [==============================] - 441s 304ms/step - loss: 1.1418e-04 - binary_accuracy: 0.9996\n",
            "==========Epoch 8 start validation==========\n",
            "Epoch 8 accuracy: 0.903\n",
            "Epoch 8 precision: 0.957\n",
            "Epoch 8 recall: 0.937\n",
            "Epoch 8 average = (accuracy + precision + recall)/3: 0.932\n",
            "==========Epoch 9, Train steps: 1451, Learning rate: 0.1000==========\n",
            "1451/1451 [==============================] - 441s 304ms/step - loss: 1.1405e-04 - binary_accuracy: 0.9996\n",
            "==========Epoch 9 start validation==========\n",
            "Epoch 9 accuracy: 0.848\n",
            "Epoch 9 precision: 0.969\n",
            "Epoch 9 recall: 0.827\n",
            "Epoch 9 average = (accuracy + precision + recall)/3: 0.881\n",
            "==========Epoch 10, Train steps: 1451, Learning rate: 0.1000==========\n",
            "1451/1451 [==============================] - 441s 304ms/step - loss: 1.1393e-04 - binary_accuracy: 0.9996\n",
            "==========Epoch 10 start validation==========\n",
            "Epoch 10 accuracy: 0.908\n",
            "Epoch 10 precision: 0.970\n",
            "Epoch 10 recall: 0.895\n",
            "Epoch 10 average = (accuracy + precision + recall)/3: 0.924\n",
            "==========Epoch 11, Train steps: 1451, Learning rate: 0.1000==========\n",
            "1451/1451 [==============================] - 441s 304ms/step - loss: 1.1382e-04 - binary_accuracy: 0.9996\n",
            "==========Epoch 11 start validation==========\n",
            "Epoch 11 accuracy: 0.924\n",
            "Epoch 11 precision: 0.939\n",
            "Epoch 11 recall: 0.908\n",
            "Epoch 11 average = (accuracy + precision + recall)/3: 0.923\n",
            "==========Epoch 12, Train steps: 1451, Learning rate: 0.1000==========\n",
            "1451/1451 [==============================] - 441s 304ms/step - loss: 1.1370e-04 - binary_accuracy: 0.9996\n",
            "==========Epoch 12 start validation==========\n",
            "Epoch 12 accuracy: 0.917\n",
            "Epoch 12 precision: 0.982\n",
            "Epoch 12 recall: 0.928\n",
            "Epoch 12 average = (accuracy + precision + recall)/3: 0.943\n",
            "==========Epoch 13, Train steps: 1451, Learning rate: 0.1000==========\n",
            "1451/1451 [==============================] - 440s 303ms/step - loss: 1.1360e-04 - binary_accuracy: 0.9996\n",
            "==========Epoch 13 start validation==========\n",
            "Epoch 13 accuracy: 0.902\n",
            "Epoch 13 precision: 0.931\n",
            "Epoch 13 recall: 0.876\n",
            "Epoch 13 average = (accuracy + precision + recall)/3: 0.903\n",
            "==========Epoch 14, Train steps: 1451, Learning rate: 0.1000==========\n",
            "1451/1451 [==============================] - 439s 303ms/step - loss: 1.1349e-04 - binary_accuracy: 0.9996\n",
            "==========Epoch 14 start validation==========\n",
            "Epoch 14 accuracy: 0.854\n",
            "Epoch 14 precision: 0.954\n",
            "Epoch 14 recall: 0.885\n",
            "Epoch 14 average = (accuracy + precision + recall)/3: 0.898\n",
            "==========Epoch 15, Train steps: 1451, Learning rate: 0.1000==========\n",
            "1451/1451 [==============================] - 440s 303ms/step - loss: 1.1339e-04 - binary_accuracy: 0.9996\n",
            "==========Epoch 15 start validation==========\n",
            "Epoch 15 accuracy: 0.928\n",
            "Epoch 15 precision: 0.956\n",
            "Epoch 15 recall: 0.900\n",
            "Epoch 15 average = (accuracy + precision + recall)/3: 0.928\n",
            "==========Epoch 16, Train steps: 1451, Learning rate: 0.1000==========\n",
            "1451/1451 [==============================] - 440s 303ms/step - loss: 1.1330e-04 - binary_accuracy: 0.9996\n",
            "==========Epoch 16 start validation==========\n",
            "Epoch 16 accuracy: 0.924\n",
            "Epoch 16 precision: 0.947\n",
            "Epoch 16 recall: 0.900\n",
            "Epoch 16 average = (accuracy + precision + recall)/3: 0.924\n",
            "==========Epoch 17, Train steps: 1451, Learning rate: 0.1000==========\n",
            "1451/1451 [==============================] - 440s 303ms/step - loss: 1.1320e-04 - binary_accuracy: 0.9996\n",
            "==========Epoch 17 start validation==========\n",
            "Epoch 17 accuracy: 0.936\n",
            "Epoch 17 precision: 0.988\n",
            "Epoch 17 recall: 0.932\n",
            "Epoch 17 average = (accuracy + precision + recall)/3: 0.952\n",
            "==========Epoch 18, Train steps: 1451, Learning rate: 0.1000==========\n",
            "1451/1451 [==============================] - 440s 303ms/step - loss: 1.1310e-04 - binary_accuracy: 0.9996\n",
            "==========Epoch 18 start validation==========\n",
            "Epoch 18 accuracy: 0.894\n",
            "Epoch 18 precision: 0.953\n",
            "Epoch 18 recall: 0.930\n",
            "Epoch 18 average = (accuracy + precision + recall)/3: 0.925\n",
            "==========Epoch 19, Train steps: 1451, Learning rate: 0.1000==========\n",
            "1451/1451 [==============================] - 440s 303ms/step - loss: 1.1300e-04 - binary_accuracy: 0.9996\n",
            "==========Epoch 19 start validation==========\n",
            "Epoch 19 accuracy: 0.845\n",
            "Epoch 19 precision: 0.972\n",
            "Epoch 19 recall: 0.822\n",
            "Epoch 19 average = (accuracy + precision + recall)/3: 0.880\n",
            "==========Epoch 20, Train steps: 1451, Learning rate: 0.1000==========\n",
            "1451/1451 [==============================] - 440s 303ms/step - loss: 1.1291e-04 - binary_accuracy: 0.9996\n",
            "==========Epoch 20 start validation==========\n",
            "Epoch 20 accuracy: 0.897\n",
            "Epoch 20 precision: 0.957\n",
            "Epoch 20 recall: 0.930\n",
            "Epoch 20 average = (accuracy + precision + recall)/3: 0.928\n",
            "==========Epoch 21, Train steps: 1451, Learning rate: 0.1000==========\n",
            "1451/1451 [==============================] - 440s 303ms/step - loss: 1.1282e-04 - binary_accuracy: 0.9996\n",
            "==========Epoch 21 start validation==========\n",
            "Epoch 21 accuracy: 0.893\n",
            "Epoch 21 precision: 0.954\n",
            "Epoch 21 recall: 0.887\n",
            "Epoch 21 average = (accuracy + precision + recall)/3: 0.911\n",
            "==========Epoch 22, Train steps: 1451, Learning rate: 0.1000==========\n",
            "  32/1451 [..............................] - ETA: 7:10 - loss: 1.2336e-04 - binary_accuracy: 0.9996Traceback (most recent call last):\n",
            "  File \"train.py\", line 53, in <module>\n",
            "    verbose=1)\n",
            "  File \"/usr/local/lib/python3.7/dist-packages/keras/utils/traceback_utils.py\", line 64, in error_handler\n",
            "    return fn(*args, **kwargs)\n",
            "  File \"/usr/local/lib/python3.7/dist-packages/keras/engine/training.py\", line 1384, in fit\n",
            "    tmp_logs = self.train_function(iterator)\n",
            "  File \"/usr/local/lib/python3.7/dist-packages/tensorflow/python/util/traceback_utils.py\", line 150, in error_handler\n",
            "    return fn(*args, **kwargs)\n",
            "  File \"/usr/local/lib/python3.7/dist-packages/tensorflow/python/eager/def_function.py\", line 915, in __call__\n",
            "    result = self._call(*args, **kwds)\n",
            "  File \"/usr/local/lib/python3.7/dist-packages/tensorflow/python/eager/def_function.py\", line 947, in _call\n",
            "    return self._stateless_fn(*args, **kwds)  # pylint: disable=not-callable\n",
            "  File \"/usr/local/lib/python3.7/dist-packages/tensorflow/python/eager/function.py\", line 2957, in __call__\n",
            "    filtered_flat_args, captured_inputs=graph_function.captured_inputs)  # pylint: disable=protected-access\n",
            "  File \"/usr/local/lib/python3.7/dist-packages/tensorflow/python/eager/function.py\", line 1854, in _call_flat\n",
            "    ctx, args, cancellation_manager=cancellation_manager))\n",
            "  File \"/usr/local/lib/python3.7/dist-packages/tensorflow/python/eager/function.py\", line 504, in call\n",
            "    ctx=ctx)\n",
            "  File \"/usr/local/lib/python3.7/dist-packages/tensorflow/python/eager/execute.py\", line 55, in quick_execute\n",
            "    inputs, attrs, num_outputs)\n",
            "KeyboardInterrupt\n",
            "2022-05-23 15:24:58.458668: W tensorflow/core/kernels/data/generator_dataset_op.cc:107] Error occurred when finalizing GeneratorDataset iterator: FAILED_PRECONDITION: Python interpreter state is not initialized. The process may be terminated.\n",
            "\t [[{{node PyFunc}}]]\n"
          ]
        }
      ]
    }
  ]
}