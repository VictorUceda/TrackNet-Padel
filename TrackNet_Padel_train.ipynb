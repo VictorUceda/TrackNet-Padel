{
  "nbformat": 4,
  "nbformat_minor": 0,
  "metadata": {
    "colab": {
      "name": "TrackNet_Padel.ipynb",
      "provenance": [],
      "collapsed_sections": [],
      "machine_shape": "hm",
      "include_colab_link": true
    },
    "kernelspec": {
      "name": "python3",
      "display_name": "Python 3"
    },
    "language_info": {
      "name": "python"
    },
    "accelerator": "GPU"
  },
  "cells": [
    {
      "cell_type": "markdown",
      "metadata": {
        "id": "view-in-github",
        "colab_type": "text"
      },
      "source": [
        "<a href=\"https://colab.research.google.com/github/VictorUceda/TrackNet-Padel/blob/main/TrackNet_Padel_train.ipynb\" target=\"_parent\"><img src=\"https://colab.research.google.com/assets/colab-badge.svg\" alt=\"Open In Colab\"/></a>"
      ]
    },
    {
      "cell_type": "code",
      "source": [
        "!nvidia-smi"
      ],
      "metadata": {
        "id": "50iBZugzyWYZ",
        "outputId": "76479e79-45b9-4762-e965-e598c04bcb64",
        "colab": {
          "base_uri": "https://localhost:8080/"
        }
      },
      "execution_count": 1,
      "outputs": [
        {
          "output_type": "stream",
          "name": "stdout",
          "text": [
            "Fri Jun 10 06:24:13 2022       \n",
            "+-----------------------------------------------------------------------------+\n",
            "| NVIDIA-SMI 460.32.03    Driver Version: 460.32.03    CUDA Version: 11.2     |\n",
            "|-------------------------------+----------------------+----------------------+\n",
            "| GPU  Name        Persistence-M| Bus-Id        Disp.A | Volatile Uncorr. ECC |\n",
            "| Fan  Temp  Perf  Pwr:Usage/Cap|         Memory-Usage | GPU-Util  Compute M. |\n",
            "|                               |                      |               MIG M. |\n",
            "|===============================+======================+======================|\n",
            "|   0  Tesla T4            Off  | 00000000:00:04.0 Off |                    0 |\n",
            "| N/A   38C    P8     9W /  70W |      0MiB / 15109MiB |      0%      Default |\n",
            "|                               |                      |                  N/A |\n",
            "+-------------------------------+----------------------+----------------------+\n",
            "                                                                               \n",
            "+-----------------------------------------------------------------------------+\n",
            "| Processes:                                                                  |\n",
            "|  GPU   GI   CI        PID   Type   Process name                  GPU Memory |\n",
            "|        ID   ID                                                   Usage      |\n",
            "|=============================================================================|\n",
            "|  No running processes found                                                 |\n",
            "+-----------------------------------------------------------------------------+\n"
          ]
        }
      ]
    },
    {
      "cell_type": "markdown",
      "source": [
        "### Inicializacion"
      ],
      "metadata": {
        "id": "j1A8stAxXK23"
      }
    },
    {
      "cell_type": "code",
      "execution_count": 2,
      "metadata": {
        "colab": {
          "base_uri": "https://localhost:8080/"
        },
        "id": "Q8g7zdD0a-o4",
        "outputId": "93f76036-e36c-43af-cc64-6f6ecdcb7513"
      },
      "outputs": [
        {
          "output_type": "stream",
          "name": "stdout",
          "text": [
            "Mounted at /content/gdrive\n"
          ]
        }
      ],
      "source": [
        "from google.colab import drive\n",
        "drive.mount('/content/gdrive')"
      ]
    },
    {
      "cell_type": "code",
      "source": [
        "import os \n",
        "os.chdir('/content/')\n",
        "\n",
        "!git clone https://github.com/VictorUceda/TrackNet-Padel.git\n",
        "#!git clone https://github.com/Chang-Chia-Chi/TrackNet-Badminton-Tracking-tensorflow2\n",
        "os.chdir('/content/TrackNet-Padel/')\n",
        "!git pull"
      ],
      "metadata": {
        "id": "lYG3TpaZfjSN",
        "outputId": "5190bedc-190e-43c9-9057-823597b465ad",
        "colab": {
          "base_uri": "https://localhost:8080/"
        }
      },
      "execution_count": 3,
      "outputs": [
        {
          "output_type": "stream",
          "name": "stdout",
          "text": [
            "Cloning into 'TrackNet-Padel'...\n",
            "remote: Enumerating objects: 1108, done.\u001b[K\n",
            "remote: Counting objects: 100% (35/35), done.\u001b[K\n",
            "remote: Compressing objects: 100% (30/30), done.\u001b[K\n",
            "remote: Total 1108 (delta 11), reused 18 (delta 5), pack-reused 1073\u001b[K\n",
            "Receiving objects: 100% (1108/1108), 1.06 GiB | 17.16 MiB/s, done.\n",
            "Resolving deltas: 100% (478/478), done.\n",
            "Checking out files: 100% (322/322), done.\n",
            "Already up to date.\n"
          ]
        }
      ]
    },
    {
      "cell_type": "code",
      "source": [
        "!pip3 install filterpy sktime piexif imutils Pillow focal_loss"
      ],
      "metadata": {
        "id": "cmHZLk7zgQVr",
        "colab": {
          "base_uri": "https://localhost:8080/"
        },
        "outputId": "e8d88852-bfa2-4c85-a5b4-2eec8d3d7b57"
      },
      "execution_count": 4,
      "outputs": [
        {
          "output_type": "stream",
          "name": "stdout",
          "text": [
            "Looking in indexes: https://pypi.org/simple, https://us-python.pkg.dev/colab-wheels/public/simple/\n",
            "Collecting filterpy\n",
            "  Downloading filterpy-1.4.5.zip (177 kB)\n",
            "\u001b[K     |████████████████████████████████| 177 kB 37.6 MB/s \n",
            "\u001b[?25hCollecting sktime\n",
            "  Downloading sktime-0.11.4-py3-none-any.whl (6.7 MB)\n",
            "\u001b[K     |████████████████████████████████| 6.7 MB 24.6 MB/s \n",
            "\u001b[?25hCollecting piexif\n",
            "  Downloading piexif-1.1.3-py2.py3-none-any.whl (20 kB)\n",
            "Requirement already satisfied: imutils in /usr/local/lib/python3.7/dist-packages (0.5.4)\n",
            "Requirement already satisfied: Pillow in /usr/local/lib/python3.7/dist-packages (7.1.2)\n",
            "Collecting focal_loss\n",
            "  Downloading focal_loss-0.0.7-py3-none-any.whl (19 kB)\n",
            "Requirement already satisfied: numpy in /usr/local/lib/python3.7/dist-packages (from filterpy) (1.21.6)\n",
            "Requirement already satisfied: scipy in /usr/local/lib/python3.7/dist-packages (from filterpy) (1.4.1)\n",
            "Requirement already satisfied: matplotlib in /usr/local/lib/python3.7/dist-packages (from filterpy) (3.2.2)\n",
            "Requirement already satisfied: scikit-learn<1.2.0,>=0.24.0 in /usr/local/lib/python3.7/dist-packages (from sktime) (1.0.2)\n",
            "Collecting numba>=0.53\n",
            "  Downloading numba-0.55.2-cp37-cp37m-manylinux2014_x86_64.manylinux_2_17_x86_64.whl (3.3 MB)\n",
            "\u001b[K     |████████████████████████████████| 3.3 MB 57.4 MB/s \n",
            "\u001b[?25hRequirement already satisfied: pandas<1.5.0,>=1.1.0 in /usr/local/lib/python3.7/dist-packages (from sktime) (1.3.5)\n",
            "Collecting deprecated>=1.2.13\n",
            "  Downloading Deprecated-1.2.13-py2.py3-none-any.whl (9.6 kB)\n",
            "Collecting statsmodels>=0.12.1\n",
            "  Downloading statsmodels-0.13.2-cp37-cp37m-manylinux_2_17_x86_64.manylinux2014_x86_64.whl (9.8 MB)\n",
            "\u001b[K     |████████████████████████████████| 9.8 MB 80.5 MB/s \n",
            "\u001b[?25hRequirement already satisfied: wrapt<2,>=1.10 in /usr/local/lib/python3.7/dist-packages (from deprecated>=1.2.13->sktime) (1.14.1)\n",
            "Collecting llvmlite<0.39,>=0.38.0rc1\n",
            "  Downloading llvmlite-0.38.1-cp37-cp37m-manylinux_2_17_x86_64.manylinux2014_x86_64.whl (34.5 MB)\n",
            "\u001b[K     |████████████████████████████████| 34.5 MB 1.2 MB/s \n",
            "\u001b[?25hRequirement already satisfied: setuptools in /usr/local/lib/python3.7/dist-packages (from numba>=0.53->sktime) (57.4.0)\n",
            "Requirement already satisfied: pytz>=2017.3 in /usr/local/lib/python3.7/dist-packages (from pandas<1.5.0,>=1.1.0->sktime) (2022.1)\n",
            "Requirement already satisfied: python-dateutil>=2.7.3 in /usr/local/lib/python3.7/dist-packages (from pandas<1.5.0,>=1.1.0->sktime) (2.8.2)\n",
            "Requirement already satisfied: six>=1.5 in /usr/local/lib/python3.7/dist-packages (from python-dateutil>=2.7.3->pandas<1.5.0,>=1.1.0->sktime) (1.15.0)\n",
            "Requirement already satisfied: joblib>=0.11 in /usr/local/lib/python3.7/dist-packages (from scikit-learn<1.2.0,>=0.24.0->sktime) (1.1.0)\n",
            "Requirement already satisfied: threadpoolctl>=2.0.0 in /usr/local/lib/python3.7/dist-packages (from scikit-learn<1.2.0,>=0.24.0->sktime) (3.1.0)\n",
            "Requirement already satisfied: patsy>=0.5.2 in /usr/local/lib/python3.7/dist-packages (from statsmodels>=0.12.1->sktime) (0.5.2)\n",
            "Requirement already satisfied: packaging>=21.3 in /usr/local/lib/python3.7/dist-packages (from statsmodels>=0.12.1->sktime) (21.3)\n",
            "Requirement already satisfied: pyparsing!=3.0.5,>=2.0.2 in /usr/local/lib/python3.7/dist-packages (from packaging>=21.3->statsmodels>=0.12.1->sktime) (3.0.9)\n",
            "Requirement already satisfied: tensorflow>=2.2 in /usr/local/lib/python3.7/dist-packages (from focal_loss) (2.8.2+zzzcolab20220527125636)\n",
            "Requirement already satisfied: termcolor>=1.1.0 in /usr/local/lib/python3.7/dist-packages (from tensorflow>=2.2->focal_loss) (1.1.0)\n",
            "Requirement already satisfied: keras-preprocessing>=1.1.1 in /usr/local/lib/python3.7/dist-packages (from tensorflow>=2.2->focal_loss) (1.1.2)\n",
            "Requirement already satisfied: typing-extensions>=3.6.6 in /usr/local/lib/python3.7/dist-packages (from tensorflow>=2.2->focal_loss) (4.2.0)\n",
            "Requirement already satisfied: grpcio<2.0,>=1.24.3 in /usr/local/lib/python3.7/dist-packages (from tensorflow>=2.2->focal_loss) (1.46.3)\n",
            "Requirement already satisfied: astunparse>=1.6.0 in /usr/local/lib/python3.7/dist-packages (from tensorflow>=2.2->focal_loss) (1.6.3)\n",
            "Requirement already satisfied: opt-einsum>=2.3.2 in /usr/local/lib/python3.7/dist-packages (from tensorflow>=2.2->focal_loss) (3.3.0)\n",
            "Requirement already satisfied: google-pasta>=0.1.1 in /usr/local/lib/python3.7/dist-packages (from tensorflow>=2.2->focal_loss) (0.2.0)\n",
            "Requirement already satisfied: libclang>=9.0.1 in /usr/local/lib/python3.7/dist-packages (from tensorflow>=2.2->focal_loss) (14.0.1)\n",
            "Requirement already satisfied: tensorflow-io-gcs-filesystem>=0.23.1 in /usr/local/lib/python3.7/dist-packages (from tensorflow>=2.2->focal_loss) (0.26.0)\n",
            "Requirement already satisfied: flatbuffers>=1.12 in /usr/local/lib/python3.7/dist-packages (from tensorflow>=2.2->focal_loss) (2.0)\n",
            "Requirement already satisfied: tensorflow-estimator<2.9,>=2.8 in /usr/local/lib/python3.7/dist-packages (from tensorflow>=2.2->focal_loss) (2.8.0)\n",
            "Requirement already satisfied: absl-py>=0.4.0 in /usr/local/lib/python3.7/dist-packages (from tensorflow>=2.2->focal_loss) (1.0.0)\n",
            "Requirement already satisfied: gast>=0.2.1 in /usr/local/lib/python3.7/dist-packages (from tensorflow>=2.2->focal_loss) (0.5.3)\n",
            "Requirement already satisfied: protobuf<3.20,>=3.9.2 in /usr/local/lib/python3.7/dist-packages (from tensorflow>=2.2->focal_loss) (3.17.3)\n",
            "Requirement already satisfied: keras<2.9,>=2.8.0rc0 in /usr/local/lib/python3.7/dist-packages (from tensorflow>=2.2->focal_loss) (2.8.0)\n",
            "Requirement already satisfied: h5py>=2.9.0 in /usr/local/lib/python3.7/dist-packages (from tensorflow>=2.2->focal_loss) (3.1.0)\n",
            "Requirement already satisfied: tensorboard<2.9,>=2.8 in /usr/local/lib/python3.7/dist-packages (from tensorflow>=2.2->focal_loss) (2.8.0)\n",
            "Requirement already satisfied: wheel<1.0,>=0.23.0 in /usr/local/lib/python3.7/dist-packages (from astunparse>=1.6.0->tensorflow>=2.2->focal_loss) (0.37.1)\n",
            "Requirement already satisfied: cached-property in /usr/local/lib/python3.7/dist-packages (from h5py>=2.9.0->tensorflow>=2.2->focal_loss) (1.5.2)\n",
            "Requirement already satisfied: google-auth-oauthlib<0.5,>=0.4.1 in /usr/local/lib/python3.7/dist-packages (from tensorboard<2.9,>=2.8->tensorflow>=2.2->focal_loss) (0.4.6)\n",
            "Requirement already satisfied: markdown>=2.6.8 in /usr/local/lib/python3.7/dist-packages (from tensorboard<2.9,>=2.8->tensorflow>=2.2->focal_loss) (3.3.7)\n",
            "Requirement already satisfied: google-auth<3,>=1.6.3 in /usr/local/lib/python3.7/dist-packages (from tensorboard<2.9,>=2.8->tensorflow>=2.2->focal_loss) (1.35.0)\n",
            "Requirement already satisfied: werkzeug>=0.11.15 in /usr/local/lib/python3.7/dist-packages (from tensorboard<2.9,>=2.8->tensorflow>=2.2->focal_loss) (1.0.1)\n",
            "Requirement already satisfied: tensorboard-plugin-wit>=1.6.0 in /usr/local/lib/python3.7/dist-packages (from tensorboard<2.9,>=2.8->tensorflow>=2.2->focal_loss) (1.8.1)\n",
            "Requirement already satisfied: requests<3,>=2.21.0 in /usr/local/lib/python3.7/dist-packages (from tensorboard<2.9,>=2.8->tensorflow>=2.2->focal_loss) (2.23.0)\n",
            "Requirement already satisfied: tensorboard-data-server<0.7.0,>=0.6.0 in /usr/local/lib/python3.7/dist-packages (from tensorboard<2.9,>=2.8->tensorflow>=2.2->focal_loss) (0.6.1)\n",
            "Requirement already satisfied: cachetools<5.0,>=2.0.0 in /usr/local/lib/python3.7/dist-packages (from google-auth<3,>=1.6.3->tensorboard<2.9,>=2.8->tensorflow>=2.2->focal_loss) (4.2.4)\n",
            "Requirement already satisfied: rsa<5,>=3.1.4 in /usr/local/lib/python3.7/dist-packages (from google-auth<3,>=1.6.3->tensorboard<2.9,>=2.8->tensorflow>=2.2->focal_loss) (4.8)\n",
            "Requirement already satisfied: pyasn1-modules>=0.2.1 in /usr/local/lib/python3.7/dist-packages (from google-auth<3,>=1.6.3->tensorboard<2.9,>=2.8->tensorflow>=2.2->focal_loss) (0.2.8)\n",
            "Requirement already satisfied: requests-oauthlib>=0.7.0 in /usr/local/lib/python3.7/dist-packages (from google-auth-oauthlib<0.5,>=0.4.1->tensorboard<2.9,>=2.8->tensorflow>=2.2->focal_loss) (1.3.1)\n",
            "Requirement already satisfied: importlib-metadata>=4.4 in /usr/local/lib/python3.7/dist-packages (from markdown>=2.6.8->tensorboard<2.9,>=2.8->tensorflow>=2.2->focal_loss) (4.11.4)\n",
            "Requirement already satisfied: zipp>=0.5 in /usr/local/lib/python3.7/dist-packages (from importlib-metadata>=4.4->markdown>=2.6.8->tensorboard<2.9,>=2.8->tensorflow>=2.2->focal_loss) (3.8.0)\n",
            "Requirement already satisfied: pyasn1<0.5.0,>=0.4.6 in /usr/local/lib/python3.7/dist-packages (from pyasn1-modules>=0.2.1->google-auth<3,>=1.6.3->tensorboard<2.9,>=2.8->tensorflow>=2.2->focal_loss) (0.4.8)\n",
            "Requirement already satisfied: urllib3!=1.25.0,!=1.25.1,<1.26,>=1.21.1 in /usr/local/lib/python3.7/dist-packages (from requests<3,>=2.21.0->tensorboard<2.9,>=2.8->tensorflow>=2.2->focal_loss) (1.24.3)\n",
            "Requirement already satisfied: chardet<4,>=3.0.2 in /usr/local/lib/python3.7/dist-packages (from requests<3,>=2.21.0->tensorboard<2.9,>=2.8->tensorflow>=2.2->focal_loss) (3.0.4)\n",
            "Requirement already satisfied: idna<3,>=2.5 in /usr/local/lib/python3.7/dist-packages (from requests<3,>=2.21.0->tensorboard<2.9,>=2.8->tensorflow>=2.2->focal_loss) (2.10)\n",
            "Requirement already satisfied: certifi>=2017.4.17 in /usr/local/lib/python3.7/dist-packages (from requests<3,>=2.21.0->tensorboard<2.9,>=2.8->tensorflow>=2.2->focal_loss) (2022.5.18.1)\n",
            "Requirement already satisfied: oauthlib>=3.0.0 in /usr/local/lib/python3.7/dist-packages (from requests-oauthlib>=0.7.0->google-auth-oauthlib<0.5,>=0.4.1->tensorboard<2.9,>=2.8->tensorflow>=2.2->focal_loss) (3.2.0)\n",
            "Requirement already satisfied: cycler>=0.10 in /usr/local/lib/python3.7/dist-packages (from matplotlib->filterpy) (0.11.0)\n",
            "Requirement already satisfied: kiwisolver>=1.0.1 in /usr/local/lib/python3.7/dist-packages (from matplotlib->filterpy) (1.4.2)\n",
            "Building wheels for collected packages: filterpy\n",
            "  Building wheel for filterpy (setup.py) ... \u001b[?25l\u001b[?25hdone\n",
            "  Created wheel for filterpy: filename=filterpy-1.4.5-py3-none-any.whl size=110474 sha256=bfdc01aa6d8c3456903e337c81251d09f11abfcc4e53fe1f6b42741ae93e7850\n",
            "  Stored in directory: /root/.cache/pip/wheels/ce/e0/ee/a2b3c5caab3418c1ccd8c4de573d4cbe13315d7e8b0a55fbc2\n",
            "Successfully built filterpy\n",
            "Installing collected packages: llvmlite, statsmodels, numba, deprecated, sktime, piexif, focal-loss, filterpy\n",
            "  Attempting uninstall: llvmlite\n",
            "    Found existing installation: llvmlite 0.34.0\n",
            "    Uninstalling llvmlite-0.34.0:\n",
            "      Successfully uninstalled llvmlite-0.34.0\n",
            "  Attempting uninstall: statsmodels\n",
            "    Found existing installation: statsmodels 0.10.2\n",
            "    Uninstalling statsmodels-0.10.2:\n",
            "      Successfully uninstalled statsmodels-0.10.2\n",
            "  Attempting uninstall: numba\n",
            "    Found existing installation: numba 0.51.2\n",
            "    Uninstalling numba-0.51.2:\n",
            "      Successfully uninstalled numba-0.51.2\n",
            "Successfully installed deprecated-1.2.13 filterpy-1.4.5 focal-loss-0.0.7 llvmlite-0.38.1 numba-0.55.2 piexif-1.1.3 sktime-0.11.4 statsmodels-0.13.2\n"
          ]
        }
      ]
    },
    {
      "cell_type": "markdown",
      "source": [
        "### Predict"
      ],
      "metadata": {
        "id": "0cKwf9FC_vEf"
      }
    },
    {
      "cell_type": "code",
      "source": [
        "weights_path = '/content/gdrive/MyDrive/PadelModels/TrackNetWeights/TrackNet-PadelClean4'\n",
        "for i in range(7):\n",
        "  video = 'raw_data/points/cleanVal/PremierRoma_Semis_LGBC_3_42_'+str(i)+'.mp4'\n",
        "  !python predict.py --video_path={video} --load_weights={weights_path}"
      ],
      "metadata": {
        "id": "CMqw6NaF_zwJ",
        "outputId": "131ecea7-1632-4ccf-df36-febeeca12646",
        "colab": {
          "base_uri": "https://localhost:8080/"
        }
      },
      "execution_count": null,
      "outputs": [
        {
          "output_type": "stream",
          "name": "stdout",
          "text": [
            "2022-06-02 13:55:03.763298: W tensorflow/core/common_runtime/gpu/gpu_bfc_allocator.cc:39] Overriding allow_growth setting because the TF_FORCE_GPU_ALLOW_GROWTH environment variable is set. Original config value was 0.\n",
            "Load weights successfully\n",
            "Number of frames in video and dictionary are not the same!\n",
            "Fail to load, predict only.\n",
            "Beginning predicting......\n",
            "Done......\n"
          ]
        }
      ]
    },
    {
      "cell_type": "markdown",
      "source": [
        "### Test accuracy"
      ],
      "metadata": {
        "id": "kYRim2mxaOXK"
      }
    },
    {
      "cell_type": "code",
      "source": [
        "file_name = 'Final_PremierQatar_Tie'\n",
        "file_name = 'cleanVal/PremierRoma_Semis_LGBC_3_42'\n",
        "weights_path = '/content/gdrive/MyDrive/PadelModels/TrackNetWeights2/TrackNet-SoloPadelCleanAll-480p-9F+4F'\n",
        "point_n = 0\n",
        "for point_n in range(7):\n",
        "  video = 'raw_data/points/'+file_name+\"_\"+str(point_n)+\".mp4\"\n",
        "  print(video)\n",
        "  csv = 'raw_data/points/'+file_name+\"_\"+str(point_n)+\".csv\"\n",
        "  res = 'raw_data/points/'+file_name+\"_\"+str(point_n)+\".resPadel.txt\"\n",
        "  !python ../TrackNet-Padel/predict.py --video_path={video} --label_path={csv} --frame_stack=9 --back_frame_stack=4 --HEIGHT=480 --WIDTH=720 --load_weights={weights_path} # 2>&1 | tee {res}"
      ],
      "metadata": {
        "id": "vk6QsNkIEJlY",
        "outputId": "94f49da2-831d-426f-edfb-f51e7b47197b",
        "colab": {
          "base_uri": "https://localhost:8080/"
        }
      },
      "execution_count": 6,
      "outputs": [
        {
          "output_type": "stream",
          "name": "stdout",
          "text": [
            "raw_data/points/cleanVal/PremierRoma_Semis_LGBC_3_42_0.mp4\n",
            "2022-06-10 06:29:03.884302: W tensorflow/core/common_runtime/gpu/gpu_bfc_allocator.cc:39] Overriding allow_growth setting because the TF_FORCE_GPU_ALLOW_GROWTH environment variable is set. Original config value was 0.\n",
            "Load weights successfully\n",
            "Load csv file successfully\n",
            "Beginning predicting......\n",
            "==========================================================\n",
            "Number of true positive: 0\n",
            "Number of true negative: 29\n",
            "Number of false positive FP1: 0\n",
            "Number of false positive FP2: 213\n",
            "Number of false negative: 0\n",
            "Accuracy: 0.11983471074380166\n",
            "Precision: 0.0\n",
            "Recall: 0\n",
            "Total Time: 49.519309997558594\n",
            "(ACC + Pre + Rec)/3: 0.03994490358126722\n",
            "Done......\n",
            "raw_data/points/cleanVal/PremierRoma_Semis_LGBC_3_42_1.mp4\n",
            "2022-06-10 06:30:06.181723: W tensorflow/core/common_runtime/gpu/gpu_bfc_allocator.cc:39] Overriding allow_growth setting because the TF_FORCE_GPU_ALLOW_GROWTH environment variable is set. Original config value was 0.\n",
            "Load weights successfully\n",
            "Load csv file successfully\n",
            "Beginning predicting......\n",
            "==========================================================\n",
            "Number of true positive: 124\n",
            "Number of true negative: 56\n",
            "Number of false positive FP1: 11\n",
            "Number of false positive FP2: 1\n",
            "Number of false negative: 2\n",
            "Accuracy: 0.9278350515463918\n",
            "Precision: 0.9117647058823529\n",
            "Recall: 0.9841269841269841\n",
            "Total Time: 42.456034660339355\n",
            "(ACC + Pre + Rec)/3: 0.941242247185243\n",
            "Done......\n",
            "raw_data/points/cleanVal/PremierRoma_Semis_LGBC_3_42_2.mp4\n",
            "2022-06-10 06:31:00.551640: W tensorflow/core/common_runtime/gpu/gpu_bfc_allocator.cc:39] Overriding allow_growth setting because the TF_FORCE_GPU_ALLOW_GROWTH environment variable is set. Original config value was 0.\n",
            "Load weights successfully\n",
            "Load csv file successfully\n",
            "Beginning predicting......\n",
            "==========================================================\n",
            "Number of true positive: 67\n",
            "Number of true negative: 0\n",
            "Number of false positive FP1: 6\n",
            "Number of false positive FP2: 0\n",
            "Number of false negative: 4\n",
            "Accuracy: 0.8701298701298701\n",
            "Precision: 0.9178082191780822\n",
            "Recall: 0.9436619718309859\n",
            "Total Time: 22.207126140594482\n",
            "(ACC + Pre + Rec)/3: 0.9105333537129794\n",
            "Done......\n",
            "raw_data/points/cleanVal/PremierRoma_Semis_LGBC_3_42_3.mp4\n",
            "2022-06-10 06:31:30.417235: W tensorflow/core/common_runtime/gpu/gpu_bfc_allocator.cc:39] Overriding allow_growth setting because the TF_FORCE_GPU_ALLOW_GROWTH environment variable is set. Original config value was 0.\n",
            "Load weights successfully\n",
            "Load csv file successfully\n",
            "Beginning predicting......\n",
            "==========================================================\n",
            "Number of true positive: 199\n",
            "Number of true negative: 17\n",
            "Number of false positive FP1: 5\n",
            "Number of false positive FP2: 0\n",
            "Number of false negative: 10\n",
            "Accuracy: 0.935064935064935\n",
            "Precision: 0.9754901960784313\n",
            "Recall: 0.9521531100478469\n",
            "Total Time: 48.225507497787476\n",
            "(ACC + Pre + Rec)/3: 0.9542360803970711\n",
            "Done......\n",
            "raw_data/points/cleanVal/PremierRoma_Semis_LGBC_3_42_4.mp4\n",
            "2022-06-10 06:32:31.862557: W tensorflow/core/common_runtime/gpu/gpu_bfc_allocator.cc:39] Overriding allow_growth setting because the TF_FORCE_GPU_ALLOW_GROWTH environment variable is set. Original config value was 0.\n",
            "Load weights successfully\n",
            "Load csv file successfully\n",
            "Beginning predicting......\n",
            "==========================================================\n",
            "Number of true positive: 237\n",
            "Number of true negative: 32\n",
            "Number of false positive FP1: 6\n",
            "Number of false positive FP2: 0\n",
            "Number of false negative: 7\n",
            "Accuracy: 0.9539007092198581\n",
            "Precision: 0.9753086419753086\n",
            "Recall: 0.9713114754098361\n",
            "Total Time: 56.905457973480225\n",
            "(ACC + Pre + Rec)/3: 0.966840275535001\n",
            "Done......\n",
            "raw_data/points/cleanVal/PremierRoma_Semis_LGBC_3_42_5.mp4\n",
            "2022-06-10 06:33:44.020487: W tensorflow/core/common_runtime/gpu/gpu_bfc_allocator.cc:39] Overriding allow_growth setting because the TF_FORCE_GPU_ALLOW_GROWTH environment variable is set. Original config value was 0.\n",
            "Load weights successfully\n",
            "Load csv file successfully\n",
            "Beginning predicting......\n",
            "==========================================================\n",
            "Number of true positive: 1007\n",
            "Number of true negative: 106\n",
            "Number of false positive FP1: 52\n",
            "Number of false positive FP2: 21\n",
            "Number of false negative: 75\n",
            "Accuracy: 0.8826328310864393\n",
            "Precision: 0.9324074074074075\n",
            "Recall: 0.9306839186691312\n",
            "Total Time: 222.37376976013184\n",
            "(ACC + Pre + Rec)/3: 0.9152413857209926\n",
            "Done......\n",
            "raw_data/points/cleanVal/PremierRoma_Semis_LGBC_3_42_6.mp4\n",
            "2022-06-10 06:38:17.316657: W tensorflow/core/common_runtime/gpu/gpu_bfc_allocator.cc:39] Overriding allow_growth setting because the TF_FORCE_GPU_ALLOW_GROWTH environment variable is set. Original config value was 0.\n",
            "Load weights successfully\n",
            "Load csv file successfully\n",
            "Beginning predicting......\n",
            "==========================================================\n",
            "Number of true positive: 280\n",
            "Number of true negative: 35\n",
            "Number of false positive FP1: 9\n",
            "Number of false positive FP2: 2\n",
            "Number of false negative: 4\n",
            "Accuracy: 0.9545454545454546\n",
            "Precision: 0.9621993127147767\n",
            "Recall: 0.9859154929577465\n",
            "Total Time: 65.43937826156616\n",
            "(ACC + Pre + Rec)/3: 0.9675534200726593\n",
            "Done......\n"
          ]
        }
      ]
    },
    {
      "cell_type": "markdown",
      "source": [
        "### Train Padel"
      ],
      "metadata": {
        "id": "zC_-P-lCd91A"
      }
    },
    {
      "cell_type": "code",
      "source": [
        "!mv raw_data/*.* raw_data/points/\n",
        "for point_n in range(9):\n",
        "  files = 'raw_data/points/clean/*_'+str(point_n)+'\\.*'\n",
        "  print(files)\n",
        "  !mv {files} raw_data/"
      ],
      "metadata": {
        "id": "md3C9pyjd_0w",
        "outputId": "0f252c34-4ee5-435a-b742-dc34340d4222",
        "colab": {
          "base_uri": "https://localhost:8080/"
        }
      },
      "execution_count": 5,
      "outputs": [
        {
          "output_type": "stream",
          "name": "stdout",
          "text": [
            "raw_data/points/clean/*_0\\.*\n",
            "raw_data/points/clean/*_1\\.*\n",
            "raw_data/points/clean/*_2\\.*\n",
            "raw_data/points/clean/*_3\\.*\n",
            "raw_data/points/clean/*_4\\.*\n",
            "raw_data/points/clean/*_5\\.*\n",
            "raw_data/points/clean/*_6\\.*\n",
            "raw_data/points/clean/*_7\\.*\n",
            "raw_data/points/clean/*_8\\.*\n"
          ]
        }
      ]
    },
    {
      "cell_type": "code",
      "source": [
        "!rm -rf train_data/*\n",
        "!python video2img.py --HEIGHT=480 --WIDTH=720 --sigma=3 "
      ],
      "metadata": {
        "id": "3GWuVXlNeXjG"
      },
      "execution_count": null,
      "outputs": []
    },
    {
      "cell_type": "markdown",
      "source": [
        "#### Train sequencial (error en el orden de las imagenes)\n",
        "*   TrackNet-PadelClean2: Entrenado solo con padel, pocos frames (5000) limpios (solo fragmentos con la bola en juego). --lr=10\n",
        "*   TrackNet-PadelClean3: Continuación, 50 epochs --batch_size=5, con 7k frames (alcanza 0.956 en la validación. - loss:1.20e-4)\n",
        "*   TrackNet-PadelClean4: Continuación, +50epochs --bacth_size=5, con 12k frames, --lr=1 (alcanza 0.94 en la validación. - loss:1.1*   TrackNet-PadelClean5: Continuación, +50epochs (800 steps), con 20k frames, --lr=1 (alcanza 0.93 en la validación. - loss:1.09e-4)8e-4)\n",
        "-----\n",
        "*   TrackNet-PadelCleanAll: Solo padel CleanDS, 25epochs (1k steps), con 20k frames, --lr=10 (alcanza 0.82 en la validación. - loss:1.80e-4)\n",
        "*   TrackNet-PadelCleanAll1: Continuación, 50epochs (1k steps) --lr=10/1 (alcanza 0.86 en la validación. - loss:1.23e-4)\n",
        "*   TrackNet-PadelCleanAll2: Continuación, 25epochs (1k steps) --lr=1 (alcanza 0.86 en la validación. - loss:1.08e-4)\n",
        "*   TrackNet-PadelCleanAll3: Continuación, 50epochs (1k steps) --lr=1 (alcanza 0.88 en la validación. - loss:1.06e-4)\n",
        "\n",
        "\n"
      ],
      "metadata": {
        "id": "XEJOfi0xGbJ6"
      }
    },
    {
      "cell_type": "markdown",
      "source": [
        "#### Train desordenado\n",
        "*    TrackNet-SoloPadelCleanAll: solo padel CleanDS, 50epochs (800) (valTrain=0.9, loss=2.3e-4, valTest=0.8)\n",
        "-------\n",
        "*    TrackNet-SoloPadelCleanAll-720p: solo padel CleanDS (480p), 35epochs (800) (valTrain=0.9, loss=1.9e-4)\n",
        "*    TrackNet-SoloPadelCleanAll-720p2: Continuación, +50epochs (1500) (valTrain=0.9, loss=1.75e-4)\n",
        "-------\n",
        "*    TrackNet-SoloPadelCleanAll-480p: solo padel CleanDS (480p) sigma=3, 30epoch (1500) (valTrain=0.9, loss=1.29e-4, cleanVal=0.9-0.94)\n",
        "-------\n",
        "*    TrackNet-SoloPadelCleanAll-480p-5F+2F: solo padel CleanDS (480p) sigma=3, 22epoch(1500) (valTrain=0.92, loss=1.25e-4, )\n",
        "------\n",
        "*    TrackNet-SoloPadelCleanAll-480p-9F+4F: solo padel CleanDS (480p) sigma=3, 50epoch(1500) (valTrain=0.94, loss=1.10e-4, cleanVal=0.91-0.96)"
      ],
      "metadata": {
        "id": "XxXg4nf6K8z9"
      }
    },
    {
      "cell_type": "code",
      "source": [
        "weights_path = '/content/gdrive/MyDrive/PadelModels/TrackNetWeights2/TrackNet-SoloPadelCleanAll-480p-9F+4F'\n",
        "!python train2.py --save_weights={weights_path}  --batch_size=2 --frame_stack=9 --back_frame_stack=4 --HEIGHT=480 --WIDTH=720 --lr=10 --tol=5  #--pre_trained=True  --load_weights={weights_path}"
      ],
      "metadata": {
        "id": "L72l_-tseyd9",
        "outputId": "213bc9bc-bca4-4e43-f05e-fffd1ccd3b63",
        "colab": {
          "base_uri": "https://localhost:8080/"
        }
      },
      "execution_count": 7,
      "outputs": [
        {
          "output_type": "stream",
          "name": "stdout",
          "text": [
            "lerning rate: 10.0\n",
            "2022-06-09 18:33:40.733222: W tensorflow/core/common_runtime/gpu/gpu_bfc_allocator.cc:39] Overriding allow_growth setting because the TF_FORCE_GPU_ALLOW_GROWTH environment variable is set. Original config value was 0.\n",
            "Beginning training......\n",
            "==========Epoch 0, Train steps: 1500, Learning rate: 10.0000==========\n",
            "1500/1500 [==============================] - 592s 386ms/step - loss: 3.7278e-04 - binary_accuracy: 0.9998\n",
            "==========Epoch 0 start validation========== 400\n",
            "Epoch 0 accuracy: 0.624\n",
            "Epoch 0 precision: 0.628\n",
            "Epoch 0 recall: 0.980\n",
            "Epoch 0 average = (accuracy + precision + recall)/3: 0.744\n",
            "==========Epoch 1, Train steps: 1500, Learning rate: 10.0000==========\n",
            "1500/1500 [==============================] - 579s 386ms/step - loss: 2.0460e-04 - binary_accuracy: 0.9998\n",
            "==========Epoch 2, Train steps: 1500, Learning rate: 10.0000==========\n",
            "1500/1500 [==============================] - 579s 386ms/step - loss: 1.8440e-04 - binary_accuracy: 0.9998\n",
            "==========Epoch 3, Train steps: 1500, Learning rate: 10.0000==========\n",
            "1500/1500 [==============================] - 579s 386ms/step - loss: 1.7609e-04 - binary_accuracy: 0.9998\n",
            "==========Epoch 4, Train steps: 1500, Learning rate: 10.0000==========\n",
            "1500/1500 [==============================] - 578s 386ms/step - loss: 1.6928e-04 - binary_accuracy: 0.9998\n",
            "==========Epoch 5, Train steps: 1500, Learning rate: 10.0000==========\n",
            "1500/1500 [==============================] - 578s 385ms/step - loss: 1.5728e-04 - binary_accuracy: 0.9998\n",
            "==========Epoch 5 start validation========== 400\n",
            "Epoch 5 accuracy: 0.799\n",
            "Epoch 5 precision: 0.931\n",
            "Epoch 5 recall: 0.821\n",
            "Epoch 5 average = (accuracy + precision + recall)/3: 0.850\n",
            "==========Epoch 6, Train steps: 1500, Learning rate: 10.0000==========\n",
            "1500/1500 [==============================] - 578s 386ms/step - loss: 1.5713e-04 - binary_accuracy: 0.9998\n",
            "==========Epoch 7, Train steps: 1500, Learning rate: 10.0000==========\n",
            "1500/1500 [==============================] - 580s 387ms/step - loss: 1.5544e-04 - binary_accuracy: 0.9998\n",
            "==========Epoch 8, Train steps: 1500, Learning rate: 10.0000==========\n",
            "1500/1500 [==============================] - 578s 385ms/step - loss: 1.5482e-04 - binary_accuracy: 0.9998\n",
            "==========Epoch 9, Train steps: 1500, Learning rate: 10.0000==========\n",
            "1500/1500 [==============================] - 578s 385ms/step - loss: 1.5743e-04 - binary_accuracy: 0.9998\n",
            "==========Epoch 10, Train steps: 1500, Learning rate: 10.0000==========\n",
            "1500/1500 [==============================] - 578s 385ms/step - loss: 1.5433e-04 - binary_accuracy: 0.9998\n",
            "==========Epoch 10 start validation========== 400\n",
            "Epoch 10 accuracy: 0.839\n",
            "Epoch 10 precision: 0.861\n",
            "Epoch 10 recall: 0.953\n",
            "Epoch 10 average = (accuracy + precision + recall)/3: 0.884\n",
            "==========Epoch 11, Train steps: 1500, Learning rate: 10.0000==========\n",
            "1500/1500 [==============================] - 578s 385ms/step - loss: 1.4389e-04 - binary_accuracy: 0.9998\n",
            "==========Epoch 12, Train steps: 1500, Learning rate: 10.0000==========\n",
            "1500/1500 [==============================] - 578s 385ms/step - loss: 1.4254e-04 - binary_accuracy: 0.9998\n",
            "==========Epoch 13, Train steps: 1500, Learning rate: 10.0000==========\n",
            "1500/1500 [==============================] - 578s 385ms/step - loss: 1.4378e-04 - binary_accuracy: 0.9998\n",
            "==========Epoch 14, Train steps: 1500, Learning rate: 10.0000==========\n",
            "1500/1500 [==============================] - 578s 385ms/step - loss: 1.4619e-04 - binary_accuracy: 0.9998\n",
            "==========Epoch 15, Train steps: 1500, Learning rate: 10.0000==========\n",
            "1500/1500 [==============================] - 578s 385ms/step - loss: 1.3835e-04 - binary_accuracy: 0.9998\n",
            "==========Epoch 15 start validation========== 400\n",
            "Epoch 15 accuracy: 0.849\n",
            "Epoch 15 precision: 0.897\n",
            "Epoch 15 recall: 0.922\n",
            "Epoch 15 average = (accuracy + precision + recall)/3: 0.889\n",
            "==========Epoch 16, Train steps: 1500, Learning rate: 10.0000==========\n",
            "1500/1500 [==============================] - 579s 386ms/step - loss: 1.3689e-04 - binary_accuracy: 0.9998\n",
            "==========Epoch 17, Train steps: 1500, Learning rate: 10.0000==========\n",
            "1500/1500 [==============================] - 579s 386ms/step - loss: 1.3521e-04 - binary_accuracy: 0.9998\n",
            "==========Epoch 18, Train steps: 1500, Learning rate: 10.0000==========\n",
            "1500/1500 [==============================] - 579s 386ms/step - loss: 1.3882e-04 - binary_accuracy: 0.9998\n",
            "==========Epoch 19, Train steps: 1500, Learning rate: 10.0000==========\n",
            "1500/1500 [==============================] - 580s 387ms/step - loss: 1.3237e-04 - binary_accuracy: 0.9998\n",
            "==========Epoch 20, Train steps: 1500, Learning rate: 10.0000==========\n",
            "1500/1500 [==============================] - 579s 386ms/step - loss: 1.3355e-04 - binary_accuracy: 0.9998\n",
            "==========Epoch 20 start validation========== 400\n",
            "Epoch 20 accuracy: 0.868\n",
            "Epoch 20 precision: 0.923\n",
            "Epoch 20 recall: 0.917\n",
            "Epoch 20 average = (accuracy + precision + recall)/3: 0.903\n",
            "==========Epoch 21, Train steps: 1500, Learning rate: 10.0000==========\n",
            "1500/1500 [==============================] - 578s 385ms/step - loss: 1.3122e-04 - binary_accuracy: 0.9998\n",
            "==========Epoch 22, Train steps: 1500, Learning rate: 10.0000==========\n",
            "1500/1500 [==============================] - 578s 385ms/step - loss: 1.3334e-04 - binary_accuracy: 0.9998\n",
            "==========Epoch 23, Train steps: 1500, Learning rate: 10.0000==========\n",
            "1500/1500 [==============================] - 578s 385ms/step - loss: 1.2914e-04 - binary_accuracy: 0.9998\n",
            "==========Epoch 24, Train steps: 1500, Learning rate: 10.0000==========\n",
            "1500/1500 [==============================] - 578s 385ms/step - loss: 1.3056e-04 - binary_accuracy: 0.9998\n",
            "==========Epoch 25, Train steps: 1500, Learning rate: 10.0000==========\n",
            "1500/1500 [==============================] - 578s 385ms/step - loss: 1.2860e-04 - binary_accuracy: 0.9998\n",
            "==========Epoch 25 start validation========== 400\n",
            "Epoch 25 accuracy: 0.874\n",
            "Epoch 25 precision: 0.931\n",
            "Epoch 25 recall: 0.916\n",
            "Epoch 25 average = (accuracy + precision + recall)/3: 0.907\n",
            "==========Epoch 26, Train steps: 1500, Learning rate: 10.0000==========\n",
            "1500/1500 [==============================] - 578s 385ms/step - loss: 1.3203e-04 - binary_accuracy: 0.9998\n",
            "==========Epoch 27, Train steps: 1500, Learning rate: 10.0000==========\n",
            "1500/1500 [==============================] - 578s 385ms/step - loss: 1.2474e-04 - binary_accuracy: 0.9998\n",
            "==========Epoch 28, Train steps: 1500, Learning rate: 10.0000==========\n",
            "1500/1500 [==============================] - 578s 385ms/step - loss: 1.2456e-04 - binary_accuracy: 0.9998\n",
            "==========Epoch 29, Train steps: 1500, Learning rate: 10.0000==========\n",
            "1500/1500 [==============================] - 578s 385ms/step - loss: 1.2714e-04 - binary_accuracy: 0.9998\n",
            "==========Epoch 30, Train steps: 1500, Learning rate: 10.0000==========\n",
            "1500/1500 [==============================] - 578s 385ms/step - loss: 1.2784e-04 - binary_accuracy: 0.9998\n",
            "==========Epoch 30 start validation========== 400\n",
            "Epoch 30 accuracy: 0.829\n",
            "Epoch 30 precision: 0.831\n",
            "Epoch 30 recall: 0.984\n",
            "Epoch 30 average = (accuracy + precision + recall)/3: 0.881\n",
            "==========Epoch 31, Train steps: 1500, Learning rate: 10.0000==========\n",
            "1500/1500 [==============================] - 578s 385ms/step - loss: 1.2656e-04 - binary_accuracy: 0.9998\n",
            "Reduce model learning rate to 1.0\n",
            "==========Epoch 32, Train steps: 1500, Learning rate: 1.0000==========\n",
            "1500/1500 [==============================] - 578s 385ms/step - loss: 1.1586e-04 - binary_accuracy: 0.9998\n",
            "==========Epoch 33, Train steps: 1500, Learning rate: 1.0000==========\n",
            "1500/1500 [==============================] - 578s 385ms/step - loss: 1.1604e-04 - binary_accuracy: 0.9998\n",
            "==========Epoch 34, Train steps: 1500, Learning rate: 1.0000==========\n",
            "1500/1500 [==============================] - 578s 385ms/step - loss: 1.1385e-04 - binary_accuracy: 0.9998\n",
            "==========Epoch 35, Train steps: 1500, Learning rate: 1.0000==========\n",
            "1500/1500 [==============================] - 578s 385ms/step - loss: 1.1382e-04 - binary_accuracy: 0.9998\n",
            "==========Epoch 35 start validation========== 400\n",
            "Epoch 35 accuracy: 0.889\n",
            "Epoch 35 precision: 0.919\n",
            "Epoch 35 recall: 0.950\n",
            "Epoch 35 average = (accuracy + precision + recall)/3: 0.919\n",
            "==========Epoch 36, Train steps: 1500, Learning rate: 1.0000==========\n",
            "1500/1500 [==============================] - 578s 385ms/step - loss: 1.1865e-04 - binary_accuracy: 0.9998\n",
            "==========Epoch 37, Train steps: 1500, Learning rate: 1.0000==========\n",
            "1500/1500 [==============================] - 578s 385ms/step - loss: 1.1565e-04 - binary_accuracy: 0.9998\n",
            "==========Epoch 38, Train steps: 1500, Learning rate: 1.0000==========\n",
            "1500/1500 [==============================] - 578s 385ms/step - loss: 1.1669e-04 - binary_accuracy: 0.9998\n",
            "Reduce model learning rate to 0.1\n",
            "==========Epoch 39, Train steps: 1500, Learning rate: 0.1000==========\n",
            "1500/1500 [==============================] - 578s 385ms/step - loss: 1.1374e-04 - binary_accuracy: 0.9998\n",
            "==========Epoch 40, Train steps: 1500, Learning rate: 0.1000==========\n",
            "1500/1500 [==============================] - 578s 385ms/step - loss: 1.1430e-04 - binary_accuracy: 0.9998\n",
            "==========Epoch 40 start validation========== 400\n",
            "Epoch 40 accuracy: 0.887\n",
            "Epoch 40 precision: 0.931\n",
            "Epoch 40 recall: 0.937\n",
            "Epoch 40 average = (accuracy + precision + recall)/3: 0.918\n",
            "==========Epoch 41, Train steps: 1500, Learning rate: 0.1000==========\n",
            "1500/1500 [==============================] - 578s 385ms/step - loss: 1.1206e-04 - binary_accuracy: 0.9998\n",
            "==========Epoch 42, Train steps: 1500, Learning rate: 0.1000==========\n",
            "1500/1500 [==============================] - 578s 385ms/step - loss: 1.1228e-04 - binary_accuracy: 0.9998\n",
            "==========Epoch 43, Train steps: 1500, Learning rate: 0.1000==========\n",
            "1500/1500 [==============================] - 578s 385ms/step - loss: 1.1260e-04 - binary_accuracy: 0.9998\n",
            "==========Epoch 44, Train steps: 1500, Learning rate: 0.1000==========\n",
            "1500/1500 [==============================] - 578s 385ms/step - loss: 1.1460e-04 - binary_accuracy: 0.9998\n",
            "Reduce model learning rate to 0.010000000149011612\n",
            "==========Epoch 45, Train steps: 1500, Learning rate: 0.0100==========\n",
            "1500/1500 [==============================] - 578s 385ms/step - loss: 1.1490e-04 - binary_accuracy: 0.9998\n",
            "==========Epoch 45 start validation========== 400\n",
            "Epoch 45 accuracy: 0.915\n",
            "Epoch 45 precision: 0.959\n",
            "Epoch 45 recall: 0.943\n",
            "Epoch 45 average = (accuracy + precision + recall)/3: 0.939\n",
            "==========Epoch 46, Train steps: 1500, Learning rate: 0.0100==========\n",
            "1500/1500 [==============================] - 578s 385ms/step - loss: 1.1634e-04 - binary_accuracy: 0.9998\n",
            "==========Epoch 47, Train steps: 1500, Learning rate: 0.0100==========\n",
            "1500/1500 [==============================] - 578s 385ms/step - loss: 1.1449e-04 - binary_accuracy: 0.9998\n",
            "==========Epoch 48, Train steps: 1500, Learning rate: 0.0100==========\n",
            "1500/1500 [==============================] - 578s 385ms/step - loss: 1.1076e-04 - binary_accuracy: 0.9998\n",
            "==========Epoch 49, Train steps: 1500, Learning rate: 0.0100==========\n",
            "1500/1500 [==============================] - 578s 385ms/step - loss: 1.1006e-04 - binary_accuracy: 0.9998\n",
            "Saving weights......\n",
            "Done......\n"
          ]
        }
      ]
    },
    {
      "cell_type": "markdown",
      "source": [
        "### Debug"
      ],
      "metadata": {
        "id": "G9slBIsCSNzQ"
      }
    },
    {
      "cell_type": "code",
      "source": [
        "%load_ext autoreload\n",
        "%autoreload 2"
      ],
      "metadata": {
        "colab": {
          "base_uri": "https://localhost:8080/"
        },
        "id": "NNzoN5yQSaRq",
        "outputId": "f6a25504-6bab-4d65-d430-72a8d495c5ba"
      },
      "execution_count": 11,
      "outputs": [
        {
          "output_type": "stream",
          "name": "stdout",
          "text": [
            "The autoreload extension is already loaded. To reload it, use:\n",
            "  %reload_ext autoreload\n"
          ]
        }
      ]
    },
    {
      "cell_type": "code",
      "source": [
        "from utils import *\n",
        "HEIGHT = 288\n",
        "WIDTH = 512\n",
        "BATCH_SIZE = 2\n",
        "FRAME_STACK = 3\n",
        "BACK_FRAME_STACK = 1\n",
        "\n",
        "match_path = 'train_data'\n",
        "match_list = [os.sep.join([os.getcwd(), match_path, match]) for match in os.listdir(match_path)]\n",
        "\n",
        "x_train, x_test, y_train, y_test = split_train_test2(match_list, FRAME_STACK, BACK_FRAME_STACK, ratio=0.9, shuffle=True)\n",
        "gen = data_generator2(BATCH_SIZE, x_train+x_test, y_train+y_test, FRAME_STACK, BACK_FRAME_STACK)"
      ],
      "metadata": {
        "colab": {
          "base_uri": "https://localhost:8080/"
        },
        "id": "TJHz75vdSJSO",
        "outputId": "7fd01025-c598-4238-ebe5-689d5dd4657c"
      },
      "execution_count": 81,
      "outputs": [
        {
          "output_type": "stream",
          "name": "stdout",
          "text": [
            "18572\n",
            "2064\n",
            "18572\n"
          ]
        }
      ]
    },
    {
      "cell_type": "code",
      "source": [
        "x, y = next(gen)\n",
        "print(x.shape)"
      ],
      "metadata": {
        "colab": {
          "base_uri": "https://localhost:8080/"
        },
        "id": "3wK4YN0STAJl",
        "outputId": "170c8b9e-8697-4280-9569-35ff68df1648"
      },
      "execution_count": 64,
      "outputs": [
        {
          "output_type": "stream",
          "name": "stdout",
          "text": [
            "(2, 3, 288, 512)\n"
          ]
        }
      ]
    },
    {
      "cell_type": "code",
      "source": [
        "list(zip(x_train, y_train))[:3]"
      ],
      "metadata": {
        "colab": {
          "base_uri": "https://localhost:8080/"
        },
        "id": "b7NFLcRzWp5I",
        "outputId": "33751b44-ce63-4498-833d-337e48ba93b9"
      },
      "execution_count": 65,
      "outputs": [
        {
          "output_type": "execute_result",
          "data": {
            "text/plain": [
              "[('/content/TrackNet-Padel/train_data/match22/x_data/match22_PremierRoma_Semis_LGBC_1_00_6_105.jpg',\n",
              "  '/content/TrackNet-Padel/train_data/match22/y_data/match22_PremierRoma_Semis_LGBC_1_00_6_105.jpg'),\n",
              " ('/content/TrackNet-Padel/train_data/match20/x_data/match20_PremierRoma_Semis_LGBC_1_00_2_606.jpg',\n",
              "  '/content/TrackNet-Padel/train_data/match20/y_data/match20_PremierRoma_Semis_LGBC_1_00_2_606.jpg'),\n",
              " ('/content/TrackNet-Padel/train_data/match53/x_data/match53_PremierRoma_Semis_LGBC_2_35_2_117.jpg',\n",
              "  '/content/TrackNet-Padel/train_data/match53/y_data/match53_PremierRoma_Semis_LGBC_2_35_2_117.jpg')]"
            ]
          },
          "metadata": {},
          "execution_count": 65
        }
      ]
    },
    {
      "cell_type": "code",
      "source": [
        "im = cv2.imread('train_data/match1/x_data/match1_PremierRoma_Octavos_GRMS_2_53_0_0.jpg')\n",
        "im.shape"
      ],
      "metadata": {
        "colab": {
          "base_uri": "https://localhost:8080/"
        },
        "id": "sydTYtSybAk5",
        "outputId": "fdaab58d-2117-45e1-d6bc-b593da88db08"
      },
      "execution_count": 89,
      "outputs": [
        {
          "output_type": "execute_result",
          "data": {
            "text/plain": [
              "(288, 512, 3)"
            ]
          },
          "metadata": {},
          "execution_count": 89
        }
      ]
    }
  ]
}