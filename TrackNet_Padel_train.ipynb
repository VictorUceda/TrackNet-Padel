{
  "nbformat": 4,
  "nbformat_minor": 0,
  "metadata": {
    "colab": {
      "name": "TrackNet_Padel.ipynb",
      "provenance": [],
      "collapsed_sections": [],
      "machine_shape": "hm",
      "include_colab_link": true
    },
    "kernelspec": {
      "name": "python3",
      "display_name": "Python 3"
    },
    "language_info": {
      "name": "python"
    },
    "accelerator": "GPU"
  },
  "cells": [
    {
      "cell_type": "markdown",
      "metadata": {
        "id": "view-in-github",
        "colab_type": "text"
      },
      "source": [
        "<a href=\"https://colab.research.google.com/github/VictorUceda/TrackNet-Padel/blob/main/TrackNet_Padel_train.ipynb\" target=\"_parent\"><img src=\"https://colab.research.google.com/assets/colab-badge.svg\" alt=\"Open In Colab\"/></a>"
      ]
    },
    {
      "cell_type": "code",
      "source": [
        "!nvidia-smi"
      ],
      "metadata": {
        "id": "50iBZugzyWYZ",
        "outputId": "137b8ed5-f308-4e69-d4ba-cf0182f644b6",
        "colab": {
          "base_uri": "https://localhost:8080/"
        }
      },
      "execution_count": 25,
      "outputs": [
        {
          "output_type": "stream",
          "name": "stdout",
          "text": [
            "Sat Jun 11 09:59:55 2022       \n",
            "+-----------------------------------------------------------------------------+\n",
            "| NVIDIA-SMI 460.32.03    Driver Version: 460.32.03    CUDA Version: 11.2     |\n",
            "|-------------------------------+----------------------+----------------------+\n",
            "| GPU  Name        Persistence-M| Bus-Id        Disp.A | Volatile Uncorr. ECC |\n",
            "| Fan  Temp  Perf  Pwr:Usage/Cap|         Memory-Usage | GPU-Util  Compute M. |\n",
            "|                               |                      |               MIG M. |\n",
            "|===============================+======================+======================|\n",
            "|   0  Tesla P100-PCIE...  Off  | 00000000:00:04.0 Off |                    0 |\n",
            "| N/A   45C    P0    41W / 250W |      0MiB / 16280MiB |     33%      Default |\n",
            "|                               |                      |                  N/A |\n",
            "+-------------------------------+----------------------+----------------------+\n",
            "                                                                               \n",
            "+-----------------------------------------------------------------------------+\n",
            "| Processes:                                                                  |\n",
            "|  GPU   GI   CI        PID   Type   Process name                  GPU Memory |\n",
            "|        ID   ID                                                   Usage      |\n",
            "|=============================================================================|\n",
            "|  No running processes found                                                 |\n",
            "+-----------------------------------------------------------------------------+\n"
          ]
        }
      ]
    },
    {
      "cell_type": "markdown",
      "source": [
        "### Inicializacion"
      ],
      "metadata": {
        "id": "j1A8stAxXK23"
      }
    },
    {
      "cell_type": "code",
      "execution_count": 3,
      "metadata": {
        "colab": {
          "base_uri": "https://localhost:8080/"
        },
        "id": "Q8g7zdD0a-o4",
        "outputId": "280f815d-9b65-49a5-f36e-656195b9d1e7"
      },
      "outputs": [
        {
          "output_type": "stream",
          "name": "stdout",
          "text": [
            "Mounted at /content/gdrive\n"
          ]
        }
      ],
      "source": [
        "from google.colab import drive\n",
        "drive.mount('/content/gdrive')"
      ]
    },
    {
      "cell_type": "code",
      "source": [
        "import os \n",
        "os.chdir('/content/')\n",
        "\n",
        "!git clone https://github.com/VictorUceda/TrackNet-Padel.git\n",
        "#!git clone https://github.com/Chang-Chia-Chi/TrackNet-Badminton-Tracking-tensorflow2\n",
        "os.chdir('/content/TrackNet-Padel/')\n",
        "!git pull\n",
        "!git checkout -- /content/TrackNet-Padel/points/cleanVal/*"
      ],
      "metadata": {
        "id": "lYG3TpaZfjSN",
        "outputId": "754e36ae-91b9-4cc6-d359-e1e903a1a375",
        "colab": {
          "base_uri": "https://localhost:8080/"
        }
      },
      "execution_count": 18,
      "outputs": [
        {
          "output_type": "stream",
          "name": "stdout",
          "text": [
            "fatal: destination path 'TrackNet-Padel' already exists and is not an empty directory.\n",
            "Already up to date.\n",
            "error: pathspec '/content/TrackNet-Padel/points/cleanVal/*' did not match any file(s) known to git.\n"
          ]
        }
      ]
    },
    {
      "cell_type": "code",
      "source": [
        "!pip3 install filterpy sktime piexif imutils Pillow focal_loss"
      ],
      "metadata": {
        "id": "cmHZLk7zgQVr"
      },
      "execution_count": null,
      "outputs": []
    },
    {
      "cell_type": "markdown",
      "source": [
        "### Predict"
      ],
      "metadata": {
        "id": "0cKwf9FC_vEf"
      }
    },
    {
      "cell_type": "code",
      "source": [
        "weights_path = '/content/gdrive/MyDrive/PadelModels/TrackNetWeights/TrackNet-PadelClean4'\n",
        "for i in range(7):\n",
        "  video = 'raw_data/points/cleanVal/PremierRoma_Semis_LGBC_3_42_'+str(i)+'.mp4'\n",
        "  !python predict.py --video_path={video} --load_weights={weights_path}"
      ],
      "metadata": {
        "id": "CMqw6NaF_zwJ",
        "outputId": "131ecea7-1632-4ccf-df36-febeeca12646",
        "colab": {
          "base_uri": "https://localhost:8080/"
        }
      },
      "execution_count": null,
      "outputs": [
        {
          "output_type": "stream",
          "name": "stdout",
          "text": [
            "2022-06-02 13:55:03.763298: W tensorflow/core/common_runtime/gpu/gpu_bfc_allocator.cc:39] Overriding allow_growth setting because the TF_FORCE_GPU_ALLOW_GROWTH environment variable is set. Original config value was 0.\n",
            "Load weights successfully\n",
            "Number of frames in video and dictionary are not the same!\n",
            "Fail to load, predict only.\n",
            "Beginning predicting......\n",
            "Done......\n"
          ]
        }
      ]
    },
    {
      "cell_type": "markdown",
      "source": [
        "### Test accuracy"
      ],
      "metadata": {
        "id": "kYRim2mxaOXK"
      }
    },
    {
      "cell_type": "code",
      "source": [
        "file_name = 'Final_PremierQatar_Tie'\n",
        "file_name = 'cleanVal/PremierRoma_Final_2_10'\n",
        "weights_path = '/content/gdrive/MyDrive/PadelModels/TrackNetWeights2/TrackNet-SoloPadelCleanAll'\n",
        "point_n = 0\n",
        "for point_n in range(2,4):\n",
        "  video = 'raw_data/points/'+file_name+\"_\"+str(point_n)+\".mp4\"\n",
        "  print(video)\n",
        "  csv = 'raw_data/points/'+file_name+\"_\"+str(point_n)+\".csv\"\n",
        "  res = 'raw_data/points/'+file_name+\"_\"+str(point_n)+\".resPadel.txt\"\n",
        "  !python ../TrackNet-Padel/predict.py --video_path={video} --label_path={csv}  --load_weights={weights_path} # --frame_stack=3 --back_frame_stack=0 --HEIGHT=480 --WIDTH=720# 2>&1 | tee {res}"
      ],
      "metadata": {
        "id": "vk6QsNkIEJlY",
        "outputId": "bba3a2ba-118c-43ab-f236-ba94add3d6cd",
        "colab": {
          "base_uri": "https://localhost:8080/"
        }
      },
      "execution_count": 24,
      "outputs": [
        {
          "output_type": "stream",
          "name": "stdout",
          "text": [
            "raw_data/points/cleanVal/PremierRoma_Final_2_10_2.mp4\n",
            "2022-06-11 09:58:54.410156: W tensorflow/core/common_runtime/gpu/gpu_bfc_allocator.cc:39] Overriding allow_growth setting because the TF_FORCE_GPU_ALLOW_GROWTH environment variable is set. Original config value was 0.\n",
            "Load weights successfully\n",
            "Load csv file successfully\n",
            "Beginning predicting......\n",
            "==========================================================\n",
            "Number of true positive: 91\n",
            "Number of true negative: 13\n",
            "Number of false positive FP1: 6\n",
            "Number of false positive FP2: 6\n",
            "Number of false negative: 47\n",
            "Accuracy: 0.6380368098159509\n",
            "Precision: 0.883495145631068\n",
            "Recall: 0.6594202898550725\n",
            "Total Time: 17.378963708877563\n",
            "(ACC + Pre + Rec)/3: 0.7269840817673637\n",
            "Done......\n",
            "raw_data/points/cleanVal/PremierRoma_Final_2_10_3.mp4\n",
            "2022-06-11 09:59:23.306461: W tensorflow/core/common_runtime/gpu/gpu_bfc_allocator.cc:39] Overriding allow_growth setting because the TF_FORCE_GPU_ALLOW_GROWTH environment variable is set. Original config value was 0.\n",
            "Load weights successfully\n",
            "Load csv file successfully\n",
            "Beginning predicting......\n",
            "==========================================================\n",
            "Number of true positive: 169\n",
            "Number of true negative: 47\n",
            "Number of false positive FP1: 16\n",
            "Number of false positive FP2: 16\n",
            "Number of false negative: 41\n",
            "Accuracy: 0.7474048442906575\n",
            "Precision: 0.8407960199004975\n",
            "Recall: 0.8047619047619048\n",
            "Total Time: 24.920798301696777\n",
            "(ACC + Pre + Rec)/3: 0.7976542563176866\n",
            "Done......\n"
          ]
        }
      ]
    },
    {
      "cell_type": "markdown",
      "source": [
        "### Train Padel"
      ],
      "metadata": {
        "id": "zC_-P-lCd91A"
      }
    },
    {
      "cell_type": "code",
      "source": [
        "!mv raw_data/*.* raw_data/points/\n",
        "for point_n in range(9):\n",
        "  files = 'raw_data/points/clean/*_'+str(point_n)+'\\.*'\n",
        "  print(files)\n",
        "  !mv {files} raw_data/"
      ],
      "metadata": {
        "id": "md3C9pyjd_0w"
      },
      "execution_count": null,
      "outputs": []
    },
    {
      "cell_type": "code",
      "source": [
        "!rm -rf train_data/*\n",
        "!python video2img.py --HEIGHT=480 --WIDTH=720 --sigma=1"
      ],
      "metadata": {
        "id": "3GWuVXlNeXjG",
        "outputId": "985b78f6-d3b6-41e2-d4e9-6ac9dee04279",
        "colab": {
          "base_uri": "https://localhost:8080/"
        }
      },
      "execution_count": 16,
      "outputs": [
        {
          "output_type": "stream",
          "name": "stdout",
          "text": [
            "['raw_data/PremierRoma_Octavos_GRMS_2_53_0.mp4', 'raw_data/PremierRoma_Octavos_GRMS_2_53_1.mp4', 'raw_data/PremierRoma_Octavos_GRMS_2_53_2.mp4', 'raw_data/PremierRoma_Octavos_GRMS_2_53_5.mp4', 'raw_data/PremierRoma_Semis_LGBC_0_00_0.mp4', 'raw_data/PremierRoma_Semis_LGBC_0_00_1.mp4', 'raw_data/PremierRoma_Semis_LGBC_0_00_2.mp4', 'raw_data/PremierRoma_Semis_LGBC_0_00_3.mp4', 'raw_data/PremierRoma_Semis_LGBC_0_00_4.mp4', 'raw_data/PremierRoma_Semis_LGBC_0_23_1.mp4', 'raw_data/PremierRoma_Semis_LGBC_0_23_2.mp4', 'raw_data/PremierRoma_Semis_LGBC_0_23_3.mp4', 'raw_data/PremierRoma_Semis_LGBC_0_23_4.mp4', 'raw_data/PremierRoma_Semis_LGBC_0_23_5.mp4', 'raw_data/PremierRoma_Semis_LGBC_0_44_1.mp4', 'raw_data/PremierRoma_Semis_LGBC_0_44_2.mp4', 'raw_data/PremierRoma_Semis_LGBC_0_44_3.mp4', 'raw_data/PremierRoma_Semis_LGBC_1_00_0.mp4', 'raw_data/PremierRoma_Semis_LGBC_1_00_1.mp4', 'raw_data/PremierRoma_Semis_LGBC_1_00_2.mp4', 'raw_data/PremierRoma_Semis_LGBC_1_00_4.mp4', 'raw_data/PremierRoma_Semis_LGBC_1_00_6.mp4', 'raw_data/PremierRoma_Semis_LGBC_1_00_7.mp4', 'raw_data/PremierRoma_Semis_LGBC_1_00_8.mp4', 'raw_data/PremierRoma_Semis_LGBC_1_01_0.mp4', 'raw_data/PremierRoma_Semis_LGBC_1_01_1.mp4', 'raw_data/PremierRoma_Semis_LGBC_1_01_2.mp4', 'raw_data/PremierRoma_Semis_LGBC_1_01_3.mp4', 'raw_data/PremierRoma_Semis_LGBC_1_02_0.mp4', 'raw_data/PremierRoma_Semis_LGBC_1_02_1.mp4', 'raw_data/PremierRoma_Semis_LGBC_1_13_3.mp4', 'raw_data/PremierRoma_Semis_LGBC_1_14_0.mp4', 'raw_data/PremierRoma_Semis_LGBC_1_14_1.mp4', 'raw_data/PremierRoma_Semis_LGBC_1_14_2.mp4', 'raw_data/PremierRoma_Semis_LGBC_1_14_4.mp4', 'raw_data/PremierRoma_Semis_LGBC_1_14_5.mp4', 'raw_data/PremierRoma_Semis_LGBC_1_24_0.mp4', 'raw_data/PremierRoma_Semis_LGBC_1_24_1.mp4', 'raw_data/PremierRoma_Semis_LGBC_1_24_2.mp4', 'raw_data/PremierRoma_Semis_LGBC_1_24_3.mp4', 'raw_data/PremierRoma_Semis_LGBC_1_24_4.mp4', 'raw_data/PremierRoma_Semis_LGBC_1_24_5.mp4', 'raw_data/PremierRoma_Semis_LGBC_2_25_0.mp4', 'raw_data/PremierRoma_Semis_LGBC_2_25_1.mp4', 'raw_data/PremierRoma_Semis_LGBC_2_25_2.mp4', 'raw_data/PremierRoma_Semis_LGBC_2_25_3.mp4', 'raw_data/PremierRoma_Semis_LGBC_2_25_4.mp4', 'raw_data/PremierRoma_Semis_LGBC_2_25_5.mp4', 'raw_data/PremierRoma_Semis_LGBC_2_25_6.mp4', 'raw_data/PremierRoma_Semis_LGBC_2_25_7.mp4', 'raw_data/PremierRoma_Semis_LGBC_2_35_0.mp4', 'raw_data/PremierRoma_Semis_LGBC_2_35_1.mp4', 'raw_data/PremierRoma_Semis_LGBC_2_35_2.mp4', 'raw_data/PremierRoma_Semis_LGBC_2_35_3.mp4', 'raw_data/PremierRoma_Semis_LGBC_3_11_0.mp4', 'raw_data/PremierRoma_Semis_LGBC_3_11_1.mp4', 'raw_data/PremierRoma_Semis_LGBC_3_11_2.mp4', 'raw_data/PremierRoma_Semis_LGBC_3_11_3.mp4', 'raw_data/PremierRoma_Semis_LGBC_3_21_0.mp4', 'raw_data/PremierRoma_Semis_LGBC_3_21_1.mp4', 'raw_data/PremierRoma_Semis_LGBC_3_21_2.mp4', 'raw_data/PremierRoma_Semis_LGBC_3_21_3.mp4', 'raw_data/PremierRoma_Semis_LGBC_3_21_4.mp4', 'raw_data/PremierRoma_Semis_LGBC_3_31_0.mp4', 'raw_data/PremierRoma_Semis_LGBC_3_31_1.mp4', 'raw_data/PremierRoma_Semis_LGBC_3_31_2.mp4', 'raw_data/PremierRoma_Semis_LGBC_3_31_3.mp4', 'raw_data/PremierRoma_Semis_LGBC_3_41_0.mp4', 'raw_data/PremierRoma_Semis_LGBC_3_41_1.mp4', 'raw_data/PremierRoma_Semis_LGBC_3_41_2.mp4', 'raw_data/PremierRoma_Semis_LGBC_3_41_3.mp4']\n",
            "['raw_data/PremierRoma_Octavos_GRMS_2_53_0.csv', 'raw_data/PremierRoma_Octavos_GRMS_2_53_1.csv', 'raw_data/PremierRoma_Octavos_GRMS_2_53_2.csv', 'raw_data/PremierRoma_Octavos_GRMS_2_53_5.csv', 'raw_data/PremierRoma_Semis_LGBC_0_00_0.csv', 'raw_data/PremierRoma_Semis_LGBC_0_00_1.csv', 'raw_data/PremierRoma_Semis_LGBC_0_00_2.csv', 'raw_data/PremierRoma_Semis_LGBC_0_00_3.csv', 'raw_data/PremierRoma_Semis_LGBC_0_00_4.csv', 'raw_data/PremierRoma_Semis_LGBC_0_23_1.csv', 'raw_data/PremierRoma_Semis_LGBC_0_23_2.csv', 'raw_data/PremierRoma_Semis_LGBC_0_23_3.csv', 'raw_data/PremierRoma_Semis_LGBC_0_23_4.csv', 'raw_data/PremierRoma_Semis_LGBC_0_23_5.csv', 'raw_data/PremierRoma_Semis_LGBC_0_44_1.csv', 'raw_data/PremierRoma_Semis_LGBC_0_44_2.csv', 'raw_data/PremierRoma_Semis_LGBC_0_44_3.csv', 'raw_data/PremierRoma_Semis_LGBC_1_00_0.csv', 'raw_data/PremierRoma_Semis_LGBC_1_00_1.csv', 'raw_data/PremierRoma_Semis_LGBC_1_00_2.csv', 'raw_data/PremierRoma_Semis_LGBC_1_00_4.csv', 'raw_data/PremierRoma_Semis_LGBC_1_00_6.csv', 'raw_data/PremierRoma_Semis_LGBC_1_00_7.csv', 'raw_data/PremierRoma_Semis_LGBC_1_00_8.csv', 'raw_data/PremierRoma_Semis_LGBC_1_01_0.csv', 'raw_data/PremierRoma_Semis_LGBC_1_01_1.csv', 'raw_data/PremierRoma_Semis_LGBC_1_01_2.csv', 'raw_data/PremierRoma_Semis_LGBC_1_01_3.csv', 'raw_data/PremierRoma_Semis_LGBC_1_02_0.csv', 'raw_data/PremierRoma_Semis_LGBC_1_02_1.csv', 'raw_data/PremierRoma_Semis_LGBC_1_13_3.csv', 'raw_data/PremierRoma_Semis_LGBC_1_14_0.csv', 'raw_data/PremierRoma_Semis_LGBC_1_14_1.csv', 'raw_data/PremierRoma_Semis_LGBC_1_14_2.csv', 'raw_data/PremierRoma_Semis_LGBC_1_14_4.csv', 'raw_data/PremierRoma_Semis_LGBC_1_14_5.csv', 'raw_data/PremierRoma_Semis_LGBC_1_24_0.csv', 'raw_data/PremierRoma_Semis_LGBC_1_24_1.csv', 'raw_data/PremierRoma_Semis_LGBC_1_24_2.csv', 'raw_data/PremierRoma_Semis_LGBC_1_24_3.csv', 'raw_data/PremierRoma_Semis_LGBC_1_24_4.csv', 'raw_data/PremierRoma_Semis_LGBC_1_24_5.csv', 'raw_data/PremierRoma_Semis_LGBC_2_25_0.csv', 'raw_data/PremierRoma_Semis_LGBC_2_25_1.csv', 'raw_data/PremierRoma_Semis_LGBC_2_25_2.csv', 'raw_data/PremierRoma_Semis_LGBC_2_25_3.csv', 'raw_data/PremierRoma_Semis_LGBC_2_25_4.csv', 'raw_data/PremierRoma_Semis_LGBC_2_25_5.csv', 'raw_data/PremierRoma_Semis_LGBC_2_25_6.csv', 'raw_data/PremierRoma_Semis_LGBC_2_25_7.csv', 'raw_data/PremierRoma_Semis_LGBC_2_35_0.csv', 'raw_data/PremierRoma_Semis_LGBC_2_35_1.csv', 'raw_data/PremierRoma_Semis_LGBC_2_35_2.csv', 'raw_data/PremierRoma_Semis_LGBC_2_35_3.csv', 'raw_data/PremierRoma_Semis_LGBC_3_11_0.csv', 'raw_data/PremierRoma_Semis_LGBC_3_11_1.csv', 'raw_data/PremierRoma_Semis_LGBC_3_11_2.csv', 'raw_data/PremierRoma_Semis_LGBC_3_11_3.csv', 'raw_data/PremierRoma_Semis_LGBC_3_21_0.csv', 'raw_data/PremierRoma_Semis_LGBC_3_21_1.csv', 'raw_data/PremierRoma_Semis_LGBC_3_21_2.csv', 'raw_data/PremierRoma_Semis_LGBC_3_21_3.csv', 'raw_data/PremierRoma_Semis_LGBC_3_21_4.csv', 'raw_data/PremierRoma_Semis_LGBC_3_31_0.csv', 'raw_data/PremierRoma_Semis_LGBC_3_31_1.csv', 'raw_data/PremierRoma_Semis_LGBC_3_31_2.csv', 'raw_data/PremierRoma_Semis_LGBC_3_31_3.csv', 'raw_data/PremierRoma_Semis_LGBC_3_41_0.csv', 'raw_data/PremierRoma_Semis_LGBC_3_41_1.csv', 'raw_data/PremierRoma_Semis_LGBC_3_41_2.csv', 'raw_data/PremierRoma_Semis_LGBC_3_41_3.csv']\n",
            "==========Convert Start==========\n",
            "Convert Video: raw_data/PremierRoma_Octavos_GRMS_2_53_0.mp4\n",
            "==========Convert End==========\n",
            "Convert Video: raw_data/PremierRoma_Octavos_GRMS_2_53_1.mp4\n",
            "==========Convert End==========\n",
            "Convert Video: raw_data/PremierRoma_Octavos_GRMS_2_53_2.mp4\n",
            "==========Convert End==========\n",
            "Convert Video: raw_data/PremierRoma_Octavos_GRMS_2_53_5.mp4\n",
            "==========Convert End==========\n",
            "Convert Video: raw_data/PremierRoma_Semis_LGBC_0_00_0.mp4\n",
            "==========Convert End==========\n",
            "Convert Video: raw_data/PremierRoma_Semis_LGBC_0_00_1.mp4\n",
            "==========Convert End==========\n",
            "Convert Video: raw_data/PremierRoma_Semis_LGBC_0_00_2.mp4\n",
            "==========Convert End==========\n",
            "Convert Video: raw_data/PremierRoma_Semis_LGBC_0_00_3.mp4\n",
            "==========Convert End==========\n",
            "Convert Video: raw_data/PremierRoma_Semis_LGBC_0_00_4.mp4\n",
            "==========Convert End==========\n",
            "Convert Video: raw_data/PremierRoma_Semis_LGBC_0_23_1.mp4\n",
            "==========Convert End==========\n",
            "Convert Video: raw_data/PremierRoma_Semis_LGBC_0_23_2.mp4\n",
            "==========Convert End==========\n",
            "Convert Video: raw_data/PremierRoma_Semis_LGBC_0_23_3.mp4\n",
            "==========Convert End==========\n",
            "Convert Video: raw_data/PremierRoma_Semis_LGBC_0_23_4.mp4\n",
            "==========Convert End==========\n",
            "Convert Video: raw_data/PremierRoma_Semis_LGBC_0_23_5.mp4\n",
            "==========Convert End==========\n",
            "Convert Video: raw_data/PremierRoma_Semis_LGBC_0_44_1.mp4\n",
            "==========Convert End==========\n",
            "Convert Video: raw_data/PremierRoma_Semis_LGBC_0_44_2.mp4\n",
            "==========Convert End==========\n",
            "Convert Video: raw_data/PremierRoma_Semis_LGBC_0_44_3.mp4\n",
            "==========Convert End==========\n",
            "Convert Video: raw_data/PremierRoma_Semis_LGBC_1_00_0.mp4\n",
            "==========Convert End==========\n",
            "Convert Video: raw_data/PremierRoma_Semis_LGBC_1_00_1.mp4\n",
            "==========Convert End==========\n",
            "Convert Video: raw_data/PremierRoma_Semis_LGBC_1_00_2.mp4\n",
            "==========Convert End==========\n",
            "Convert Video: raw_data/PremierRoma_Semis_LGBC_1_00_4.mp4\n",
            "==========Convert End==========\n",
            "Convert Video: raw_data/PremierRoma_Semis_LGBC_1_00_6.mp4\n",
            "==========Convert End==========\n",
            "Convert Video: raw_data/PremierRoma_Semis_LGBC_1_00_7.mp4\n",
            "==========Convert End==========\n",
            "Convert Video: raw_data/PremierRoma_Semis_LGBC_1_00_8.mp4\n",
            "==========Convert End==========\n",
            "Convert Video: raw_data/PremierRoma_Semis_LGBC_1_01_0.mp4\n",
            "==========Convert End==========\n",
            "Convert Video: raw_data/PremierRoma_Semis_LGBC_1_01_1.mp4\n",
            "==========Convert End==========\n",
            "Convert Video: raw_data/PremierRoma_Semis_LGBC_1_01_2.mp4\n",
            "==========Convert End==========\n",
            "Convert Video: raw_data/PremierRoma_Semis_LGBC_1_01_3.mp4\n",
            "==========Convert End==========\n",
            "Convert Video: raw_data/PremierRoma_Semis_LGBC_1_02_0.mp4\n",
            "==========Convert End==========\n",
            "Convert Video: raw_data/PremierRoma_Semis_LGBC_1_02_1.mp4\n",
            "==========Convert End==========\n",
            "Convert Video: raw_data/PremierRoma_Semis_LGBC_1_13_3.mp4\n",
            "==========Convert End==========\n",
            "Convert Video: raw_data/PremierRoma_Semis_LGBC_1_14_0.mp4\n",
            "==========Convert End==========\n",
            "Convert Video: raw_data/PremierRoma_Semis_LGBC_1_14_1.mp4\n",
            "==========Convert End==========\n",
            "Convert Video: raw_data/PremierRoma_Semis_LGBC_1_14_2.mp4\n",
            "==========Convert End==========\n",
            "Convert Video: raw_data/PremierRoma_Semis_LGBC_1_14_4.mp4\n",
            "==========Convert End==========\n",
            "Convert Video: raw_data/PremierRoma_Semis_LGBC_1_14_5.mp4\n",
            "==========Convert End==========\n",
            "Convert Video: raw_data/PremierRoma_Semis_LGBC_1_24_0.mp4\n",
            "==========Convert End==========\n",
            "Convert Video: raw_data/PremierRoma_Semis_LGBC_1_24_1.mp4\n",
            "==========Convert End==========\n",
            "Convert Video: raw_data/PremierRoma_Semis_LGBC_1_24_2.mp4\n",
            "==========Convert End==========\n",
            "Convert Video: raw_data/PremierRoma_Semis_LGBC_1_24_3.mp4\n",
            "==========Convert End==========\n",
            "Convert Video: raw_data/PremierRoma_Semis_LGBC_1_24_4.mp4\n",
            "==========Convert End==========\n",
            "Convert Video: raw_data/PremierRoma_Semis_LGBC_1_24_5.mp4\n",
            "==========Convert End==========\n",
            "Convert Video: raw_data/PremierRoma_Semis_LGBC_2_25_0.mp4\n",
            "==========Convert End==========\n",
            "Convert Video: raw_data/PremierRoma_Semis_LGBC_2_25_1.mp4\n",
            "==========Convert End==========\n",
            "Convert Video: raw_data/PremierRoma_Semis_LGBC_2_25_2.mp4\n",
            "==========Convert End==========\n",
            "Convert Video: raw_data/PremierRoma_Semis_LGBC_2_25_3.mp4\n",
            "==========Convert End==========\n",
            "Convert Video: raw_data/PremierRoma_Semis_LGBC_2_25_4.mp4\n",
            "==========Convert End==========\n",
            "Convert Video: raw_data/PremierRoma_Semis_LGBC_2_25_5.mp4\n",
            "==========Convert End==========\n",
            "Convert Video: raw_data/PremierRoma_Semis_LGBC_2_25_6.mp4\n",
            "==========Convert End==========\n",
            "Convert Video: raw_data/PremierRoma_Semis_LGBC_2_25_7.mp4\n",
            "==========Convert End==========\n",
            "Convert Video: raw_data/PremierRoma_Semis_LGBC_2_35_0.mp4\n",
            "==========Convert End==========\n",
            "Convert Video: raw_data/PremierRoma_Semis_LGBC_2_35_1.mp4\n",
            "==========Convert End==========\n",
            "Convert Video: raw_data/PremierRoma_Semis_LGBC_2_35_2.mp4\n",
            "==========Convert End==========\n",
            "Convert Video: raw_data/PremierRoma_Semis_LGBC_2_35_3.mp4\n",
            "==========Convert End==========\n",
            "Convert Video: raw_data/PremierRoma_Semis_LGBC_3_11_0.mp4\n",
            "==========Convert End==========\n",
            "Convert Video: raw_data/PremierRoma_Semis_LGBC_3_11_1.mp4\n",
            "==========Convert End==========\n",
            "Convert Video: raw_data/PremierRoma_Semis_LGBC_3_11_2.mp4\n",
            "==========Convert End==========\n",
            "Convert Video: raw_data/PremierRoma_Semis_LGBC_3_11_3.mp4\n",
            "==========Convert End==========\n",
            "Convert Video: raw_data/PremierRoma_Semis_LGBC_3_21_0.mp4\n",
            "==========Convert End==========\n",
            "Convert Video: raw_data/PremierRoma_Semis_LGBC_3_21_1.mp4\n",
            "==========Convert End==========\n",
            "Convert Video: raw_data/PremierRoma_Semis_LGBC_3_21_2.mp4\n",
            "==========Convert End==========\n",
            "Convert Video: raw_data/PremierRoma_Semis_LGBC_3_21_3.mp4\n",
            "==========Convert End==========\n",
            "Convert Video: raw_data/PremierRoma_Semis_LGBC_3_21_4.mp4\n",
            "==========Convert End==========\n",
            "Convert Video: raw_data/PremierRoma_Semis_LGBC_3_31_0.mp4\n",
            "==========Convert End==========\n",
            "Convert Video: raw_data/PremierRoma_Semis_LGBC_3_31_1.mp4\n",
            "==========Convert End==========\n",
            "Convert Video: raw_data/PremierRoma_Semis_LGBC_3_31_2.mp4\n",
            "==========Convert End==========\n",
            "Convert Video: raw_data/PremierRoma_Semis_LGBC_3_31_3.mp4\n",
            "==========Convert End==========\n",
            "Convert Video: raw_data/PremierRoma_Semis_LGBC_3_41_0.mp4\n",
            "==========Convert End==========\n",
            "Convert Video: raw_data/PremierRoma_Semis_LGBC_3_41_1.mp4\n",
            "==========Convert End==========\n",
            "Convert Video: raw_data/PremierRoma_Semis_LGBC_3_41_2.mp4\n",
            "==========Convert End==========\n",
            "Convert Video: raw_data/PremierRoma_Semis_LGBC_3_41_3.mp4\n",
            "==========Convert End==========\n"
          ]
        }
      ]
    },
    {
      "cell_type": "markdown",
      "source": [
        "#### Train sequencial (error en el orden de las imagenes)\n",
        "*   TrackNet-PadelClean2: Entrenado solo con padel, pocos frames (5000) limpios (solo fragmentos con la bola en juego). --lr=10\n",
        "*   TrackNet-PadelClean3: Continuación, 50 epochs --batch_size=5, con 7k frames (alcanza 0.956 en la validación. - loss:1.20e-4)\n",
        "*   TrackNet-PadelClean4: Continuación, +50epochs --bacth_size=5, con 12k frames, --lr=1 (alcanza 0.94 en la validación. - loss:1.1*   TrackNet-PadelClean5: Continuación, +50epochs (800 steps), con 20k frames, --lr=1 (alcanza 0.93 en la validación. - loss:1.09e-4)8e-4)\n",
        "-----\n",
        "*   TrackNet-PadelCleanAll: Solo padel CleanDS, 25epochs (1k steps), con 20k frames, --lr=10 (alcanza 0.82 en la validación. - loss:1.80e-4)\n",
        "*   TrackNet-PadelCleanAll1: Continuación, 50epochs (1k steps) --lr=10/1 (alcanza 0.86 en la validación. - loss:1.23e-4)\n",
        "*   TrackNet-PadelCleanAll2: Continuación, 25epochs (1k steps) --lr=1 (alcanza 0.86 en la validación. - loss:1.08e-4)\n",
        "*   TrackNet-PadelCleanAll3: Continuación, 50epochs (1k steps) --lr=1 (alcanza 0.88 en la validación. - loss:1.06e-4)\n",
        "\n",
        "\n"
      ],
      "metadata": {
        "id": "XEJOfi0xGbJ6"
      }
    },
    {
      "cell_type": "markdown",
      "source": [
        "#### Train desordenado\n",
        "*    TrackNet-SoloPadelCleanAll: solo padel CleanDS, 50epochs (800) (valTrain=0.9, loss=2.3e-4, valTest=0.8, cleanVal=0.72-0.79)\n",
        "-------\n",
        "*    TrackNet-SoloPadelCleanAll-720p: solo padel CleanDS (480p), 35epochs (800) (valTrain=0.9, loss=1.9e-4)\n",
        "*    TrackNet-SoloPadelCleanAll-720p2: Continuación, +50epochs (1500) (valTrain=0.9, loss=1.75e-4, cleanVal=0.75-0.82)\n",
        "-------\n",
        "*    TrackNet-SoloPadelCleanAll-480p: solo padel CleanDS (480p) sigma=3, 30epoch (1500) (valTrain=0.9, loss=1.29e-4, cleanVal=0.78-0.84)\n",
        "-------\n",
        "*    TrackNet-SoloPadelCleanAll-480p-5F+2F: solo padel CleanDS (480p) sigma=3, 22epoch(1500) (valTrain=0.92, loss=1.25e-4, cleanVal=0.80-0.90 )\n",
        "------\n",
        "*    TrackNet-SoloPadelCleanAll-480p-9F+4F: solo padel CleanDS (480p) sigma=3, 50epoch(1500) (valTrain=0.94, loss=1.10e-4, cleanVal=0.85-0.91)\n",
        "------\n",
        "*    TrackNet-SoloPadelCleanAll-480p-1F: solo padel CleanDS (480p) sigma=2, 50epoch(1500) (valTrain=0.90, loss=0.947e-4, cleanVal=0.56-0.65)\n",
        "------\n",
        "*    TrackNet-SoloPadelCleanAll-480p-1s-1F: solo padel CleanDS (480p) sigma=1, 50epoch(1500) (valTrain=0.84, loss=0.727e-4, cleanVal=malo)\n"
      ],
      "metadata": {
        "id": "XxXg4nf6K8z9"
      }
    },
    {
      "cell_type": "code",
      "source": [
        "weights_path = '/content/gdrive/MyDrive/PadelModels/TrackNetWeights2/TrackNet-SoloPadelCleanAll-480p-1s-1F'\n",
        "!python train2.py --save_weights={weights_path}  --epochs=50 --batch_size=2 --frame_stack=1 --back_frame_stack=0 --HEIGHT=480 --WIDTH=720 --lr=10 --tol=5 # --pre_trained=True  --load_weights={weights_path[:-1]}"
      ],
      "metadata": {
        "id": "L72l_-tseyd9",
        "outputId": "3fd68e5b-5c96-499c-b774-508c2d8d1036",
        "colab": {
          "base_uri": "https://localhost:8080/"
        }
      },
      "execution_count": 17,
      "outputs": [
        {
          "output_type": "stream",
          "name": "stdout",
          "text": [
            "lerning rate: 10.0\n",
            "2022-06-10 22:22:52.892100: W tensorflow/core/common_runtime/gpu/gpu_bfc_allocator.cc:39] Overriding allow_growth setting because the TF_FORCE_GPU_ALLOW_GROWTH environment variable is set. Original config value was 0.\n",
            "Beginning training......\n",
            "==========Epoch 0, Train steps: 1500, Learning rate: 10.0000==========\n",
            "1500/1500 [==============================] - 585s 380ms/step - loss: 2.8828e-04 - binary_accuracy: 0.9999\n",
            "==========Epoch 0 start validation========== 400\n",
            "Epoch 0 accuracy: 0.465\n",
            "Epoch 0 precision: 0.606\n",
            "Epoch 0 recall: 0.572\n",
            "Epoch 0 average = (accuracy + precision + recall)/3: 0.548\n",
            "==========Epoch 1, Train steps: 1500, Learning rate: 10.0000==========\n",
            "1500/1500 [==============================] - 570s 380ms/step - loss: 1.7637e-04 - binary_accuracy: 0.9999\n",
            "==========Epoch 2, Train steps: 1500, Learning rate: 10.0000==========\n",
            "1500/1500 [==============================] - 571s 380ms/step - loss: 1.5280e-04 - binary_accuracy: 0.9999\n",
            "==========Epoch 3, Train steps: 1500, Learning rate: 10.0000==========\n",
            "1500/1500 [==============================] - 570s 380ms/step - loss: 1.3933e-04 - binary_accuracy: 0.9999\n",
            "==========Epoch 4, Train steps: 1500, Learning rate: 10.0000==========\n",
            "1500/1500 [==============================] - 570s 380ms/step - loss: 1.3076e-04 - binary_accuracy: 0.9999\n",
            "==========Epoch 5, Train steps: 1500, Learning rate: 10.0000==========\n",
            "1500/1500 [==============================] - 570s 380ms/step - loss: 1.2869e-04 - binary_accuracy: 0.9999\n",
            "==========Epoch 5 start validation========== 400\n",
            "Epoch 5 accuracy: 0.578\n",
            "Epoch 5 precision: 0.744\n",
            "Epoch 5 recall: 0.654\n",
            "Epoch 5 average = (accuracy + precision + recall)/3: 0.658\n",
            "==========Epoch 6, Train steps: 1500, Learning rate: 10.0000==========\n",
            "1500/1500 [==============================] - 570s 380ms/step - loss: 1.2101e-04 - binary_accuracy: 0.9999\n",
            "==========Epoch 7, Train steps: 1500, Learning rate: 10.0000==========\n",
            "1500/1500 [==============================] - 571s 381ms/step - loss: 1.1373e-04 - binary_accuracy: 0.9999\n",
            "==========Epoch 8, Train steps: 1500, Learning rate: 10.0000==========\n",
            "1500/1500 [==============================] - 571s 380ms/step - loss: 1.1241e-04 - binary_accuracy: 0.9999\n",
            "==========Epoch 9, Train steps: 1500, Learning rate: 10.0000==========\n",
            "1500/1500 [==============================] - 570s 380ms/step - loss: 1.1194e-04 - binary_accuracy: 0.9999\n",
            "==========Epoch 10, Train steps: 1500, Learning rate: 10.0000==========\n",
            "1500/1500 [==============================] - 570s 380ms/step - loss: 1.0531e-04 - binary_accuracy: 0.9999\n",
            "==========Epoch 10 start validation========== 400\n",
            "Epoch 10 accuracy: 0.659\n",
            "Epoch 10 precision: 0.858\n",
            "Epoch 10 recall: 0.680\n",
            "Epoch 10 average = (accuracy + precision + recall)/3: 0.732\n",
            "==========Epoch 11, Train steps: 1500, Learning rate: 10.0000==========\n",
            "1500/1500 [==============================] - 570s 380ms/step - loss: 1.0280e-04 - binary_accuracy: 0.9999\n",
            "==========Epoch 12, Train steps: 1500, Learning rate: 10.0000==========\n",
            "1500/1500 [==============================] - 570s 380ms/step - loss: 1.0564e-04 - binary_accuracy: 0.9999\n",
            "==========Epoch 13, Train steps: 1500, Learning rate: 10.0000==========\n",
            "1500/1500 [==============================] - 570s 380ms/step - loss: 1.0116e-04 - binary_accuracy: 0.9999\n",
            "==========Epoch 14, Train steps: 1500, Learning rate: 10.0000==========\n",
            "1500/1500 [==============================] - 570s 380ms/step - loss: 9.9663e-05 - binary_accuracy: 0.9999\n",
            "==========Epoch 15, Train steps: 1500, Learning rate: 10.0000==========\n",
            "1500/1500 [==============================] - 570s 380ms/step - loss: 1.0222e-04 - binary_accuracy: 0.9999\n",
            "==========Epoch 15 start validation========== 400\n",
            "Epoch 15 accuracy: 0.640\n",
            "Epoch 15 precision: 0.694\n",
            "Epoch 15 recall: 0.839\n",
            "Epoch 15 average = (accuracy + precision + recall)/3: 0.724\n",
            "==========Epoch 16, Train steps: 1500, Learning rate: 10.0000==========\n",
            "1500/1500 [==============================] - 570s 380ms/step - loss: 9.7302e-05 - binary_accuracy: 0.9999\n",
            "==========Epoch 17, Train steps: 1500, Learning rate: 10.0000==========\n",
            "1500/1500 [==============================] - 570s 380ms/step - loss: 9.3038e-05 - binary_accuracy: 0.9999\n",
            "==========Epoch 18, Train steps: 1500, Learning rate: 10.0000==========\n",
            "1500/1500 [==============================] - 570s 380ms/step - loss: 9.4097e-05 - binary_accuracy: 0.9999\n",
            "==========Epoch 19, Train steps: 1500, Learning rate: 10.0000==========\n",
            "1500/1500 [==============================] - 570s 380ms/step - loss: 9.4941e-05 - binary_accuracy: 0.9999\n",
            "==========Epoch 20, Train steps: 1500, Learning rate: 10.0000==========\n",
            "1500/1500 [==============================] - 570s 380ms/step - loss: 9.2266e-05 - binary_accuracy: 0.9999\n",
            "==========Epoch 20 start validation========== 400\n",
            "Epoch 20 accuracy: 0.610\n",
            "Epoch 20 precision: 0.831\n",
            "Epoch 20 recall: 0.632\n",
            "Epoch 20 average = (accuracy + precision + recall)/3: 0.691\n",
            "==========Epoch 21, Train steps: 1500, Learning rate: 10.0000==========\n",
            "1500/1500 [==============================] - 570s 380ms/step - loss: 9.0823e-05 - binary_accuracy: 0.9999\n",
            "==========Epoch 22, Train steps: 1500, Learning rate: 10.0000==========\n",
            "1500/1500 [==============================] - 571s 380ms/step - loss: 9.1214e-05 - binary_accuracy: 0.9999\n",
            "==========Epoch 23, Train steps: 1500, Learning rate: 10.0000==========\n",
            "1500/1500 [==============================] - 571s 380ms/step - loss: 8.9747e-05 - binary_accuracy: 0.9999\n",
            "==========Epoch 24, Train steps: 1500, Learning rate: 10.0000==========\n",
            "1500/1500 [==============================] - 570s 380ms/step - loss: 8.9896e-05 - binary_accuracy: 0.9999\n",
            "==========Epoch 25, Train steps: 1500, Learning rate: 10.0000==========\n",
            "1500/1500 [==============================] - 570s 380ms/step - loss: 9.3075e-05 - binary_accuracy: 0.9999\n",
            "==========Epoch 25 start validation========== 400\n",
            "Epoch 25 accuracy: 0.595\n",
            "Epoch 25 precision: 0.823\n",
            "Epoch 25 recall: 0.620\n",
            "Epoch 25 average = (accuracy + precision + recall)/3: 0.679\n",
            "==========Epoch 26, Train steps: 1500, Learning rate: 10.0000==========\n",
            "1500/1500 [==============================] - 570s 380ms/step - loss: 8.6485e-05 - binary_accuracy: 0.9999\n",
            "==========Epoch 27, Train steps: 1500, Learning rate: 10.0000==========\n",
            "1500/1500 [==============================] - 570s 380ms/step - loss: 8.9275e-05 - binary_accuracy: 0.9999\n",
            "==========Epoch 28, Train steps: 1500, Learning rate: 10.0000==========\n",
            "1500/1500 [==============================] - 570s 380ms/step - loss: 8.9457e-05 - binary_accuracy: 0.9999\n",
            "==========Epoch 29, Train steps: 1500, Learning rate: 10.0000==========\n",
            "1500/1500 [==============================] - 570s 380ms/step - loss: 8.5051e-05 - binary_accuracy: 0.9999\n",
            "==========Epoch 30, Train steps: 1500, Learning rate: 10.0000==========\n",
            "1500/1500 [==============================] - 570s 380ms/step - loss: 8.5881e-05 - binary_accuracy: 0.9999\n",
            "==========Epoch 30 start validation========== 400\n",
            "Epoch 30 accuracy: 0.593\n",
            "Epoch 30 precision: 0.825\n",
            "Epoch 30 recall: 0.609\n",
            "Epoch 30 average = (accuracy + precision + recall)/3: 0.676\n",
            "==========Epoch 31, Train steps: 1500, Learning rate: 10.0000==========\n",
            "1500/1500 [==============================] - 570s 380ms/step - loss: 8.4711e-05 - binary_accuracy: 0.9999\n",
            "==========Epoch 32, Train steps: 1500, Learning rate: 10.0000==========\n",
            "1500/1500 [==============================] - 570s 380ms/step - loss: 8.5620e-05 - binary_accuracy: 0.9999\n",
            "==========Epoch 33, Train steps: 1500, Learning rate: 10.0000==========\n",
            "1500/1500 [==============================] - 570s 380ms/step - loss: 8.3142e-05 - binary_accuracy: 0.9999\n",
            "==========Epoch 34, Train steps: 1500, Learning rate: 10.0000==========\n",
            "1500/1500 [==============================] - 570s 380ms/step - loss: 8.1255e-05 - binary_accuracy: 0.9999\n",
            "==========Epoch 35, Train steps: 1500, Learning rate: 10.0000==========\n",
            "1500/1500 [==============================] - 570s 380ms/step - loss: 8.2441e-05 - binary_accuracy: 0.9999\n",
            "==========Epoch 35 start validation========== 400\n",
            "Epoch 35 accuracy: 0.759\n",
            "Epoch 35 precision: 0.839\n",
            "Epoch 35 recall: 0.846\n",
            "Epoch 35 average = (accuracy + precision + recall)/3: 0.815\n",
            "==========Epoch 36, Train steps: 1500, Learning rate: 10.0000==========\n",
            "1500/1500 [==============================] - 570s 380ms/step - loss: 8.2057e-05 - binary_accuracy: 0.9999\n",
            "==========Epoch 37, Train steps: 1500, Learning rate: 10.0000==========\n",
            "1500/1500 [==============================] - 570s 380ms/step - loss: 8.3159e-05 - binary_accuracy: 0.9999\n",
            "Reduce model learning rate to 1.0\n",
            "==========Epoch 38, Train steps: 1500, Learning rate: 1.0000==========\n",
            "1500/1500 [==============================] - 570s 380ms/step - loss: 7.8205e-05 - binary_accuracy: 0.9999\n",
            "==========Epoch 39, Train steps: 1500, Learning rate: 1.0000==========\n",
            "1500/1500 [==============================] - 570s 380ms/step - loss: 7.5208e-05 - binary_accuracy: 0.9999\n",
            "==========Epoch 40, Train steps: 1500, Learning rate: 1.0000==========\n",
            "1500/1500 [==============================] - 570s 380ms/step - loss: 7.4129e-05 - binary_accuracy: 0.9999\n",
            "==========Epoch 40 start validation========== 400\n",
            "Epoch 40 accuracy: 0.796\n",
            "Epoch 40 precision: 0.865\n",
            "Epoch 40 recall: 0.872\n",
            "Epoch 40 average = (accuracy + precision + recall)/3: 0.844\n",
            "==========Epoch 41, Train steps: 1500, Learning rate: 1.0000==========\n",
            "1500/1500 [==============================] - 570s 380ms/step - loss: 7.3626e-05 - binary_accuracy: 0.9999\n",
            "==========Epoch 42, Train steps: 1500, Learning rate: 1.0000==========\n",
            "1500/1500 [==============================] - 570s 380ms/step - loss: 7.2516e-05 - binary_accuracy: 0.9999\n",
            "==========Epoch 43, Train steps: 1500, Learning rate: 1.0000==========\n",
            "1500/1500 [==============================] - 570s 380ms/step - loss: 7.4071e-05 - binary_accuracy: 0.9999\n",
            "==========Epoch 44, Train steps: 1500, Learning rate: 1.0000==========\n",
            "1500/1500 [==============================] - 570s 380ms/step - loss: 7.2691e-05 - binary_accuracy: 0.9999\n",
            "==========Epoch 45, Train steps: 1500, Learning rate: 1.0000==========\n",
            "1500/1500 [==============================] - 570s 380ms/step - loss: 7.4419e-05 - binary_accuracy: 0.9999\n",
            "==========Epoch 45 start validation========== 400\n",
            "Epoch 45 accuracy: 0.801\n",
            "Epoch 45 precision: 0.880\n",
            "Epoch 45 recall: 0.865\n",
            "Epoch 45 average = (accuracy + precision + recall)/3: 0.849\n",
            "Reduce model learning rate to 0.1\n",
            "==========Epoch 46, Train steps: 1500, Learning rate: 0.1000==========\n",
            "1500/1500 [==============================] - 570s 380ms/step - loss: 7.4164e-05 - binary_accuracy: 0.9999\n",
            "==========Epoch 47, Train steps: 1500, Learning rate: 0.1000==========\n",
            "1500/1500 [==============================] - 570s 380ms/step - loss: 7.2842e-05 - binary_accuracy: 0.9999\n",
            "==========Epoch 48, Train steps: 1500, Learning rate: 0.1000==========\n",
            "1500/1500 [==============================] - 570s 380ms/step - loss: 7.4134e-05 - binary_accuracy: 0.9999\n",
            "Reduce model learning rate to 0.010000000149011612\n",
            "==========Epoch 49, Train steps: 1500, Learning rate: 0.0100==========\n",
            "1500/1500 [==============================] - 570s 380ms/step - loss: 7.2732e-05 - binary_accuracy: 0.9999\n",
            "Saving weights......\n",
            "Done......\n"
          ]
        }
      ]
    },
    {
      "cell_type": "markdown",
      "source": [
        "### Debug"
      ],
      "metadata": {
        "id": "G9slBIsCSNzQ"
      }
    },
    {
      "cell_type": "code",
      "source": [
        "%load_ext autoreload\n",
        "%autoreload 2"
      ],
      "metadata": {
        "id": "NNzoN5yQSaRq"
      },
      "execution_count": 8,
      "outputs": []
    },
    {
      "cell_type": "code",
      "source": [
        "from utils import *\n",
        "HEIGHT = 288\n",
        "WIDTH = 512\n",
        "BATCH_SIZE = 2\n",
        "FRAME_STACK = 3\n",
        "BACK_FRAME_STACK = 1\n",
        "\n",
        "match_path = 'train_data'\n",
        "match_list = [os.sep.join([os.getcwd(), match_path, match]) for match in os.listdir(match_path)]\n",
        "\n",
        "x_train, x_test, y_train, y_test = split_train_test2(match_list, FRAME_STACK, BACK_FRAME_STACK, ratio=0.9, shuffle=True)\n",
        "gen = data_generator2(BATCH_SIZE, x_train+x_test, y_train+y_test, FRAME_STACK, BACK_FRAME_STACK)"
      ],
      "metadata": {
        "colab": {
          "base_uri": "https://localhost:8080/"
        },
        "id": "TJHz75vdSJSO",
        "outputId": "7fd01025-c598-4238-ebe5-689d5dd4657c"
      },
      "execution_count": 81,
      "outputs": [
        {
          "output_type": "stream",
          "name": "stdout",
          "text": [
            "18572\n",
            "2064\n",
            "18572\n"
          ]
        }
      ]
    },
    {
      "cell_type": "code",
      "source": [
        "x, y = next(gen)\n",
        "print(x.shape)"
      ],
      "metadata": {
        "colab": {
          "base_uri": "https://localhost:8080/"
        },
        "id": "3wK4YN0STAJl",
        "outputId": "170c8b9e-8697-4280-9569-35ff68df1648"
      },
      "execution_count": 64,
      "outputs": [
        {
          "output_type": "stream",
          "name": "stdout",
          "text": [
            "(2, 3, 288, 512)\n"
          ]
        }
      ]
    },
    {
      "cell_type": "code",
      "source": [
        "list(zip(x_train, y_train))[:3]"
      ],
      "metadata": {
        "colab": {
          "base_uri": "https://localhost:8080/"
        },
        "id": "b7NFLcRzWp5I",
        "outputId": "33751b44-ce63-4498-833d-337e48ba93b9"
      },
      "execution_count": 65,
      "outputs": [
        {
          "output_type": "execute_result",
          "data": {
            "text/plain": [
              "[('/content/TrackNet-Padel/train_data/match22/x_data/match22_PremierRoma_Semis_LGBC_1_00_6_105.jpg',\n",
              "  '/content/TrackNet-Padel/train_data/match22/y_data/match22_PremierRoma_Semis_LGBC_1_00_6_105.jpg'),\n",
              " ('/content/TrackNet-Padel/train_data/match20/x_data/match20_PremierRoma_Semis_LGBC_1_00_2_606.jpg',\n",
              "  '/content/TrackNet-Padel/train_data/match20/y_data/match20_PremierRoma_Semis_LGBC_1_00_2_606.jpg'),\n",
              " ('/content/TrackNet-Padel/train_data/match53/x_data/match53_PremierRoma_Semis_LGBC_2_35_2_117.jpg',\n",
              "  '/content/TrackNet-Padel/train_data/match53/y_data/match53_PremierRoma_Semis_LGBC_2_35_2_117.jpg')]"
            ]
          },
          "metadata": {},
          "execution_count": 65
        }
      ]
    },
    {
      "cell_type": "code",
      "source": [
        "im = cv2.imread('train_data/match1/x_data/match1_PremierRoma_Octavos_GRMS_2_53_0_0.jpg')\n",
        "im.shape"
      ],
      "metadata": {
        "colab": {
          "base_uri": "https://localhost:8080/"
        },
        "id": "sydTYtSybAk5",
        "outputId": "fdaab58d-2117-45e1-d6bc-b593da88db08"
      },
      "execution_count": 89,
      "outputs": [
        {
          "output_type": "execute_result",
          "data": {
            "text/plain": [
              "(288, 512, 3)"
            ]
          },
          "metadata": {},
          "execution_count": 89
        }
      ]
    }
  ]
}