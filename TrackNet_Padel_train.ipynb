{
  "nbformat": 4,
  "nbformat_minor": 0,
  "metadata": {
    "colab": {
      "name": "TrackNet_Padel.ipynb",
      "provenance": [],
      "collapsed_sections": [],
      "include_colab_link": true
    },
    "kernelspec": {
      "name": "python3",
      "display_name": "Python 3"
    },
    "language_info": {
      "name": "python"
    },
    "accelerator": "GPU"
  },
  "cells": [
    {
      "cell_type": "markdown",
      "metadata": {
        "id": "view-in-github",
        "colab_type": "text"
      },
      "source": [
        "<a href=\"https://colab.research.google.com/github/VictorUceda/TrackNet-Padel/blob/main/TrackNet_Padel_train.ipynb\" target=\"_parent\"><img src=\"https://colab.research.google.com/assets/colab-badge.svg\" alt=\"Open In Colab\"/></a>"
      ]
    },
    {
      "cell_type": "code",
      "source": [
        "!nvidia-smi"
      ],
      "metadata": {
        "id": "50iBZugzyWYZ",
        "outputId": "482ce9a4-668f-442a-e08b-783f0ce86485",
        "colab": {
          "base_uri": "https://localhost:8080/"
        }
      },
      "execution_count": 1,
      "outputs": [
        {
          "output_type": "stream",
          "name": "stdout",
          "text": [
            "Wed May 25 19:28:08 2022       \n",
            "+-----------------------------------------------------------------------------+\n",
            "| NVIDIA-SMI 460.32.03    Driver Version: 460.32.03    CUDA Version: 11.2     |\n",
            "|-------------------------------+----------------------+----------------------+\n",
            "| GPU  Name        Persistence-M| Bus-Id        Disp.A | Volatile Uncorr. ECC |\n",
            "| Fan  Temp  Perf  Pwr:Usage/Cap|         Memory-Usage | GPU-Util  Compute M. |\n",
            "|                               |                      |               MIG M. |\n",
            "|===============================+======================+======================|\n",
            "|   0  Tesla P100-PCIE...  Off  | 00000000:00:04.0 Off |                    0 |\n",
            "| N/A   39C    P0    28W / 250W |      0MiB / 16280MiB |      0%      Default |\n",
            "|                               |                      |                  N/A |\n",
            "+-------------------------------+----------------------+----------------------+\n",
            "                                                                               \n",
            "+-----------------------------------------------------------------------------+\n",
            "| Processes:                                                                  |\n",
            "|  GPU   GI   CI        PID   Type   Process name                  GPU Memory |\n",
            "|        ID   ID                                                   Usage      |\n",
            "|=============================================================================|\n",
            "|  No running processes found                                                 |\n",
            "+-----------------------------------------------------------------------------+\n"
          ]
        }
      ]
    },
    {
      "cell_type": "code",
      "execution_count": 2,
      "metadata": {
        "colab": {
          "base_uri": "https://localhost:8080/"
        },
        "id": "Q8g7zdD0a-o4",
        "outputId": "eb712af8-5299-4f5f-d7b2-a2bc53629d40"
      },
      "outputs": [
        {
          "output_type": "stream",
          "name": "stdout",
          "text": [
            "Mounted at /content/gdrive\n",
            "/content\n"
          ]
        }
      ],
      "source": [
        "from google.colab import drive\n",
        "drive.mount('/content/gdrive')\n",
        "\n",
        "\n",
        "import os \n",
        "path_drive = '/content/gdrive/MyDrive/Colab Notebooks/TrackNet-Padel/'\n",
        "weights_path = '/content/gdrive/MyDrive/PadelModels/TrackNetWeights/TrackNet-Padel'\n",
        "\n",
        "!pwd"
      ]
    },
    {
      "cell_type": "code",
      "source": [
        "os.chdir('/content/')\n",
        "!pwd"
      ],
      "metadata": {
        "colab": {
          "base_uri": "https://localhost:8080/"
        },
        "id": "95NxepeuGoC4",
        "outputId": "db0bed48-3ba0-4873-8714-b78f3f891252"
      },
      "execution_count": 3,
      "outputs": [
        {
          "output_type": "stream",
          "name": "stdout",
          "text": [
            "/content\n"
          ]
        }
      ]
    },
    {
      "cell_type": "code",
      "source": [
        "#!git clone https://github.com/VictorUceda/TrackNet-Padel.git\n",
        "#!git clone https://github.com/Chang-Chia-Chi/TrackNet-Badminton-Tracking-tensorflow2\n",
        "os.chdir('/content/TrackNet-Padel/')\n",
        "!git pull"
      ],
      "metadata": {
        "id": "lYG3TpaZfjSN",
        "outputId": "930b4b50-d2af-4dc4-c09b-82d7abd4d78d",
        "colab": {
          "base_uri": "https://localhost:8080/"
        }
      },
      "execution_count": 12,
      "outputs": [
        {
          "output_type": "stream",
          "name": "stdout",
          "text": [
            "remote: Enumerating objects: 19, done.\u001b[K\n",
            "remote: Counting objects:   5% (1/19)\u001b[K\rremote: Counting objects:  10% (2/19)\u001b[K\rremote: Counting objects:  15% (3/19)\u001b[K\rremote: Counting objects:  21% (4/19)\u001b[K\rremote: Counting objects:  26% (5/19)\u001b[K\rremote: Counting objects:  31% (6/19)\u001b[K\rremote: Counting objects:  36% (7/19)\u001b[K\rremote: Counting objects:  42% (8/19)\u001b[K\rremote: Counting objects:  47% (9/19)\u001b[K\rremote: Counting objects:  52% (10/19)\u001b[K\rremote: Counting objects:  57% (11/19)\u001b[K\rremote: Counting objects:  63% (12/19)\u001b[K\rremote: Counting objects:  68% (13/19)\u001b[K\rremote: Counting objects:  73% (14/19)\u001b[K\rremote: Counting objects:  78% (15/19)\u001b[K\rremote: Counting objects:  84% (16/19)\u001b[K\rremote: Counting objects:  89% (17/19)\u001b[K\rremote: Counting objects:  94% (18/19)\u001b[K\rremote: Counting objects: 100% (19/19)\u001b[K\rremote: Counting objects: 100% (19/19), done.\u001b[K\n",
            "remote: Compressing objects:   7% (1/13)\u001b[K\rremote: Compressing objects:  15% (2/13)\u001b[K\rremote: Compressing objects:  23% (3/13)\u001b[K\rremote: Compressing objects:  30% (4/13)\u001b[K\rremote: Compressing objects:  38% (5/13)\u001b[K\rremote: Compressing objects:  46% (6/13)\u001b[K\rremote: Compressing objects:  53% (7/13)\u001b[K\rremote: Compressing objects:  61% (8/13)\u001b[K\rremote: Compressing objects:  69% (9/13)\u001b[K\rremote: Compressing objects:  76% (10/13)\u001b[K\rremote: Compressing objects:  84% (11/13)\u001b[K\rremote: Compressing objects:  92% (12/13)\u001b[K\rremote: Compressing objects: 100% (13/13)\u001b[K\rremote: Compressing objects: 100% (13/13), done.\u001b[K\n",
            "remote: Total 19 (delta 7), reused 16 (delta 6), pack-reused 0\u001b[K\n",
            "Unpacking objects:   5% (1/19)   \rUnpacking objects:  10% (2/19)   \rUnpacking objects:  15% (3/19)   \rUnpacking objects:  21% (4/19)   \rUnpacking objects:  26% (5/19)   \rUnpacking objects:  31% (6/19)   \rUnpacking objects:  36% (7/19)   \rUnpacking objects:  42% (8/19)   \rUnpacking objects:  47% (9/19)   \rUnpacking objects:  52% (10/19)   \rUnpacking objects:  57% (11/19)   \rUnpacking objects:  63% (12/19)   \rUnpacking objects:  68% (13/19)   \rUnpacking objects:  73% (14/19)   \rUnpacking objects:  78% (15/19)   \rUnpacking objects:  84% (16/19)   \rUnpacking objects:  89% (17/19)   \rUnpacking objects:  94% (18/19)   \rUnpacking objects: 100% (19/19)   \rUnpacking objects: 100% (19/19), done.\n",
            "From https://github.com/VictorUceda/TrackNet-Padel\n",
            "   1aab304..69eb37d  main       -> origin/main\n",
            "Updating 1aab304..69eb37d\n",
            "Fast-forward\n",
            " ...PTDanish_octavos_PD_0_01_0.csv => WPTDanish_Octavos_PD_0_01_0.csv} | 0\n",
            " ...PTDanish_octavos_PD_1_20_0.csv => WPTDanish_Octavos_PD_1_20_0.csv} | 0\n",
            " ...PTDanish_octavos_PD_1_20_1.csv => WPTDanish_Octavos_PD_1_20_1.csv} | 0\n",
            " ...PTDanish_octavos_PD_1_20_2.csv => WPTDanish_Octavos_PD_1_20_2.csv} | 0\n",
            " train.py                                                              | 4 \u001b[32m++\u001b[m\u001b[31m--\u001b[m\n",
            " 5 files changed, 2 insertions(+), 2 deletions(-)\n",
            " rename raw_data/points/{WPTDanish_octavos_PD_0_01_0.csv => WPTDanish_Octavos_PD_0_01_0.csv} (100%)\n",
            " rename raw_data/points/{WPTDanish_octavos_PD_1_20_0.csv => WPTDanish_Octavos_PD_1_20_0.csv} (100%)\n",
            " rename raw_data/points/{WPTDanish_octavos_PD_1_20_1.csv => WPTDanish_Octavos_PD_1_20_1.csv} (100%)\n",
            " rename raw_data/points/{WPTDanish_octavos_PD_1_20_2.csv => WPTDanish_Octavos_PD_1_20_2.csv} (100%)\n"
          ]
        }
      ]
    },
    {
      "cell_type": "markdown",
      "source": [
        ""
      ],
      "metadata": {
        "id": "bY2m7mhhk9hn"
      }
    },
    {
      "cell_type": "code",
      "source": [
        "!pip3 install filterpy sktime piexif imutils Pillow focal_loss"
      ],
      "metadata": {
        "id": "cmHZLk7zgQVr",
        "outputId": "bbf69b55-49a5-4e89-ea86-f011d9f09369",
        "colab": {
          "base_uri": "https://localhost:8080/"
        }
      },
      "execution_count": 5,
      "outputs": [
        {
          "output_type": "stream",
          "name": "stdout",
          "text": [
            "Successfully installed deprecated-1.2.13 filterpy-1.4.5 focal-loss-0.0.7 llvmlite-0.38.1 numba-0.55.1 piexif-1.1.3 sktime-0.11.4 statsmodels-0.13.2 tf-estimator-nightly-2.8.0.dev2021122109\n"
          ]
        }
      ]
    },
    {
      "cell_type": "markdown",
      "source": [
        "### Test accuracy"
      ],
      "metadata": {
        "id": "kYRim2mxaOXK"
      }
    },
    {
      "cell_type": "code",
      "source": [
        "file_name = 'Final_PremierQatar_Tie'\n",
        "point_n = 0\n",
        "for point_n in range(9,13):\n",
        "  video = 'raw_data/points/'+file_name+\"_\"+str(point_n)+\".mp4\"\n",
        "  print(video)\n",
        "  csv = 'raw_data/points/'+file_name+\"_\"+str(point_n)+\".csv\"\n",
        "  res = 'raw_data/points/'+file_name+\"_\"+str(point_n)+\".resPadel.txt\"\n",
        "  !python ../TrackNet-Padel/predict.py --video_path={video} --label_path={csv} #--load_weights={weights_path+'4'} # 2>&1 | tee {res}"
      ],
      "metadata": {
        "id": "vk6QsNkIEJlY",
        "outputId": "a18271ae-d337-4706-dc2d-48f84a5971bf",
        "colab": {
          "base_uri": "https://localhost:8080/"
        }
      },
      "execution_count": null,
      "outputs": [
        {
          "output_type": "stream",
          "name": "stdout",
          "text": [
            "raw_data/points/Final_PremierQatar_Tie_9.mp4\n",
            "2022-05-25 21:43:20.779225: W tensorflow/core/common_runtime/gpu/gpu_bfc_allocator.cc:39] Overriding allow_growth setting because the TF_FORCE_GPU_ALLOW_GROWTH environment variable is set. Original config value was 0.\n",
            "Load weights successfully\n",
            "Load csv file successfully\n",
            "Beginning predicting......\n"
          ]
        }
      ]
    },
    {
      "cell_type": "markdown",
      "source": [
        "### Train Padel"
      ],
      "metadata": {
        "id": "zC_-P-lCd91A"
      }
    },
    {
      "cell_type": "code",
      "source": [
        "!mv raw_data/*.* raw_data/points/\n",
        "for point_n in range(9):\n",
        "  files = 'raw_data/points/*_'+str(point_n)+'\\.*'\n",
        "  print(files)\n",
        "  !mv {files} raw_data/"
      ],
      "metadata": {
        "id": "md3C9pyjd_0w",
        "outputId": "5a383c9c-d16c-41f3-dbdd-081f91acf53d",
        "colab": {
          "base_uri": "https://localhost:8080/"
        }
      },
      "execution_count": 6,
      "outputs": [
        {
          "output_type": "stream",
          "name": "stdout",
          "text": [
            "raw_data/points/*_0\\.*\n",
            "raw_data/points/*_1\\.*\n",
            "raw_data/points/*_2\\.*\n",
            "raw_data/points/*_3\\.*\n",
            "raw_data/points/*_4\\.*\n",
            "raw_data/points/*_5\\.*\n",
            "raw_data/points/*_6\\.*\n",
            "raw_data/points/*_7\\.*\n",
            "raw_data/points/*_8\\.*\n"
          ]
        }
      ]
    },
    {
      "cell_type": "code",
      "source": [
        "!rm -rf train_data/*\n",
        "!python video2img.py "
      ],
      "metadata": {
        "id": "3GWuVXlNeXjG",
        "outputId": "1a18c8b8-eb72-480d-cd7a-147ca279859e",
        "colab": {
          "base_uri": "https://localhost:8080/"
        }
      },
      "execution_count": 8,
      "outputs": [
        {
          "output_type": "stream",
          "name": "stdout",
          "text": [
            "['raw_data/Final_PremierQatar_Tie_0.mp4', 'raw_data/Final_PremierQatar_Tie_1.mp4', 'raw_data/Final_PremierQatar_Tie_2.mp4', 'raw_data/Final_PremierQatar_Tie_3.mp4', 'raw_data/Final_PremierQatar_Tie_4.mp4', 'raw_data/Final_PremierQatar_Tie_5.mp4', 'raw_data/Final_PremierQatar_Tie_6.mp4', 'raw_data/Final_PremierQatar_Tie_7.mp4', 'raw_data/Final_PremierQatar_Tie_8.mp4', 'raw_data/WPTDanish_Octavos_PD_0_01_0.mp4', 'raw_data/WPTDanish_Octavos_PD_0_01_1.mp4', 'raw_data/WPTDanish_Octavos_PD_0_01_3.mp4', 'raw_data/WPTDanish_Octavos_PD_0_01_4.mp4', 'raw_data/WPTDanish_Octavos_PD_0_01_7.mp4', 'raw_data/WPTDanish_Octavos_PD_0_01_8.mp4', 'raw_data/WPTDanish_Octavos_PD_0_41_0.mp4', 'raw_data/WPTDanish_Octavos_PD_0_41_2.mp4', 'raw_data/WPTDanish_Octavos_PD_0_41_3.mp4', 'raw_data/WPTDanish_Octavos_PD_0_41_5.mp4', 'raw_data/WPTDanish_Octavos_PD_0_41_7.mp4', 'raw_data/WPTDanish_Octavos_PD_0_51_0.mp4', 'raw_data/WPTDanish_Octavos_PD_0_51_1.mp4', 'raw_data/WPTDanish_Octavos_PD_0_51_2.mp4', 'raw_data/WPTDanish_Octavos_PD_0_51_3.mp4', 'raw_data/WPTDanish_Octavos_PD_0_51_4.mp4', 'raw_data/WPTDanish_Octavos_PD_0_51_5.mp4', 'raw_data/WPTDanish_Octavos_PD_1_20_0.mp4', 'raw_data/WPTDanish_Octavos_PD_1_20_1.mp4', 'raw_data/WPTDanish_Octavos_PD_1_20_2.mp4']\n",
            "['raw_data/Final_PremierQatar_Tie_0.csv', 'raw_data/Final_PremierQatar_Tie_1.csv', 'raw_data/Final_PremierQatar_Tie_2.csv', 'raw_data/Final_PremierQatar_Tie_3.csv', 'raw_data/Final_PremierQatar_Tie_4.csv', 'raw_data/Final_PremierQatar_Tie_5.csv', 'raw_data/Final_PremierQatar_Tie_6.csv', 'raw_data/Final_PremierQatar_Tie_7.csv', 'raw_data/Final_PremierQatar_Tie_8.csv', 'raw_data/WPTDanish_Octavos_PD_0_01_0.csv', 'raw_data/WPTDanish_Octavos_PD_0_01_1.csv', 'raw_data/WPTDanish_Octavos_PD_0_01_3.csv', 'raw_data/WPTDanish_Octavos_PD_0_01_4.csv', 'raw_data/WPTDanish_Octavos_PD_0_01_7.csv', 'raw_data/WPTDanish_Octavos_PD_0_01_8.csv', 'raw_data/WPTDanish_Octavos_PD_0_41_0.csv', 'raw_data/WPTDanish_Octavos_PD_0_41_2.csv', 'raw_data/WPTDanish_Octavos_PD_0_41_3.csv', 'raw_data/WPTDanish_Octavos_PD_0_41_5.csv', 'raw_data/WPTDanish_Octavos_PD_0_41_7.csv', 'raw_data/WPTDanish_Octavos_PD_0_51_0.csv', 'raw_data/WPTDanish_Octavos_PD_0_51_1.csv', 'raw_data/WPTDanish_Octavos_PD_0_51_2.csv', 'raw_data/WPTDanish_Octavos_PD_0_51_3.csv', 'raw_data/WPTDanish_Octavos_PD_0_51_4.csv', 'raw_data/WPTDanish_Octavos_PD_0_51_5.csv', 'raw_data/WPTDanish_Octavos_PD_1_20_0.csv', 'raw_data/WPTDanish_Octavos_PD_1_20_1.csv', 'raw_data/WPTDanish_Octavos_PD_1_20_2.csv']\n",
            "==========Convert Start==========\n",
            "Convert Video: raw_data/Final_PremierQatar_Tie_0.mp4\n",
            "==========Convert End==========\n",
            "Convert Video: raw_data/Final_PremierQatar_Tie_1.mp4\n",
            "==========Convert End==========\n",
            "Convert Video: raw_data/Final_PremierQatar_Tie_2.mp4\n",
            "==========Convert End==========\n",
            "Convert Video: raw_data/Final_PremierQatar_Tie_3.mp4\n",
            "==========Convert End==========\n",
            "Convert Video: raw_data/Final_PremierQatar_Tie_4.mp4\n",
            "==========Convert End==========\n",
            "Convert Video: raw_data/Final_PremierQatar_Tie_5.mp4\n",
            "==========Convert End==========\n",
            "Convert Video: raw_data/Final_PremierQatar_Tie_6.mp4\n",
            "==========Convert End==========\n",
            "Convert Video: raw_data/Final_PremierQatar_Tie_7.mp4\n",
            "==========Convert End==========\n",
            "Convert Video: raw_data/Final_PremierQatar_Tie_8.mp4\n",
            "==========Convert End==========\n",
            "Convert Video: raw_data/WPTDanish_Octavos_PD_0_01_0.mp4\n",
            "==========Convert End==========\n",
            "Convert Video: raw_data/WPTDanish_Octavos_PD_0_01_1.mp4\n",
            "==========Convert End==========\n",
            "Convert Video: raw_data/WPTDanish_Octavos_PD_0_01_3.mp4\n",
            "==========Convert End==========\n",
            "Convert Video: raw_data/WPTDanish_Octavos_PD_0_01_4.mp4\n",
            "==========Convert End==========\n",
            "Convert Video: raw_data/WPTDanish_Octavos_PD_0_01_7.mp4\n",
            "==========Convert End==========\n",
            "Convert Video: raw_data/WPTDanish_Octavos_PD_0_01_8.mp4\n",
            "==========Convert End==========\n",
            "Convert Video: raw_data/WPTDanish_Octavos_PD_0_41_0.mp4\n",
            "==========Convert End==========\n",
            "Convert Video: raw_data/WPTDanish_Octavos_PD_0_41_2.mp4\n",
            "==========Convert End==========\n",
            "Convert Video: raw_data/WPTDanish_Octavos_PD_0_41_3.mp4\n",
            "==========Convert End==========\n",
            "Convert Video: raw_data/WPTDanish_Octavos_PD_0_41_5.mp4\n",
            "==========Convert End==========\n",
            "Convert Video: raw_data/WPTDanish_Octavos_PD_0_41_7.mp4\n",
            "==========Convert End==========\n",
            "Convert Video: raw_data/WPTDanish_Octavos_PD_0_51_0.mp4\n",
            "==========Convert End==========\n",
            "Convert Video: raw_data/WPTDanish_Octavos_PD_0_51_1.mp4\n",
            "==========Convert End==========\n",
            "Convert Video: raw_data/WPTDanish_Octavos_PD_0_51_2.mp4\n",
            "==========Convert End==========\n",
            "Convert Video: raw_data/WPTDanish_Octavos_PD_0_51_3.mp4\n",
            "==========Convert End==========\n",
            "Convert Video: raw_data/WPTDanish_Octavos_PD_0_51_4.mp4\n",
            "==========Convert End==========\n",
            "Convert Video: raw_data/WPTDanish_Octavos_PD_0_51_5.mp4\n",
            "==========Convert End==========\n",
            "Convert Video: raw_data/WPTDanish_Octavos_PD_1_20_0.mp4\n",
            "==========Convert End==========\n",
            "Convert Video: raw_data/WPTDanish_Octavos_PD_1_20_1.mp4\n",
            "Traceback (most recent call last):\n",
            "  File \"video2img.py\", line 80, in <module>\n",
            "    video2img(video, csv, output_path, match)\n",
            "  File \"video2img.py\", line 30, in video2img\n",
            "    csv_content.append((int(frame), int(vis), float(x), float(y)))\n",
            "ValueError: could not convert string to float: '-1.000n'\n"
          ]
        }
      ]
    },
    {
      "cell_type": "code",
      "source": [
        "!python train.py --save_weights={weights_path+'4'} --pre_trained=True  --load_weights={weights_path+'4'} --lr=2"
      ],
      "metadata": {
        "id": "L72l_-tseyd9",
        "outputId": "03dba7d4-63fe-42cd-8ca7-d5418b18db6f",
        "colab": {
          "base_uri": "https://localhost:8080/"
        }
      },
      "execution_count": 15,
      "outputs": [
        {
          "output_type": "stream",
          "name": "stdout",
          "text": [
            "lerning rate: 2.0\n",
            "2022-05-25 21:38:52.441643: W tensorflow/core/common_runtime/gpu/gpu_bfc_allocator.cc:39] Overriding allow_growth setting because the TF_FORCE_GPU_ALLOW_GROWTH environment variable is set. Original config value was 0.\n",
            "Beginning training......\n",
            "==========Epoch 0, Train steps: 5086, Learning rate: 1.0000==========\n",
            " 208/5086 [>.............................] - ETA: 14:52 - loss: 1.7699e-04 - binary_accuracy: 0.9997Traceback (most recent call last):\n",
            "  File \"train.py\", line 53, in <module>\n",
            "    verbose=1)\n",
            "  File \"/usr/local/lib/python3.7/dist-packages/keras/utils/traceback_utils.py\", line 64, in error_handler\n",
            "    return fn(*args, **kwargs)\n",
            "  File \"/usr/local/lib/python3.7/dist-packages/keras/engine/training.py\", line 1384, in fit\n",
            "    tmp_logs = self.train_function(iterator)\n",
            "  File \"/usr/local/lib/python3.7/dist-packages/tensorflow/python/util/traceback_utils.py\", line 150, in error_handler\n",
            "    return fn(*args, **kwargs)\n",
            "  File \"/usr/local/lib/python3.7/dist-packages/tensorflow/python/eager/def_function.py\", line 915, in __call__\n",
            "    result = self._call(*args, **kwds)\n",
            "  File \"/usr/local/lib/python3.7/dist-packages/tensorflow/python/eager/def_function.py\", line 947, in _call\n",
            "    return self._stateless_fn(*args, **kwds)  # pylint: disable=not-callable\n",
            "  File \"/usr/local/lib/python3.7/dist-packages/tensorflow/python/eager/function.py\", line 2957, in __call__\n",
            "    filtered_flat_args, captured_inputs=graph_function.captured_inputs)  # pylint: disable=protected-access\n",
            "  File \"/usr/local/lib/python3.7/dist-packages/tensorflow/python/eager/function.py\", line 1854, in _call_flat\n",
            "    ctx, args, cancellation_manager=cancellation_manager))\n",
            "  File \"/usr/local/lib/python3.7/dist-packages/tensorflow/python/eager/function.py\", line 504, in call\n",
            "    ctx=ctx)\n",
            "  File \"/usr/local/lib/python3.7/dist-packages/tensorflow/python/eager/execute.py\", line 55, in quick_execute\n",
            "    inputs, attrs, num_outputs)\n",
            "KeyboardInterrupt\n",
            "2022-05-25 21:39:53.218525: W tensorflow/core/kernels/data/generator_dataset_op.cc:107] Error occurred when finalizing GeneratorDataset iterator: FAILED_PRECONDITION: Python interpreter state is not initialized. The process may be terminated.\n",
            "\t [[{{node PyFunc}}]]\n"
          ]
        }
      ]
    }
  ]
}