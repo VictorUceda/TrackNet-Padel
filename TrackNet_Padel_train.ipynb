{
  "nbformat": 4,
  "nbformat_minor": 0,
  "metadata": {
    "colab": {
      "name": "TrackNet_Padel.ipynb",
      "provenance": [],
      "collapsed_sections": [],
      "machine_shape": "hm",
      "include_colab_link": true
    },
    "kernelspec": {
      "name": "python3",
      "display_name": "Python 3"
    },
    "language_info": {
      "name": "python"
    },
    "accelerator": "GPU"
  },
  "cells": [
    {
      "cell_type": "markdown",
      "metadata": {
        "id": "view-in-github",
        "colab_type": "text"
      },
      "source": [
        "<a href=\"https://colab.research.google.com/github/VictorUceda/TrackNet-Padel/blob/main/TrackNet_Padel_train.ipynb\" target=\"_parent\"><img src=\"https://colab.research.google.com/assets/colab-badge.svg\" alt=\"Open In Colab\"/></a>"
      ]
    },
    {
      "cell_type": "code",
      "source": [
        "!nvidia-smi"
      ],
      "metadata": {
        "id": "50iBZugzyWYZ",
        "outputId": "07ba5604-631a-49df-d4cb-95d4ef7a88c1",
        "colab": {
          "base_uri": "https://localhost:8080/"
        }
      },
      "execution_count": 1,
      "outputs": [
        {
          "output_type": "stream",
          "name": "stdout",
          "text": [
            "Thu Jun  9 15:28:12 2022       \n",
            "+-----------------------------------------------------------------------------+\n",
            "| NVIDIA-SMI 460.32.03    Driver Version: 460.32.03    CUDA Version: 11.2     |\n",
            "|-------------------------------+----------------------+----------------------+\n",
            "| GPU  Name        Persistence-M| Bus-Id        Disp.A | Volatile Uncorr. ECC |\n",
            "| Fan  Temp  Perf  Pwr:Usage/Cap|         Memory-Usage | GPU-Util  Compute M. |\n",
            "|                               |                      |               MIG M. |\n",
            "|===============================+======================+======================|\n",
            "|   0  Tesla P100-PCIE...  Off  | 00000000:00:04.0 Off |                    0 |\n",
            "| N/A   45C    P0    28W / 250W |      0MiB / 16280MiB |      0%      Default |\n",
            "|                               |                      |                  N/A |\n",
            "+-------------------------------+----------------------+----------------------+\n",
            "                                                                               \n",
            "+-----------------------------------------------------------------------------+\n",
            "| Processes:                                                                  |\n",
            "|  GPU   GI   CI        PID   Type   Process name                  GPU Memory |\n",
            "|        ID   ID                                                   Usage      |\n",
            "|=============================================================================|\n",
            "|  No running processes found                                                 |\n",
            "+-----------------------------------------------------------------------------+\n"
          ]
        }
      ]
    },
    {
      "cell_type": "markdown",
      "source": [
        "### Inicializacion"
      ],
      "metadata": {
        "id": "j1A8stAxXK23"
      }
    },
    {
      "cell_type": "code",
      "execution_count": 2,
      "metadata": {
        "colab": {
          "base_uri": "https://localhost:8080/"
        },
        "id": "Q8g7zdD0a-o4",
        "outputId": "b34a7e6a-bff3-48a6-d44b-1525adda926d"
      },
      "outputs": [
        {
          "output_type": "stream",
          "name": "stdout",
          "text": [
            "Mounted at /content/gdrive\n"
          ]
        }
      ],
      "source": [
        "from google.colab import drive\n",
        "drive.mount('/content/gdrive')"
      ]
    },
    {
      "cell_type": "code",
      "source": [
        "import os \n",
        "os.chdir('/content/')\n",
        "\n",
        "!git clone https://github.com/VictorUceda/TrackNet-Padel.git\n",
        "#!git clone https://github.com/Chang-Chia-Chi/TrackNet-Badminton-Tracking-tensorflow2\n",
        "os.chdir('/content/TrackNet-Padel/')\n",
        "!git pull"
      ],
      "metadata": {
        "id": "lYG3TpaZfjSN",
        "outputId": "b2f4cdb9-693b-4cd5-c66a-acba5ed3cd7b",
        "colab": {
          "base_uri": "https://localhost:8080/"
        }
      },
      "execution_count": 3,
      "outputs": [
        {
          "output_type": "stream",
          "name": "stdout",
          "text": [
            "Cloning into 'TrackNet-Padel'...\n",
            "remote: Enumerating objects: 1076, done.\u001b[K\n",
            "remote: Counting objects: 100% (3/3), done.\u001b[K\n",
            "remote: Compressing objects: 100% (3/3), done.\u001b[K\n",
            "remote: Total 1076 (delta 0), reused 0 (delta 0), pack-reused 1073\u001b[K\n",
            "Receiving objects: 100% (1076/1076), 1.04 GiB | 31.52 MiB/s, done.\n",
            "Resolving deltas: 100% (467/467), done.\n",
            "Checking out files: 100% (314/314), done.\n",
            "Already up to date.\n"
          ]
        }
      ]
    },
    {
      "cell_type": "markdown",
      "source": [
        ""
      ],
      "metadata": {
        "id": "bY2m7mhhk9hn"
      }
    },
    {
      "cell_type": "code",
      "source": [
        "!pip3 install filterpy sktime piexif imutils Pillow focal_loss"
      ],
      "metadata": {
        "id": "cmHZLk7zgQVr"
      },
      "execution_count": null,
      "outputs": []
    },
    {
      "cell_type": "markdown",
      "source": [
        "### Predict"
      ],
      "metadata": {
        "id": "0cKwf9FC_vEf"
      }
    },
    {
      "cell_type": "code",
      "source": [
        "weights_path = '/content/gdrive/MyDrive/PadelModels/TrackNetWeights/TrackNet-PadelClean4'\n",
        "for i in range(7):\n",
        "  video = 'raw_data/points/cleanVal/PremierRoma_Semis_LGBC_3_42_'+str(i)+'.mp4'\n",
        "  !python predict.py --video_path={video} --load_weights={weights_path}"
      ],
      "metadata": {
        "id": "CMqw6NaF_zwJ",
        "outputId": "131ecea7-1632-4ccf-df36-febeeca12646",
        "colab": {
          "base_uri": "https://localhost:8080/"
        }
      },
      "execution_count": null,
      "outputs": [
        {
          "output_type": "stream",
          "name": "stdout",
          "text": [
            "2022-06-02 13:55:03.763298: W tensorflow/core/common_runtime/gpu/gpu_bfc_allocator.cc:39] Overriding allow_growth setting because the TF_FORCE_GPU_ALLOW_GROWTH environment variable is set. Original config value was 0.\n",
            "Load weights successfully\n",
            "Number of frames in video and dictionary are not the same!\n",
            "Fail to load, predict only.\n",
            "Beginning predicting......\n",
            "Done......\n"
          ]
        }
      ]
    },
    {
      "cell_type": "markdown",
      "source": [
        "### Test accuracy"
      ],
      "metadata": {
        "id": "kYRim2mxaOXK"
      }
    },
    {
      "cell_type": "code",
      "source": [
        "file_name = 'Final_PremierQatar_Tie'\n",
        "file_name = 'cleanVal/PremierRoma_Semis_LGBC_3_42'\n",
        "weights_path = '/content/gdrive/MyDrive/PadelModels/TrackNetWeights2/TrackNet-SoloPadelCleanAll-480p'\n",
        "point_n = 0\n",
        "for point_n in range(7):\n",
        "  video = 'raw_data/points/'+file_name+\"_\"+str(point_n)+\".mp4\"\n",
        "  print(video)\n",
        "  csv = 'raw_data/points/'+file_name+\"_\"+str(point_n)+\".csv\"\n",
        "  res = 'raw_data/points/'+file_name+\"_\"+str(point_n)+\".resPadel.txt\"\n",
        "  !python ../TrackNet-Padel/predict.py --video_path={video} --label_path={csv} --HEIGHT=480 --WIDTH=720 --load_weights={weights_path} # 2>&1 | tee {res}"
      ],
      "metadata": {
        "id": "vk6QsNkIEJlY",
        "outputId": "2c9c4a58-0d74-4605-bda0-06295a55bb64",
        "colab": {
          "base_uri": "https://localhost:8080/"
        }
      },
      "execution_count": 28,
      "outputs": [
        {
          "output_type": "stream",
          "name": "stdout",
          "text": [
            "raw_data/points/cleanVal/PremierRoma_Semis_LGBC_3_42_0.mp4\n",
            "2022-06-09 12:10:17.573969: W tensorflow/core/common_runtime/gpu/gpu_bfc_allocator.cc:39] Overriding allow_growth setting because the TF_FORCE_GPU_ALLOW_GROWTH environment variable is set. Original config value was 0.\n",
            "Load weights successfully\n",
            "Load csv file successfully\n",
            "Beginning predicting......\n",
            "==========================================================\n",
            "Number of true positive: 196\n",
            "Number of true negative: 20\n",
            "Number of false positive FP1: 15\n",
            "Number of false positive FP2: 1\n",
            "Number of false negative: 16\n",
            "Accuracy: 0.8709677419354839\n",
            "Precision: 0.9245283018867925\n",
            "Recall: 0.9245283018867925\n",
            "Total Time: 32.80319046974182\n",
            "(ACC + Pre + Rec)/3: 0.906674781903023\n",
            "Done......\n",
            "raw_data/points/cleanVal/PremierRoma_Semis_LGBC_3_42_1.mp4\n",
            "2022-06-09 12:11:00.879322: W tensorflow/core/common_runtime/gpu/gpu_bfc_allocator.cc:39] Overriding allow_growth setting because the TF_FORCE_GPU_ALLOW_GROWTH environment variable is set. Original config value was 0.\n",
            "Load weights successfully\n",
            "Load csv file successfully\n",
            "Beginning predicting......\n",
            "==========================================================\n",
            "Number of true positive: 128\n",
            "Number of true negative: 55\n",
            "Number of false positive FP1: 7\n",
            "Number of false positive FP2: 2\n",
            "Number of false negative: 8\n",
            "Accuracy: 0.915\n",
            "Precision: 0.9343065693430657\n",
            "Recall: 0.9411764705882353\n",
            "Total Time: 28.355568885803223\n",
            "(ACC + Pre + Rec)/3: 0.9301610133104337\n",
            "Done......\n",
            "raw_data/points/cleanVal/PremierRoma_Semis_LGBC_3_42_2.mp4\n",
            "2022-06-09 12:11:38.583120: W tensorflow/core/common_runtime/gpu/gpu_bfc_allocator.cc:39] Overriding allow_growth setting because the TF_FORCE_GPU_ALLOW_GROWTH environment variable is set. Original config value was 0.\n",
            "Load weights successfully\n",
            "Load csv file successfully\n",
            "Beginning predicting......\n",
            "==========================================================\n",
            "Number of true positive: 74\n",
            "Number of true negative: 0\n",
            "Number of false positive FP1: 2\n",
            "Number of false positive FP2: 0\n",
            "Number of false negative: 7\n",
            "Accuracy: 0.891566265060241\n",
            "Precision: 0.9736842105263158\n",
            "Recall: 0.9135802469135802\n",
            "Total Time: 16.511274576187134\n",
            "(ACC + Pre + Rec)/3: 0.9262769075000458\n",
            "Done......\n",
            "raw_data/points/cleanVal/PremierRoma_Semis_LGBC_3_42_3.mp4\n",
            "2022-06-09 12:12:02.206445: W tensorflow/core/common_runtime/gpu/gpu_bfc_allocator.cc:39] Overriding allow_growth setting because the TF_FORCE_GPU_ALLOW_GROWTH environment variable is set. Original config value was 0.\n",
            "Load weights successfully\n",
            "Load csv file successfully\n",
            "Beginning predicting......\n",
            "==========================================================\n",
            "Number of true positive: 202\n",
            "Number of true negative: 17\n",
            "Number of false positive FP1: 8\n",
            "Number of false positive FP2: 0\n",
            "Number of false negative: 10\n",
            "Accuracy: 0.9240506329113924\n",
            "Precision: 0.9619047619047619\n",
            "Recall: 0.9528301886792453\n",
            "Total Time: 32.227683544158936\n",
            "(ACC + Pre + Rec)/3: 0.9462618611651332\n",
            "Done......\n",
            "raw_data/points/cleanVal/PremierRoma_Semis_LGBC_3_42_4.mp4\n",
            "2022-06-09 12:12:44.895276: W tensorflow/core/common_runtime/gpu/gpu_bfc_allocator.cc:39] Overriding allow_growth setting because the TF_FORCE_GPU_ALLOW_GROWTH environment variable is set. Original config value was 0.\n",
            "Load weights successfully\n",
            "Load csv file successfully\n",
            "Beginning predicting......\n",
            "==========================================================\n",
            "Number of true positive: 231\n",
            "Number of true negative: 32\n",
            "Number of false positive FP1: 7\n",
            "Number of false positive FP2: 0\n",
            "Number of false negative: 18\n",
            "Accuracy: 0.9131944444444444\n",
            "Precision: 0.9705882352941176\n",
            "Recall: 0.927710843373494\n",
            "Total Time: 37.09128284454346\n",
            "(ACC + Pre + Rec)/3: 0.9371645077040186\n",
            "Done......\n",
            "raw_data/points/cleanVal/PremierRoma_Semis_LGBC_3_42_5.mp4\n",
            "2022-06-09 12:13:33.421638: W tensorflow/core/common_runtime/gpu/gpu_bfc_allocator.cc:39] Overriding allow_growth setting because the TF_FORCE_GPU_ALLOW_GROWTH environment variable is set. Original config value was 0.\n",
            "Load weights successfully\n",
            "Load csv file successfully\n",
            "Beginning predicting......\n",
            "==========================================================\n",
            "Number of true positive: 994\n",
            "Number of true negative: 121\n",
            "Number of false positive FP1: 39\n",
            "Number of false positive FP2: 6\n",
            "Number of false negative: 107\n",
            "Accuracy: 0.8800315706393055\n",
            "Precision: 0.9566891241578441\n",
            "Recall: 0.9028156221616712\n",
            "Total Time: 135.89752459526062\n",
            "(ACC + Pre + Rec)/3: 0.9131787723196071\n",
            "Done......\n",
            "raw_data/points/cleanVal/PremierRoma_Semis_LGBC_3_42_6.mp4\n",
            "2022-06-09 12:16:22.147181: W tensorflow/core/common_runtime/gpu/gpu_bfc_allocator.cc:39] Overriding allow_growth setting because the TF_FORCE_GPU_ALLOW_GROWTH environment variable is set. Original config value was 0.\n",
            "Load weights successfully\n",
            "Load csv file successfully\n",
            "Beginning predicting......\n",
            "==========================================================\n",
            "Number of true positive: 288\n",
            "Number of true negative: 48\n",
            "Number of false positive FP1: 0\n",
            "Number of false positive FP2: 0\n",
            "Number of false negative: 0\n",
            "Accuracy: 1.0\n",
            "Precision: 1.0\n",
            "Recall: 1.0\n",
            "Total Time: 42.17895555496216\n",
            "(ACC + Pre + Rec)/3: 1.0\n",
            "Done......\n"
          ]
        }
      ]
    },
    {
      "cell_type": "markdown",
      "source": [
        "### Train Padel"
      ],
      "metadata": {
        "id": "zC_-P-lCd91A"
      }
    },
    {
      "cell_type": "code",
      "source": [
        "!mv raw_data/*.* raw_data/points/\n",
        "for point_n in range(9):\n",
        "  files = 'raw_data/points/clean/*_'+str(point_n)+'\\.*'\n",
        "  print(files)\n",
        "  !mv {files} raw_data/"
      ],
      "metadata": {
        "id": "md3C9pyjd_0w"
      },
      "execution_count": null,
      "outputs": []
    },
    {
      "cell_type": "code",
      "source": [
        "!rm -rf train_data/*\n",
        "!python video2img.py --HEIGHT=480 --WIDTH=720 --sigma=3 "
      ],
      "metadata": {
        "id": "3GWuVXlNeXjG"
      },
      "execution_count": null,
      "outputs": []
    },
    {
      "cell_type": "markdown",
      "source": [
        "#### Train sequencial (error en el orden de las imagenes)\n",
        "*   TrackNet-PadelClean2: Entrenado solo con padel, pocos frames (5000) limpios (solo fragmentos con la bola en juego). --lr=10\n",
        "*   TrackNet-PadelClean3: Continuación, 50 epochs --batch_size=5, con 7k frames (alcanza 0.956 en la validación. - loss:1.20e-4)\n",
        "*   TrackNet-PadelClean4: Continuación, +50epochs --bacth_size=5, con 12k frames, --lr=1 (alcanza 0.94 en la validación. - loss:1.1*   TrackNet-PadelClean5: Continuación, +50epochs (800 steps), con 20k frames, --lr=1 (alcanza 0.93 en la validación. - loss:1.09e-4)8e-4)\n",
        "-----\n",
        "*   TrackNet-PadelCleanAll: Solo padel CleanDS, 25epochs (1k steps), con 20k frames, --lr=10 (alcanza 0.82 en la validación. - loss:1.80e-4)\n",
        "*   TrackNet-PadelCleanAll1: Continuación, 50epochs (1k steps) --lr=10/1 (alcanza 0.86 en la validación. - loss:1.23e-4)\n",
        "*   TrackNet-PadelCleanAll2: Continuación, 25epochs (1k steps) --lr=1 (alcanza 0.86 en la validación. - loss:1.08e-4)\n",
        "*   TrackNet-PadelCleanAll3: Continuación, 50epochs (1k steps) --lr=1 (alcanza 0.88 en la validación. - loss:1.06e-4)\n",
        "\n",
        "\n"
      ],
      "metadata": {
        "id": "XEJOfi0xGbJ6"
      }
    },
    {
      "cell_type": "markdown",
      "source": [
        "#### Train desordenado\n",
        "*    TrackNet-SoloPadelCleanAll: solo padel CleanDS, 50epochs (800) (valTrain=0.9, loss=2.3e-4, valTest=0.8)\n",
        "-------\n",
        "*    TrackNet-SoloPadelCleanAll-720p: solo padel CleanDS (480p), 35epochs (800) (valTrain=0.9, loss=1.9e-4)\n",
        "*    TrackNet-SoloPadelCleanAll-720p2: Continuación, +50epochs (1500) (valTrain=0.9, loss=1.75e-4)\n",
        "-------\n",
        "*    TrackNet-SoloPadelCleanAll-480p: solo padel CleanDS (480p) sigma=3, 30epoch (1500) (valTrain=0.9, loss=1.29e-4, cleanVal=0.9-0.94)\n",
        "-------\n",
        "*    TrackNet-SoloPadelCleanAll-480p-5F+2F: solo padel CleanDS (480p) sigma=3, 22epoch(1500) (valTrain=0.92, loss=1.25e-4, )"
      ],
      "metadata": {
        "id": "XxXg4nf6K8z9"
      }
    },
    {
      "cell_type": "code",
      "source": [
        "weights_path = '/content/gdrive/MyDrive/PadelModels/TrackNetWeights2/TrackNet-SoloPadelCleanAll-480p-5F+2F'\n",
        "!python train2.py --save_weights={weights_path}  --batch_size=2 --frame_stack=5 --back_frame_stack=2 --HEIGHT=480 --WIDTH=720 --lr=10 --tol=5  --pre_trained=True  --load_weights={weights_path}"
      ],
      "metadata": {
        "id": "L72l_-tseyd9",
        "outputId": "cce758b1-156c-4654-fad8-26d9ef1293f2",
        "colab": {
          "base_uri": "https://localhost:8080/"
        }
      },
      "execution_count": null,
      "outputs": [
        {
          "output_type": "stream",
          "name": "stdout",
          "text": [
            "lerning rate: 10.0\n",
            "2022-06-09 15:36:34.725265: W tensorflow/core/common_runtime/gpu/gpu_bfc_allocator.cc:39] Overriding allow_growth setting because the TF_FORCE_GPU_ALLOW_GROWTH environment variable is set. Original config value was 0.\n",
            "Beginning training......\n",
            "==========Epoch 0, Train steps: 1500, Learning rate: 10.0000==========\n",
            "1500/1500 [==============================] - 596s 384ms/step - loss: 1.4676e-04 - binary_accuracy: 0.9998\n",
            "==========Epoch 0 start validation========== 400\n",
            "Epoch 0 accuracy: 0.856\n",
            "Epoch 0 precision: 0.918\n",
            "Epoch 0 recall: 0.909\n",
            "Epoch 0 average = (accuracy + precision + recall)/3: 0.894\n",
            "==========Epoch 1, Train steps: 1500, Learning rate: 10.0000==========\n",
            "1500/1500 [==============================] - 577s 384ms/step - loss: 1.4688e-04 - binary_accuracy: 0.9998\n",
            "==========Epoch 2, Train steps: 1500, Learning rate: 10.0000==========\n",
            "1500/1500 [==============================] - 576s 384ms/step - loss: 1.3819e-04 - binary_accuracy: 0.9998\n",
            "==========Epoch 3, Train steps: 1500, Learning rate: 10.0000==========\n",
            "1500/1500 [==============================] - 576s 384ms/step - loss: 1.4069e-04 - binary_accuracy: 0.9998\n",
            "==========Epoch 4, Train steps: 1500, Learning rate: 10.0000==========\n",
            "1500/1500 [==============================] - 576s 384ms/step - loss: 1.3586e-04 - binary_accuracy: 0.9998\n",
            "==========Epoch 5, Train steps: 1500, Learning rate: 10.0000==========\n",
            "1500/1500 [==============================] - 576s 384ms/step - loss: 1.3695e-04 - binary_accuracy: 0.9998\n",
            "==========Epoch 5 start validation========== 400\n",
            "Epoch 5 accuracy: 0.892\n",
            "Epoch 5 precision: 0.903\n",
            "Epoch 5 recall: 0.974\n",
            "Epoch 5 average = (accuracy + precision + recall)/3: 0.923\n",
            "==========Epoch 6, Train steps: 1500, Learning rate: 10.0000==========\n",
            "1500/1500 [==============================] - 576s 384ms/step - loss: 1.3604e-04 - binary_accuracy: 0.9998\n",
            "==========Epoch 7, Train steps: 1500, Learning rate: 10.0000==========\n",
            "1500/1500 [==============================] - 576s 384ms/step - loss: 1.3471e-04 - binary_accuracy: 0.9998\n",
            "==========Epoch 8, Train steps: 1500, Learning rate: 10.0000==========\n",
            "1500/1500 [==============================] - 576s 384ms/step - loss: 1.2957e-04 - binary_accuracy: 0.9998\n",
            "==========Epoch 9, Train steps: 1500, Learning rate: 10.0000==========\n",
            "1500/1500 [==============================] - 576s 384ms/step - loss: 1.3009e-04 - binary_accuracy: 0.9998\n",
            "==========Epoch 10, Train steps: 1500, Learning rate: 10.0000==========\n",
            "1500/1500 [==============================] - 576s 384ms/step - loss: 1.3118e-04 - binary_accuracy: 0.9998\n",
            "==========Epoch 10 start validation========== 400\n",
            "Epoch 10 accuracy: 0.865\n",
            "Epoch 10 precision: 0.933\n",
            "Epoch 10 recall: 0.906\n",
            "Epoch 10 average = (accuracy + precision + recall)/3: 0.901\n",
            "==========Epoch 11, Train steps: 1500, Learning rate: 10.0000==========\n",
            "1500/1500 [==============================] - 577s 384ms/step - loss: 1.3101e-04 - binary_accuracy: 0.9998\n",
            "Reduce model learning rate to 1.0\n",
            "==========Epoch 12, Train steps: 1500, Learning rate: 1.0000==========\n",
            "1500/1500 [==============================] - 576s 384ms/step - loss: 1.2560e-04 - binary_accuracy: 0.9998\n",
            "==========Epoch 13, Train steps: 1500, Learning rate: 1.0000==========\n",
            " 121/1500 [=>............................] - ETA: 8:49 - loss: 1.1925e-04 - binary_accuracy: 0.9998"
          ]
        }
      ]
    },
    {
      "cell_type": "markdown",
      "source": [
        "### Debug"
      ],
      "metadata": {
        "id": "G9slBIsCSNzQ"
      }
    },
    {
      "cell_type": "code",
      "source": [
        "%load_ext autoreload\n",
        "%autoreload 2"
      ],
      "metadata": {
        "colab": {
          "base_uri": "https://localhost:8080/"
        },
        "id": "NNzoN5yQSaRq",
        "outputId": "f6a25504-6bab-4d65-d430-72a8d495c5ba"
      },
      "execution_count": 11,
      "outputs": [
        {
          "output_type": "stream",
          "name": "stdout",
          "text": [
            "The autoreload extension is already loaded. To reload it, use:\n",
            "  %reload_ext autoreload\n"
          ]
        }
      ]
    },
    {
      "cell_type": "code",
      "source": [
        "from utils import *\n",
        "HEIGHT = 288\n",
        "WIDTH = 512\n",
        "BATCH_SIZE = 2\n",
        "FRAME_STACK = 3\n",
        "BACK_FRAME_STACK = 1\n",
        "\n",
        "match_path = 'train_data'\n",
        "match_list = [os.sep.join([os.getcwd(), match_path, match]) for match in os.listdir(match_path)]\n",
        "\n",
        "x_train, x_test, y_train, y_test = split_train_test2(match_list, FRAME_STACK, BACK_FRAME_STACK, ratio=0.9, shuffle=True)\n",
        "gen = data_generator2(BATCH_SIZE, x_train+x_test, y_train+y_test, FRAME_STACK, BACK_FRAME_STACK)"
      ],
      "metadata": {
        "colab": {
          "base_uri": "https://localhost:8080/"
        },
        "id": "TJHz75vdSJSO",
        "outputId": "7fd01025-c598-4238-ebe5-689d5dd4657c"
      },
      "execution_count": 81,
      "outputs": [
        {
          "output_type": "stream",
          "name": "stdout",
          "text": [
            "18572\n",
            "2064\n",
            "18572\n"
          ]
        }
      ]
    },
    {
      "cell_type": "code",
      "source": [
        "x, y = next(gen)\n",
        "print(x.shape)"
      ],
      "metadata": {
        "colab": {
          "base_uri": "https://localhost:8080/"
        },
        "id": "3wK4YN0STAJl",
        "outputId": "170c8b9e-8697-4280-9569-35ff68df1648"
      },
      "execution_count": 64,
      "outputs": [
        {
          "output_type": "stream",
          "name": "stdout",
          "text": [
            "(2, 3, 288, 512)\n"
          ]
        }
      ]
    },
    {
      "cell_type": "code",
      "source": [
        "list(zip(x_train, y_train))[:3]"
      ],
      "metadata": {
        "colab": {
          "base_uri": "https://localhost:8080/"
        },
        "id": "b7NFLcRzWp5I",
        "outputId": "33751b44-ce63-4498-833d-337e48ba93b9"
      },
      "execution_count": 65,
      "outputs": [
        {
          "output_type": "execute_result",
          "data": {
            "text/plain": [
              "[('/content/TrackNet-Padel/train_data/match22/x_data/match22_PremierRoma_Semis_LGBC_1_00_6_105.jpg',\n",
              "  '/content/TrackNet-Padel/train_data/match22/y_data/match22_PremierRoma_Semis_LGBC_1_00_6_105.jpg'),\n",
              " ('/content/TrackNet-Padel/train_data/match20/x_data/match20_PremierRoma_Semis_LGBC_1_00_2_606.jpg',\n",
              "  '/content/TrackNet-Padel/train_data/match20/y_data/match20_PremierRoma_Semis_LGBC_1_00_2_606.jpg'),\n",
              " ('/content/TrackNet-Padel/train_data/match53/x_data/match53_PremierRoma_Semis_LGBC_2_35_2_117.jpg',\n",
              "  '/content/TrackNet-Padel/train_data/match53/y_data/match53_PremierRoma_Semis_LGBC_2_35_2_117.jpg')]"
            ]
          },
          "metadata": {},
          "execution_count": 65
        }
      ]
    },
    {
      "cell_type": "code",
      "source": [
        "im = cv2.imread('train_data/match1/x_data/match1_PremierRoma_Octavos_GRMS_2_53_0_0.jpg')\n",
        "im.shape"
      ],
      "metadata": {
        "colab": {
          "base_uri": "https://localhost:8080/"
        },
        "id": "sydTYtSybAk5",
        "outputId": "fdaab58d-2117-45e1-d6bc-b593da88db08"
      },
      "execution_count": 89,
      "outputs": [
        {
          "output_type": "execute_result",
          "data": {
            "text/plain": [
              "(288, 512, 3)"
            ]
          },
          "metadata": {},
          "execution_count": 89
        }
      ]
    }
  ]
}