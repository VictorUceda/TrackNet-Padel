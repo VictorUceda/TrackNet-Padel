{
  "nbformat": 4,
  "nbformat_minor": 0,
  "metadata": {
    "colab": {
      "name": "TrackNet_Padel.ipynb",
      "provenance": [],
      "collapsed_sections": [],
      "include_colab_link": true
    },
    "kernelspec": {
      "name": "python3",
      "display_name": "Python 3"
    },
    "language_info": {
      "name": "python"
    },
    "accelerator": "GPU"
  },
  "cells": [
    {
      "cell_type": "markdown",
      "metadata": {
        "id": "view-in-github",
        "colab_type": "text"
      },
      "source": [
        "<a href=\"https://colab.research.google.com/github/VictorUceda/TrackNet-Padel/blob/main/TrackNet_Padel_train.ipynb\" target=\"_parent\"><img src=\"https://colab.research.google.com/assets/colab-badge.svg\" alt=\"Open In Colab\"/></a>"
      ]
    },
    {
      "cell_type": "code",
      "source": [
        "!nvidia-smi"
      ],
      "metadata": {
        "id": "50iBZugzyWYZ",
        "outputId": "bb2b5d62-6719-41f2-ace3-279a1362df8f",
        "colab": {
          "base_uri": "https://localhost:8080/"
        }
      },
      "execution_count": 1,
      "outputs": [
        {
          "output_type": "stream",
          "name": "stdout",
          "text": [
            "Mon Jun  6 18:05:55 2022       \n",
            "+-----------------------------------------------------------------------------+\n",
            "| NVIDIA-SMI 460.32.03    Driver Version: 460.32.03    CUDA Version: 11.2     |\n",
            "|-------------------------------+----------------------+----------------------+\n",
            "| GPU  Name        Persistence-M| Bus-Id        Disp.A | Volatile Uncorr. ECC |\n",
            "| Fan  Temp  Perf  Pwr:Usage/Cap|         Memory-Usage | GPU-Util  Compute M. |\n",
            "|                               |                      |               MIG M. |\n",
            "|===============================+======================+======================|\n",
            "|   0  Tesla P100-PCIE...  Off  | 00000000:00:04.0 Off |                    0 |\n",
            "| N/A   37C    P0    29W / 250W |      0MiB / 16280MiB |      0%      Default |\n",
            "|                               |                      |                  N/A |\n",
            "+-------------------------------+----------------------+----------------------+\n",
            "                                                                               \n",
            "+-----------------------------------------------------------------------------+\n",
            "| Processes:                                                                  |\n",
            "|  GPU   GI   CI        PID   Type   Process name                  GPU Memory |\n",
            "|        ID   ID                                                   Usage      |\n",
            "|=============================================================================|\n",
            "|  No running processes found                                                 |\n",
            "+-----------------------------------------------------------------------------+\n"
          ]
        }
      ]
    },
    {
      "cell_type": "code",
      "execution_count": 3,
      "metadata": {
        "colab": {
          "base_uri": "https://localhost:8080/"
        },
        "id": "Q8g7zdD0a-o4",
        "outputId": "679f3fd5-13cf-4b0a-b42f-98649f24155e"
      },
      "outputs": [
        {
          "output_type": "stream",
          "name": "stdout",
          "text": [
            "Mounted at /content/gdrive\n"
          ]
        }
      ],
      "source": [
        "from google.colab import drive\n",
        "drive.mount('/content/gdrive')"
      ]
    },
    {
      "cell_type": "code",
      "source": [
        "import os \n",
        "os.chdir('/content/')\n",
        "\n",
        "!git clone https://github.com/VictorUceda/TrackNet-Padel.git\n",
        "#!git clone https://github.com/Chang-Chia-Chi/TrackNet-Badminton-Tracking-tensorflow2\n",
        "os.chdir('/content/TrackNet-Padel/')\n",
        "!git pull"
      ],
      "metadata": {
        "id": "lYG3TpaZfjSN",
        "outputId": "ed953135-67b8-4509-eb40-032e54d2ec1e",
        "colab": {
          "base_uri": "https://localhost:8080/"
        }
      },
      "execution_count": null,
      "outputs": [
        {
          "output_type": "stream",
          "name": "stdout",
          "text": [
            "Cloning into 'TrackNet-Padel'...\n",
            "remote: Enumerating objects: 890, done.\u001b[K\n",
            "remote: Counting objects: 100% (94/94), done.\u001b[K\n",
            "remote: Compressing objects: 100% (79/79), done.\u001b[K\n"
          ]
        }
      ]
    },
    {
      "cell_type": "markdown",
      "source": [
        ""
      ],
      "metadata": {
        "id": "bY2m7mhhk9hn"
      }
    },
    {
      "cell_type": "code",
      "source": [
        "!pip3 install filterpy sktime piexif imutils Pillow focal_loss"
      ],
      "metadata": {
        "id": "cmHZLk7zgQVr"
      },
      "execution_count": null,
      "outputs": []
    },
    {
      "cell_type": "markdown",
      "source": [
        "### Predict"
      ],
      "metadata": {
        "id": "0cKwf9FC_vEf"
      }
    },
    {
      "cell_type": "code",
      "source": [
        "weights_path = '/content/gdrive/MyDrive/PadelModels/TrackNetWeights/TrackNet-PadelClean4'\n",
        "for i in range(1,2):\n",
        "  video = 'raw_data/points/clean/PremierRoma_Semis_LGBC_2_25_'+str(i)+'.mp4'\n",
        "  !python predict.py --video_path={video} --load_weights={weights_path}"
      ],
      "metadata": {
        "id": "CMqw6NaF_zwJ",
        "outputId": "131ecea7-1632-4ccf-df36-febeeca12646",
        "colab": {
          "base_uri": "https://localhost:8080/"
        }
      },
      "execution_count": 7,
      "outputs": [
        {
          "output_type": "stream",
          "name": "stdout",
          "text": [
            "2022-06-02 13:55:03.763298: W tensorflow/core/common_runtime/gpu/gpu_bfc_allocator.cc:39] Overriding allow_growth setting because the TF_FORCE_GPU_ALLOW_GROWTH environment variable is set. Original config value was 0.\n",
            "Load weights successfully\n",
            "Number of frames in video and dictionary are not the same!\n",
            "Fail to load, predict only.\n",
            "Beginning predicting......\n",
            "Done......\n"
          ]
        }
      ]
    },
    {
      "cell_type": "markdown",
      "source": [
        "### Test accuracy"
      ],
      "metadata": {
        "id": "kYRim2mxaOXK"
      }
    },
    {
      "cell_type": "code",
      "source": [
        "file_name = 'Final_PremierQatar_Tie'\n",
        "weights_path = '/content/gdrive/MyDrive/PadelModels/TrackNetWeights/TrackNet-PadelClean5'\n",
        "point_n = 0\n",
        "for point_n in range(9,13):\n",
        "  video = 'raw_data/points/'+file_name+\"_\"+str(point_n)+\".mp4\"\n",
        "  print(video)\n",
        "  csv = 'raw_data/points/'+file_name+\"_\"+str(point_n)+\".csv\"\n",
        "  res = 'raw_data/points/'+file_name+\"_\"+str(point_n)+\".resPadel.txt\"\n",
        "  !python ../TrackNet-Padel/predict.py --video_path={video} --label_path={csv} --load_weights={weights_path} # 2>&1 | tee {res}"
      ],
      "metadata": {
        "id": "vk6QsNkIEJlY",
        "outputId": "d231eb94-bba8-49bb-9b35-ae6a7f043a05",
        "colab": {
          "base_uri": "https://localhost:8080/"
        }
      },
      "execution_count": 12,
      "outputs": [
        {
          "output_type": "stream",
          "name": "stdout",
          "text": [
            "raw_data/points/Final_PremierQatar_Tie_9.mp4\n",
            "2022-06-06 17:58:52.777188: W tensorflow/core/common_runtime/gpu/gpu_bfc_allocator.cc:39] Overriding allow_growth setting because the TF_FORCE_GPU_ALLOW_GROWTH environment variable is set. Original config value was 0.\n",
            "Load weights successfully\n",
            "Load csv file successfully\n",
            "Beginning predicting......\n",
            "==========================================================\n",
            "Number of true positive: 137\n",
            "Number of true negative: 63\n",
            "Number of false positive FP1: 30\n",
            "Number of false positive FP2: 4\n",
            "Number of false negative: 154\n",
            "Accuracy: 0.5154639175257731\n",
            "Precision: 0.8011695906432749\n",
            "Recall: 0.47079037800687284\n",
            "Total Time: 39.283549070358276\n",
            "(ACC + Pre + Rec)/3: 0.5958079620586404\n",
            "Done......\n",
            "raw_data/points/Final_PremierQatar_Tie_10.mp4\n",
            "2022-06-06 17:59:44.212497: W tensorflow/core/common_runtime/gpu/gpu_bfc_allocator.cc:39] Overriding allow_growth setting because the TF_FORCE_GPU_ALLOW_GROWTH environment variable is set. Original config value was 0.\n",
            "Load weights successfully\n",
            "Load csv file successfully\n",
            "Beginning predicting......\n",
            "==========================================================\n",
            "Number of true positive: 474\n",
            "Number of true negative: 56\n",
            "Number of false positive FP1: 42\n",
            "Number of false positive FP2: 11\n",
            "Number of false negative: 150\n",
            "Accuracy: 0.723055934515689\n",
            "Precision: 0.8994307400379506\n",
            "Recall: 0.7596153846153846\n",
            "Total Time: 65.81258511543274\n",
            "(ACC + Pre + Rec)/3: 0.794034019723008\n",
            "Done......\n",
            "raw_data/points/Final_PremierQatar_Tie_11.mp4\n",
            "2022-06-06 18:01:08.389605: W tensorflow/core/common_runtime/gpu/gpu_bfc_allocator.cc:39] Overriding allow_growth setting because the TF_FORCE_GPU_ALLOW_GROWTH environment variable is set. Original config value was 0.\n",
            "Load weights successfully\n",
            "Load csv file successfully\n",
            "Beginning predicting......\n",
            "==========================================================\n",
            "Number of true positive: 128\n",
            "Number of true negative: 74\n",
            "Number of false positive FP1: 13\n",
            "Number of false positive FP2: 6\n",
            "Number of false negative: 77\n",
            "Accuracy: 0.6778523489932886\n",
            "Precision: 0.8707482993197279\n",
            "Recall: 0.624390243902439\n",
            "Total Time: 31.752671003341675\n",
            "(ACC + Pre + Rec)/3: 0.7243302974051519\n",
            "Done......\n",
            "raw_data/points/Final_PremierQatar_Tie_12.mp4\n",
            "2022-06-06 18:01:50.322456: W tensorflow/core/common_runtime/gpu/gpu_bfc_allocator.cc:39] Overriding allow_growth setting because the TF_FORCE_GPU_ALLOW_GROWTH environment variable is set. Original config value was 0.\n",
            "Load weights successfully\n",
            "Load csv file successfully\n",
            "Beginning predicting......\n",
            "==========================================================\n",
            "Number of true positive: 78\n",
            "Number of true negative: 21\n",
            "Number of false positive FP1: 10\n",
            "Number of false positive FP2: 22\n",
            "Number of false negative: 32\n",
            "Accuracy: 0.6073619631901841\n",
            "Precision: 0.7090909090909091\n",
            "Recall: 0.7090909090909091\n",
            "Total Time: 22.70556616783142\n",
            "(ACC + Pre + Rec)/3: 0.6751812604573341\n",
            "Done......\n"
          ]
        }
      ]
    },
    {
      "cell_type": "markdown",
      "source": [
        "### Train Padel"
      ],
      "metadata": {
        "id": "zC_-P-lCd91A"
      }
    },
    {
      "cell_type": "code",
      "source": [
        "!mv raw_data/*.* raw_data/points/\n",
        "for point_n in range(9):\n",
        "  files = 'raw_data/points/clean/*_'+str(point_n)+'\\.*'\n",
        "  print(files)\n",
        "  !mv {files} raw_data/"
      ],
      "metadata": {
        "id": "md3C9pyjd_0w"
      },
      "execution_count": null,
      "outputs": []
    },
    {
      "cell_type": "code",
      "source": [
        "!rm -rf train_data/*\n",
        "!python video2img.py "
      ],
      "metadata": {
        "id": "3GWuVXlNeXjG"
      },
      "execution_count": null,
      "outputs": []
    },
    {
      "cell_type": "markdown",
      "source": [
        "*   TrackNet-PadelClean2: Entrenado solo con padel, pocos frames (5000) limpios (solo fragmentos con la bola en juego). --lr=10\n",
        "*   TrackNet-PadelClean3: Continuación, 50 epochs --batch_size=5, con 7k frames (alcanza 0.956 en la validación. - loss:1.20e-4)\n",
        "*   TrackNet-PadelClean4: Continuación, +50epochs --bacth_size=5, con 12k frames, --lr=1 (alcanza 0.94 en la validación. - loss:1.18e-4)\n",
        "*   TrackNet-PadelClean5: Continuación, +XXepochs --bacth_size=8, con 20k frames, --lr=1"
      ],
      "metadata": {
        "id": "XEJOfi0xGbJ6"
      }
    },
    {
      "cell_type": "code",
      "source": [
        "weights_path = '/content/gdrive/MyDrive/PadelModels/TrackNetWeights/TrackNet-PadelClean5'\n",
        "!python train.py --save_weights={weights_path}  --batch_size=5 --lr=10  --pre_trained=True  --load_weights={weights_path}"
      ],
      "metadata": {
        "id": "L72l_-tseyd9",
        "outputId": "a61df7de-59ff-4d82-bc5c-e42eb5fa1d0d",
        "colab": {
          "base_uri": "https://localhost:8080/"
        }
      },
      "execution_count": 10,
      "outputs": [
        {
          "output_type": "stream",
          "name": "stdout",
          "text": [
            "lerning rate: 10.0\n",
            "2022-06-06 07:57:52.059197: W tensorflow/core/common_runtime/gpu/gpu_bfc_allocator.cc:39] Overriding allow_growth setting because the TF_FORCE_GPU_ALLOW_GROWTH environment variable is set. Original config value was 0.\n",
            "Beginning training......\n",
            "==========Epoch 0, Train steps: 4090, Learning rate: 1.0000==========\n",
            "818/818 [==============================] - 595s 708ms/step - loss: 1.5403e-04 - binary_accuracy: 0.9996\n",
            "==========Epoch 0 start validation==========\n",
            "Epoch 0 accuracy: 0.779\n",
            "Epoch 0 precision: 0.962\n",
            "Epoch 0 recall: 0.778\n",
            "Epoch 0 average = (accuracy + precision + recall)/3: 0.839\n",
            "==========Epoch 1, Train steps: 4090, Learning rate: 1.0000==========\n",
            "818/818 [==============================] - 568s 694ms/step - loss: 1.3029e-04 - binary_accuracy: 0.9996\n",
            "==========Epoch 1 start validation==========\n",
            "Epoch 1 accuracy: 0.916\n",
            "Epoch 1 precision: 0.972\n",
            "Epoch 1 recall: 0.930\n",
            "Epoch 1 average = (accuracy + precision + recall)/3: 0.939\n",
            "==========Epoch 2, Train steps: 4090, Learning rate: 1.0000==========\n",
            "818/818 [==============================] - 568s 694ms/step - loss: 1.2512e-04 - binary_accuracy: 0.9996\n",
            "==========Epoch 2 start validation==========\n",
            "Epoch 2 accuracy: 0.870\n",
            "Epoch 2 precision: 0.976\n",
            "Epoch 2 recall: 0.876\n",
            "Epoch 2 average = (accuracy + precision + recall)/3: 0.908\n",
            "==========Epoch 3, Train steps: 4090, Learning rate: 1.0000==========\n",
            "818/818 [==============================] - 568s 694ms/step - loss: 1.2309e-04 - binary_accuracy: 0.9996\n",
            "==========Epoch 3 start validation==========\n",
            "Epoch 3 accuracy: 0.916\n",
            "Epoch 3 precision: 0.971\n",
            "Epoch 3 recall: 0.929\n",
            "Epoch 3 average = (accuracy + precision + recall)/3: 0.939\n",
            "==========Epoch 4, Train steps: 4090, Learning rate: 1.0000==========\n",
            "818/818 [==============================] - 568s 694ms/step - loss: 1.2195e-04 - binary_accuracy: 0.9996\n",
            "==========Epoch 4 start validation==========\n",
            "Epoch 4 accuracy: 0.858\n",
            "Epoch 4 precision: 0.946\n",
            "Epoch 4 recall: 0.872\n",
            "Epoch 4 average = (accuracy + precision + recall)/3: 0.892\n",
            "==========Epoch 5, Train steps: 4090, Learning rate: 1.0000==========\n",
            "818/818 [==============================] - 568s 694ms/step - loss: 1.2119e-04 - binary_accuracy: 0.9996\n",
            "==========Epoch 5 start validation==========\n",
            "Epoch 5 accuracy: 0.858\n",
            "Epoch 5 precision: 0.941\n",
            "Epoch 5 recall: 0.877\n",
            "Epoch 5 average = (accuracy + precision + recall)/3: 0.892\n",
            "==========Epoch 6, Train steps: 4090, Learning rate: 1.0000==========\n",
            "818/818 [==============================] - 563s 688ms/step - loss: 1.2060e-04 - binary_accuracy: 0.9996\n",
            "==========Epoch 6 start validation==========\n",
            "Epoch 6 accuracy: 0.909\n",
            "Epoch 6 precision: 0.968\n",
            "Epoch 6 recall: 0.926\n",
            "Epoch 6 average = (accuracy + precision + recall)/3: 0.934\n",
            "==========Epoch 7, Train steps: 4090, Learning rate: 1.0000==========\n",
            "818/818 [==============================] - 568s 694ms/step - loss: 1.2008e-04 - binary_accuracy: 0.9996\n",
            "==========Epoch 7 start validation==========\n",
            "Epoch 7 accuracy: 0.890\n",
            "Epoch 7 precision: 0.965\n",
            "Epoch 7 recall: 0.902\n",
            "Epoch 7 average = (accuracy + precision + recall)/3: 0.919\n",
            "==========Epoch 8, Train steps: 4090, Learning rate: 1.0000==========\n",
            "818/818 [==============================] - 568s 694ms/step - loss: 1.1967e-04 - binary_accuracy: 0.9996\n",
            "==========Epoch 8 start validation==========\n",
            "Epoch 8 accuracy: 0.901\n",
            "Epoch 8 precision: 0.965\n",
            "Epoch 8 recall: 0.915\n",
            "Epoch 8 average = (accuracy + precision + recall)/3: 0.927\n",
            "==========Epoch 9, Train steps: 4090, Learning rate: 1.0000==========\n",
            "818/818 [==============================] - 568s 694ms/step - loss: 1.1926e-04 - binary_accuracy: 0.9996\n",
            "==========Epoch 9 start validation==========\n",
            "Epoch 9 accuracy: 0.871\n",
            "Epoch 9 precision: 0.967\n",
            "Epoch 9 recall: 0.880\n",
            "Epoch 9 average = (accuracy + precision + recall)/3: 0.906\n",
            "==========Epoch 10, Train steps: 4090, Learning rate: 1.0000==========\n",
            "818/818 [==============================] - 568s 694ms/step - loss: 1.1891e-04 - binary_accuracy: 0.9996\n",
            "==========Epoch 10 start validation==========\n",
            "Epoch 10 accuracy: 0.897\n",
            "Epoch 10 precision: 0.972\n",
            "Epoch 10 recall: 0.909\n",
            "Epoch 10 average = (accuracy + precision + recall)/3: 0.926\n",
            "==========Epoch 11, Train steps: 4090, Learning rate: 1.0000==========\n",
            "818/818 [==============================] - 566s 692ms/step - loss: 1.1856e-04 - binary_accuracy: 0.9996\n",
            "==========Epoch 11 start validation==========\n",
            "Epoch 11 accuracy: 0.857\n",
            "Epoch 11 precision: 0.936\n",
            "Epoch 11 recall: 0.878\n",
            "Epoch 11 average = (accuracy + precision + recall)/3: 0.890\n",
            "==========Epoch 12, Train steps: 4090, Learning rate: 1.0000==========\n",
            "818/818 [==============================] - 568s 694ms/step - loss: 1.1825e-04 - binary_accuracy: 0.9996\n",
            "==========Epoch 12 start validation==========\n",
            "Epoch 12 accuracy: 0.869\n",
            "Epoch 12 precision: 0.965\n",
            "Epoch 12 recall: 0.884\n",
            "Epoch 12 average = (accuracy + precision + recall)/3: 0.906\n",
            "==========Epoch 13, Train steps: 4090, Learning rate: 1.0000==========\n",
            "818/818 [==============================] - 562s 686ms/step - loss: 1.1795e-04 - binary_accuracy: 0.9996\n",
            "==========Epoch 13 start validation==========\n",
            "Epoch 13 accuracy: 0.875\n",
            "Epoch 13 precision: 0.964\n",
            "Epoch 13 recall: 0.890\n",
            "Epoch 13 average = (accuracy + precision + recall)/3: 0.910\n",
            "==========Epoch 14, Train steps: 4090, Learning rate: 1.0000==========\n",
            "818/818 [==============================] - 560s 685ms/step - loss: 1.1765e-04 - binary_accuracy: 0.9996\n",
            "==========Epoch 14 start validation==========\n",
            "Epoch 14 accuracy: 0.858\n",
            "Epoch 14 precision: 0.943\n",
            "Epoch 14 recall: 0.887\n",
            "Epoch 14 average = (accuracy + precision + recall)/3: 0.896\n",
            "==========Epoch 15, Train steps: 4090, Learning rate: 1.0000==========\n",
            "818/818 [==============================] - 560s 685ms/step - loss: 1.1739e-04 - binary_accuracy: 0.9996\n",
            "==========Epoch 15 start validation==========\n",
            "Epoch 15 accuracy: 0.886\n",
            "Epoch 15 precision: 0.952\n",
            "Epoch 15 recall: 0.908\n",
            "Epoch 15 average = (accuracy + precision + recall)/3: 0.915\n",
            "==========Epoch 16, Train steps: 4090, Learning rate: 1.0000==========\n",
            "818/818 [==============================] - 560s 685ms/step - loss: 1.1714e-04 - binary_accuracy: 0.9996\n",
            "==========Epoch 16 start validation==========\n",
            "Epoch 16 accuracy: 0.910\n",
            "Epoch 16 precision: 0.973\n",
            "Epoch 16 recall: 0.923\n",
            "Epoch 16 average = (accuracy + precision + recall)/3: 0.936\n",
            "==========Epoch 17, Train steps: 4090, Learning rate: 1.0000==========\n",
            "818/818 [==============================] - 560s 685ms/step - loss: 1.1688e-04 - binary_accuracy: 0.9996\n",
            "==========Epoch 17 start validation==========\n",
            "Epoch 17 accuracy: 0.840\n",
            "Epoch 17 precision: 0.964\n",
            "Epoch 17 recall: 0.851\n",
            "Epoch 17 average = (accuracy + precision + recall)/3: 0.885\n",
            "==========Epoch 18, Train steps: 4090, Learning rate: 1.0000==========\n",
            "818/818 [==============================] - 560s 684ms/step - loss: 1.1660e-04 - binary_accuracy: 0.9996\n",
            "==========Epoch 18 start validation==========\n",
            "Epoch 18 accuracy: 0.915\n",
            "Epoch 18 precision: 0.966\n",
            "Epoch 18 recall: 0.935\n",
            "Epoch 18 average = (accuracy + precision + recall)/3: 0.939\n",
            "==========Epoch 19, Train steps: 4090, Learning rate: 1.0000==========\n",
            "818/818 [==============================] - 560s 684ms/step - loss: 1.1635e-04 - binary_accuracy: 0.9996\n",
            "==========Epoch 19 start validation==========\n",
            "Epoch 19 accuracy: 0.932\n",
            "Epoch 19 precision: 0.980\n",
            "Epoch 19 recall: 0.942\n",
            "Epoch 19 average = (accuracy + precision + recall)/3: 0.952\n",
            "==========Epoch 20, Train steps: 4090, Learning rate: 1.0000==========\n",
            "818/818 [==============================] - 562s 688ms/step - loss: 1.1608e-04 - binary_accuracy: 0.9996\n",
            "==========Epoch 20 start validation==========\n",
            "Epoch 20 accuracy: 0.859\n",
            "Epoch 20 precision: 0.954\n",
            "Epoch 20 recall: 0.879\n",
            "Epoch 20 average = (accuracy + precision + recall)/3: 0.897\n",
            "==========Epoch 21, Train steps: 4090, Learning rate: 1.0000==========\n",
            "818/818 [==============================] - 562s 687ms/step - loss: 1.1582e-04 - binary_accuracy: 0.9996\n",
            "==========Epoch 21 start validation==========\n",
            "Epoch 21 accuracy: 0.901\n",
            "Epoch 21 precision: 0.971\n",
            "Epoch 21 recall: 0.911\n",
            "Epoch 21 average = (accuracy + precision + recall)/3: 0.927\n",
            "==========Epoch 22, Train steps: 4090, Learning rate: 1.0000==========\n",
            "818/818 [==============================] - 560s 685ms/step - loss: 1.1557e-04 - binary_accuracy: 0.9996\n",
            "==========Epoch 22 start validation==========\n",
            "Epoch 22 accuracy: 0.929\n",
            "Epoch 22 precision: 0.968\n",
            "Epoch 22 recall: 0.950\n",
            "Epoch 22 average = (accuracy + precision + recall)/3: 0.949\n",
            "==========Epoch 23, Train steps: 4090, Learning rate: 1.0000==========\n",
            "818/818 [==============================] - 560s 685ms/step - loss: 1.1530e-04 - binary_accuracy: 0.9996\n",
            "==========Epoch 23 start validation==========\n",
            "Epoch 23 accuracy: 0.840\n",
            "Epoch 23 precision: 0.944\n",
            "Epoch 23 recall: 0.863\n",
            "Epoch 23 average = (accuracy + precision + recall)/3: 0.882\n",
            "==========Epoch 24, Train steps: 4090, Learning rate: 1.0000==========\n",
            "818/818 [==============================] - 560s 685ms/step - loss: 1.1506e-04 - binary_accuracy: 0.9996\n",
            "==========Epoch 24 start validation==========\n",
            "Epoch 24 accuracy: 0.827\n",
            "Epoch 24 precision: 0.928\n",
            "Epoch 24 recall: 0.860\n",
            "Epoch 24 average = (accuracy + precision + recall)/3: 0.872\n",
            "==========Epoch 25, Train steps: 4090, Learning rate: 1.0000==========\n",
            "818/818 [==============================] - 560s 685ms/step - loss: 1.1482e-04 - binary_accuracy: 0.9996\n",
            "==========Epoch 25 start validation==========\n",
            "Epoch 25 accuracy: 0.865\n",
            "Epoch 25 precision: 0.962\n",
            "Epoch 25 recall: 0.878\n",
            "Epoch 25 average = (accuracy + precision + recall)/3: 0.902\n",
            "==========Epoch 26, Train steps: 4090, Learning rate: 1.0000==========\n",
            "818/818 [==============================] - 560s 685ms/step - loss: 1.1461e-04 - binary_accuracy: 0.9996\n",
            "==========Epoch 26 start validation==========\n",
            "Epoch 26 accuracy: 0.878\n",
            "Epoch 26 precision: 0.946\n",
            "Epoch 26 recall: 0.902\n",
            "Epoch 26 average = (accuracy + precision + recall)/3: 0.909\n",
            "==========Epoch 27, Train steps: 4090, Learning rate: 1.0000==========\n",
            "818/818 [==============================] - 560s 685ms/step - loss: 1.1438e-04 - binary_accuracy: 0.9996\n",
            "==========Epoch 27 start validation==========\n",
            "Epoch 27 accuracy: 0.869\n",
            "Epoch 27 precision: 0.965\n",
            "Epoch 27 recall: 0.884\n",
            "Epoch 27 average = (accuracy + precision + recall)/3: 0.906\n",
            "==========Epoch 28, Train steps: 4090, Learning rate: 1.0000==========\n",
            "818/818 [==============================] - 560s 685ms/step - loss: 1.1417e-04 - binary_accuracy: 0.9996\n",
            "==========Epoch 28 start validation==========\n",
            "Epoch 28 accuracy: 0.831\n",
            "Epoch 28 precision: 0.946\n",
            "Epoch 28 recall: 0.851\n",
            "Epoch 28 average = (accuracy + precision + recall)/3: 0.876\n",
            "==========Epoch 29, Train steps: 4090, Learning rate: 1.0000==========\n",
            "818/818 [==============================] - 560s 685ms/step - loss: 1.1393e-04 - binary_accuracy: 0.9996\n",
            "==========Epoch 29 start validation==========\n",
            "Epoch 29 accuracy: 0.917\n",
            "Epoch 29 precision: 0.974\n",
            "Epoch 29 recall: 0.931\n",
            "Epoch 29 average = (accuracy + precision + recall)/3: 0.941\n",
            "==========Epoch 30, Train steps: 4090, Learning rate: 1.0000==========\n",
            "818/818 [==============================] - 560s 685ms/step - loss: 1.1371e-04 - binary_accuracy: 0.9996\n",
            "==========Epoch 30 start validation==========\n",
            "Epoch 30 accuracy: 0.894\n",
            "Epoch 30 precision: 0.955\n",
            "Epoch 30 recall: 0.913\n",
            "Epoch 30 average = (accuracy + precision + recall)/3: 0.921\n",
            "==========Epoch 31, Train steps: 4090, Learning rate: 1.0000==========\n",
            "818/818 [==============================] - 560s 685ms/step - loss: 1.1347e-04 - binary_accuracy: 0.9996\n",
            "==========Epoch 31 start validation==========\n",
            "Epoch 31 accuracy: 0.828\n",
            "Epoch 31 precision: 0.947\n",
            "Epoch 31 recall: 0.851\n",
            "Epoch 31 average = (accuracy + precision + recall)/3: 0.875\n",
            "==========Epoch 32, Train steps: 4090, Learning rate: 1.0000==========\n",
            "818/818 [==============================] - 560s 685ms/step - loss: 1.1326e-04 - binary_accuracy: 0.9996\n",
            "==========Epoch 32 start validation==========\n",
            "Epoch 32 accuracy: 0.922\n",
            "Epoch 32 precision: 0.974\n",
            "Epoch 32 recall: 0.934\n",
            "Epoch 32 average = (accuracy + precision + recall)/3: 0.944\n",
            "==========Epoch 33, Train steps: 4090, Learning rate: 1.0000==========\n",
            "818/818 [==============================] - 560s 685ms/step - loss: 1.1304e-04 - binary_accuracy: 0.9996\n",
            "==========Epoch 33 start validation==========\n",
            "Epoch 33 accuracy: 0.875\n",
            "Epoch 33 precision: 0.949\n",
            "Epoch 33 recall: 0.902\n",
            "Epoch 33 average = (accuracy + precision + recall)/3: 0.908\n",
            "==========Epoch 34, Train steps: 4090, Learning rate: 1.0000==========\n",
            "818/818 [==============================] - 560s 685ms/step - loss: 1.1283e-04 - binary_accuracy: 0.9996\n",
            "==========Epoch 34 start validation==========\n",
            "Epoch 34 accuracy: 0.889\n",
            "Epoch 34 precision: 0.968\n",
            "Epoch 34 recall: 0.904\n",
            "Epoch 34 average = (accuracy + precision + recall)/3: 0.920\n",
            "==========Epoch 35, Train steps: 4090, Learning rate: 1.0000==========\n",
            "818/818 [==============================] - 560s 685ms/step - loss: 1.1262e-04 - binary_accuracy: 0.9996\n",
            "==========Epoch 35 start validation==========\n",
            "Epoch 35 accuracy: 0.849\n",
            "Epoch 35 precision: 0.934\n",
            "Epoch 35 recall: 0.887\n",
            "Epoch 35 average = (accuracy + precision + recall)/3: 0.890\n",
            "==========Epoch 36, Train steps: 4090, Learning rate: 1.0000==========\n",
            "818/818 [==============================] - 560s 685ms/step - loss: 1.1240e-04 - binary_accuracy: 0.9996\n",
            "==========Epoch 36 start validation==========\n",
            "Epoch 36 accuracy: 0.863\n",
            "Epoch 36 precision: 0.954\n",
            "Epoch 36 recall: 0.894\n",
            "Epoch 36 average = (accuracy + precision + recall)/3: 0.904\n",
            "==========Epoch 37, Train steps: 4090, Learning rate: 1.0000==========\n",
            "818/818 [==============================] - 564s 689ms/step - loss: 1.1218e-04 - binary_accuracy: 0.9996\n",
            "==========Epoch 37 start validation==========\n",
            "Epoch 37 accuracy: 0.880\n",
            "Epoch 37 precision: 0.951\n",
            "Epoch 37 recall: 0.901\n",
            "Epoch 37 average = (accuracy + precision + recall)/3: 0.911\n",
            "==========Epoch 38, Train steps: 4090, Learning rate: 1.0000==========\n",
            "818/818 [==============================] - 568s 694ms/step - loss: 1.1199e-04 - binary_accuracy: 0.9996\n",
            "==========Epoch 38 start validation==========\n",
            "Epoch 38 accuracy: 0.762\n",
            "Epoch 38 precision: 0.903\n",
            "Epoch 38 recall: 0.785\n",
            "Epoch 38 average = (accuracy + precision + recall)/3: 0.817\n",
            "==========Epoch 39, Train steps: 4090, Learning rate: 1.0000==========\n",
            "818/818 [==============================] - 568s 694ms/step - loss: 1.1178e-04 - binary_accuracy: 0.9996\n",
            "==========Epoch 39 start validation==========\n",
            "Epoch 39 accuracy: 0.912\n",
            "Epoch 39 precision: 0.967\n",
            "Epoch 39 recall: 0.931\n",
            "Epoch 39 average = (accuracy + precision + recall)/3: 0.937\n",
            "==========Epoch 40, Train steps: 4090, Learning rate: 1.0000==========\n",
            "818/818 [==============================] - 568s 694ms/step - loss: 1.1161e-04 - binary_accuracy: 0.9996\n",
            "==========Epoch 40 start validation==========\n",
            "Epoch 40 accuracy: 0.883\n",
            "Epoch 40 precision: 0.963\n",
            "Epoch 40 recall: 0.897\n",
            "Epoch 40 average = (accuracy + precision + recall)/3: 0.914\n",
            "==========Epoch 41, Train steps: 4090, Learning rate: 1.0000==========\n",
            "818/818 [==============================] - 568s 695ms/step - loss: 1.1141e-04 - binary_accuracy: 0.9996\n",
            "==========Epoch 41 start validation==========\n",
            "Epoch 41 accuracy: 0.888\n",
            "Epoch 41 precision: 0.968\n",
            "Epoch 41 recall: 0.901\n",
            "Epoch 41 average = (accuracy + precision + recall)/3: 0.919\n",
            "==========Epoch 42, Train steps: 4090, Learning rate: 1.0000==========\n",
            "818/818 [==============================] - 568s 695ms/step - loss: 1.1125e-04 - binary_accuracy: 0.9996\n",
            "==========Epoch 42 start validation==========\n",
            "Epoch 42 accuracy: 0.819\n",
            "Epoch 42 precision: 0.935\n",
            "Epoch 42 recall: 0.846\n",
            "Epoch 42 average = (accuracy + precision + recall)/3: 0.867\n",
            "==========Epoch 43, Train steps: 4090, Learning rate: 1.0000==========\n",
            "818/818 [==============================] - 568s 695ms/step - loss: 1.1104e-04 - binary_accuracy: 0.9996\n",
            "==========Epoch 43 start validation==========\n",
            "Epoch 43 accuracy: 0.764\n",
            "Epoch 43 precision: 0.915\n",
            "Epoch 43 recall: 0.808\n",
            "Epoch 43 average = (accuracy + precision + recall)/3: 0.829\n",
            "==========Epoch 44, Train steps: 4090, Learning rate: 1.0000==========\n",
            "818/818 [==============================] - 568s 695ms/step - loss: 1.1085e-04 - binary_accuracy: 0.9996\n",
            "==========Epoch 44 start validation==========\n",
            "Epoch 44 accuracy: 0.823\n",
            "Epoch 44 precision: 0.942\n",
            "Epoch 44 recall: 0.845\n",
            "Epoch 44 average = (accuracy + precision + recall)/3: 0.870\n",
            "==========Epoch 45, Train steps: 4090, Learning rate: 1.0000==========\n",
            "818/818 [==============================] - 568s 694ms/step - loss: 1.1064e-04 - binary_accuracy: 0.9996\n",
            "==========Epoch 45 start validation==========\n",
            "Epoch 45 accuracy: 0.820\n",
            "Epoch 45 precision: 0.925\n",
            "Epoch 45 recall: 0.838\n",
            "Epoch 45 average = (accuracy + precision + recall)/3: 0.861\n",
            "==========Epoch 46, Train steps: 4090, Learning rate: 1.0000==========\n",
            "818/818 [==============================] - 568s 695ms/step - loss: 1.1048e-04 - binary_accuracy: 0.9996\n",
            "==========Epoch 46 start validation==========\n",
            "Epoch 46 accuracy: 0.904\n",
            "Epoch 46 precision: 0.964\n",
            "Epoch 46 recall: 0.926\n",
            "Epoch 46 average = (accuracy + precision + recall)/3: 0.931\n",
            "==========Epoch 47, Train steps: 4090, Learning rate: 1.0000==========\n",
            "818/818 [==============================] - 568s 695ms/step - loss: 1.1026e-04 - binary_accuracy: 0.9996\n",
            "==========Epoch 47 start validation==========\n",
            "Epoch 47 accuracy: 0.866\n",
            "Epoch 47 precision: 0.943\n",
            "Epoch 47 recall: 0.899\n",
            "Epoch 47 average = (accuracy + precision + recall)/3: 0.903\n",
            "==========Epoch 48, Train steps: 4090, Learning rate: 1.0000==========\n",
            "818/818 [==============================] - 568s 694ms/step - loss: 1.1008e-04 - binary_accuracy: 0.9996\n",
            "==========Epoch 48 start validation==========\n",
            "Epoch 48 accuracy: 0.846\n",
            "Epoch 48 precision: 0.932\n",
            "Epoch 48 recall: 0.873\n",
            "Epoch 48 average = (accuracy + precision + recall)/3: 0.884\n",
            "==========Epoch 49, Train steps: 4090, Learning rate: 1.0000==========\n",
            "818/818 [==============================] - 568s 694ms/step - loss: 1.0990e-04 - binary_accuracy: 0.9996\n",
            "==========Epoch 49 start validation==========\n",
            "Epoch 49 accuracy: 0.886\n",
            "Epoch 49 precision: 0.959\n",
            "Epoch 49 recall: 0.907\n",
            "Epoch 49 average = (accuracy + precision + recall)/3: 0.917\n",
            "Saving weights......\n",
            "Done......\n"
          ]
        }
      ]
    }
  ]
}